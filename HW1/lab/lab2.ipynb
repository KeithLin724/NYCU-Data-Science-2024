{
 "cells": [
  {
   "cell_type": "code",
   "execution_count": 2,
   "metadata": {},
   "outputs": [],
   "source": [
    "from bs4 import BeautifulSoup\n",
    "from rich import print\n",
    "import httpx"
   ]
  },
  {
   "cell_type": "code",
   "execution_count": 31,
   "metadata": {},
   "outputs": [],
   "source": [
    "def page_to_simple_dict(html_str: str) -> dict:\n",
    "    \"\"\"\n",
    "    format like\n",
    "    '作者': 'ReiKuromiya (ReiKuromiya)',\n",
    "    '標題': '[正妹] 周子瑜',\n",
    "    '時間': 'Sun Jan  1 00:26:06 2023',\n",
    "    'Year': '2023',\n",
    "    'Month': 'Jan',\n",
    "    'Date': '',\n",
    "    'Week': 'Sun',\n",
    "    'Time': '00:26:06',\n",
    "    'Body': [(..., ...),  ...]}\n",
    "    \"\"\"\n",
    "\n",
    "    def to_detail_date(date_str: str) -> dict:\n",
    "        detail_date = date_str.split(\" \")\n",
    "        return {\n",
    "            \"Year\": detail_date[-1],\n",
    "            \"Month\": detail_date[1],\n",
    "            \"Date\": detail_date[2],\n",
    "            \"Week\": detail_date[0],\n",
    "            \"Time\": detail_date[-2],\n",
    "        }\n",
    "\n",
    "    # header = {\"cookie\": \"over18=1\"}\n",
    "    # result = httpx.get(url=url, headers=header)\n",
    "\n",
    "    soup = BeautifulSoup(html_str, \"html.parser\")\n",
    "\n",
    "    # get main data\n",
    "    body_data = soup.find(\"div\", class_=\"bbs-screen bbs-content\", id=\"main-content\")\n",
    "\n",
    "    # print()\n",
    "    \n",
    "    # get header data\n",
    "    header_data = body_data.find_all(\"div\", class_=\"article-metaline\")\n",
    "\n",
    "    tab_list = [\n",
    "        str(line.find(\"span\", class_=\"article-meta-tag\").string) for line in header_data\n",
    "    ]\n",
    "\n",
    "    value_list = [\n",
    "        str(line.find(\"span\", class_=\"article-meta-value\").string)\n",
    "        for line in header_data\n",
    "    ]\n",
    "\n",
    "    header_dict = dict(zip(tab_list, value_list))\n",
    "    print(header_dict)\n",
    "    \n",
    "    if \"時間\" not in header_dict:\n",
    "        process_text = body_data.contents[2]\n",
    "        process_text = process_text.split(\"\\n\")[:2]\n",
    "        process_text = [item.split(\":\") for item in process_text]\n",
    "        process_result_dict  = {item[0] : item[1] for item in process_text}\n",
    "        header_dict |= process_result_dict\n",
    "    \n",
    "    \n",
    "    \n",
    "    # image src\n",
    "    images_list = body_data.find_all(\"div\", class_=\"richcontent\")\n",
    "    \n",
    "    # base in how long in image_list\n",
    "    images_list = [item.get(\"src\") for image in images_list if (item := image.find(\"img\"))]\n",
    "    # print(images_list)\n",
    "\n",
    "    # image link lists\n",
    "    link_image = body_data.find_all(\"a\")\n",
    "    # {\".png\" , \".jpg\" , \"jpeg\" ,\".gif\"} in (link_str := str(link.string))\n",
    "    link_image = [link_str for link in link_image if any(substring in (link_str := str(link.string)) for substring in [\".png\" , \".jpg\" , \"jpeg\" ,\".gif\"])  ]\n",
    "\n",
    "\n",
    "    # content_images = list(zip(link_image[:len(images_list)], images_list))\n",
    "\n",
    "    page_data = (\n",
    "        header_dict | to_detail_date(header_dict[\"時間\"]) | {\"image_catch_list\": images_list , \"image_link\" :link_image }\n",
    "    )\n",
    "\n",
    "    return page_data\n",
    "\n",
    "\n"
   ]
  },
  {
   "cell_type": "code",
   "execution_count": 22,
   "metadata": {},
   "outputs": [],
   "source": [
    "result = httpx.get(\"https://www.ptt.cc/bbs/Beauty/M.1690589266.A.166.html\" , headers={\"cookie\": \"over18=1\"})\n",
    "\n"
   ]
  },
  {
   "cell_type": "code",
   "execution_count": 23,
   "metadata": {},
   "outputs": [
    {
     "data": {
      "text/plain": [
       "'<!DOCTYPE html>\\n<html>\\n\\t<head>\\n\\t\\t<meta charset=\"utf-8\">\\n\\t\\t\\n\\n<meta name=\"viewport\" content=\"width=device-width, initial-scale=1\">\\n\\n<title>閱讀文章 - 看板 Beauty - 批踢踢實業坊</title>\\n<meta name=\"robots\" content=\"all\">\\n<meta name=\"keywords\" content=\"Ptt BBS 批踢踢\">\\n<meta name=\"description\" content=\"標題:[神人] 外國婚紗model\\n時間: Sat Jul 29 08:07:44 2023\\n大家星期六早安，\\n最近在ig看到一個有仙氣的婚紗model，\\n但完全找不到是誰QQ，\\n\">\\n<meta property=\"og:site_name\" content=\"Ptt 批踢踢實業坊\">\\n\\n<meta property=\"og:description\" content=\"標題:[神人] 外國婚紗model\\n時間: Sat Jul 29 08:07:44 2023\\n大家星期六早安，\\n最近在ig看到一個有仙氣的婚紗model，\\n但完全找不到是誰QQ，\\n\">\\n<link rel=\"canonical\" href=\"https://www.ptt.cc/bbs/Beauty/M.1690589266.A.166.html\">\\n\\n<link rel=\"stylesheet\" type=\"text/css\" href=\"//images.ptt.cc/bbs/v2.27/bbs-common.css\">\\n<link rel=\"stylesheet\" type=\"text/css\" href=\"//images.ptt.cc/bbs/v2.27/bbs-base.css\" media=\"screen\">\\n<link rel=\"stylesheet\" type=\"text/css\" href=\"//images.ptt.cc/bbs/v2.27/bbs-custom.css\">\\n<link rel=\"stylesheet\" type=\"text/css\" href=\"//images.ptt.cc/bbs/v2.27/pushstream.css\" media=\"screen\">\\n<link rel=\"stylesheet\" type=\"text/css\" href=\"//images.ptt.cc/bbs/v2.27/bbs-print.css\" media=\"print\">\\n\\n\\n\\n\\n\\t</head>\\n    <body>\\n\\t\\t\\n<div id=\"topbar-container\">\\n\\t<div id=\"topbar\" class=\"bbs-content\">\\n\\t\\t<a id=\"logo\" href=\"/bbs/\">批踢踢實業坊</a>\\n\\t\\t<span>&rsaquo;</span>\\n\\t\\t<a class=\"board\" href=\"/bbs/Beauty/index.html\"><span class=\"board-label\">看板 </span>Beauty</a>\\n\\t\\t<a class=\"right small\" href=\"/about.html\">關於我們</a>\\n\\t\\t<a class=\"right small\" href=\"/contact.html\">聯絡資訊</a>\\n\\t</div>\\n</div>\\n<div id=\"navigation-container\">\\n\\t<div id=\"navigation\" class=\"bbs-content\">\\n\\t\\t<a class=\"board\" href=\"/bbs/Beauty/index.html\">返回看板</a>\\n\\t\\t<div class=\"bar\"></div>\\n\\t</div>\\n</div>\\n<div id=\"main-container\">\\n    <div id=\"main-content\" class=\"bbs-screen bbs-content\"><div class=\"article-metaline\"><span class=\"article-meta-tag\">作者</span><span class=\"article-meta-value\">a2396494 (砒霜)</span></div><div class=\"article-metaline-right\"><span class=\"article-meta-tag\">看板</span><span class=\"article-meta-value\">Beauty</span></div>標題:[神人] 外國婚紗model\\n時間: Sat Jul 29 08:07:44 2023\\n\\n大家星期六早安，\\n最近在ig看到一個有仙氣的婚紗model，\\n但完全找不到是誰QQ，\\n拜託大家幫忙了。\\n\\n<a href=\"https://i.imgur.com/xKxiDzK.jpg\" target=\"_blank\" rel=\"noreferrer noopener nofollow\">https://i.imgur.com/xKxiDzK.jpg</a>\\n<div class=\"richcontent\"><img src=\"https://cache.ptt.cc/c/https/i.imgur.com/xKxiDzKl.jpg?e=1709222097&amp;s=WGJAbrpLAB94U_SvtnRKLQ\" alt=\"\" loading=\"lazy\" /></div>\\n<a href=\"https://i.imgur.com/lFnxOqh.png\" target=\"_blank\" rel=\"noreferrer noopener nofollow\">https://i.imgur.com/lFnxOqh.png</a>\\n<div class=\"richcontent\"><img src=\"https://cache.ptt.cc/c/https/i.imgur.com/lFnxOql.png?e=1709215982&amp;s=c_9qQ_fr-w8VpHqfG0ZfOg\" alt=\"\" loading=\"lazy\" /></div>\\n<a href=\"https://i.imgur.com/VR12YnZ.png\" target=\"_blank\" rel=\"noreferrer noopener nofollow\">https://i.imgur.com/VR12YnZ.png</a>\\n<div class=\"richcontent\"><img src=\"https://cache.ptt.cc/c/https/i.imgur.com/VR12YnZl.png?e=1709234214&amp;s=pgj1BkiuPHz8dhWYPyBHCQ\" alt=\"\" loading=\"lazy\" /></div>\\n<a href=\"https://i.imgur.com/ysqiRmk.jpg\" target=\"_blank\" rel=\"noreferrer noopener nofollow\">https://i.imgur.com/ysqiRmk.jpg</a>\\n<div class=\"richcontent\"><img src=\"https://cache.ptt.cc/c/https/i.imgur.com/ysqiRmkl.jpg?e=1709194292&amp;s=VuQsP6AaoxpsoSt2Z8-itA\" alt=\"\" loading=\"lazy\" /></div>\\n<a href=\"https://i.imgur.com/QVX5hQr.jpg\" target=\"_blank\" rel=\"noreferrer noopener nofollow\">https://i.imgur.com/QVX5hQr.jpg</a>\\n<div class=\"richcontent\"><img src=\"https://cache.ptt.cc/c/https/i.imgur.com/QVX5hQrl.jpg?e=1709230559&amp;s=8lVfeIChVH80xv-ICEEL9A\" alt=\"\" loading=\"lazy\" /></div>\\n<a href=\"https://i.imgur.com/BEqRDYr.jpg\" target=\"_blank\" rel=\"noreferrer noopener nofollow\">https://i.imgur.com/BEqRDYr.jpg</a>\\n<div class=\"richcontent\"><img src=\"https://cache.ptt.cc/c/https/i.imgur.com/BEqRDYrl.jpg?e=1709202973&amp;s=gTlh3RMoQgzVuWH12y0U7A\" alt=\"\" loading=\"lazy\" /></div>\\n--\\n<span class=\"f2\">※ 發信站: 批踢踢實業坊(ptt.cc), 來自: 111.251.166.6 (臺灣)\\n</span><span class=\"f2\">※ 文章網址: <a href=\"https://www.ptt.cc/bbs/Beauty/M.1690589266.A.166.html\" target=\"_blank\" rel=\"noreferrer noopener nofollow\">https://www.ptt.cc/bbs/Beauty/M.1690589266.A.166.html</a>\\n</span><span class=\"f2\">※ 編輯: a2396494 (111.251.166.6 臺灣), 07/29/2023 08:18:32\\n</span><div class=\"push\"><span class=\"hl push-tag\">推 </span><span class=\"f3 hl push-userid\">trysoloQ</span><span class=\"f3 push-content\">: 外國人真的正</span><span class=\"push-ipdatetime\">111.252.128.127 07/29 15:13\\n</span></div><div class=\"push\"><span class=\"hl push-tag\">推 </span><span class=\"f3 hl push-userid\">leechester</span><span class=\"f3 push-content\">: 標準美女</span><span class=\"push-ipdatetime\">223.141.134.160 07/29 18:00\\n</span></div><div class=\"push\"><span class=\"hl push-tag\">推 </span><span class=\"f3 hl push-userid\">taipeijoseph</span><span class=\"f3 push-content\">: 美得像幅名畫</span><span class=\"push-ipdatetime\">  36.225.130.99 07/29 20:23\\n</span></div><div class=\"push\"><span class=\"hl push-tag\">推 </span><span class=\"f3 hl push-userid\">DublinSky</span><span class=\"f3 push-content\">: IG: theanastasiah</span><span class=\"push-ipdatetime\">112.104.107.189 08/01 11:51\\n</span></div><div class=\"push\"><span class=\"f1 hl push-tag\">→ </span><span class=\"f3 hl push-userid\">a2396494</span><span class=\"f3 push-content\">: 哇，前兩天大家都不知道本來已經放棄了</span><span class=\"push-ipdatetime\">  111.251.164.8 09/06 11:00\\n</span></div><div class=\"push\"><span class=\"f1 hl push-tag\">→ </span><span class=\"f3 hl push-userid\">a2396494</span><span class=\"f3 push-content\">: 的說，非常感謝～</span><span class=\"push-ipdatetime\">  111.251.164.8 09/06 11:00\\n</span></div><div class=\"push\"><span class=\"f1 hl push-tag\">→ </span><span class=\"f3 hl push-userid\">a2396494</span><span class=\"f3 push-content\">: 無以為報只能奉上1000P幣了，謝謝大大</span><span class=\"push-ipdatetime\">  111.251.164.8 09/06 11:00\\n</span></div><div class=\"push\"><span class=\"hl push-tag\">推 </span><span class=\"f3 hl push-userid\">DublinSky</span><span class=\"f3 push-content\">: 感謝!</span><span class=\"push-ipdatetime\"> 112.104.174.34 09/07 08:33\\n</span></div></div>\\n    \\n    <div id=\"article-polling\" data-pollurl=\"/poll/Beauty/M.1690589266.A.166.html?cacheKey=2148-611312697&amp;offset=1389&amp;offset-sig=d3681372e9aa7889a702466f362ea667196f21e4\" data-longpollurl=\"/v1/longpoll?id=42cc46df5c0e7338525683a7a52ef6645a61bfcc\" data-offset=\"1389\"></div>\\n    \\n\\n    \\n<div class=\"bbs-screen bbs-footer-message\">本網站已依台灣網站內容分級規定處理。此區域為限制級，未滿十八歲者不得瀏覽。</div>\\n\\n</div>\\n\\n\\t\\t\\n\\n\\n\\n<script async src=\"https://www.googletagmanager.com/gtag/js?id=G-DZ6Y3BY9GW\"></script>\\n<script>\\n      window.dataLayer = window.dataLayer || [];\\n      function gtag(){dataLayer.push(arguments);}\\n      gtag(\\'js\\', new Date());\\n\\n      gtag(\\'config\\', \\'G-DZ6Y3BY9GW\\');\\n</script>\\n<script>\\n  (function(i,s,o,g,r,a,m){i[\\'GoogleAnalyticsObject\\']=r;i[r]=i[r]||function(){\\n  (i[r].q=i[r].q||[]).push(arguments)},i[r].l=1*new Date();a=s.createElement(o),\\n  m=s.getElementsByTagName(o)[0];a.async=1;a.src=g;m.parentNode.insertBefore(a,m)\\n  })(window,document,\\'script\\',\\'https://www.google-analytics.com/analytics.js\\',\\'ga\\');\\n\\n  ga(\\'create\\', \\'UA-32365737-1\\', {\\n    cookieDomain: \\'ptt.cc\\',\\n    legacyCookieDomain: \\'ptt.cc\\'\\n  });\\n  ga(\\'send\\', \\'pageview\\');\\n</script>\\n\\n\\n\\t\\t\\n<script src=\"//ajax.googleapis.com/ajax/libs/jquery/2.1.1/jquery.min.js\"></script>\\n<script src=\"//images.ptt.cc/bbs/v2.27/bbs.js\"></script>\\n\\n    <script defer src=\"https://static.cloudflareinsights.com/beacon.min.js/v84a3a4012de94ce1a686ba8c167c359c1696973893317\" integrity=\"sha512-euoFGowhlaLqXsPWQ48qSkBSCFs3DPRyiwVu3FjR96cMPx+Fr+gpWRhIafcHwqwCqWS42RZhIudOvEI+Ckf6MA==\" data-cf-beacon=\\'{\"rayId\":\"85c21433e8918a27\",\"version\":\"2024.2.1\",\"r\":1,\"token\":\"515615eb5fab4c9b91a11e9bf529e6cf\",\"b\":1}\\' crossorigin=\"anonymous\"></script>\\n</body>\\n</html>\\n'"
      ]
     },
     "execution_count": 23,
     "metadata": {},
     "output_type": "execute_result"
    }
   ],
   "source": [
    "result.text"
   ]
  },
  {
   "cell_type": "code",
   "execution_count": 32,
   "metadata": {},
   "outputs": [
    {
     "data": {
      "text/html": [
       "<pre style=\"white-space:pre;overflow-x:auto;line-height:normal;font-family:Menlo,'DejaVu Sans Mono',consolas,'Courier New',monospace\"><span style=\"font-weight: bold\">{</span><span style=\"color: #008000; text-decoration-color: #008000\">'作者'</span>: <span style=\"color: #008000; text-decoration-color: #008000\">'a2396494 (砒霜)'</span><span style=\"font-weight: bold\">}</span>\n",
       "</pre>\n"
      ],
      "text/plain": [
       "\u001b[1m{\u001b[0m\u001b[32m'作者'\u001b[0m: \u001b[32m'a2396494 \u001b[0m\u001b[32m(\u001b[0m\u001b[32m砒霜\u001b[0m\u001b[32m)\u001b[0m\u001b[32m'\u001b[0m\u001b[1m}\u001b[0m\n"
      ]
     },
     "metadata": {},
     "output_type": "display_data"
    },
    {
     "data": {
      "text/html": [
       "<pre style=\"white-space:pre;overflow-x:auto;line-height:normal;font-family:Menlo,'DejaVu Sans Mono',consolas,'Courier New',monospace\"><span style=\"font-weight: bold\">{</span>\n",
       "    <span style=\"color: #008000; text-decoration-color: #008000\">'作者'</span>: <span style=\"color: #008000; text-decoration-color: #008000\">'a2396494 (砒霜)'</span>,\n",
       "    <span style=\"color: #008000; text-decoration-color: #008000\">'標題'</span>: <span style=\"color: #008000; text-decoration-color: #008000\">'[神人] 外國婚紗model'</span>,\n",
       "    <span style=\"color: #008000; text-decoration-color: #008000\">'時間'</span>: <span style=\"color: #008000; text-decoration-color: #008000\">' Sat Jul 29 08'</span>,\n",
       "    <span style=\"color: #008000; text-decoration-color: #008000\">'Year'</span>: <span style=\"color: #008000; text-decoration-color: #008000\">'08'</span>,\n",
       "    <span style=\"color: #008000; text-decoration-color: #008000\">'Month'</span>: <span style=\"color: #008000; text-decoration-color: #008000\">'Sat'</span>,\n",
       "    <span style=\"color: #008000; text-decoration-color: #008000\">'Date'</span>: <span style=\"color: #008000; text-decoration-color: #008000\">'Jul'</span>,\n",
       "    <span style=\"color: #008000; text-decoration-color: #008000\">'Week'</span>: <span style=\"color: #008000; text-decoration-color: #008000\">''</span>,\n",
       "    <span style=\"color: #008000; text-decoration-color: #008000\">'Time'</span>: <span style=\"color: #008000; text-decoration-color: #008000\">'29'</span>,\n",
       "    <span style=\"color: #008000; text-decoration-color: #008000\">'image_catch_list'</span>: <span style=\"font-weight: bold\">[</span>\n",
       "        <span style=\"color: #008000; text-decoration-color: #008000\">'https://cache.ptt.cc/c/https/i.imgur.com/xKxiDzKl.jpg?e=1709222097&amp;s=WGJAbrpLAB94U_SvtnRKLQ'</span>,\n",
       "        <span style=\"color: #008000; text-decoration-color: #008000\">'https://cache.ptt.cc/c/https/i.imgur.com/lFnxOql.png?e=1709215982&amp;s=c_9qQ_fr-w8VpHqfG0ZfOg'</span>,\n",
       "        <span style=\"color: #008000; text-decoration-color: #008000\">'https://cache.ptt.cc/c/https/i.imgur.com/VR12YnZl.png?e=1709234214&amp;s=pgj1BkiuPHz8dhWYPyBHCQ'</span>,\n",
       "        <span style=\"color: #008000; text-decoration-color: #008000\">'https://cache.ptt.cc/c/https/i.imgur.com/ysqiRmkl.jpg?e=1709194292&amp;s=VuQsP6AaoxpsoSt2Z8-itA'</span>,\n",
       "        <span style=\"color: #008000; text-decoration-color: #008000\">'https://cache.ptt.cc/c/https/i.imgur.com/QVX5hQrl.jpg?e=1709230559&amp;s=8lVfeIChVH80xv-ICEEL9A'</span>,\n",
       "        <span style=\"color: #008000; text-decoration-color: #008000\">'https://cache.ptt.cc/c/https/i.imgur.com/BEqRDYrl.jpg?e=1709202973&amp;s=gTlh3RMoQgzVuWH12y0U7A'</span>\n",
       "    <span style=\"font-weight: bold\">]</span>,\n",
       "    <span style=\"color: #008000; text-decoration-color: #008000\">'image_link'</span>: <span style=\"font-weight: bold\">[</span>\n",
       "        <span style=\"color: #008000; text-decoration-color: #008000\">'https://i.imgur.com/xKxiDzK.jpg'</span>,\n",
       "        <span style=\"color: #008000; text-decoration-color: #008000\">'https://i.imgur.com/lFnxOqh.png'</span>,\n",
       "        <span style=\"color: #008000; text-decoration-color: #008000\">'https://i.imgur.com/VR12YnZ.png'</span>,\n",
       "        <span style=\"color: #008000; text-decoration-color: #008000\">'https://i.imgur.com/ysqiRmk.jpg'</span>,\n",
       "        <span style=\"color: #008000; text-decoration-color: #008000\">'https://i.imgur.com/QVX5hQr.jpg'</span>,\n",
       "        <span style=\"color: #008000; text-decoration-color: #008000\">'https://i.imgur.com/BEqRDYr.jpg'</span>\n",
       "    <span style=\"font-weight: bold\">]</span>\n",
       "<span style=\"font-weight: bold\">}</span>\n",
       "</pre>\n"
      ],
      "text/plain": [
       "\u001b[1m{\u001b[0m\n",
       "    \u001b[32m'作者'\u001b[0m: \u001b[32m'a2396494 \u001b[0m\u001b[32m(\u001b[0m\u001b[32m砒霜\u001b[0m\u001b[32m)\u001b[0m\u001b[32m'\u001b[0m,\n",
       "    \u001b[32m'標題'\u001b[0m: \u001b[32m'\u001b[0m\u001b[32m[\u001b[0m\u001b[32m神人\u001b[0m\u001b[32m]\u001b[0m\u001b[32m 外國婚紗model'\u001b[0m,\n",
       "    \u001b[32m'時間'\u001b[0m: \u001b[32m' Sat Jul 29 08'\u001b[0m,\n",
       "    \u001b[32m'Year'\u001b[0m: \u001b[32m'08'\u001b[0m,\n",
       "    \u001b[32m'Month'\u001b[0m: \u001b[32m'Sat'\u001b[0m,\n",
       "    \u001b[32m'Date'\u001b[0m: \u001b[32m'Jul'\u001b[0m,\n",
       "    \u001b[32m'Week'\u001b[0m: \u001b[32m''\u001b[0m,\n",
       "    \u001b[32m'Time'\u001b[0m: \u001b[32m'29'\u001b[0m,\n",
       "    \u001b[32m'image_catch_list'\u001b[0m: \u001b[1m[\u001b[0m\n",
       "        \u001b[32m'https://cache.ptt.cc/c/https/i.imgur.com/xKxiDzKl.jpg?\u001b[0m\u001b[32me\u001b[0m\u001b[32m=\u001b[0m\u001b[32m1709222097\u001b[0m\u001b[32m&\u001b[0m\u001b[32ms\u001b[0m\u001b[32m=\u001b[0m\u001b[32mWGJAbrpLAB94U_SvtnRKLQ\u001b[0m\u001b[32m'\u001b[0m,\n",
       "        \u001b[32m'https://cache.ptt.cc/c/https/i.imgur.com/lFnxOql.png?\u001b[0m\u001b[32me\u001b[0m\u001b[32m=\u001b[0m\u001b[32m1709215982\u001b[0m\u001b[32m&\u001b[0m\u001b[32ms\u001b[0m\u001b[32m=\u001b[0m\u001b[32mc_9qQ_fr\u001b[0m\u001b[32m-w8VpHqfG0ZfOg'\u001b[0m,\n",
       "        \u001b[32m'https://cache.ptt.cc/c/https/i.imgur.com/VR12YnZl.png?\u001b[0m\u001b[32me\u001b[0m\u001b[32m=\u001b[0m\u001b[32m1709234214\u001b[0m\u001b[32m&\u001b[0m\u001b[32ms\u001b[0m\u001b[32m=\u001b[0m\u001b[32mpgj1BkiuPHz8dhWYPyBHCQ\u001b[0m\u001b[32m'\u001b[0m,\n",
       "        \u001b[32m'https://cache.ptt.cc/c/https/i.imgur.com/ysqiRmkl.jpg?\u001b[0m\u001b[32me\u001b[0m\u001b[32m=\u001b[0m\u001b[32m1709194292\u001b[0m\u001b[32m&\u001b[0m\u001b[32ms\u001b[0m\u001b[32m=\u001b[0m\u001b[32mVuQsP6AaoxpsoSt2Z8\u001b[0m\u001b[32m-itA'\u001b[0m,\n",
       "        \u001b[32m'https://cache.ptt.cc/c/https/i.imgur.com/QVX5hQrl.jpg?\u001b[0m\u001b[32me\u001b[0m\u001b[32m=\u001b[0m\u001b[32m1709230559\u001b[0m\u001b[32m&\u001b[0m\u001b[32ms\u001b[0m\u001b[32m=\u001b[0m\u001b[32m8lVfeIChVH80xv\u001b[0m\u001b[32m-ICEEL9A'\u001b[0m,\n",
       "        \u001b[32m'https://cache.ptt.cc/c/https/i.imgur.com/BEqRDYrl.jpg?\u001b[0m\u001b[32me\u001b[0m\u001b[32m=\u001b[0m\u001b[32m1709202973\u001b[0m\u001b[32m&\u001b[0m\u001b[32ms\u001b[0m\u001b[32m=\u001b[0m\u001b[32mgTlh3RMoQgzVuWH12y0U7A\u001b[0m\u001b[32m'\u001b[0m\n",
       "    \u001b[1m]\u001b[0m,\n",
       "    \u001b[32m'image_link'\u001b[0m: \u001b[1m[\u001b[0m\n",
       "        \u001b[32m'https://i.imgur.com/xKxiDzK.jpg'\u001b[0m,\n",
       "        \u001b[32m'https://i.imgur.com/lFnxOqh.png'\u001b[0m,\n",
       "        \u001b[32m'https://i.imgur.com/VR12YnZ.png'\u001b[0m,\n",
       "        \u001b[32m'https://i.imgur.com/ysqiRmk.jpg'\u001b[0m,\n",
       "        \u001b[32m'https://i.imgur.com/QVX5hQr.jpg'\u001b[0m,\n",
       "        \u001b[32m'https://i.imgur.com/BEqRDYr.jpg'\u001b[0m\n",
       "    \u001b[1m]\u001b[0m\n",
       "\u001b[1m}\u001b[0m\n"
      ]
     },
     "metadata": {},
     "output_type": "display_data"
    }
   ],
   "source": [
    "test = page_to_simple_dict(result.text)\n",
    "\n",
    "print(test)"
   ]
  },
  {
   "cell_type": "code",
   "execution_count": 79,
   "metadata": {},
   "outputs": [
    {
     "data": {
      "text/plain": [
       "['Sun', 'Jan', '1', '20:04:22', '2023']"
      ]
     },
     "execution_count": 79,
     "metadata": {},
     "output_type": "execute_result"
    }
   ],
   "source": [
    "string = \"Sun Jan  1 20:04:22 2023\"\n",
    "detail_date = string.split(\" \")\n",
    "detail_date.remove(\"\")\n",
    "detail_date"
   ]
  },
  {
   "cell_type": "code",
   "execution_count": 80,
   "metadata": {},
   "outputs": [
    {
     "data": {
      "text/plain": [
       "{'Year': '2023',\n",
       " 'Month': 'Jan',\n",
       " 'Date': '1',\n",
       " 'Week': 'Sun',\n",
       " 'Time': '20:04:22'}"
      ]
     },
     "execution_count": 80,
     "metadata": {},
     "output_type": "execute_result"
    }
   ],
   "source": [
    "{\n",
    "    \"Year\": detail_date[-1],\n",
    "    \"Month\": detail_date[1],\n",
    "    \"Date\": detail_date[2],\n",
    "    \"Week\": detail_date[0],\n",
    "    \"Time\": detail_date[-2],\n",
    "}"
   ]
  }
 ],
 "metadata": {
  "kernelspec": {
   "display_name": ".venv",
   "language": "python",
   "name": "python3"
  },
  "language_info": {
   "codemirror_mode": {
    "name": "ipython",
    "version": 3
   },
   "file_extension": ".py",
   "mimetype": "text/x-python",
   "name": "python",
   "nbconvert_exporter": "python",
   "pygments_lexer": "ipython3",
   "version": "3.10.4"
  }
 },
 "nbformat": 4,
 "nbformat_minor": 2
}
