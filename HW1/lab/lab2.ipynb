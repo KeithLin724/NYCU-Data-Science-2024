{
 "cells": [
  {
   "cell_type": "code",
   "execution_count": 60,
   "metadata": {},
   "outputs": [],
   "source": [
    "from bs4 import BeautifulSoup\n",
    "from rich import print\n",
    "import httpx"
   ]
  },
  {
   "cell_type": "code",
   "execution_count": 75,
   "metadata": {},
   "outputs": [],
   "source": [
    "def page_to_simple_dict(html_str: str) -> dict:\n",
    "    \"\"\"\n",
    "    format like\n",
    "    '作者': 'ReiKuromiya (ReiKuromiya)',\n",
    "    '標題': '[正妹] 周子瑜',\n",
    "    '時間': 'Sun Jan  1 00:26:06 2023',\n",
    "    'Year': '2023',\n",
    "    'Month': 'Jan',\n",
    "    'Date': '',\n",
    "    'Week': 'Sun',\n",
    "    'Time': '00:26:06',\n",
    "    'Body': [(..., ...),  ...]}\n",
    "    \"\"\"\n",
    "\n",
    "    def to_detail_date(date_str: str) -> dict:\n",
    "        detail_date = date_str.split(\" \")\n",
    "        return {\n",
    "            \"Year\": detail_date[-1],\n",
    "            \"Month\": detail_date[1],\n",
    "            \"Date\": detail_date[2],\n",
    "            \"Week\": detail_date[0],\n",
    "            \"Time\": detail_date[-2],\n",
    "        }\n",
    "\n",
    "    # header = {\"cookie\": \"over18=1\"}\n",
    "    # result = httpx.get(url=url, headers=header)\n",
    "\n",
    "    soup = BeautifulSoup(html_str, \"html.parser\")\n",
    "\n",
    "    # get main data\n",
    "    body_data = soup.find(\"div\", class_=\"bbs-screen bbs-content\", id=\"main-content\")\n",
    "\n",
    "    # get header data\n",
    "    header_data = body_data.find_all(\"div\", class_=\"article-metaline\")\n",
    "\n",
    "    tab_list = [\n",
    "        str(line.find(\"span\", class_=\"article-meta-tag\").string) for line in header_data\n",
    "    ]\n",
    "\n",
    "    value_list = [\n",
    "        str(line.find(\"span\", class_=\"article-meta-value\").string)\n",
    "        for line in header_data\n",
    "    ]\n",
    "\n",
    "    header_dict = dict(zip(tab_list, value_list))\n",
    "    \n",
    "    \n",
    "    \n",
    "    # image src\n",
    "    images_list = body_data.find_all(\"div\", class_=\"richcontent\")\n",
    "    \n",
    "    # base in how long in image_list\n",
    "    images_list = [item.get(\"src\") for image in images_list if (item := image.find(\"img\"))]\n",
    "    # print(images_list)\n",
    "\n",
    "    # image link lists\n",
    "    link_image = body_data.find_all(\"a\")\n",
    "    # {\".png\" , \".jpg\" , \"jpeg\" ,\".gif\"} in (link_str := str(link.string))\n",
    "    link_image = [link_str for link in link_image if any(substring in (link_str := str(link.string)) for substring in [\".png\" , \".jpg\" , \"jpeg\" ,\".gif\"])  ]\n",
    "\n",
    "\n",
    "    # content_images = list(zip(link_image[:len(images_list)], images_list))\n",
    "\n",
    "    page_data = (\n",
    "        header_dict | to_detail_date(header_dict[\"時間\"]) | {\"image_catch_list\": images_list , \"image_link\" :link_image }\n",
    "    )\n",
    "\n",
    "    return page_data\n",
    "\n",
    "\n"
   ]
  },
  {
   "cell_type": "code",
   "execution_count": 68,
   "metadata": {},
   "outputs": [],
   "source": [
    "result = httpx.get(\"https://www.ptt.cc/bbs/Beauty/M.1672554775.A.108.html\" , headers={\"cookie\": \"over18=1\"})\n",
    "\n"
   ]
  },
  {
   "cell_type": "code",
   "execution_count": 69,
   "metadata": {},
   "outputs": [
    {
     "data": {
      "text/plain": [
       "'<!DOCTYPE html>\\n<html>\\n\\t<head>\\n\\t\\t<meta charset=\"utf-8\">\\n\\t\\t\\n\\n<meta name=\"viewport\" content=\"width=device-width, initial-scale=1\">\\n\\n<title>[正妹] 中國 體育記者 巢怡雯 - 看板 Beauty - 批踢踢實業坊</title>\\n<meta name=\"robots\" content=\"all\">\\n<meta name=\"keywords\" content=\"Ptt BBS 批踢踢\">\\n<meta name=\"description\" content=\"https://imgur.com/5Pp3KmR.jpg\\nhttps://imgur.com/u3XSwO9.jpg\\nhttps://imgur.com/LbKBaau.jpg\\nhttps://imgur.com/GMCfINQ.jpg\\nhttps://imgur.com/gQRvw43.jpg\\n\">\\n<meta property=\"og:site_name\" content=\"Ptt 批踢踢實業坊\">\\n<meta property=\"og:title\" content=\"[正妹] 中國 體育記者 巢怡雯\">\\n<meta property=\"og:description\" content=\"https://imgur.com/5Pp3KmR.jpg\\nhttps://imgur.com/u3XSwO9.jpg\\nhttps://imgur.com/LbKBaau.jpg\\nhttps://imgur.com/GMCfINQ.jpg\\nhttps://imgur.com/gQRvw43.jpg\\n\">\\n<link rel=\"canonical\" href=\"https://www.ptt.cc/bbs/Beauty/M.1672554775.A.108.html\">\\n\\n<link rel=\"stylesheet\" type=\"text/css\" href=\"//images.ptt.cc/bbs/v2.27/bbs-common.css\">\\n<link rel=\"stylesheet\" type=\"text/css\" href=\"//images.ptt.cc/bbs/v2.27/bbs-base.css\" media=\"screen\">\\n<link rel=\"stylesheet\" type=\"text/css\" href=\"//images.ptt.cc/bbs/v2.27/bbs-custom.css\">\\n<link rel=\"stylesheet\" type=\"text/css\" href=\"//images.ptt.cc/bbs/v2.27/pushstream.css\" media=\"screen\">\\n<link rel=\"stylesheet\" type=\"text/css\" href=\"//images.ptt.cc/bbs/v2.27/bbs-print.css\" media=\"print\">\\n\\n\\n\\n\\n\\t</head>\\n    <body>\\n\\t\\t\\n<div id=\"topbar-container\">\\n\\t<div id=\"topbar\" class=\"bbs-content\">\\n\\t\\t<a id=\"logo\" href=\"/bbs/\">批踢踢實業坊</a>\\n\\t\\t<span>&rsaquo;</span>\\n\\t\\t<a class=\"board\" href=\"/bbs/Beauty/index.html\"><span class=\"board-label\">看板 </span>Beauty</a>\\n\\t\\t<a class=\"right small\" href=\"/about.html\">關於我們</a>\\n\\t\\t<a class=\"right small\" href=\"/contact.html\">聯絡資訊</a>\\n\\t</div>\\n</div>\\n<div id=\"navigation-container\">\\n\\t<div id=\"navigation\" class=\"bbs-content\">\\n\\t\\t<a class=\"board\" href=\"/bbs/Beauty/index.html\">返回看板</a>\\n\\t\\t<div class=\"bar\"></div>\\n\\t</div>\\n</div>\\n<div id=\"main-container\">\\n    <div id=\"main-content\" class=\"bbs-screen bbs-content\"><div class=\"article-metaline\"><span class=\"article-meta-tag\">作者</span><span class=\"article-meta-value\">saw6904 (小餅乾)</span></div><div class=\"article-metaline-right\"><span class=\"article-meta-tag\">看板</span><span class=\"article-meta-value\">Beauty</span></div><div class=\"article-metaline\"><span class=\"article-meta-tag\">標題</span><span class=\"article-meta-value\">[正妹] 中國 體育記者 巢怡雯</span></div><div class=\"article-metaline\"><span class=\"article-meta-tag\">時間</span><span class=\"article-meta-value\">Sun Jan  1 14:32:53 2023</span></div>\\n<a href=\"https://imgur.com/5Pp3KmR.jpg\" target=\"_blank\" rel=\"noreferrer noopener nofollow\">https://imgur.com/5Pp3KmR.jpg</a>\\n<div class=\"richcontent\"><img src=\"https://imgur.com/5Pp3KmR.jpg\" alt=\"\" loading=\"lazy\" /></div>\\n<a href=\"https://imgur.com/u3XSwO9.jpg\" target=\"_blank\" rel=\"noreferrer noopener nofollow\">https://imgur.com/u3XSwO9.jpg</a>\\n<div class=\"richcontent\"><img src=\"https://imgur.com/u3XSwO9.jpg\" alt=\"\" loading=\"lazy\" /></div>\\n<a href=\"https://imgur.com/LbKBaau.jpg\" target=\"_blank\" rel=\"noreferrer noopener nofollow\">https://imgur.com/LbKBaau.jpg</a>\\n<div class=\"richcontent\"><img src=\"https://imgur.com/LbKBaau.jpg\" alt=\"\" loading=\"lazy\" /></div>\\n<a href=\"https://imgur.com/GMCfINQ.jpg\" target=\"_blank\" rel=\"noreferrer noopener nofollow\">https://imgur.com/GMCfINQ.jpg</a>\\n<div class=\"richcontent\"><img src=\"https://imgur.com/GMCfINQ.jpg\" alt=\"\" loading=\"lazy\" /></div>\\n<a href=\"https://imgur.com/gQRvw43.jpg\" target=\"_blank\" rel=\"noreferrer noopener nofollow\">https://imgur.com/gQRvw43.jpg</a>\\n<div class=\"richcontent\"><img src=\"https://imgur.com/gQRvw43.jpg\" alt=\"\" loading=\"lazy\" /></div>\\n<a href=\"https://imgur.com/gA1CzWr.jpg\" target=\"_blank\" rel=\"noreferrer noopener nofollow\">https://imgur.com/gA1CzWr.jpg</a>\\n<div class=\"richcontent\"><img src=\"https://imgur.com/gA1CzWr.jpg\" alt=\"\" loading=\"lazy\" /></div>\\n<a href=\"https://imgur.com/ZCxsjPa.jpg\" target=\"_blank\" rel=\"noreferrer noopener nofollow\">https://imgur.com/ZCxsjPa.jpg</a>\\n<div class=\"richcontent\"><img src=\"https://imgur.com/ZCxsjPa.jpg\" alt=\"\" loading=\"lazy\" /></div>\\n<a href=\"https://imgur.com/maa3Dpd.jpg\" target=\"_blank\" rel=\"noreferrer noopener nofollow\">https://imgur.com/maa3Dpd.jpg</a>\\n<div class=\"richcontent\"><img src=\"https://imgur.com/maa3Dpd.jpg\" alt=\"\" loading=\"lazy\" /></div>\\n補退錢影片：<a href=\"https://youtu.be/ZRVG4ahK_p0\" target=\"_blank\" rel=\"noreferrer noopener nofollow\">https://youtu.be/ZRVG4ahK_p0</a>\\n<div class=\"richcontent\"><div class=\"resize-container\"><div class=\"resize-content\"><iframe class=\"youtube-player\" type=\"text/html\" src=\"//www.youtube.com/embed/ZRVG4ahK_p0\" frameborder=\"0\" allowfullscreen></iframe></div></div></div>\\n--\\n<span class=\"f2\">※ 發信站: 批踢踢實業坊(ptt.cc), 來自: 124.8.35.233 (臺灣)\\n</span><span class=\"f2\">※ 文章網址: <a href=\"https://www.ptt.cc/bbs/Beauty/M.1672554775.A.108.html\" target=\"_blank\" rel=\"noreferrer noopener nofollow\">https://www.ptt.cc/bbs/Beauty/M.1672554775.A.108.html</a>\\n</span><div class=\"push\"><span class=\"hl push-tag\">推 </span><span class=\"f3 hl push-userid\">maxxxxxx</span><span class=\"f3 push-content\">: 可以</span><span class=\"push-ipdatetime\">     1.34.252.5 01/01 14:39\\n</span></div><div class=\"push\"><span class=\"hl push-tag\">推 </span><span class=\"f3 hl push-userid\">asxu31</span><span class=\"f3 push-content\">: 樓上，圖呢？</span><span class=\"push-ipdatetime\">  114.137.104.5 01/01 14:39\\n</span></div><div class=\"push\"><span class=\"hl push-tag\">推 </span><span class=\"f3 hl push-userid\">cityhunter04</span><span class=\"f3 push-content\">: 很少看過戴眼鏡還那麼正的</span><span class=\"push-ipdatetime\"> 114.24.119.133 01/01 14:43\\n</span></div><div class=\"push\"><span class=\"hl push-tag\">推 </span><span class=\"f3 hl push-userid\">Qaaaa</span><span class=\"f3 push-content\">: 正 求ig</span><span class=\"push-ipdatetime\">223.137.253.190 01/01 14:48\\n</span></div><div class=\"push\"><span class=\"hl push-tag\">推 </span><span class=\"f3 hl push-userid\">ePaper</span><span class=\"f3 push-content\">: 第一次看過巢姓</span><span class=\"push-ipdatetime\"> 223.140.217.55 01/01 14:50\\n</span></div><div class=\"push\"><span class=\"f1 hl push-tag\">→ </span><span class=\"f3 hl push-userid\">sfh20230</span><span class=\"f3 push-content\">: 退錢姊......</span><span class=\"push-ipdatetime\">  123.194.189.3 01/01 14:52\\n</span></div><div class=\"push\"><span class=\"f1 hl push-tag\">噓 </span><span class=\"f3 hl push-userid\">nk10803</span><span class=\"f3 push-content\">: 還是戴上眼睛吧</span><span class=\"push-ipdatetime\">  42.72.177.100 01/01 14:56\\n</span></div><div class=\"push\"><span class=\"hl push-tag\">推 </span><span class=\"f3 hl push-userid\">sheep0121</span><span class=\"f3 push-content\">: 優質</span><span class=\"push-ipdatetime\"> 218.172.129.28 01/01 15:22\\n</span></div><div class=\"push\"><span class=\"hl push-tag\">推 </span><span class=\"f3 hl push-userid\">steven3abc</span><span class=\"f3 push-content\">: 退錢！</span><span class=\"push-ipdatetime\">  114.25.34.235 01/01 15:33\\n</span></div><div class=\"push\"><span class=\"hl push-tag\">推 </span><span class=\"f3 hl push-userid\">assnccu8787</span><span class=\"f3 push-content\">: 已經結素惹</span><span class=\"push-ipdatetime\">  118.167.4.228 01/01 15:39\\n</span></div>\\n都結束了 <a href=\"https://imgur.com/jHQtjdW.jpg\" target=\"_blank\" rel=\"noreferrer noopener nofollow\">https://imgur.com/jHQtjdW.jpg</a>\\n<div class=\"richcontent\"><img src=\"https://imgur.com/jHQtjdW.jpg\" alt=\"\" loading=\"lazy\" /></div>\\n<div class=\"push\"><span class=\"hl push-tag\">推 </span><span class=\"f3 hl push-userid\">a2156700</span><span class=\"f3 push-content\">: 你媽 退錢</span><span class=\"push-ipdatetime\">  1.200.155.137 01/01 15:53\\n</span></div><div class=\"push\"><span class=\"hl push-tag\">推 </span><span class=\"f3 hl push-userid\">cookiey</span><span class=\"f3 push-content\">: 退錢姐</span><span class=\"push-ipdatetime\">    1.200.1.115 01/01 15:54\\n</span></div>\\n原來大家都知道退錢 XD\\n<span class=\"f2\">※ 編輯: saw6904 (124.8.35.233 臺灣), 01/01/2023 16:07:38\\n</span><div class=\"push\"><span class=\"f1 hl push-tag\">噓 </span><span class=\"f3 hl push-userid\">cityhunter04</span><span class=\"f3 push-content\">: 哪招？看個足球叫人家退錢？</span><span class=\"push-ipdatetime\"> 114.24.119.133 01/01 16:09\\n</span></div><div class=\"push\"><span class=\"hl push-tag\">推 </span><span class=\"f3 hl push-userid\">s5689</span><span class=\"f3 push-content\">: 日你* 退錢</span><span class=\"push-ipdatetime\">  1.200.124.157 01/01 16:09\\n</span></div><div class=\"push\"><span class=\"hl push-tag\">推 </span><span class=\"f3 hl push-userid\">GodMune0608</span><span class=\"f3 push-content\">: 日你媽 退錢！</span><span class=\"push-ipdatetime\">140.112.248.220 01/01 16:20\\n</span></div><div class=\"push\"><span class=\"hl push-tag\">推 </span><span class=\"f3 hl push-userid\">ePaper</span><span class=\"f3 push-content\">: 已經接蘇勒</span><span class=\"push-ipdatetime\"> 59.102.192.179 01/01 16:21\\n</span></div><div class=\"push\"><span class=\"hl push-tag\">推 </span><span class=\"f3 hl push-userid\">GodMune0608</span><span class=\"f3 push-content\">: 還有7場比賽能全贏嗎 贏不下來吧 很</span><span class=\"push-ipdatetime\">140.112.248.220 01/01 16:22\\n</span></div><div class=\"push\"><span class=\"f1 hl push-tag\">→ </span><span class=\"f3 hl push-userid\">GodMune0608</span><span class=\"f3 push-content\">: 藍的啦 很藍的啦</span><span class=\"push-ipdatetime\">140.112.248.220 01/01 16:22\\n</span></div><div class=\"push\"><span class=\"hl push-tag\">推 </span><span class=\"f3 hl push-userid\">benjumin</span><span class=\"f3 push-content\">: 正</span><span class=\"push-ipdatetime\">122.116.199.197 01/01 16:41\\n</span></div><div class=\"push\"><span class=\"hl push-tag\">推 </span><span class=\"f3 hl push-userid\">twmarstw7758</span><span class=\"f3 push-content\">: 正</span><span class=\"push-ipdatetime\">  36.232.203.33 01/01 16:42\\n</span></div><div class=\"push\"><span class=\"hl push-tag\">推 </span><span class=\"f3 hl push-userid\">asxc530530</span><span class=\"f3 push-content\">: 讚喔</span><span class=\"push-ipdatetime\"> 36.238.130.212 01/01 16:45\\n</span></div><div class=\"push\"><span class=\"hl push-tag\">推 </span><span class=\"f3 hl push-userid\">mozo</span><span class=\"f3 push-content\">: ㄖ你媽 推前~~~</span><span class=\"push-ipdatetime\">  180.217.25.52 01/01 16:47\\n</span></div><div class=\"push\"><span class=\"hl push-tag\">推 </span><span class=\"f3 hl push-userid\">bbbruce</span><span class=\"f3 push-content\">: 巢亞雯</span><span class=\"push-ipdatetime\">  36.226.24.234 01/01 16:48\\n</span></div><div class=\"push\"><span class=\"hl push-tag\">推 </span><span class=\"f3 hl push-userid\">vaiking0120</span><span class=\"f3 push-content\">: 敝姓巢 卵巢的巢</span><span class=\"push-ipdatetime\">  101.10.60.173 01/01 17:09\\n</span></div><div class=\"push\"><span class=\"hl push-tag\">推 </span><span class=\"f3 hl push-userid\">wafiea708</span><span class=\"f3 push-content\">: 推 原來是退錢姐</span><span class=\"push-ipdatetime\">123.193.199.130 01/01 17:25\\n</span></div><div class=\"push\"><span class=\"f1 hl push-tag\">→ </span><span class=\"f3 hl push-userid\">HappyKH</span><span class=\"f3 push-content\">: 這還好吧</span><span class=\"push-ipdatetime\">150.116.216.106 01/01 18:23\\n</span></div><div class=\"push\"><span class=\"hl push-tag\">推 </span><span class=\"f3 hl push-userid\">ptt880101</span><span class=\"f3 push-content\">: 退錢姐 超正</span><span class=\"push-ipdatetime\">   27.53.17.211 01/01 18:34\\n</span></div><div class=\"push\"><span class=\"f1 hl push-tag\">噓 </span><span class=\"f3 hl push-userid\">Nov9th</span><span class=\"f3 push-content\">: 甘我們屁事！</span><span class=\"push-ipdatetime\">  101.10.63.222 01/01 18:44\\n</span></div><div class=\"push\"><span class=\"hl push-tag\">推 </span><span class=\"f3 hl push-userid\">lulusuccess</span><span class=\"f3 push-content\">: 退錢</span><span class=\"push-ipdatetime\">  61.228.196.36 01/01 18:45\\n</span></div><div class=\"push\"><span class=\"f1 hl push-tag\">噓 </span><span class=\"f3 hl push-userid\">g7a7n7</span><span class=\"f3 push-content\">: 剛退伍？</span><span class=\"push-ipdatetime\">  111.249.4.135 01/01 18:56\\n</span></div><div class=\"push\"><span class=\"hl push-tag\">推 </span><span class=\"f3 hl push-userid\">TopGun2</span><span class=\"f3 push-content\">: 普</span><span class=\"push-ipdatetime\"> 111.83.152.225 01/01 19:07\\n</span></div><div class=\"push\"><span class=\"hl push-tag\">推 </span><span class=\"f3 hl push-userid\">simultaneous</span><span class=\"f3 push-content\">: 雖然不大 但很正</span><span class=\"push-ipdatetime\">   39.14.41.195 01/01 19:17\\n</span></div><div class=\"push\"><span class=\"hl push-tag\">推 </span><span class=\"f3 hl push-userid\">kroya</span><span class=\"f3 push-content\">: 帶眼鏡比較正</span><span class=\"push-ipdatetime\">   1.170.71.165 01/01 19:23\\n</span></div><div class=\"push\"><span class=\"hl push-tag\">推 </span><span class=\"f3 hl push-userid\">ppaauull</span><span class=\"f3 push-content\">: 戰地記者巢巢，超喜歡她，完全我的菜</span><span class=\"push-ipdatetime\">   42.79.41.127 01/01 19:31\\n</span></div><div class=\"push\"><span class=\"hl push-tag\">推 </span><span class=\"f3 hl push-userid\">ups</span><span class=\"f3 push-content\">: 眼鏡才是本體</span><span class=\"push-ipdatetime\">  42.77.118.106 01/01 19:41\\n</span></div><div class=\"push\"><span class=\"hl push-tag\">推 </span><span class=\"f3 hl push-userid\">zjnovember</span><span class=\"f3 push-content\">: 還不錯欸</span><span class=\"push-ipdatetime\">218.172.132.171 01/01 20:08\\n</span></div><div class=\"push\"><span class=\"hl push-tag\">推 </span><span class=\"f3 hl push-userid\">skylion</span><span class=\"f3 push-content\">: 不錯</span><span class=\"push-ipdatetime\">  101.9.238.239 01/01 20:13\\n</span></div><div class=\"push\"><span class=\"hl push-tag\">推 </span><span class=\"f3 hl push-userid\">kevin3333</span><span class=\"f3 push-content\">: 她很讚  推F1 足球</span><span class=\"push-ipdatetime\">   101.9.194.12 01/01 20:14\\n</span></div><div class=\"push\"><span class=\"hl push-tag\">推 </span><span class=\"f3 hl push-userid\">CenaWang</span><span class=\"f3 push-content\">: 朱雀門事變</span><span class=\"push-ipdatetime\"> 180.177.36.173 01/01 20:20\\n</span></div><div class=\"push\"><span class=\"hl push-tag\">推 </span><span class=\"f3 hl push-userid\">iwtwin086051</span><span class=\"f3 push-content\">: 那個尷尬氛圍還能圓 真的厲害</span><span class=\"push-ipdatetime\">  111.82.213.16 01/01 20:20\\n</span></div><div class=\"push\"><span class=\"hl push-tag\">推 </span><span class=\"f3 hl push-userid\">highka1003</span><span class=\"f3 push-content\">: 很怕被男群眾圍起來…</span><span class=\"push-ipdatetime\"> 114.47.231.198 01/01 20:30\\n</span></div><div class=\"push\"><span class=\"hl push-tag\">推 </span><span class=\"f3 hl push-userid\">DOMENKING</span><span class=\"f3 push-content\">: 香</span><span class=\"push-ipdatetime\">  122.116.65.45 01/01 20:33\\n</span></div><div class=\"push\"><span class=\"hl push-tag\">推 </span><span class=\"f3 hl push-userid\">ahoka</span><span class=\"f3 push-content\">: 看完影片要笑死XD</span><span class=\"push-ipdatetime\">     1.34.16.30 01/01 20:41\\n</span></div><div class=\"push\"><span class=\"f1 hl push-tag\">噓 </span><span class=\"f3 hl push-userid\">Mrsixtieth</span><span class=\"f3 push-content\">: 退錢</span><span class=\"push-ipdatetime\">  49.216.80.109 01/01 21:02\\n</span></div><div class=\"push\"><span class=\"hl push-tag\">推 </span><span class=\"f3 hl push-userid\">aLaN0727</span><span class=\"f3 push-content\">: 一樓誰都可以？</span><span class=\"push-ipdatetime\"> 118.161.193.57 01/01 21:03\\n</span></div><div class=\"push\"><span class=\"hl push-tag\">推 </span><span class=\"f3 hl push-userid\">andylee84126</span><span class=\"f3 push-content\">: 一起走到最後！</span><span class=\"push-ipdatetime\">111.252.107.143 01/01 21:06\\n</span></div><div class=\"push\"><span class=\"f1 hl push-tag\">→ </span><span class=\"f3 hl push-userid\">andylee84126</span><span class=\"f3 push-content\">: <a href=\"https://i.imgur.com/QOECp9q.jpg\" target=\"_blank\" rel=\"noreferrer noopener nofollow\">https://i.imgur.com/QOECp9q.jpg</a></span><span class=\"push-ipdatetime\">111.252.107.143 01/01 21:06\\n</span></div><div class=\"richcontent\"><img src=\"https://cache.ptt.cc/c/https/i.imgur.com/QOECp9ql.jpg?e=1709215362&amp;s=pRmOqVLzht9CoeAND6CSRQ\" alt=\"\" loading=\"lazy\" /></div><div class=\"push\"><span class=\"hl push-tag\">推 </span><span class=\"f3 hl push-userid\">fucking</span><span class=\"f3 push-content\">: 對得起我們嗎 退錢</span><span class=\"push-ipdatetime\"> 36.232.225.113 01/01 21:10\\n</span></div><div class=\"push\"><span class=\"hl push-tag\">推 </span><span class=\"f3 hl push-userid\">Taiwannapa1</span><span class=\"f3 push-content\">: 國足！牛B！</span><span class=\"push-ipdatetime\"> 218.173.32.127 01/01 21:16\\n</span></div><div class=\"push\"><span class=\"f1 hl push-tag\">噓 </span><span class=\"f3 hl push-userid\">AUwalker</span><span class=\"f3 push-content\">: po 孟超 我再推</span><span class=\"push-ipdatetime\">  60.240.16.140 01/01 21:21\\n</span></div><div class=\"push\"><span class=\"hl push-tag\">推 </span><span class=\"f3 hl push-userid\">Kevintsaitsa</span><span class=\"f3 push-content\">: 笑死 很藍的啦</span><span class=\"push-ipdatetime\"> 140.112.250.32 01/01 21:22\\n</span></div><div class=\"push\"><span class=\"f1 hl push-tag\">→ </span><span class=\"f3 hl push-userid\">chirstch</span><span class=\"f3 push-content\">: 退錢～～</span><span class=\"push-ipdatetime\">   101.9.46.198 01/01 21:41\\n</span></div><div class=\"push\"><span class=\"hl push-tag\">推 </span><span class=\"f3 hl push-userid\">monarch0301</span><span class=\"f3 push-content\">: 喜歡</span><span class=\"push-ipdatetime\">   101.10.0.246 01/01 22:35\\n</span></div><div class=\"push\"><span class=\"hl push-tag\">推 </span><span class=\"f3 hl push-userid\">Wwc0130</span><span class=\"f3 push-content\">: 這肩膀真的優秀</span><span class=\"push-ipdatetime\"> 114.36.139.172 01/01 22:44\\n</span></div><div class=\"push\"><span class=\"hl push-tag\">推 </span><span class=\"f3 hl push-userid\">leechenchen</span><span class=\"f3 push-content\">: 日你媽 退錢</span><span class=\"push-ipdatetime\">   125.229.1.61 01/01 23:44\\n</span></div><div class=\"push\"><span class=\"f1 hl push-tag\">→ </span><span class=\"f3 hl push-userid\">justin200428</span><span class=\"f3 push-content\">: 中國推 台灣...</span><span class=\"push-ipdatetime\">  111.243.10.88 01/01 23:54\\n</span></div><div class=\"push\"><span class=\"f1 hl push-tag\">→ </span><span class=\"f3 hl push-userid\">cy98</span><span class=\"f3 push-content\">: 退錢</span><span class=\"push-ipdatetime\"> 27.247.196.147 01/02 01:00\\n</span></div><div class=\"push\"><span class=\"hl push-tag\">推 </span><span class=\"f3 hl push-userid\">ShockHo222</span><span class=\"f3 push-content\">: 為五斗米折腰，真可憐</span><span class=\"push-ipdatetime\">   110.28.49.94 01/02 03:42\\n</span></div><div class=\"push\"><span class=\"f1 hl push-tag\">噓 </span><span class=\"f3 hl push-userid\">BIGBBB</span><span class=\"f3 push-content\">: 路人</span><span class=\"push-ipdatetime\">  101.9.192.240 01/02 03:47\\n</span></div><div class=\"push\"><span class=\"hl push-tag\">推 </span><span class=\"f3 hl push-userid\">zqAI3yGOAT</span><span class=\"f3 push-content\">: 快被退錢影片笑死</span><span class=\"push-ipdatetime\">223.138.162.188 01/02 04:36\\n</span></div><div class=\"push\"><span class=\"hl push-tag\">推 </span><span class=\"f3 hl push-userid\">hses5307</span><span class=\"f3 push-content\">: 太失望了我翹</span><span class=\"push-ipdatetime\"> 58.115.229.112 01/02 08:43\\n</span></div><div class=\"push\"><span class=\"hl push-tag\">推 </span><span class=\"f3 hl push-userid\">Shepherd1987</span><span class=\"f3 push-content\">: 征程是星辰大海都講出來了, 這妹紙</span><span class=\"push-ipdatetime\">  118.166.78.94 01/03 02:04\\n</span></div><div class=\"push\"><span class=\"f1 hl push-tag\">→ </span><span class=\"f3 hl push-userid\">Shepherd1987</span><span class=\"f3 push-content\">: 有前途啊</span><span class=\"push-ipdatetime\">  118.166.78.94 01/03 02:04\\n</span></div><div class=\"push\"><span class=\"hl push-tag\">推 </span><span class=\"f3 hl push-userid\">sus304</span><span class=\"f3 push-content\">: 國足的那一個？</span><span class=\"push-ipdatetime\">   59.120.12.80 01/03 13:23\\n</span></div><div class=\"push\"><span class=\"hl push-tag\">推 </span><span class=\"f3 hl push-userid\">akanishiking</span><span class=\"f3 push-content\">: 日你媽 退錢！</span><span class=\"push-ipdatetime\">   122.99.25.54 01/03 21:35\\n</span></div><div class=\"push\"><span class=\"f1 hl push-tag\">噓 </span><span class=\"f3 hl push-userid\">zss40401</span><span class=\"f3 push-content\">: 沒戴眼鏡普</span><span class=\"push-ipdatetime\">  115.43.41.124 01/06 09:11\\n</span></div></div>\\n    \\n    <div id=\"article-polling\" data-pollurl=\"/poll/Beauty/M.1672554775.A.108.html?cacheKey=2148-605784184&amp;offset=7375&amp;offset-sig=33b9c4f551084d58417b74ae66ef2889225cd7cb\" data-longpollurl=\"/v1/longpoll?id=3906d0cfa9b61bf14c23a795ec3663d8a4a09bac\" data-offset=\"7375\"></div>\\n    \\n\\n    \\n<div class=\"bbs-screen bbs-footer-message\">本網站已依台灣網站內容分級規定處理。此區域為限制級，未滿十八歲者不得瀏覽。</div>\\n\\n</div>\\n\\n\\t\\t\\n\\n\\n\\n<script async src=\"https://www.googletagmanager.com/gtag/js?id=G-DZ6Y3BY9GW\"></script>\\n<script>\\n      window.dataLayer = window.dataLayer || [];\\n      function gtag(){dataLayer.push(arguments);}\\n      gtag(\\'js\\', new Date());\\n\\n      gtag(\\'config\\', \\'G-DZ6Y3BY9GW\\');\\n</script>\\n<script>\\n  (function(i,s,o,g,r,a,m){i[\\'GoogleAnalyticsObject\\']=r;i[r]=i[r]||function(){\\n  (i[r].q=i[r].q||[]).push(arguments)},i[r].l=1*new Date();a=s.createElement(o),\\n  m=s.getElementsByTagName(o)[0];a.async=1;a.src=g;m.parentNode.insertBefore(a,m)\\n  })(window,document,\\'script\\',\\'https://www.google-analytics.com/analytics.js\\',\\'ga\\');\\n\\n  ga(\\'create\\', \\'UA-32365737-1\\', {\\n    cookieDomain: \\'ptt.cc\\',\\n    legacyCookieDomain: \\'ptt.cc\\'\\n  });\\n  ga(\\'send\\', \\'pageview\\');\\n</script>\\n\\n\\n\\t\\t\\n<script src=\"//ajax.googleapis.com/ajax/libs/jquery/2.1.1/jquery.min.js\"></script>\\n<script src=\"//images.ptt.cc/bbs/v2.27/bbs.js\"></script>\\n\\n    <script defer src=\"https://static.cloudflareinsights.com/beacon.min.js/v84a3a4012de94ce1a686ba8c167c359c1696973893317\" integrity=\"sha512-euoFGowhlaLqXsPWQ48qSkBSCFs3DPRyiwVu3FjR96cMPx+Fr+gpWRhIafcHwqwCqWS42RZhIudOvEI+Ckf6MA==\" data-cf-beacon=\\'{\"rayId\":\"85c16f1388cc25e9\",\"version\":\"2024.2.1\",\"r\":1,\"token\":\"515615eb5fab4c9b91a11e9bf529e6cf\",\"b\":1}\\' crossorigin=\"anonymous\"></script>\\n</body>\\n</html>\\n'"
      ]
     },
     "execution_count": 69,
     "metadata": {},
     "output_type": "execute_result"
    }
   ],
   "source": [
    "result.text"
   ]
  },
  {
   "cell_type": "code",
   "execution_count": 76,
   "metadata": {},
   "outputs": [
    {
     "data": {
      "text/html": [
       "<pre style=\"white-space:pre;overflow-x:auto;line-height:normal;font-family:Menlo,'DejaVu Sans Mono',consolas,'Courier New',monospace\"><span style=\"font-weight: bold\">{</span>\n",
       "    <span style=\"color: #008000; text-decoration-color: #008000\">'作者'</span>: <span style=\"color: #008000; text-decoration-color: #008000\">'saw6904 (小餅乾)'</span>,\n",
       "    <span style=\"color: #008000; text-decoration-color: #008000\">'標題'</span>: <span style=\"color: #008000; text-decoration-color: #008000\">'[正妹] 中國 體育記者 巢怡雯'</span>,\n",
       "    <span style=\"color: #008000; text-decoration-color: #008000\">'時間'</span>: <span style=\"color: #008000; text-decoration-color: #008000\">'Sun Jan  1 14:32:53 2023'</span>,\n",
       "    <span style=\"color: #008000; text-decoration-color: #008000\">'Year'</span>: <span style=\"color: #008000; text-decoration-color: #008000\">'2023'</span>,\n",
       "    <span style=\"color: #008000; text-decoration-color: #008000\">'Month'</span>: <span style=\"color: #008000; text-decoration-color: #008000\">'Jan'</span>,\n",
       "    <span style=\"color: #008000; text-decoration-color: #008000\">'Date'</span>: <span style=\"color: #008000; text-decoration-color: #008000\">''</span>,\n",
       "    <span style=\"color: #008000; text-decoration-color: #008000\">'Week'</span>: <span style=\"color: #008000; text-decoration-color: #008000\">'Sun'</span>,\n",
       "    <span style=\"color: #008000; text-decoration-color: #008000\">'Time'</span>: <span style=\"color: #008000; text-decoration-color: #008000\">'14:32:53'</span>,\n",
       "    <span style=\"color: #008000; text-decoration-color: #008000\">'image_catch_list'</span>: <span style=\"font-weight: bold\">[</span>\n",
       "        <span style=\"color: #008000; text-decoration-color: #008000\">'https://imgur.com/5Pp3KmR.jpg'</span>,\n",
       "        <span style=\"color: #008000; text-decoration-color: #008000\">'https://imgur.com/u3XSwO9.jpg'</span>,\n",
       "        <span style=\"color: #008000; text-decoration-color: #008000\">'https://imgur.com/LbKBaau.jpg'</span>,\n",
       "        <span style=\"color: #008000; text-decoration-color: #008000\">'https://imgur.com/GMCfINQ.jpg'</span>,\n",
       "        <span style=\"color: #008000; text-decoration-color: #008000\">'https://imgur.com/gQRvw43.jpg'</span>,\n",
       "        <span style=\"color: #008000; text-decoration-color: #008000\">'https://imgur.com/gA1CzWr.jpg'</span>,\n",
       "        <span style=\"color: #008000; text-decoration-color: #008000\">'https://imgur.com/ZCxsjPa.jpg'</span>,\n",
       "        <span style=\"color: #008000; text-decoration-color: #008000\">'https://imgur.com/maa3Dpd.jpg'</span>,\n",
       "        <span style=\"color: #008000; text-decoration-color: #008000\">'https://imgur.com/jHQtjdW.jpg'</span>,\n",
       "        <span style=\"color: #008000; text-decoration-color: #008000\">'https://cache.ptt.cc/c/https/i.imgur.com/QOECp9ql.jpg?e=1709215362&amp;s=pRmOqVLzht9CoeAND6CSRQ'</span>\n",
       "    <span style=\"font-weight: bold\">]</span>,\n",
       "    <span style=\"color: #008000; text-decoration-color: #008000\">'image_link'</span>: <span style=\"font-weight: bold\">[</span>\n",
       "        <span style=\"color: #008000; text-decoration-color: #008000\">'https://imgur.com/5Pp3KmR.jpg'</span>,\n",
       "        <span style=\"color: #008000; text-decoration-color: #008000\">'https://imgur.com/u3XSwO9.jpg'</span>,\n",
       "        <span style=\"color: #008000; text-decoration-color: #008000\">'https://imgur.com/LbKBaau.jpg'</span>,\n",
       "        <span style=\"color: #008000; text-decoration-color: #008000\">'https://imgur.com/GMCfINQ.jpg'</span>,\n",
       "        <span style=\"color: #008000; text-decoration-color: #008000\">'https://imgur.com/gQRvw43.jpg'</span>,\n",
       "        <span style=\"color: #008000; text-decoration-color: #008000\">'https://imgur.com/gA1CzWr.jpg'</span>,\n",
       "        <span style=\"color: #008000; text-decoration-color: #008000\">'https://imgur.com/ZCxsjPa.jpg'</span>,\n",
       "        <span style=\"color: #008000; text-decoration-color: #008000\">'https://imgur.com/maa3Dpd.jpg'</span>,\n",
       "        <span style=\"color: #008000; text-decoration-color: #008000\">'https://imgur.com/jHQtjdW.jpg'</span>,\n",
       "        <span style=\"color: #008000; text-decoration-color: #008000\">'https://i.imgur.com/QOECp9q.jpg'</span>\n",
       "    <span style=\"font-weight: bold\">]</span>\n",
       "<span style=\"font-weight: bold\">}</span>\n",
       "</pre>\n"
      ],
      "text/plain": [
       "\u001b[1m{\u001b[0m\n",
       "    \u001b[32m'作者'\u001b[0m: \u001b[32m'saw6904 \u001b[0m\u001b[32m(\u001b[0m\u001b[32m小餅乾\u001b[0m\u001b[32m)\u001b[0m\u001b[32m'\u001b[0m,\n",
       "    \u001b[32m'標題'\u001b[0m: \u001b[32m'\u001b[0m\u001b[32m[\u001b[0m\u001b[32m正妹\u001b[0m\u001b[32m]\u001b[0m\u001b[32m 中國 體育記者 巢怡雯'\u001b[0m,\n",
       "    \u001b[32m'時間'\u001b[0m: \u001b[32m'Sun Jan  1 14:32:53 2023'\u001b[0m,\n",
       "    \u001b[32m'Year'\u001b[0m: \u001b[32m'2023'\u001b[0m,\n",
       "    \u001b[32m'Month'\u001b[0m: \u001b[32m'Jan'\u001b[0m,\n",
       "    \u001b[32m'Date'\u001b[0m: \u001b[32m''\u001b[0m,\n",
       "    \u001b[32m'Week'\u001b[0m: \u001b[32m'Sun'\u001b[0m,\n",
       "    \u001b[32m'Time'\u001b[0m: \u001b[32m'14:32:53'\u001b[0m,\n",
       "    \u001b[32m'image_catch_list'\u001b[0m: \u001b[1m[\u001b[0m\n",
       "        \u001b[32m'https://imgur.com/5Pp3KmR.jpg'\u001b[0m,\n",
       "        \u001b[32m'https://imgur.com/u3XSwO9.jpg'\u001b[0m,\n",
       "        \u001b[32m'https://imgur.com/LbKBaau.jpg'\u001b[0m,\n",
       "        \u001b[32m'https://imgur.com/GMCfINQ.jpg'\u001b[0m,\n",
       "        \u001b[32m'https://imgur.com/gQRvw43.jpg'\u001b[0m,\n",
       "        \u001b[32m'https://imgur.com/gA1CzWr.jpg'\u001b[0m,\n",
       "        \u001b[32m'https://imgur.com/ZCxsjPa.jpg'\u001b[0m,\n",
       "        \u001b[32m'https://imgur.com/maa3Dpd.jpg'\u001b[0m,\n",
       "        \u001b[32m'https://imgur.com/jHQtjdW.jpg'\u001b[0m,\n",
       "        \u001b[32m'https://cache.ptt.cc/c/https/i.imgur.com/QOECp9ql.jpg?\u001b[0m\u001b[32me\u001b[0m\u001b[32m=\u001b[0m\u001b[32m1709215362\u001b[0m\u001b[32m&\u001b[0m\u001b[32ms\u001b[0m\u001b[32m=\u001b[0m\u001b[32mpRmOqVLzht9CoeAND6CSRQ\u001b[0m\u001b[32m'\u001b[0m\n",
       "    \u001b[1m]\u001b[0m,\n",
       "    \u001b[32m'image_link'\u001b[0m: \u001b[1m[\u001b[0m\n",
       "        \u001b[32m'https://imgur.com/5Pp3KmR.jpg'\u001b[0m,\n",
       "        \u001b[32m'https://imgur.com/u3XSwO9.jpg'\u001b[0m,\n",
       "        \u001b[32m'https://imgur.com/LbKBaau.jpg'\u001b[0m,\n",
       "        \u001b[32m'https://imgur.com/GMCfINQ.jpg'\u001b[0m,\n",
       "        \u001b[32m'https://imgur.com/gQRvw43.jpg'\u001b[0m,\n",
       "        \u001b[32m'https://imgur.com/gA1CzWr.jpg'\u001b[0m,\n",
       "        \u001b[32m'https://imgur.com/ZCxsjPa.jpg'\u001b[0m,\n",
       "        \u001b[32m'https://imgur.com/maa3Dpd.jpg'\u001b[0m,\n",
       "        \u001b[32m'https://imgur.com/jHQtjdW.jpg'\u001b[0m,\n",
       "        \u001b[32m'https://i.imgur.com/QOECp9q.jpg'\u001b[0m\n",
       "    \u001b[1m]\u001b[0m\n",
       "\u001b[1m}\u001b[0m\n"
      ]
     },
     "metadata": {},
     "output_type": "display_data"
    }
   ],
   "source": [
    "test = page_to_simple_dict(result.text)\n",
    "\n",
    "print(test)"
   ]
  },
  {
   "cell_type": "code",
   "execution_count": 79,
   "metadata": {},
   "outputs": [
    {
     "data": {
      "text/plain": [
       "['Sun', 'Jan', '1', '20:04:22', '2023']"
      ]
     },
     "execution_count": 79,
     "metadata": {},
     "output_type": "execute_result"
    }
   ],
   "source": [
    "string = \"Sun Jan  1 20:04:22 2023\"\n",
    "detail_date = string.split(\" \")\n",
    "detail_date.remove(\"\")\n",
    "detail_date"
   ]
  },
  {
   "cell_type": "code",
   "execution_count": 80,
   "metadata": {},
   "outputs": [
    {
     "data": {
      "text/plain": [
       "{'Year': '2023',\n",
       " 'Month': 'Jan',\n",
       " 'Date': '1',\n",
       " 'Week': 'Sun',\n",
       " 'Time': '20:04:22'}"
      ]
     },
     "execution_count": 80,
     "metadata": {},
     "output_type": "execute_result"
    }
   ],
   "source": [
    "{\n",
    "    \"Year\": detail_date[-1],\n",
    "    \"Month\": detail_date[1],\n",
    "    \"Date\": detail_date[2],\n",
    "    \"Week\": detail_date[0],\n",
    "    \"Time\": detail_date[-2],\n",
    "}"
   ]
  }
 ],
 "metadata": {
  "kernelspec": {
   "display_name": ".venv",
   "language": "python",
   "name": "python3"
  },
  "language_info": {
   "codemirror_mode": {
    "name": "ipython",
    "version": 3
   },
   "file_extension": ".py",
   "mimetype": "text/x-python",
   "name": "python",
   "nbconvert_exporter": "python",
   "pygments_lexer": "ipython3",
   "version": "3.10.4"
  }
 },
 "nbformat": 4,
 "nbformat_minor": 2
}
