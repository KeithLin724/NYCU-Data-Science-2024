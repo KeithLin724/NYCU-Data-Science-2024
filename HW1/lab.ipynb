{
 "cells": [
  {
   "cell_type": "code",
   "execution_count": 8,
   "metadata": {},
   "outputs": [],
   "source": [
    "import httpx\n",
    "from bs4 import BeautifulSoup\n",
    "\n",
    "url = \"https://www.ptt.cc/bbs/Beauty/M.1672503968.A.5B5.html\"\n",
    "header = {\"cookie\": \"over18=1\"}\n",
    "\n",
    "\n",
    "\n",
    "\n"
   ]
  },
  {
   "cell_type": "code",
   "execution_count": 4,
   "metadata": {},
   "outputs": [],
   "source": [
    "result = httpx.get(url=url, headers=header)"
   ]
  },
  {
   "cell_type": "code",
   "execution_count": 5,
   "metadata": {},
   "outputs": [
    {
     "name": "stdout",
     "output_type": "stream",
     "text": [
      "<!DOCTYPE html>\n",
      "<html>\n",
      "\t<head>\n",
      "\t\t<meta charset=\"utf-8\">\n",
      "\t\t\n",
      "\n",
      "<meta name=\"viewport\" content=\"width=device-width, initial-scale=1\">\n",
      "\n",
      "<title>[正妹] 周子瑜 - 看板 Beauty - 批踢踢實業坊</title>\n",
      "<meta name=\"robots\" content=\"all\">\n",
      "<meta name=\"keywords\" content=\"Ptt BBS 批踢踢\">\n",
      "<meta name=\"description\" content=\"https://i.imgur.com/BdmZ7Ps.jpg\n",
      "https://i.imgur.com/bBiw4IS.jpg\n",
      "https://i.imgur.com/KDmRgeg.jpg\n",
      "https://i.imgur.com/hRHpy8X.jpg\n",
      "https://i.imgur.com/P5rI8UM.jpg\n",
      "\">\n",
      "<meta property=\"og:site_name\" content=\"Ptt 批踢踢實業坊\">\n",
      "<meta property=\"og:title\" content=\"[正妹] 周子瑜\">\n",
      "<meta property=\"og:description\" content=\"https://i.imgur.com/BdmZ7Ps.jpg\n",
      "https://i.imgur.com/bBiw4IS.jpg\n",
      "https://i.imgur.com/KDmRgeg.jpg\n",
      "https://i.imgur.com/hRHpy8X.jpg\n",
      "https://i.imgur.com/P5rI8UM.jpg\n",
      "\">\n",
      "<link rel=\"canonical\" href=\"https://www.ptt.cc/bbs/Beauty/M.1672503968.A.5B5.html\">\n",
      "\n",
      "<link rel=\"stylesheet\" type=\"text/css\" href=\"//images.ptt.cc/bbs/v2.27/bbs-common.css\">\n",
      "<link rel=\"stylesheet\" type=\"text/css\" href=\"//images.ptt.cc/bbs/v2.27/bbs-base.css\" media=\"screen\">\n",
      "<link rel=\"stylesheet\" type=\"text/css\" href=\"//images.ptt.cc/bbs/v2.27/bbs-custom.css\">\n",
      "<link rel=\"stylesheet\" type=\"text/css\" href=\"//images.ptt.cc/bbs/v2.27/pushstream.css\" media=\"screen\">\n",
      "<link rel=\"stylesheet\" type=\"text/css\" href=\"//images.ptt.cc/bbs/v2.27/bbs-print.css\" media=\"print\">\n",
      "\n",
      "\n",
      "\n",
      "\n",
      "\t</head>\n",
      "    <body>\n",
      "\t\t\n",
      "<div id=\"topbar-container\">\n",
      "\t<div id=\"topbar\" class=\"bbs-content\">\n",
      "\t\t<a id=\"logo\" href=\"/bbs/\">批踢踢實業坊</a>\n",
      "\t\t<span>&rsaquo;</span>\n",
      "\t\t<a class=\"board\" href=\"/bbs/Beauty/index.html\"><span class=\"board-label\">看板 </span>Beauty</a>\n",
      "\t\t<a class=\"right small\" href=\"/about.html\">關於我們</a>\n",
      "\t\t<a class=\"right small\" href=\"/contact.html\">聯絡資訊</a>\n",
      "\t</div>\n",
      "</div>\n",
      "<div id=\"navigation-container\">\n",
      "\t<div id=\"navigation\" class=\"bbs-content\">\n",
      "\t\t<a class=\"board\" href=\"/bbs/Beauty/index.html\">返回看板</a>\n",
      "\t\t<div class=\"bar\"></div>\n",
      "\t</div>\n",
      "</div>\n",
      "<div id=\"main-container\">\n",
      "    <div id=\"main-content\" class=\"bbs-screen bbs-content\"><div class=\"article-metaline\"><span class=\"article-meta-tag\">作者</span><span class=\"article-meta-value\">ReiKuromiya (ReiKuromiya)</span></div><div class=\"article-metaline-right\"><span class=\"article-meta-tag\">看板</span><span class=\"article-meta-value\">Beauty</span></div><div class=\"article-metaline\"><span class=\"article-meta-tag\">標題</span><span class=\"article-meta-value\">[正妹] 周子瑜</span></div><div class=\"article-metaline\"><span class=\"article-meta-tag\">時間</span><span class=\"article-meta-value\">Sun Jan  1 00:26:06 2023</span></div>\n",
      "\n",
      "\n",
      "<a href=\"https://i.imgur.com/BdmZ7Ps.jpg\" target=\"_blank\" rel=\"noreferrer noopener nofollow\">https://i.imgur.com/BdmZ7Ps.jpg</a>\n",
      "<div class=\"richcontent\"><img src=\"https://cache.ptt.cc/c/https/i.imgur.com/BdmZ7Psl.jpg?e=1709157715&amp;s=inh-KJqCJJEBinpIeeiDGA\" alt=\"\" loading=\"lazy\" /></div><a href=\"https://i.imgur.com/bBiw4IS.jpg\" target=\"_blank\" rel=\"noreferrer noopener nofollow\">https://i.imgur.com/bBiw4IS.jpg</a>\n",
      "<div class=\"richcontent\"><img src=\"https://cache.ptt.cc/c/https/i.imgur.com/bBiw4ISl.jpg?e=1709126496&amp;s=7ZEmEVKlnpH-EU5Vb-deYA\" alt=\"\" loading=\"lazy\" /></div><a href=\"https://i.imgur.com/KDmRgeg.jpg\" target=\"_blank\" rel=\"noreferrer noopener nofollow\">https://i.imgur.com/KDmRgeg.jpg</a>\n",
      "<div class=\"richcontent\"><img src=\"https://cache.ptt.cc/c/https/i.imgur.com/KDmRgegl.jpg?e=1709130077&amp;s=iZwVe7lBLzclFMFym2pN2Q\" alt=\"\" loading=\"lazy\" /></div><a href=\"https://i.imgur.com/hRHpy8X.jpg\" target=\"_blank\" rel=\"noreferrer noopener nofollow\">https://i.imgur.com/hRHpy8X.jpg</a>\n",
      "<div class=\"richcontent\"><img src=\"https://cache.ptt.cc/c/https/i.imgur.com/hRHpy8Xl.jpg?e=1709125405&amp;s=4z6iHq860nfxsg_qP5LmEw\" alt=\"\" loading=\"lazy\" /></div><a href=\"https://i.imgur.com/P5rI8UM.jpg\" target=\"_blank\" rel=\"noreferrer noopener nofollow\">https://i.imgur.com/P5rI8UM.jpg</a>\n",
      "<div class=\"richcontent\"><img src=\"https://cache.ptt.cc/c/https/i.imgur.com/P5rI8UMl.jpg?e=1709122468&amp;s=cIcNFHDXxVhU2CYwO9SENw\" alt=\"\" loading=\"lazy\" /></div><a href=\"https://i.imgur.com/Uq0oG4E.jpg\" target=\"_blank\" rel=\"noreferrer noopener nofollow\">https://i.imgur.com/Uq0oG4E.jpg</a>\n",
      "<div class=\"richcontent\"><img src=\"https://cache.ptt.cc/c/https/i.imgur.com/Uq0oG4El.jpg?e=1709140667&amp;s=DRnJri5yhcAMn-qyo2-b4Q\" alt=\"\" loading=\"lazy\" /></div><a href=\"https://i.imgur.com/pPXBHuZ.jpg\" target=\"_blank\" rel=\"noreferrer noopener nofollow\">https://i.imgur.com/pPXBHuZ.jpg</a>\n",
      "<div class=\"richcontent\"><img src=\"https://cache.ptt.cc/c/https/i.imgur.com/pPXBHuZl.jpg?e=1709172593&amp;s=tukTAaudCGeS3tCRb9Eijg\" alt=\"\" loading=\"lazy\" /></div><a href=\"https://i.imgur.com/dFiDDhh.jpg\" target=\"_blank\" rel=\"noreferrer noopener nofollow\">https://i.imgur.com/dFiDDhh.jpg</a>\n",
      "<div class=\"richcontent\"><img src=\"https://cache.ptt.cc/c/https/i.imgur.com/dFiDDhl.jpg?e=1709171465&amp;s=EwXj0fOQeqq9moi4HlNYgw\" alt=\"\" loading=\"lazy\" /></div><a href=\"https://i.imgur.com/4N51HkQ.jpg\" target=\"_blank\" rel=\"noreferrer noopener nofollow\">https://i.imgur.com/4N51HkQ.jpg</a>\n",
      "<div class=\"richcontent\"><img src=\"https://cache.ptt.cc/c/https/i.imgur.com/4N51HkQl.jpg?e=1709146820&amp;s=wijCaT0szdse9Kpcir8fSw\" alt=\"\" loading=\"lazy\" /></div><a href=\"https://i.imgur.com/XPOailb.jpg\" target=\"_blank\" rel=\"noreferrer noopener nofollow\">https://i.imgur.com/XPOailb.jpg</a>\n",
      "<div class=\"richcontent\"><img src=\"https://cache.ptt.cc/c/https/i.imgur.com/XPOailbl.jpg?e=1709118953&amp;s=ZQDyq0ZETom9W6Hcwt4X4A\" alt=\"\" loading=\"lazy\" /></div>\n",
      "--\n",
      "<span class=\"f2\">※ 發信站: 批踢踢實業坊(ptt.cc), 來自: 49.216.189.86 (臺灣)\n",
      "</span><span class=\"f2\">※ 文章網址: <a href=\"https://www.ptt.cc/bbs/Beauty/M.1672503968.A.5B5.html\" target=\"_blank\" rel=\"noreferrer noopener nofollow\">https://www.ptt.cc/bbs/Beauty/M.1672503968.A.5B5.html</a>\n",
      "</span><div class=\"push\"><span class=\"hl push-tag\">推 </span><span class=\"f3 hl push-userid\">picachuln</span><span class=\"f3 push-content\">: 推</span><span class=\"push-ipdatetime\">   49.215.33.17 01/01 00:27\n",
      "</span></div><div class=\"push\"><span class=\"hl push-tag\">推 </span><span class=\"f3 hl push-userid\">qd6590</span><span class=\"f3 push-content\">: 超正推 樓下說很普</span><span class=\"push-ipdatetime\">  49.216.101.82 01/01 00:28\n",
      "</span></div><div class=\"push\"><span class=\"hl push-tag\">推 </span><span class=\"f3 hl push-userid\">Dogman7788</span><span class=\"f3 push-content\">: 長大了</span><span class=\"push-ipdatetime\"> 111.248.97.227 01/01 00:29\n",
      "</span></div><div class=\"push\"><span class=\"hl push-tag\">推 </span><span class=\"f3 hl push-userid\">michael0419</span><span class=\"f3 push-content\">: 難得露溝</span><span class=\"push-ipdatetime\">   49.216.53.99 01/01 00:29\n",
      "</span></div><div class=\"push\"><span class=\"hl push-tag\">推 </span><span class=\"f3 hl push-userid\">phrita</span><span class=\"f3 push-content\">: 長大了</span><span class=\"push-ipdatetime\"> 122.121.226.81 01/01 00:29\n",
      "</span></div><div class=\"push\"><span class=\"hl push-tag\">推 </span><span class=\"f3 hl push-userid\">lindada78</span><span class=\"f3 push-content\">: 推</span><span class=\"push-ipdatetime\">  223.136.62.37 01/01 00:33\n",
      "</span></div><div class=\"push\"><span class=\"hl push-tag\">推 </span><span class=\"f3 hl push-userid\">Krishna</span><span class=\"f3 push-content\">: 噫~~蓋高尚</span><span class=\"push-ipdatetime\"> 123.193.251.73 01/01 00:33\n",
      "</span></div><div class=\"push\"><span class=\"hl push-tag\">推 </span><span class=\"f3 hl push-userid\">Ashen19</span><span class=\"f3 push-content\">: 子子推推</span><span class=\"push-ipdatetime\"> 27.247.133.110 01/01 00:37\n",
      "</span></div><div class=\"push\"><span class=\"hl push-tag\">推 </span><span class=\"f3 hl push-userid\">yitingted</span><span class=\"f3 push-content\">: 呵 長大了</span><span class=\"push-ipdatetime\">  101.10.97.182 01/01 00:38\n",
      "</span></div><div class=\"push\"><span class=\"hl push-tag\">推 </span><span class=\"f3 hl push-userid\">ryu634</span><span class=\"f3 push-content\">: 讚！</span><span class=\"push-ipdatetime\">  36.226.121.85 01/01 00:38\n",
      "</span></div><div class=\"push\"><span class=\"hl push-tag\">推 </span><span class=\"f3 hl push-userid\">pickoff</span><span class=\"f3 push-content\">: 超正</span><span class=\"push-ipdatetime\">   61.227.8.183 01/01 00:44\n",
      "</span></div><div class=\"push\"><span class=\"hl push-tag\">推 </span><span class=\"f3 hl push-userid\">A13589641</span><span class=\"f3 push-content\">: 老婆</span><span class=\"push-ipdatetime\">  36.231.215.24 01/01 00:46\n",
      "</span></div><div class=\"push\"><span class=\"hl push-tag\">推 </span><span class=\"f3 hl push-userid\">asxc530530</span><span class=\"f3 push-content\">: 讚讚</span><span class=\"push-ipdatetime\"> 36.238.122.100 01/01 00:52\n",
      "</span></div><div class=\"push\"><span class=\"hl push-tag\">推 </span><span class=\"f3 hl push-userid\">FatFatQQ</span><span class=\"f3 push-content\">: 孑孓賣溝</span><span class=\"push-ipdatetime\">  59.115.76.202 01/01 00:53\n",
      "</span></div><div class=\"push\"><span class=\"hl push-tag\">推 </span><span class=\"f3 hl push-userid\">harry155007</span><span class=\"f3 push-content\">: 是不是變大了</span><span class=\"push-ipdatetime\"> 59.125.101.239 01/01 00:53\n",
      "</span></div><div class=\"push\"><span class=\"f1 hl push-tag\">→ </span><span class=\"f3 hl push-userid\">supereva</span><span class=\"f3 push-content\">: 她太瘦了  臉沒肉眼睛又特別大</span><span class=\"push-ipdatetime\"> 27.242.231.123 01/01 00:55\n",
      "</span></div><div class=\"push\"><span class=\"hl push-tag\">推 </span><span class=\"f3 hl push-userid\">aweiiiiii</span><span class=\"f3 push-content\">: 彩瑛 多賢我婆</span><span class=\"push-ipdatetime\"> 36.238.150.140 01/01 00:56\n",
      "</span></div><div class=\"push\"><span class=\"hl push-tag\">推 </span><span class=\"f3 hl push-userid\">ankai</span><span class=\"f3 push-content\">: 我好了</span><span class=\"push-ipdatetime\">  218.35.219.55 01/01 01:00\n",
      "</span></div><div class=\"push\"><span class=\"hl push-tag\">推 </span><span class=\"f3 hl push-userid\">popptt</span><span class=\"f3 push-content\">: 喔喔喔喔喔喔喔讚讚讚</span><span class=\"push-ipdatetime\">  1.171.190.251 01/01 01:06\n",
      "</span></div><div class=\"push\"><span class=\"hl push-tag\">推 </span><span class=\"f3 hl push-userid\">LoserLee</span><span class=\"f3 push-content\">: 居然開始露溝了 真香</span><span class=\"push-ipdatetime\">  114.42.19.227 01/01 01:10\n",
      "</span></div><div class=\"push\"><span class=\"hl push-tag\">推 </span><span class=\"f3 hl push-userid\">z030060374</span><span class=\"f3 push-content\">: 我老婆不願上表特</span><span class=\"push-ipdatetime\">223.139.153.145 01/01 01:13\n",
      "</span></div><div class=\"push\"><span class=\"hl push-tag\">推 </span><span class=\"f3 hl push-userid\">zvx911</span><span class=\"f3 push-content\">: 長大了！</span><span class=\"push-ipdatetime\">   61.61.78.245 01/01 01:17\n",
      "</span></div><div class=\"push\"><span class=\"f1 hl push-tag\">→ </span><span class=\"f3 hl push-userid\">lalacos123</span><span class=\"f3 push-content\">: 小又I字 擠的啊</span><span class=\"push-ipdatetime\">111.253.160.202 01/01 01:26\n",
      "</span></div><div class=\"push\"><span class=\"hl push-tag\">推 </span><span class=\"f3 hl push-userid\">RayParker33</span><span class=\"f3 push-content\">: 小仙女</span><span class=\"push-ipdatetime\">180.176.189.180 01/01 01:31\n",
      "</span></div><div class=\"push\"><span class=\"f1 hl push-tag\">噓 </span><span class=\"f3 hl push-userid\">aaaflutist</span><span class=\"f3 push-content\">: 那一個是子魚？</span><span class=\"push-ipdatetime\">     61.61.9.43 01/01 01:31\n",
      "</span></div><div class=\"push\"><span class=\"hl push-tag\">推 </span><span class=\"f3 hl push-userid\">MapleLiu</span><span class=\"f3 push-content\">: 子瑜先推</span><span class=\"push-ipdatetime\">  223.138.2.112 01/01 01:32\n",
      "</span></div><div class=\"push\"><span class=\"hl push-tag\">推 </span><span class=\"f3 hl push-userid\">ericfankc</span><span class=\"f3 push-content\">: 推爆</span><span class=\"push-ipdatetime\">  111.255.11.65 01/01 01:41\n",
      "</span></div><div class=\"push\"><span class=\"hl push-tag\">推 </span><span class=\"f3 hl push-userid\">Dubufan0528</span><span class=\"f3 push-content\">: 讚喔</span><span class=\"push-ipdatetime\">   39.10.33.195 01/01 01:41\n",
      "</span></div><div class=\"push\"><span class=\"hl push-tag\">推 </span><span class=\"f3 hl push-userid\">STRO</span><span class=\"f3 push-content\">: 美</span><span class=\"push-ipdatetime\">    27.51.33.56 01/01 01:46\n",
      "</span></div><div class=\"push\"><span class=\"hl push-tag\">推 </span><span class=\"f3 hl push-userid\">nanachi</span><span class=\"f3 push-content\">: 推 不過這次志效真的猛</span><span class=\"push-ipdatetime\">223.136.177.124 01/01 01:46\n",
      "</span></div><div class=\"push\"><span class=\"hl push-tag\">推 </span><span class=\"f3 hl push-userid\">fidelity77</span><span class=\"f3 push-content\">: 長大了...</span><span class=\"push-ipdatetime\">  27.242.124.20 01/01 01:49\n",
      "</span></div><div class=\"push\"><span class=\"f1 hl push-tag\">→ </span><span class=\"f3 hl push-userid\">chill247</span><span class=\"f3 push-content\">: 啊 長大啦</span><span class=\"push-ipdatetime\">  106.64.122.51 01/01 02:02\n",
      "</span></div><div class=\"push\"><span class=\"hl push-tag\">推 </span><span class=\"f3 hl push-userid\">ji3g4zo4bp6</span><span class=\"f3 push-content\">: 推</span><span class=\"push-ipdatetime\">    42.72.41.68 01/01 02:11\n",
      "</span></div><div class=\"push\"><span class=\"hl push-tag\">推 </span><span class=\"f3 hl push-userid\">jefflin0824</span><span class=\"f3 push-content\">: 推</span><span class=\"push-ipdatetime\">   1.200.77.118 01/01 02:19\n",
      "</span></div><div class=\"push\"><span class=\"f1 hl push-tag\">噓 </span><span class=\"f3 hl push-userid\">gen001</span><span class=\"f3 push-content\">: 好醜的妝</span><span class=\"push-ipdatetime\">  27.242.100.18 01/01 02:21\n",
      "</span></div><div class=\"push\"><span class=\"hl push-tag\">推 </span><span class=\"f3 hl push-userid\">GoldOnion</span><span class=\"f3 push-content\">: 推</span><span class=\"push-ipdatetime\">    101.9.32.63 01/01 02:25\n",
      "</span></div><div class=\"push\"><span class=\"f1 hl push-tag\">→ </span><span class=\"f3 hl push-userid\">triplekiller</span><span class=\"f3 push-content\">: 35歲？</span><span class=\"push-ipdatetime\">   1.200.152.15 01/01 02:31\n",
      "</span></div><div class=\"push\"><span class=\"f1 hl push-tag\">噓 </span><span class=\"f3 hl push-userid\">donotgiveup</span><span class=\"f3 push-content\">: +9妹差不多都這樣</span><span class=\"push-ipdatetime\">  114.25.134.41 01/01 02:33\n",
      "</span></div><div class=\"push\"><span class=\"f1 hl push-tag\">→ </span><span class=\"f3 hl push-userid\">rrgfe</span><span class=\"f3 push-content\">: 最近很愛露奶</span><span class=\"push-ipdatetime\">  1.162.171.184 01/01 03:03\n",
      "</span></div><div class=\"push\"><span class=\"hl push-tag\">推 </span><span class=\"f3 hl push-userid\">cowboycombo</span><span class=\"f3 push-content\">: 有料</span><span class=\"push-ipdatetime\">  223.141.9.148 01/01 03:08\n",
      "</span></div><div class=\"push\"><span class=\"hl push-tag\">推 </span><span class=\"f3 hl push-userid\">ROMEOCACKER</span><span class=\"f3 push-content\">: 來推子子</span><span class=\"push-ipdatetime\">  36.239.44.105 01/01 03:08\n",
      "</span></div><div class=\"push\"><span class=\"hl push-tag\">推 </span><span class=\"f3 hl push-userid\">AhCheng</span><span class=\"f3 push-content\">: 老婆好漂亮</span><span class=\"push-ipdatetime\">  111.253.8.250 01/01 03:17\n",
      "</span></div><div class=\"push\"><span class=\"hl push-tag\">推 </span><span class=\"f3 hl push-userid\">angie668492</span><span class=\"f3 push-content\">: 推</span><span class=\"push-ipdatetime\">101.137.104.194 01/01 04:03\n",
      "</span></div><div class=\"push\"><span class=\"hl push-tag\">推 </span><span class=\"f3 hl push-userid\">Corydoras</span><span class=\"f3 push-content\">: 溝 推</span><span class=\"push-ipdatetime\">118.165.181.182 01/01 04:26\n",
      "</span></div><div class=\"push\"><span class=\"hl push-tag\">推 </span><span class=\"f3 hl push-userid\">Kemin666</span><span class=\"f3 push-content\">: 真香</span><span class=\"push-ipdatetime\">   36.234.41.21 01/01 04:38\n",
      "</span></div><div class=\"push\"><span class=\"hl push-tag\">推 </span><span class=\"f3 hl push-userid\">rancheng</span><span class=\"f3 push-content\">: 長大了</span><span class=\"push-ipdatetime\">    42.73.27.63 01/01 06:05\n",
      "</span></div><div class=\"push\"><span class=\"hl push-tag\">推 </span><span class=\"f3 hl push-userid\">johnwu</span><span class=\"f3 push-content\">: 子瑜好棒棒~讚</span><span class=\"push-ipdatetime\"> 123.195.122.52 01/01 06:18\n",
      "</span></div><div class=\"push\"><span class=\"hl push-tag\">推 </span><span class=\"f3 hl push-userid\">abc6266260</span><span class=\"f3 push-content\">: 大子瑜</span><span class=\"push-ipdatetime\">   39.15.41.243 01/01 06:23\n",
      "</span></div><div class=\"push\"><span class=\"hl push-tag\">推 </span><span class=\"f3 hl push-userid\">jeff520</span><span class=\"f3 push-content\">: 推</span><span class=\"push-ipdatetime\"> 118.170.42.172 01/01 07:01\n",
      "</span></div><div class=\"push\"><span class=\"hl push-tag\">推 </span><span class=\"f3 hl push-userid\">gm3252</span><span class=\"f3 push-content\">: 推</span><span class=\"push-ipdatetime\">   42.79.126.30 01/01 07:08\n",
      "</span></div><div class=\"push\"><span class=\"hl push-tag\">推 </span><span class=\"f3 hl push-userid\">a0930192264</span><span class=\"f3 push-content\">: 多了份成熟感</span><span class=\"push-ipdatetime\">  114.40.66.110 01/01 07:30\n",
      "</span></div><div class=\"push\"><span class=\"hl push-tag\">推 </span><span class=\"f3 hl push-userid\">q9154336</span><span class=\"f3 push-content\">: ok</span><span class=\"push-ipdatetime\">  101.12.51.217 01/01 08:11\n",
      "</span></div><div class=\"push\"><span class=\"f1 hl push-tag\">噓 </span><span class=\"f3 hl push-userid\">liuhan</span><span class=\"f3 push-content\">: 仙氣沒有了 變老妹一枚</span><span class=\"push-ipdatetime\">114.136.166.136 01/01 08:16\n",
      "</span></div><div class=\"push\"><span class=\"hl push-tag\">推 </span><span class=\"f3 hl push-userid\">CYJLamigo52</span><span class=\"f3 push-content\">: 我愛子瑜&gt;_&lt;</span><span class=\"push-ipdatetime\">180.217.216.240 01/01 08:18\n",
      "</span></div><div class=\"push\"><span class=\"hl push-tag\">推 </span><span class=\"f3 hl push-userid\">zxc123519</span><span class=\"f3 push-content\">: 怎麼氣質越來越像林襄了..</span><span class=\"push-ipdatetime\">  61.224.48.118 01/01 08:31\n",
      "</span></div><div class=\"push\"><span class=\"hl push-tag\">推 </span><span class=\"f3 hl push-userid\">paulsama</span><span class=\"f3 push-content\">: 真美，長大了</span><span class=\"push-ipdatetime\"> 59.115.184.158 01/01 08:36\n",
      "</span></div><div class=\"push\"><span class=\"hl push-tag\">推 </span><span class=\"f3 hl push-userid\">justlee</span><span class=\"f3 push-content\">: 推</span><span class=\"push-ipdatetime\">   42.74.85.114 01/01 09:32\n",
      "</span></div><div class=\"push\"><span class=\"hl push-tag\">推 </span><span class=\"f3 hl push-userid\">andrew06</span><span class=\"f3 push-content\">: 推子瑜</span><span class=\"push-ipdatetime\">   68.9.222.202 01/01 09:46\n",
      "</span></div><div class=\"push\"><span class=\"hl push-tag\">推 </span><span class=\"f3 hl push-userid\">HaiirotoAo</span><span class=\"f3 push-content\">: 好大</span><span class=\"push-ipdatetime\">   59.115.3.165 01/01 09:51\n",
      "</span></div><div class=\"push\"><span class=\"hl push-tag\">推 </span><span class=\"f3 hl push-userid\">ia220629</span><span class=\"f3 push-content\">: 還是正到爆</span><span class=\"push-ipdatetime\">  111.82.176.22 01/01 09:56\n",
      "</span></div><div class=\"push\"><span class=\"f1 hl push-tag\">→ </span><span class=\"f3 hl push-userid\">theclgy2001</span><span class=\"f3 push-content\">: 時間是把殺豬刀…. 難怪二馬拼了命都</span><span class=\"push-ipdatetime\"> 220.129.185.95 01/01 10:02\n",
      "</span></div><div class=\"push\"><span class=\"f1 hl push-tag\">→ </span><span class=\"f3 hl push-userid\">theclgy2001</span><span class=\"f3 push-content\">: 想現在進演藝圈撈錢</span><span class=\"push-ipdatetime\"> 220.129.185.95 01/01 10:03\n",
      "</span></div><div class=\"push\"><span class=\"hl push-tag\">推 </span><span class=\"f3 hl push-userid\">tse651155</span><span class=\"f3 push-content\">: 林襄XDDD</span><span class=\"push-ipdatetime\">   1.144.18.150 01/01 10:03\n",
      "</span></div><div class=\"push\"><span class=\"f1 hl push-tag\">→ </span><span class=\"f3 hl push-userid\">syensyens</span><span class=\"f3 push-content\">: 老惹</span><span class=\"push-ipdatetime\">   1.200.64.135 01/01 10:11\n",
      "</span></div><div class=\"push\"><span class=\"hl push-tag\">推 </span><span class=\"f3 hl push-userid\">abellea85209</span><span class=\"f3 push-content\">: 推子瑜</span><span class=\"push-ipdatetime\"> 118.161.33.173 01/01 10:14\n",
      "</span></div><div class=\"push\"><span class=\"hl push-tag\">推 </span><span class=\"f3 hl push-userid\">reich3</span><span class=\"f3 push-content\">: 江山代代佳人出</span><span class=\"push-ipdatetime\">  42.72.200.236 01/01 10:27\n",
      "</span></div><div class=\"push\"><span class=\"hl push-tag\">推 </span><span class=\"f3 hl push-userid\">NK20000</span><span class=\"f3 push-content\">: 推推</span><span class=\"push-ipdatetime\">  42.75.143.245 01/01 10:51\n",
      "</span></div><div class=\"push\"><span class=\"hl push-tag\">推 </span><span class=\"f3 hl push-userid\">sshark</span><span class=\"f3 push-content\">: 推推</span><span class=\"push-ipdatetime\">  223.138.56.92 01/01 11:17\n",
      "</span></div><div class=\"push\"><span class=\"hl push-tag\">推 </span><span class=\"f3 hl push-userid\">new122851</span><span class=\"f3 push-content\">: 王思佳</span><span class=\"push-ipdatetime\">   1.160.79.248 01/01 11:20\n",
      "</span></div><div class=\"push\"><span class=\"hl push-tag\">推 </span><span class=\"f3 hl push-userid\">rock8655</span><span class=\"f3 push-content\">: 太誇張了</span><span class=\"push-ipdatetime\">  180.217.22.17 01/01 11:29\n",
      "</span></div><div class=\"push\"><span class=\"f1 hl push-tag\">→ </span><span class=\"f3 hl push-userid\">glion</span><span class=\"f3 push-content\">: 真的就是…各種長大了</span><span class=\"push-ipdatetime\">223.140.115.170 01/01 12:00\n",
      "</span></div><div class=\"push\"><span class=\"f1 hl push-tag\">→ </span><span class=\"f3 hl push-userid\">sck3612575</span><span class=\"f3 push-content\">: 裡面怎麼混了一個胖子</span><span class=\"push-ipdatetime\">220.136.204.202 01/01 12:12\n",
      "</span></div><div class=\"push\"><span class=\"f1 hl push-tag\">噓 </span><span class=\"f3 hl push-userid\">ptckimo</span><span class=\"f3 push-content\">: 同38樓</span><span class=\"push-ipdatetime\"> 114.24.204.189 01/01 12:18\n",
      "</span></div><div class=\"push\"><span class=\"hl push-tag\">推 </span><span class=\"f3 hl push-userid\">escobar006</span><span class=\"f3 push-content\">: 推，但不知到該說什麼...</span><span class=\"push-ipdatetime\">223.136.251.224 01/01 12:31\n",
      "</span></div><div class=\"push\"><span class=\"hl push-tag\">推 </span><span class=\"f3 hl push-userid\">yaes111</span><span class=\"f3 push-content\">: 我幫她謝謝各位</span><span class=\"push-ipdatetime\">  42.77.255.197 01/01 12:46\n",
      "</span></div><div class=\"push\"><span class=\"hl push-tag\">推 </span><span class=\"f3 hl push-userid\">keler</span><span class=\"f3 push-content\">: 塑</span><span class=\"push-ipdatetime\">123.194.158.132 01/01 12:58\n",
      "</span></div><div class=\"push\"><span class=\"f1 hl push-tag\">→ </span><span class=\"f3 hl push-userid\">logic886</span><span class=\"f3 push-content\">: 以前比較好</span><span class=\"push-ipdatetime\">  1.200.123.108 01/01 13:17\n",
      "</span></div><div class=\"push\"><span class=\"f1 hl push-tag\">→ </span><span class=\"f3 hl push-userid\">Zzzip</span><span class=\"f3 push-content\">: 東南亞的感覺</span><span class=\"push-ipdatetime\">    42.72.255.1 01/01 14:08\n",
      "</span></div><div class=\"push\"><span class=\"hl push-tag\">推 </span><span class=\"f3 hl push-userid\">wwf1588</span><span class=\"f3 push-content\">: 正</span><span class=\"push-ipdatetime\"> 101.137.183.53 01/01 14:46\n",
      "</span></div><div class=\"push\"><span class=\"hl push-tag\">推 </span><span class=\"f3 hl push-userid\">winteryoyo</span><span class=\"f3 push-content\">: 應該有D</span><span class=\"push-ipdatetime\">  114.46.61.234 01/01 14:57\n",
      "</span></div><div class=\"push\"><span class=\"hl push-tag\">推 </span><span class=\"f3 hl push-userid\">adamlovedogc</span><span class=\"f3 push-content\">: 我不會背棄老婆的</span><span class=\"push-ipdatetime\">  36.230.221.68 01/01 14:58\n",
      "</span></div><div class=\"push\"><span class=\"hl push-tag\">推 </span><span class=\"f3 hl push-userid\">homhomhom</span><span class=\"f3 push-content\">: 媽椰可愛死</span><span class=\"push-ipdatetime\"> 180.217.114.91 01/01 15:16\n",
      "</span></div><div class=\"push\"><span class=\"hl push-tag\">推 </span><span class=\"f3 hl push-userid\">pikachu0502</span><span class=\"f3 push-content\">: 熟了 味道出來了 好香</span><span class=\"push-ipdatetime\"> 180.177.13.178 01/01 15:45\n",
      "</span></div><div class=\"push\"><span class=\"hl push-tag\">推 </span><span class=\"f3 hl push-userid\">zoids2504</span><span class=\"f3 push-content\">: 子瑜就是太小了，不然就很棒了</span><span class=\"push-ipdatetime\">180.217.213.187 01/01 16:12\n",
      "</span></div><div class=\"push\"><span class=\"hl push-tag\">推 </span><span class=\"f3 hl push-userid\">moth543</span><span class=\"f3 push-content\">: 漂亮</span><span class=\"push-ipdatetime\">  111.249.30.87 01/01 17:53\n",
      "</span></div><div class=\"push\"><span class=\"hl push-tag\">推 </span><span class=\"f3 hl push-userid\">billy4305</span><span class=\"f3 push-content\">: 子瑜越來越漂亮了</span><span class=\"push-ipdatetime\">111.235.230.153 01/01 18:07\n",
      "</span></div><div class=\"push\"><span class=\"f1 hl push-tag\">→ </span><span class=\"f3 hl push-userid\">orange7986</span><span class=\"f3 push-content\">: 長大了</span><span class=\"push-ipdatetime\">  42.77.194.240 01/01 18:15\n",
      "</span></div><div class=\"push\"><span class=\"hl push-tag\">推 </span><span class=\"f3 hl push-userid\">israelii</span><span class=\"f3 push-content\">: 以前黑髮比較好看</span><span class=\"push-ipdatetime\">  180.217.36.30 01/01 18:43\n",
      "</span></div><div class=\"push\"><span class=\"hl push-tag\">推 </span><span class=\"f3 hl push-userid\">asdfg5435</span><span class=\"f3 push-content\">: 長大了</span><span class=\"push-ipdatetime\">   36.227.1.142 01/01 20:09\n",
      "</span></div><div class=\"push\"><span class=\"hl push-tag\">推 </span><span class=\"f3 hl push-userid\">feathery</span><span class=\"f3 push-content\">: 小才好，很大就沒氣質了</span><span class=\"push-ipdatetime\">    61.61.94.59 01/01 22:59\n",
      "</span></div><div class=\"push\"><span class=\"hl push-tag\">推 </span><span class=\"f3 hl push-userid\">SDKSDKSDK</span><span class=\"f3 push-content\">: 超正</span><span class=\"push-ipdatetime\"> 36.236.195.134 01/01 23:18\n",
      "</span></div><div class=\"push\"><span class=\"f1 hl push-tag\">→ </span><span class=\"f3 hl push-userid\">jetcheng</span><span class=\"f3 push-content\">: 子瑜過譽了</span><span class=\"push-ipdatetime\">123.194.157.122 01/02 01:50\n",
      "</span></div><div class=\"push\"><span class=\"hl push-tag\">推 </span><span class=\"f3 hl push-userid\">jack0216</span><span class=\"f3 push-content\">: 人很正 但妝不好看</span><span class=\"push-ipdatetime\"> 154.73.165.169 01/02 04:46\n",
      "</span></div><div class=\"push\"><span class=\"f1 hl push-tag\">噓 </span><span class=\"f3 hl push-userid\">SakuraHana</span><span class=\"f3 push-content\">: 自從她跑去沾政治就討厭她</span><span class=\"push-ipdatetime\">220.129.170.148 01/02 10:32\n",
      "</span></div><div class=\"push\"><span class=\"f1 hl push-tag\">→ </span><span class=\"f3 hl push-userid\">d06</span><span class=\"f3 push-content\">: 依舊讚</span><span class=\"push-ipdatetime\">   58.26.140.38 01/02 16:18\n",
      "</span></div><div class=\"push\"><span class=\"hl push-tag\">推 </span><span class=\"f3 hl push-userid\">best0811</span><span class=\"f3 push-content\">: 過鹹水的+9妹</span><span class=\"push-ipdatetime\">  122.118.37.57 01/03 05:57\n",
      "</span></div><div class=\"push\"><span class=\"f1 hl push-tag\">→ </span><span class=\"f3 hl push-userid\">angel801109</span><span class=\"f3 push-content\">: 推</span><span class=\"push-ipdatetime\">   211.22.178.8 01/03 13:31\n",
      "</span></div><div class=\"push\"><span class=\"f1 hl push-tag\">噓 </span><span class=\"f3 hl push-userid\">yushenglu</span><span class=\"f3 push-content\">: +9象腿中國人?</span><span class=\"push-ipdatetime\"> 111.82.138.116 01/04 04:05\n",
      "</span></div><div class=\"push\"><span class=\"hl push-tag\">推 </span><span class=\"f3 hl push-userid\">smonke</span><span class=\"f3 push-content\">: 有溝誠意推~</span><span class=\"push-ipdatetime\">  1.164.244.128 01/04 10:37\n",
      "</span></div><div class=\"push\"><span class=\"hl push-tag\">推 </span><span class=\"f3 hl push-userid\">lovemoon1011</span><span class=\"f3 push-content\">: 二次發育？</span><span class=\"push-ipdatetime\">   112.78.95.90 01/05 00:48\n",
      "</span></div><div class=\"push\"><span class=\"f1 hl push-tag\">→ </span><span class=\"f3 hl push-userid\">JyouItsu</span><span class=\"f3 push-content\">: 已經成路人了</span><span class=\"push-ipdatetime\"> 182.233.34.159 01/06 16:21\n",
      "</span></div><div class=\"push\"><span class=\"hl push-tag\">推 </span><span class=\"f3 hl push-userid\">qazz2214</span><span class=\"f3 push-content\">: 推！</span><span class=\"push-ipdatetime\"> 180.217.16.134 02/02 21:38\n",
      "</span></div><div class=\"push\"><span class=\"hl push-tag\">推 </span><span class=\"f3 hl push-userid\">champagne</span><span class=\"f3 push-content\">: 妝太濃</span><span class=\"push-ipdatetime\">  49.216.26.147 03/15 20:26\n",
      "</span></div></div>\n",
      "    \n",
      "    <div id=\"article-polling\" data-pollurl=\"/poll/Beauty/M.1672503968.A.5B5.html?cacheKey=2148-617070669&amp;offset=11056&amp;offset-sig=b0b0a6c4a4fbfb21b8b6d9b18f5c5645a6c16a37\" data-longpollurl=\"/v1/longpoll?id=5e13c5f33c33e9928e390a88057f2765c7603f26\" data-offset=\"11056\"></div>\n",
      "    \n",
      "\n",
      "    \n",
      "<div class=\"bbs-screen bbs-footer-message\">本網站已依台灣網站內容分級規定處理。此區域為限制級，未滿十八歲者不得瀏覽。</div>\n",
      "\n",
      "</div>\n",
      "\n",
      "\t\t\n",
      "\n",
      "\n",
      "\n",
      "<script async src=\"https://www.googletagmanager.com/gtag/js?id=G-DZ6Y3BY9GW\"></script>\n",
      "<script>\n",
      "      window.dataLayer = window.dataLayer || [];\n",
      "      function gtag(){dataLayer.push(arguments);}\n",
      "      gtag('js', new Date());\n",
      "\n",
      "      gtag('config', 'G-DZ6Y3BY9GW');\n",
      "</script>\n",
      "<script>\n",
      "  (function(i,s,o,g,r,a,m){i['GoogleAnalyticsObject']=r;i[r]=i[r]||function(){\n",
      "  (i[r].q=i[r].q||[]).push(arguments)},i[r].l=1*new Date();a=s.createElement(o),\n",
      "  m=s.getElementsByTagName(o)[0];a.async=1;a.src=g;m.parentNode.insertBefore(a,m)\n",
      "  })(window,document,'script','https://www.google-analytics.com/analytics.js','ga');\n",
      "\n",
      "  ga('create', 'UA-32365737-1', {\n",
      "    cookieDomain: 'ptt.cc',\n",
      "    legacyCookieDomain: 'ptt.cc'\n",
      "  });\n",
      "  ga('send', 'pageview');\n",
      "</script>\n",
      "\n",
      "\n",
      "\t\t\n",
      "<script src=\"//ajax.googleapis.com/ajax/libs/jquery/2.1.1/jquery.min.js\"></script>\n",
      "<script src=\"//images.ptt.cc/bbs/v2.27/bbs.js\"></script>\n",
      "\n",
      "    <script defer src=\"https://static.cloudflareinsights.com/beacon.min.js/v84a3a4012de94ce1a686ba8c167c359c1696973893317\" integrity=\"sha512-euoFGowhlaLqXsPWQ48qSkBSCFs3DPRyiwVu3FjR96cMPx+Fr+gpWRhIafcHwqwCqWS42RZhIudOvEI+Ckf6MA==\" data-cf-beacon='{\"rayId\":\"85beccb13cce04df\",\"version\":\"2024.2.1\",\"r\":1,\"token\":\"515615eb5fab4c9b91a11e9bf529e6cf\",\"b\":1}' crossorigin=\"anonymous\"></script>\n",
      "</body>\n",
      "</html>\n",
      "\n"
     ]
    }
   ],
   "source": [
    "with open(\"sample.html\", mode=\"w\", encoding=\"utf-8\") as f:\n",
    "    f.writelines(str(result.text))\n",
    "\n",
    "print(result.text)"
   ]
  },
  {
   "cell_type": "code",
   "execution_count": 26,
   "metadata": {},
   "outputs": [],
   "source": [
    "soup = BeautifulSoup(result.text , 'html.parser')"
   ]
  },
  {
   "cell_type": "code",
   "execution_count": 27,
   "metadata": {},
   "outputs": [
    {
     "data": {
      "text/plain": [
       "<title>[正妹] 周子瑜 - 看板 Beauty - 批踢踢實業坊</title>"
      ]
     },
     "execution_count": 27,
     "metadata": {},
     "output_type": "execute_result"
    }
   ],
   "source": [
    "soup.title"
   ]
  },
  {
   "cell_type": "code",
   "execution_count": 28,
   "metadata": {},
   "outputs": [
    {
     "data": {
      "text/plain": [
       "'[正妹] 周子瑜 - 看板 Beauty - 批踢踢實業坊'"
      ]
     },
     "execution_count": 28,
     "metadata": {},
     "output_type": "execute_result"
    }
   ],
   "source": [
    "soup.title.string"
   ]
  },
  {
   "cell_type": "code",
   "execution_count": 29,
   "metadata": {},
   "outputs": [],
   "source": [
    "res = soup.find_all(\"div\" , class_=\"bbs-content\")"
   ]
  },
  {
   "cell_type": "code",
   "execution_count": 33,
   "metadata": {},
   "outputs": [],
   "source": [
    "body_data = soup.find(\"div\" , class_=\"bbs-screen bbs-content\" ,id=\"main-content\")"
   ]
  },
  {
   "cell_type": "code",
   "execution_count": 34,
   "metadata": {},
   "outputs": [
    {
     "data": {
      "text/plain": [
       "<div class=\"bbs-screen bbs-content\" id=\"main-content\"><div class=\"article-metaline\"><span class=\"article-meta-tag\">作者</span><span class=\"article-meta-value\">ReiKuromiya (ReiKuromiya)</span></div><div class=\"article-metaline-right\"><span class=\"article-meta-tag\">看板</span><span class=\"article-meta-value\">Beauty</span></div><div class=\"article-metaline\"><span class=\"article-meta-tag\">標題</span><span class=\"article-meta-value\">[正妹] 周子瑜</span></div><div class=\"article-metaline\"><span class=\"article-meta-tag\">時間</span><span class=\"article-meta-value\">Sun Jan  1 00:26:06 2023</span></div>\n",
       "<a href=\"https://i.imgur.com/BdmZ7Ps.jpg\" rel=\"noreferrer noopener nofollow\" target=\"_blank\">https://i.imgur.com/BdmZ7Ps.jpg</a>\n",
       "<div class=\"richcontent\"><img alt=\"\" loading=\"lazy\" src=\"https://cache.ptt.cc/c/https/i.imgur.com/BdmZ7Psl.jpg?e=1709157715&amp;s=inh-KJqCJJEBinpIeeiDGA\"/></div><a href=\"https://i.imgur.com/bBiw4IS.jpg\" rel=\"noreferrer noopener nofollow\" target=\"_blank\">https://i.imgur.com/bBiw4IS.jpg</a>\n",
       "<div class=\"richcontent\"><img alt=\"\" loading=\"lazy\" src=\"https://cache.ptt.cc/c/https/i.imgur.com/bBiw4ISl.jpg?e=1709126496&amp;s=7ZEmEVKlnpH-EU5Vb-deYA\"/></div><a href=\"https://i.imgur.com/KDmRgeg.jpg\" rel=\"noreferrer noopener nofollow\" target=\"_blank\">https://i.imgur.com/KDmRgeg.jpg</a>\n",
       "<div class=\"richcontent\"><img alt=\"\" loading=\"lazy\" src=\"https://cache.ptt.cc/c/https/i.imgur.com/KDmRgegl.jpg?e=1709130077&amp;s=iZwVe7lBLzclFMFym2pN2Q\"/></div><a href=\"https://i.imgur.com/hRHpy8X.jpg\" rel=\"noreferrer noopener nofollow\" target=\"_blank\">https://i.imgur.com/hRHpy8X.jpg</a>\n",
       "<div class=\"richcontent\"><img alt=\"\" loading=\"lazy\" src=\"https://cache.ptt.cc/c/https/i.imgur.com/hRHpy8Xl.jpg?e=1709125405&amp;s=4z6iHq860nfxsg_qP5LmEw\"/></div><a href=\"https://i.imgur.com/P5rI8UM.jpg\" rel=\"noreferrer noopener nofollow\" target=\"_blank\">https://i.imgur.com/P5rI8UM.jpg</a>\n",
       "<div class=\"richcontent\"><img alt=\"\" loading=\"lazy\" src=\"https://cache.ptt.cc/c/https/i.imgur.com/P5rI8UMl.jpg?e=1709122468&amp;s=cIcNFHDXxVhU2CYwO9SENw\"/></div><a href=\"https://i.imgur.com/Uq0oG4E.jpg\" rel=\"noreferrer noopener nofollow\" target=\"_blank\">https://i.imgur.com/Uq0oG4E.jpg</a>\n",
       "<div class=\"richcontent\"><img alt=\"\" loading=\"lazy\" src=\"https://cache.ptt.cc/c/https/i.imgur.com/Uq0oG4El.jpg?e=1709140667&amp;s=DRnJri5yhcAMn-qyo2-b4Q\"/></div><a href=\"https://i.imgur.com/pPXBHuZ.jpg\" rel=\"noreferrer noopener nofollow\" target=\"_blank\">https://i.imgur.com/pPXBHuZ.jpg</a>\n",
       "<div class=\"richcontent\"><img alt=\"\" loading=\"lazy\" src=\"https://cache.ptt.cc/c/https/i.imgur.com/pPXBHuZl.jpg?e=1709172593&amp;s=tukTAaudCGeS3tCRb9Eijg\"/></div><a href=\"https://i.imgur.com/dFiDDhh.jpg\" rel=\"noreferrer noopener nofollow\" target=\"_blank\">https://i.imgur.com/dFiDDhh.jpg</a>\n",
       "<div class=\"richcontent\"><img alt=\"\" loading=\"lazy\" src=\"https://cache.ptt.cc/c/https/i.imgur.com/dFiDDhl.jpg?e=1709171465&amp;s=EwXj0fOQeqq9moi4HlNYgw\"/></div><a href=\"https://i.imgur.com/4N51HkQ.jpg\" rel=\"noreferrer noopener nofollow\" target=\"_blank\">https://i.imgur.com/4N51HkQ.jpg</a>\n",
       "<div class=\"richcontent\"><img alt=\"\" loading=\"lazy\" src=\"https://cache.ptt.cc/c/https/i.imgur.com/4N51HkQl.jpg?e=1709146820&amp;s=wijCaT0szdse9Kpcir8fSw\"/></div><a href=\"https://i.imgur.com/XPOailb.jpg\" rel=\"noreferrer noopener nofollow\" target=\"_blank\">https://i.imgur.com/XPOailb.jpg</a>\n",
       "<div class=\"richcontent\"><img alt=\"\" loading=\"lazy\" src=\"https://cache.ptt.cc/c/https/i.imgur.com/XPOailbl.jpg?e=1709118953&amp;s=ZQDyq0ZETom9W6Hcwt4X4A\"/></div>\n",
       "--\n",
       "<span class=\"f2\">※ 發信站: 批踢踢實業坊(ptt.cc), 來自: 49.216.189.86 (臺灣)\n",
       "</span><span class=\"f2\">※ 文章網址: <a href=\"https://www.ptt.cc/bbs/Beauty/M.1672503968.A.5B5.html\" rel=\"noreferrer noopener nofollow\" target=\"_blank\">https://www.ptt.cc/bbs/Beauty/M.1672503968.A.5B5.html</a>\n",
       "</span><div class=\"push\"><span class=\"hl push-tag\">推 </span><span class=\"f3 hl push-userid\">picachuln</span><span class=\"f3 push-content\">: 推</span><span class=\"push-ipdatetime\">   49.215.33.17 01/01 00:27\n",
       "</span></div><div class=\"push\"><span class=\"hl push-tag\">推 </span><span class=\"f3 hl push-userid\">qd6590</span><span class=\"f3 push-content\">: 超正推 樓下說很普</span><span class=\"push-ipdatetime\">  49.216.101.82 01/01 00:28\n",
       "</span></div><div class=\"push\"><span class=\"hl push-tag\">推 </span><span class=\"f3 hl push-userid\">Dogman7788</span><span class=\"f3 push-content\">: 長大了</span><span class=\"push-ipdatetime\"> 111.248.97.227 01/01 00:29\n",
       "</span></div><div class=\"push\"><span class=\"hl push-tag\">推 </span><span class=\"f3 hl push-userid\">michael0419</span><span class=\"f3 push-content\">: 難得露溝</span><span class=\"push-ipdatetime\">   49.216.53.99 01/01 00:29\n",
       "</span></div><div class=\"push\"><span class=\"hl push-tag\">推 </span><span class=\"f3 hl push-userid\">phrita</span><span class=\"f3 push-content\">: 長大了</span><span class=\"push-ipdatetime\"> 122.121.226.81 01/01 00:29\n",
       "</span></div><div class=\"push\"><span class=\"hl push-tag\">推 </span><span class=\"f3 hl push-userid\">lindada78</span><span class=\"f3 push-content\">: 推</span><span class=\"push-ipdatetime\">  223.136.62.37 01/01 00:33\n",
       "</span></div><div class=\"push\"><span class=\"hl push-tag\">推 </span><span class=\"f3 hl push-userid\">Krishna</span><span class=\"f3 push-content\">: 噫~~蓋高尚</span><span class=\"push-ipdatetime\"> 123.193.251.73 01/01 00:33\n",
       "</span></div><div class=\"push\"><span class=\"hl push-tag\">推 </span><span class=\"f3 hl push-userid\">Ashen19</span><span class=\"f3 push-content\">: 子子推推</span><span class=\"push-ipdatetime\"> 27.247.133.110 01/01 00:37\n",
       "</span></div><div class=\"push\"><span class=\"hl push-tag\">推 </span><span class=\"f3 hl push-userid\">yitingted</span><span class=\"f3 push-content\">: 呵 長大了</span><span class=\"push-ipdatetime\">  101.10.97.182 01/01 00:38\n",
       "</span></div><div class=\"push\"><span class=\"hl push-tag\">推 </span><span class=\"f3 hl push-userid\">ryu634</span><span class=\"f3 push-content\">: 讚！</span><span class=\"push-ipdatetime\">  36.226.121.85 01/01 00:38\n",
       "</span></div><div class=\"push\"><span class=\"hl push-tag\">推 </span><span class=\"f3 hl push-userid\">pickoff</span><span class=\"f3 push-content\">: 超正</span><span class=\"push-ipdatetime\">   61.227.8.183 01/01 00:44\n",
       "</span></div><div class=\"push\"><span class=\"hl push-tag\">推 </span><span class=\"f3 hl push-userid\">A13589641</span><span class=\"f3 push-content\">: 老婆</span><span class=\"push-ipdatetime\">  36.231.215.24 01/01 00:46\n",
       "</span></div><div class=\"push\"><span class=\"hl push-tag\">推 </span><span class=\"f3 hl push-userid\">asxc530530</span><span class=\"f3 push-content\">: 讚讚</span><span class=\"push-ipdatetime\"> 36.238.122.100 01/01 00:52\n",
       "</span></div><div class=\"push\"><span class=\"hl push-tag\">推 </span><span class=\"f3 hl push-userid\">FatFatQQ</span><span class=\"f3 push-content\">: 孑孓賣溝</span><span class=\"push-ipdatetime\">  59.115.76.202 01/01 00:53\n",
       "</span></div><div class=\"push\"><span class=\"hl push-tag\">推 </span><span class=\"f3 hl push-userid\">harry155007</span><span class=\"f3 push-content\">: 是不是變大了</span><span class=\"push-ipdatetime\"> 59.125.101.239 01/01 00:53\n",
       "</span></div><div class=\"push\"><span class=\"f1 hl push-tag\">→ </span><span class=\"f3 hl push-userid\">supereva</span><span class=\"f3 push-content\">: 她太瘦了  臉沒肉眼睛又特別大</span><span class=\"push-ipdatetime\"> 27.242.231.123 01/01 00:55\n",
       "</span></div><div class=\"push\"><span class=\"hl push-tag\">推 </span><span class=\"f3 hl push-userid\">aweiiiiii</span><span class=\"f3 push-content\">: 彩瑛 多賢我婆</span><span class=\"push-ipdatetime\"> 36.238.150.140 01/01 00:56\n",
       "</span></div><div class=\"push\"><span class=\"hl push-tag\">推 </span><span class=\"f3 hl push-userid\">ankai</span><span class=\"f3 push-content\">: 我好了</span><span class=\"push-ipdatetime\">  218.35.219.55 01/01 01:00\n",
       "</span></div><div class=\"push\"><span class=\"hl push-tag\">推 </span><span class=\"f3 hl push-userid\">popptt</span><span class=\"f3 push-content\">: 喔喔喔喔喔喔喔讚讚讚</span><span class=\"push-ipdatetime\">  1.171.190.251 01/01 01:06\n",
       "</span></div><div class=\"push\"><span class=\"hl push-tag\">推 </span><span class=\"f3 hl push-userid\">LoserLee</span><span class=\"f3 push-content\">: 居然開始露溝了 真香</span><span class=\"push-ipdatetime\">  114.42.19.227 01/01 01:10\n",
       "</span></div><div class=\"push\"><span class=\"hl push-tag\">推 </span><span class=\"f3 hl push-userid\">z030060374</span><span class=\"f3 push-content\">: 我老婆不願上表特</span><span class=\"push-ipdatetime\">223.139.153.145 01/01 01:13\n",
       "</span></div><div class=\"push\"><span class=\"hl push-tag\">推 </span><span class=\"f3 hl push-userid\">zvx911</span><span class=\"f3 push-content\">: 長大了！</span><span class=\"push-ipdatetime\">   61.61.78.245 01/01 01:17\n",
       "</span></div><div class=\"push\"><span class=\"f1 hl push-tag\">→ </span><span class=\"f3 hl push-userid\">lalacos123</span><span class=\"f3 push-content\">: 小又I字 擠的啊</span><span class=\"push-ipdatetime\">111.253.160.202 01/01 01:26\n",
       "</span></div><div class=\"push\"><span class=\"hl push-tag\">推 </span><span class=\"f3 hl push-userid\">RayParker33</span><span class=\"f3 push-content\">: 小仙女</span><span class=\"push-ipdatetime\">180.176.189.180 01/01 01:31\n",
       "</span></div><div class=\"push\"><span class=\"f1 hl push-tag\">噓 </span><span class=\"f3 hl push-userid\">aaaflutist</span><span class=\"f3 push-content\">: 那一個是子魚？</span><span class=\"push-ipdatetime\">     61.61.9.43 01/01 01:31\n",
       "</span></div><div class=\"push\"><span class=\"hl push-tag\">推 </span><span class=\"f3 hl push-userid\">MapleLiu</span><span class=\"f3 push-content\">: 子瑜先推</span><span class=\"push-ipdatetime\">  223.138.2.112 01/01 01:32\n",
       "</span></div><div class=\"push\"><span class=\"hl push-tag\">推 </span><span class=\"f3 hl push-userid\">ericfankc</span><span class=\"f3 push-content\">: 推爆</span><span class=\"push-ipdatetime\">  111.255.11.65 01/01 01:41\n",
       "</span></div><div class=\"push\"><span class=\"hl push-tag\">推 </span><span class=\"f3 hl push-userid\">Dubufan0528</span><span class=\"f3 push-content\">: 讚喔</span><span class=\"push-ipdatetime\">   39.10.33.195 01/01 01:41\n",
       "</span></div><div class=\"push\"><span class=\"hl push-tag\">推 </span><span class=\"f3 hl push-userid\">STRO</span><span class=\"f3 push-content\">: 美</span><span class=\"push-ipdatetime\">    27.51.33.56 01/01 01:46\n",
       "</span></div><div class=\"push\"><span class=\"hl push-tag\">推 </span><span class=\"f3 hl push-userid\">nanachi</span><span class=\"f3 push-content\">: 推 不過這次志效真的猛</span><span class=\"push-ipdatetime\">223.136.177.124 01/01 01:46\n",
       "</span></div><div class=\"push\"><span class=\"hl push-tag\">推 </span><span class=\"f3 hl push-userid\">fidelity77</span><span class=\"f3 push-content\">: 長大了...</span><span class=\"push-ipdatetime\">  27.242.124.20 01/01 01:49\n",
       "</span></div><div class=\"push\"><span class=\"f1 hl push-tag\">→ </span><span class=\"f3 hl push-userid\">chill247</span><span class=\"f3 push-content\">: 啊 長大啦</span><span class=\"push-ipdatetime\">  106.64.122.51 01/01 02:02\n",
       "</span></div><div class=\"push\"><span class=\"hl push-tag\">推 </span><span class=\"f3 hl push-userid\">ji3g4zo4bp6</span><span class=\"f3 push-content\">: 推</span><span class=\"push-ipdatetime\">    42.72.41.68 01/01 02:11\n",
       "</span></div><div class=\"push\"><span class=\"hl push-tag\">推 </span><span class=\"f3 hl push-userid\">jefflin0824</span><span class=\"f3 push-content\">: 推</span><span class=\"push-ipdatetime\">   1.200.77.118 01/01 02:19\n",
       "</span></div><div class=\"push\"><span class=\"f1 hl push-tag\">噓 </span><span class=\"f3 hl push-userid\">gen001</span><span class=\"f3 push-content\">: 好醜的妝</span><span class=\"push-ipdatetime\">  27.242.100.18 01/01 02:21\n",
       "</span></div><div class=\"push\"><span class=\"hl push-tag\">推 </span><span class=\"f3 hl push-userid\">GoldOnion</span><span class=\"f3 push-content\">: 推</span><span class=\"push-ipdatetime\">    101.9.32.63 01/01 02:25\n",
       "</span></div><div class=\"push\"><span class=\"f1 hl push-tag\">→ </span><span class=\"f3 hl push-userid\">triplekiller</span><span class=\"f3 push-content\">: 35歲？</span><span class=\"push-ipdatetime\">   1.200.152.15 01/01 02:31\n",
       "</span></div><div class=\"push\"><span class=\"f1 hl push-tag\">噓 </span><span class=\"f3 hl push-userid\">donotgiveup</span><span class=\"f3 push-content\">: +9妹差不多都這樣</span><span class=\"push-ipdatetime\">  114.25.134.41 01/01 02:33\n",
       "</span></div><div class=\"push\"><span class=\"f1 hl push-tag\">→ </span><span class=\"f3 hl push-userid\">rrgfe</span><span class=\"f3 push-content\">: 最近很愛露奶</span><span class=\"push-ipdatetime\">  1.162.171.184 01/01 03:03\n",
       "</span></div><div class=\"push\"><span class=\"hl push-tag\">推 </span><span class=\"f3 hl push-userid\">cowboycombo</span><span class=\"f3 push-content\">: 有料</span><span class=\"push-ipdatetime\">  223.141.9.148 01/01 03:08\n",
       "</span></div><div class=\"push\"><span class=\"hl push-tag\">推 </span><span class=\"f3 hl push-userid\">ROMEOCACKER</span><span class=\"f3 push-content\">: 來推子子</span><span class=\"push-ipdatetime\">  36.239.44.105 01/01 03:08\n",
       "</span></div><div class=\"push\"><span class=\"hl push-tag\">推 </span><span class=\"f3 hl push-userid\">AhCheng</span><span class=\"f3 push-content\">: 老婆好漂亮</span><span class=\"push-ipdatetime\">  111.253.8.250 01/01 03:17\n",
       "</span></div><div class=\"push\"><span class=\"hl push-tag\">推 </span><span class=\"f3 hl push-userid\">angie668492</span><span class=\"f3 push-content\">: 推</span><span class=\"push-ipdatetime\">101.137.104.194 01/01 04:03\n",
       "</span></div><div class=\"push\"><span class=\"hl push-tag\">推 </span><span class=\"f3 hl push-userid\">Corydoras</span><span class=\"f3 push-content\">: 溝 推</span><span class=\"push-ipdatetime\">118.165.181.182 01/01 04:26\n",
       "</span></div><div class=\"push\"><span class=\"hl push-tag\">推 </span><span class=\"f3 hl push-userid\">Kemin666</span><span class=\"f3 push-content\">: 真香</span><span class=\"push-ipdatetime\">   36.234.41.21 01/01 04:38\n",
       "</span></div><div class=\"push\"><span class=\"hl push-tag\">推 </span><span class=\"f3 hl push-userid\">rancheng</span><span class=\"f3 push-content\">: 長大了</span><span class=\"push-ipdatetime\">    42.73.27.63 01/01 06:05\n",
       "</span></div><div class=\"push\"><span class=\"hl push-tag\">推 </span><span class=\"f3 hl push-userid\">johnwu</span><span class=\"f3 push-content\">: 子瑜好棒棒~讚</span><span class=\"push-ipdatetime\"> 123.195.122.52 01/01 06:18\n",
       "</span></div><div class=\"push\"><span class=\"hl push-tag\">推 </span><span class=\"f3 hl push-userid\">abc6266260</span><span class=\"f3 push-content\">: 大子瑜</span><span class=\"push-ipdatetime\">   39.15.41.243 01/01 06:23\n",
       "</span></div><div class=\"push\"><span class=\"hl push-tag\">推 </span><span class=\"f3 hl push-userid\">jeff520</span><span class=\"f3 push-content\">: 推</span><span class=\"push-ipdatetime\"> 118.170.42.172 01/01 07:01\n",
       "</span></div><div class=\"push\"><span class=\"hl push-tag\">推 </span><span class=\"f3 hl push-userid\">gm3252</span><span class=\"f3 push-content\">: 推</span><span class=\"push-ipdatetime\">   42.79.126.30 01/01 07:08\n",
       "</span></div><div class=\"push\"><span class=\"hl push-tag\">推 </span><span class=\"f3 hl push-userid\">a0930192264</span><span class=\"f3 push-content\">: 多了份成熟感</span><span class=\"push-ipdatetime\">  114.40.66.110 01/01 07:30\n",
       "</span></div><div class=\"push\"><span class=\"hl push-tag\">推 </span><span class=\"f3 hl push-userid\">q9154336</span><span class=\"f3 push-content\">: ok</span><span class=\"push-ipdatetime\">  101.12.51.217 01/01 08:11\n",
       "</span></div><div class=\"push\"><span class=\"f1 hl push-tag\">噓 </span><span class=\"f3 hl push-userid\">liuhan</span><span class=\"f3 push-content\">: 仙氣沒有了 變老妹一枚</span><span class=\"push-ipdatetime\">114.136.166.136 01/01 08:16\n",
       "</span></div><div class=\"push\"><span class=\"hl push-tag\">推 </span><span class=\"f3 hl push-userid\">CYJLamigo52</span><span class=\"f3 push-content\">: 我愛子瑜&gt;_&lt;</span><span class=\"push-ipdatetime\">180.217.216.240 01/01 08:18\n",
       "</span></div><div class=\"push\"><span class=\"hl push-tag\">推 </span><span class=\"f3 hl push-userid\">zxc123519</span><span class=\"f3 push-content\">: 怎麼氣質越來越像林襄了..</span><span class=\"push-ipdatetime\">  61.224.48.118 01/01 08:31\n",
       "</span></div><div class=\"push\"><span class=\"hl push-tag\">推 </span><span class=\"f3 hl push-userid\">paulsama</span><span class=\"f3 push-content\">: 真美，長大了</span><span class=\"push-ipdatetime\"> 59.115.184.158 01/01 08:36\n",
       "</span></div><div class=\"push\"><span class=\"hl push-tag\">推 </span><span class=\"f3 hl push-userid\">justlee</span><span class=\"f3 push-content\">: 推</span><span class=\"push-ipdatetime\">   42.74.85.114 01/01 09:32\n",
       "</span></div><div class=\"push\"><span class=\"hl push-tag\">推 </span><span class=\"f3 hl push-userid\">andrew06</span><span class=\"f3 push-content\">: 推子瑜</span><span class=\"push-ipdatetime\">   68.9.222.202 01/01 09:46\n",
       "</span></div><div class=\"push\"><span class=\"hl push-tag\">推 </span><span class=\"f3 hl push-userid\">HaiirotoAo</span><span class=\"f3 push-content\">: 好大</span><span class=\"push-ipdatetime\">   59.115.3.165 01/01 09:51\n",
       "</span></div><div class=\"push\"><span class=\"hl push-tag\">推 </span><span class=\"f3 hl push-userid\">ia220629</span><span class=\"f3 push-content\">: 還是正到爆</span><span class=\"push-ipdatetime\">  111.82.176.22 01/01 09:56\n",
       "</span></div><div class=\"push\"><span class=\"f1 hl push-tag\">→ </span><span class=\"f3 hl push-userid\">theclgy2001</span><span class=\"f3 push-content\">: 時間是把殺豬刀…. 難怪二馬拼了命都</span><span class=\"push-ipdatetime\"> 220.129.185.95 01/01 10:02\n",
       "</span></div><div class=\"push\"><span class=\"f1 hl push-tag\">→ </span><span class=\"f3 hl push-userid\">theclgy2001</span><span class=\"f3 push-content\">: 想現在進演藝圈撈錢</span><span class=\"push-ipdatetime\"> 220.129.185.95 01/01 10:03\n",
       "</span></div><div class=\"push\"><span class=\"hl push-tag\">推 </span><span class=\"f3 hl push-userid\">tse651155</span><span class=\"f3 push-content\">: 林襄XDDD</span><span class=\"push-ipdatetime\">   1.144.18.150 01/01 10:03\n",
       "</span></div><div class=\"push\"><span class=\"f1 hl push-tag\">→ </span><span class=\"f3 hl push-userid\">syensyens</span><span class=\"f3 push-content\">: 老惹</span><span class=\"push-ipdatetime\">   1.200.64.135 01/01 10:11\n",
       "</span></div><div class=\"push\"><span class=\"hl push-tag\">推 </span><span class=\"f3 hl push-userid\">abellea85209</span><span class=\"f3 push-content\">: 推子瑜</span><span class=\"push-ipdatetime\"> 118.161.33.173 01/01 10:14\n",
       "</span></div><div class=\"push\"><span class=\"hl push-tag\">推 </span><span class=\"f3 hl push-userid\">reich3</span><span class=\"f3 push-content\">: 江山代代佳人出</span><span class=\"push-ipdatetime\">  42.72.200.236 01/01 10:27\n",
       "</span></div><div class=\"push\"><span class=\"hl push-tag\">推 </span><span class=\"f3 hl push-userid\">NK20000</span><span class=\"f3 push-content\">: 推推</span><span class=\"push-ipdatetime\">  42.75.143.245 01/01 10:51\n",
       "</span></div><div class=\"push\"><span class=\"hl push-tag\">推 </span><span class=\"f3 hl push-userid\">sshark</span><span class=\"f3 push-content\">: 推推</span><span class=\"push-ipdatetime\">  223.138.56.92 01/01 11:17\n",
       "</span></div><div class=\"push\"><span class=\"hl push-tag\">推 </span><span class=\"f3 hl push-userid\">new122851</span><span class=\"f3 push-content\">: 王思佳</span><span class=\"push-ipdatetime\">   1.160.79.248 01/01 11:20\n",
       "</span></div><div class=\"push\"><span class=\"hl push-tag\">推 </span><span class=\"f3 hl push-userid\">rock8655</span><span class=\"f3 push-content\">: 太誇張了</span><span class=\"push-ipdatetime\">  180.217.22.17 01/01 11:29\n",
       "</span></div><div class=\"push\"><span class=\"f1 hl push-tag\">→ </span><span class=\"f3 hl push-userid\">glion</span><span class=\"f3 push-content\">: 真的就是…各種長大了</span><span class=\"push-ipdatetime\">223.140.115.170 01/01 12:00\n",
       "</span></div><div class=\"push\"><span class=\"f1 hl push-tag\">→ </span><span class=\"f3 hl push-userid\">sck3612575</span><span class=\"f3 push-content\">: 裡面怎麼混了一個胖子</span><span class=\"push-ipdatetime\">220.136.204.202 01/01 12:12\n",
       "</span></div><div class=\"push\"><span class=\"f1 hl push-tag\">噓 </span><span class=\"f3 hl push-userid\">ptckimo</span><span class=\"f3 push-content\">: 同38樓</span><span class=\"push-ipdatetime\"> 114.24.204.189 01/01 12:18\n",
       "</span></div><div class=\"push\"><span class=\"hl push-tag\">推 </span><span class=\"f3 hl push-userid\">escobar006</span><span class=\"f3 push-content\">: 推，但不知到該說什麼...</span><span class=\"push-ipdatetime\">223.136.251.224 01/01 12:31\n",
       "</span></div><div class=\"push\"><span class=\"hl push-tag\">推 </span><span class=\"f3 hl push-userid\">yaes111</span><span class=\"f3 push-content\">: 我幫她謝謝各位</span><span class=\"push-ipdatetime\">  42.77.255.197 01/01 12:46\n",
       "</span></div><div class=\"push\"><span class=\"hl push-tag\">推 </span><span class=\"f3 hl push-userid\">keler</span><span class=\"f3 push-content\">: 塑</span><span class=\"push-ipdatetime\">123.194.158.132 01/01 12:58\n",
       "</span></div><div class=\"push\"><span class=\"f1 hl push-tag\">→ </span><span class=\"f3 hl push-userid\">logic886</span><span class=\"f3 push-content\">: 以前比較好</span><span class=\"push-ipdatetime\">  1.200.123.108 01/01 13:17\n",
       "</span></div><div class=\"push\"><span class=\"f1 hl push-tag\">→ </span><span class=\"f3 hl push-userid\">Zzzip</span><span class=\"f3 push-content\">: 東南亞的感覺</span><span class=\"push-ipdatetime\">    42.72.255.1 01/01 14:08\n",
       "</span></div><div class=\"push\"><span class=\"hl push-tag\">推 </span><span class=\"f3 hl push-userid\">wwf1588</span><span class=\"f3 push-content\">: 正</span><span class=\"push-ipdatetime\"> 101.137.183.53 01/01 14:46\n",
       "</span></div><div class=\"push\"><span class=\"hl push-tag\">推 </span><span class=\"f3 hl push-userid\">winteryoyo</span><span class=\"f3 push-content\">: 應該有D</span><span class=\"push-ipdatetime\">  114.46.61.234 01/01 14:57\n",
       "</span></div><div class=\"push\"><span class=\"hl push-tag\">推 </span><span class=\"f3 hl push-userid\">adamlovedogc</span><span class=\"f3 push-content\">: 我不會背棄老婆的</span><span class=\"push-ipdatetime\">  36.230.221.68 01/01 14:58\n",
       "</span></div><div class=\"push\"><span class=\"hl push-tag\">推 </span><span class=\"f3 hl push-userid\">homhomhom</span><span class=\"f3 push-content\">: 媽椰可愛死</span><span class=\"push-ipdatetime\"> 180.217.114.91 01/01 15:16\n",
       "</span></div><div class=\"push\"><span class=\"hl push-tag\">推 </span><span class=\"f3 hl push-userid\">pikachu0502</span><span class=\"f3 push-content\">: 熟了 味道出來了 好香</span><span class=\"push-ipdatetime\"> 180.177.13.178 01/01 15:45\n",
       "</span></div><div class=\"push\"><span class=\"hl push-tag\">推 </span><span class=\"f3 hl push-userid\">zoids2504</span><span class=\"f3 push-content\">: 子瑜就是太小了，不然就很棒了</span><span class=\"push-ipdatetime\">180.217.213.187 01/01 16:12\n",
       "</span></div><div class=\"push\"><span class=\"hl push-tag\">推 </span><span class=\"f3 hl push-userid\">moth543</span><span class=\"f3 push-content\">: 漂亮</span><span class=\"push-ipdatetime\">  111.249.30.87 01/01 17:53\n",
       "</span></div><div class=\"push\"><span class=\"hl push-tag\">推 </span><span class=\"f3 hl push-userid\">billy4305</span><span class=\"f3 push-content\">: 子瑜越來越漂亮了</span><span class=\"push-ipdatetime\">111.235.230.153 01/01 18:07\n",
       "</span></div><div class=\"push\"><span class=\"f1 hl push-tag\">→ </span><span class=\"f3 hl push-userid\">orange7986</span><span class=\"f3 push-content\">: 長大了</span><span class=\"push-ipdatetime\">  42.77.194.240 01/01 18:15\n",
       "</span></div><div class=\"push\"><span class=\"hl push-tag\">推 </span><span class=\"f3 hl push-userid\">israelii</span><span class=\"f3 push-content\">: 以前黑髮比較好看</span><span class=\"push-ipdatetime\">  180.217.36.30 01/01 18:43\n",
       "</span></div><div class=\"push\"><span class=\"hl push-tag\">推 </span><span class=\"f3 hl push-userid\">asdfg5435</span><span class=\"f3 push-content\">: 長大了</span><span class=\"push-ipdatetime\">   36.227.1.142 01/01 20:09\n",
       "</span></div><div class=\"push\"><span class=\"hl push-tag\">推 </span><span class=\"f3 hl push-userid\">feathery</span><span class=\"f3 push-content\">: 小才好，很大就沒氣質了</span><span class=\"push-ipdatetime\">    61.61.94.59 01/01 22:59\n",
       "</span></div><div class=\"push\"><span class=\"hl push-tag\">推 </span><span class=\"f3 hl push-userid\">SDKSDKSDK</span><span class=\"f3 push-content\">: 超正</span><span class=\"push-ipdatetime\"> 36.236.195.134 01/01 23:18\n",
       "</span></div><div class=\"push\"><span class=\"f1 hl push-tag\">→ </span><span class=\"f3 hl push-userid\">jetcheng</span><span class=\"f3 push-content\">: 子瑜過譽了</span><span class=\"push-ipdatetime\">123.194.157.122 01/02 01:50\n",
       "</span></div><div class=\"push\"><span class=\"hl push-tag\">推 </span><span class=\"f3 hl push-userid\">jack0216</span><span class=\"f3 push-content\">: 人很正 但妝不好看</span><span class=\"push-ipdatetime\"> 154.73.165.169 01/02 04:46\n",
       "</span></div><div class=\"push\"><span class=\"f1 hl push-tag\">噓 </span><span class=\"f3 hl push-userid\">SakuraHana</span><span class=\"f3 push-content\">: 自從她跑去沾政治就討厭她</span><span class=\"push-ipdatetime\">220.129.170.148 01/02 10:32\n",
       "</span></div><div class=\"push\"><span class=\"f1 hl push-tag\">→ </span><span class=\"f3 hl push-userid\">d06</span><span class=\"f3 push-content\">: 依舊讚</span><span class=\"push-ipdatetime\">   58.26.140.38 01/02 16:18\n",
       "</span></div><div class=\"push\"><span class=\"hl push-tag\">推 </span><span class=\"f3 hl push-userid\">best0811</span><span class=\"f3 push-content\">: 過鹹水的+9妹</span><span class=\"push-ipdatetime\">  122.118.37.57 01/03 05:57\n",
       "</span></div><div class=\"push\"><span class=\"f1 hl push-tag\">→ </span><span class=\"f3 hl push-userid\">angel801109</span><span class=\"f3 push-content\">: 推</span><span class=\"push-ipdatetime\">   211.22.178.8 01/03 13:31\n",
       "</span></div><div class=\"push\"><span class=\"f1 hl push-tag\">噓 </span><span class=\"f3 hl push-userid\">yushenglu</span><span class=\"f3 push-content\">: +9象腿中國人?</span><span class=\"push-ipdatetime\"> 111.82.138.116 01/04 04:05\n",
       "</span></div><div class=\"push\"><span class=\"hl push-tag\">推 </span><span class=\"f3 hl push-userid\">smonke</span><span class=\"f3 push-content\">: 有溝誠意推~</span><span class=\"push-ipdatetime\">  1.164.244.128 01/04 10:37\n",
       "</span></div><div class=\"push\"><span class=\"hl push-tag\">推 </span><span class=\"f3 hl push-userid\">lovemoon1011</span><span class=\"f3 push-content\">: 二次發育？</span><span class=\"push-ipdatetime\">   112.78.95.90 01/05 00:48\n",
       "</span></div><div class=\"push\"><span class=\"f1 hl push-tag\">→ </span><span class=\"f3 hl push-userid\">JyouItsu</span><span class=\"f3 push-content\">: 已經成路人了</span><span class=\"push-ipdatetime\"> 182.233.34.159 01/06 16:21\n",
       "</span></div><div class=\"push\"><span class=\"hl push-tag\">推 </span><span class=\"f3 hl push-userid\">qazz2214</span><span class=\"f3 push-content\">: 推！</span><span class=\"push-ipdatetime\"> 180.217.16.134 02/02 21:38\n",
       "</span></div><div class=\"push\"><span class=\"hl push-tag\">推 </span><span class=\"f3 hl push-userid\">champagne</span><span class=\"f3 push-content\">: 妝太濃</span><span class=\"push-ipdatetime\">  49.216.26.147 03/15 20:26\n",
       "</span></div></div>"
      ]
     },
     "execution_count": 34,
     "metadata": {},
     "output_type": "execute_result"
    }
   ],
   "source": [
    "# end in --- \n",
    "\n",
    "body_data"
   ]
  },
  {
   "cell_type": "code",
   "execution_count": 44,
   "metadata": {},
   "outputs": [
    {
     "data": {
      "text/plain": [
       "[<div class=\"article-metaline\"><span class=\"article-meta-tag\">作者</span><span class=\"article-meta-value\">ReiKuromiya (ReiKuromiya)</span></div>,\n",
       " <div class=\"article-metaline\"><span class=\"article-meta-tag\">標題</span><span class=\"article-meta-value\">[正妹] 周子瑜</span></div>,\n",
       " <div class=\"article-metaline\"><span class=\"article-meta-tag\">時間</span><span class=\"article-meta-value\">Sun Jan  1 00:26:06 2023</span></div>]"
      ]
     },
     "execution_count": 44,
     "metadata": {},
     "output_type": "execute_result"
    }
   ],
   "source": [
    "header_data = body_data.find_all(\"div\" , class_=\"article-metaline\")\n",
    "header_data "
   ]
  },
  {
   "cell_type": "code",
   "execution_count": 55,
   "metadata": {},
   "outputs": [
    {
     "data": {
      "text/plain": [
       "{'作者': 'ReiKuromiya (ReiKuromiya)',\n",
       " '標題': '[正妹] 周子瑜',\n",
       " '時間': 'Sun Jan  1 00:26:06 2023'}"
      ]
     },
     "execution_count": 55,
     "metadata": {},
     "output_type": "execute_result"
    }
   ],
   "source": [
    "# a = str(header_data[0].find(\"span\" , class_=\"article-meta-value\").string)\n",
    "# a\n",
    "header_dict = {str(line.find(\"span\" , class_=\"article-meta-tag\").string) : str(line.find(\"span\" , class_=\"article-meta-value\").string) for line in header_data}\n",
    "header_dict"
   ]
  },
  {
   "cell_type": "code",
   "execution_count": 85,
   "metadata": {},
   "outputs": [
    {
     "data": {
      "text/plain": [
       "['https://i.imgur.com/BdmZ7Ps.jpg',\n",
       " 'https://i.imgur.com/bBiw4IS.jpg',\n",
       " 'https://i.imgur.com/KDmRgeg.jpg',\n",
       " 'https://i.imgur.com/hRHpy8X.jpg',\n",
       " 'https://i.imgur.com/P5rI8UM.jpg',\n",
       " 'https://i.imgur.com/Uq0oG4E.jpg',\n",
       " 'https://i.imgur.com/pPXBHuZ.jpg',\n",
       " 'https://i.imgur.com/dFiDDhh.jpg',\n",
       " 'https://i.imgur.com/4N51HkQ.jpg',\n",
       " 'https://i.imgur.com/XPOailb.jpg',\n",
       " 'https://www.ptt.cc/bbs/Beauty/M.1672503968.A.5B5.html']"
      ]
     },
     "execution_count": 85,
     "metadata": {},
     "output_type": "execute_result"
    }
   ],
   "source": [
    "link_image = body_data.find_all(\"a\")\n",
    "link_image = [link.string for link in link_image]\n",
    "link_image"
   ]
  },
  {
   "cell_type": "code",
   "execution_count": 83,
   "metadata": {},
   "outputs": [
    {
     "data": {
      "text/plain": [
       "['https://cache.ptt.cc/c/https/i.imgur.com/BdmZ7Psl.jpg?e=1709157715&s=inh-KJqCJJEBinpIeeiDGA',\n",
       " 'https://cache.ptt.cc/c/https/i.imgur.com/bBiw4ISl.jpg?e=1709126496&s=7ZEmEVKlnpH-EU5Vb-deYA',\n",
       " 'https://cache.ptt.cc/c/https/i.imgur.com/KDmRgegl.jpg?e=1709130077&s=iZwVe7lBLzclFMFym2pN2Q',\n",
       " 'https://cache.ptt.cc/c/https/i.imgur.com/hRHpy8Xl.jpg?e=1709125405&s=4z6iHq860nfxsg_qP5LmEw',\n",
       " 'https://cache.ptt.cc/c/https/i.imgur.com/P5rI8UMl.jpg?e=1709122468&s=cIcNFHDXxVhU2CYwO9SENw',\n",
       " 'https://cache.ptt.cc/c/https/i.imgur.com/Uq0oG4El.jpg?e=1709140667&s=DRnJri5yhcAMn-qyo2-b4Q',\n",
       " 'https://cache.ptt.cc/c/https/i.imgur.com/pPXBHuZl.jpg?e=1709172593&s=tukTAaudCGeS3tCRb9Eijg',\n",
       " 'https://cache.ptt.cc/c/https/i.imgur.com/dFiDDhl.jpg?e=1709171465&s=EwXj0fOQeqq9moi4HlNYgw',\n",
       " 'https://cache.ptt.cc/c/https/i.imgur.com/4N51HkQl.jpg?e=1709146820&s=wijCaT0szdse9Kpcir8fSw',\n",
       " 'https://cache.ptt.cc/c/https/i.imgur.com/XPOailbl.jpg?e=1709118953&s=ZQDyq0ZETom9W6Hcwt4X4A']"
      ]
     },
     "execution_count": 83,
     "metadata": {},
     "output_type": "execute_result"
    }
   ],
   "source": [
    "images_list = body_data.find_all(\"div\" , class_ =\"richcontent\")\n",
    "images_list = [item.find(\"img\").get(\"src\") for item in images_list]\n",
    "images_list"
   ]
  },
  {
   "cell_type": "code",
   "execution_count": 88,
   "metadata": {},
   "outputs": [
    {
     "data": {
      "text/plain": [
       "[('https://i.imgur.com/BdmZ7Ps.jpg',\n",
       "  'https://cache.ptt.cc/c/https/i.imgur.com/BdmZ7Psl.jpg?e=1709157715&s=inh-KJqCJJEBinpIeeiDGA'),\n",
       " ('https://i.imgur.com/bBiw4IS.jpg',\n",
       "  'https://cache.ptt.cc/c/https/i.imgur.com/bBiw4ISl.jpg?e=1709126496&s=7ZEmEVKlnpH-EU5Vb-deYA'),\n",
       " ('https://i.imgur.com/KDmRgeg.jpg',\n",
       "  'https://cache.ptt.cc/c/https/i.imgur.com/KDmRgegl.jpg?e=1709130077&s=iZwVe7lBLzclFMFym2pN2Q'),\n",
       " ('https://i.imgur.com/hRHpy8X.jpg',\n",
       "  'https://cache.ptt.cc/c/https/i.imgur.com/hRHpy8Xl.jpg?e=1709125405&s=4z6iHq860nfxsg_qP5LmEw'),\n",
       " ('https://i.imgur.com/P5rI8UM.jpg',\n",
       "  'https://cache.ptt.cc/c/https/i.imgur.com/P5rI8UMl.jpg?e=1709122468&s=cIcNFHDXxVhU2CYwO9SENw'),\n",
       " ('https://i.imgur.com/Uq0oG4E.jpg',\n",
       "  'https://cache.ptt.cc/c/https/i.imgur.com/Uq0oG4El.jpg?e=1709140667&s=DRnJri5yhcAMn-qyo2-b4Q'),\n",
       " ('https://i.imgur.com/pPXBHuZ.jpg',\n",
       "  'https://cache.ptt.cc/c/https/i.imgur.com/pPXBHuZl.jpg?e=1709172593&s=tukTAaudCGeS3tCRb9Eijg'),\n",
       " ('https://i.imgur.com/dFiDDhh.jpg',\n",
       "  'https://cache.ptt.cc/c/https/i.imgur.com/dFiDDhl.jpg?e=1709171465&s=EwXj0fOQeqq9moi4HlNYgw'),\n",
       " ('https://i.imgur.com/4N51HkQ.jpg',\n",
       "  'https://cache.ptt.cc/c/https/i.imgur.com/4N51HkQl.jpg?e=1709146820&s=wijCaT0szdse9Kpcir8fSw'),\n",
       " ('https://i.imgur.com/XPOailb.jpg',\n",
       "  'https://cache.ptt.cc/c/https/i.imgur.com/XPOailbl.jpg?e=1709118953&s=ZQDyq0ZETom9W6Hcwt4X4A')]"
      ]
     },
     "execution_count": 88,
     "metadata": {},
     "output_type": "execute_result"
    }
   ],
   "source": [
    "content_images = list(zip(link_image ,images_list ))\n",
    "content_images"
   ]
  },
  {
   "cell_type": "code",
   "execution_count": 90,
   "metadata": {},
   "outputs": [
    {
     "data": {
      "text/plain": [
       "{'作者': 'ReiKuromiya (ReiKuromiya)',\n",
       " '標題': '[正妹] 周子瑜',\n",
       " '時間': 'Sun Jan  1 00:26:06 2023',\n",
       " 'body': [('https://i.imgur.com/BdmZ7Ps.jpg',\n",
       "   'https://cache.ptt.cc/c/https/i.imgur.com/BdmZ7Psl.jpg?e=1709157715&s=inh-KJqCJJEBinpIeeiDGA'),\n",
       "  ('https://i.imgur.com/bBiw4IS.jpg',\n",
       "   'https://cache.ptt.cc/c/https/i.imgur.com/bBiw4ISl.jpg?e=1709126496&s=7ZEmEVKlnpH-EU5Vb-deYA'),\n",
       "  ('https://i.imgur.com/KDmRgeg.jpg',\n",
       "   'https://cache.ptt.cc/c/https/i.imgur.com/KDmRgegl.jpg?e=1709130077&s=iZwVe7lBLzclFMFym2pN2Q'),\n",
       "  ('https://i.imgur.com/hRHpy8X.jpg',\n",
       "   'https://cache.ptt.cc/c/https/i.imgur.com/hRHpy8Xl.jpg?e=1709125405&s=4z6iHq860nfxsg_qP5LmEw'),\n",
       "  ('https://i.imgur.com/P5rI8UM.jpg',\n",
       "   'https://cache.ptt.cc/c/https/i.imgur.com/P5rI8UMl.jpg?e=1709122468&s=cIcNFHDXxVhU2CYwO9SENw'),\n",
       "  ('https://i.imgur.com/Uq0oG4E.jpg',\n",
       "   'https://cache.ptt.cc/c/https/i.imgur.com/Uq0oG4El.jpg?e=1709140667&s=DRnJri5yhcAMn-qyo2-b4Q'),\n",
       "  ('https://i.imgur.com/pPXBHuZ.jpg',\n",
       "   'https://cache.ptt.cc/c/https/i.imgur.com/pPXBHuZl.jpg?e=1709172593&s=tukTAaudCGeS3tCRb9Eijg'),\n",
       "  ('https://i.imgur.com/dFiDDhh.jpg',\n",
       "   'https://cache.ptt.cc/c/https/i.imgur.com/dFiDDhl.jpg?e=1709171465&s=EwXj0fOQeqq9moi4HlNYgw'),\n",
       "  ('https://i.imgur.com/4N51HkQ.jpg',\n",
       "   'https://cache.ptt.cc/c/https/i.imgur.com/4N51HkQl.jpg?e=1709146820&s=wijCaT0szdse9Kpcir8fSw'),\n",
       "  ('https://i.imgur.com/XPOailb.jpg',\n",
       "   'https://cache.ptt.cc/c/https/i.imgur.com/XPOailbl.jpg?e=1709118953&s=ZQDyq0ZETom9W6Hcwt4X4A')]}"
      ]
     },
     "execution_count": 90,
     "metadata": {},
     "output_type": "execute_result"
    }
   ],
   "source": [
    "page_data = header_dict | {\"body\" :content_images }\n",
    "page_data"
   ]
  }
 ],
 "metadata": {
  "kernelspec": {
   "display_name": ".venv",
   "language": "python",
   "name": "python3"
  },
  "language_info": {
   "codemirror_mode": {
    "name": "ipython",
    "version": 3
   },
   "file_extension": ".py",
   "mimetype": "text/x-python",
   "name": "python",
   "nbconvert_exporter": "python",
   "pygments_lexer": "ipython3",
   "version": "3.10.4"
  }
 },
 "nbformat": 4,
 "nbformat_minor": 2
}
