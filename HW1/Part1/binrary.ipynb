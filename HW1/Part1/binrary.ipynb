{
 "cells": [
  {
   "cell_type": "code",
   "execution_count": 141,
   "metadata": {},
   "outputs": [],
   "source": [
    "from bs4 import BeautifulSoup\n",
    "import httpx\n",
    "from typing import Callable\n",
    "from functools import reduce\n",
    "import pandas as pd \n",
    "import asyncio\n",
    "PTT_OVER_18_HEADER = {\"cookie\": \"over18=1\"}"
   ]
  },
  {
   "cell_type": "code",
   "execution_count": 82,
   "metadata": {},
   "outputs": [],
   "source": [
    "def recommend_page_to_simple_dict(html_str: str) -> dict:\n",
    "    \"\"\"for recommend page like index.html\"\"\"\n",
    "\n",
    "    def item_change_to_dict(div_obj: BeautifulSoup) -> dict:\n",
    "        hot_number = div_obj.find(\"span\")\n",
    "\n",
    "        hot_number = str(hot_number.string) if hot_number is not None else 0\n",
    "\n",
    "        if isinstance(hot_number, str) and hot_number.isdigit():\n",
    "            hot_number = int(hot_number)\n",
    "\n",
    "        title = div_obj.find(\"a\")\n",
    "\n",
    "        title_str, title_url = (\n",
    "            title.string if title else \"\",\n",
    "            title.get(\"href\") if title else \"\",\n",
    "        )\n",
    "\n",
    "        author = div_obj.find(\"div\", class_=\"author\")\n",
    "        author = str(author.string) if author is not None else \"\"\n",
    "\n",
    "        date = div_obj.find(\"div\", class_=\"date\")\n",
    "        date = str(date.string) if date is not None else \"\"\n",
    "\n",
    "        return {\n",
    "            \"Title\": title_str,\n",
    "            \"Author\": author,\n",
    "            \"HotNumber\": hot_number,\n",
    "            \"Date\": date,\n",
    "            \"URL\": title_url,\n",
    "        }\n",
    "\n",
    "    def filter_function(item_dict: dict) -> bool:\n",
    "        if \"[公告]\" in item_dict[\"Title\"]:\n",
    "            return False\n",
    "\n",
    "        if \"Fw:[公告]\" in item_dict[\"Title\"]:\n",
    "            return False\n",
    "\n",
    "        if item_dict[\"Title\"] == \"\":\n",
    "            return False\n",
    "\n",
    "        if item_dict[\"URL\"] == \"\":\n",
    "            return False\n",
    "\n",
    "        return True\n",
    "\n",
    "    # header = {\"cookie\": \"over18=1\"}\n",
    "    # result = httpx.get(url=url, headers=header)\n",
    "    soup = BeautifulSoup(html_str, \"html.parser\")\n",
    "\n",
    "    # action button -> button dict\n",
    "    action_bar_button = soup.find_all(\"div\", class_=\"btn-group btn-group-paging\")[0]\n",
    "    action_bar_button = action_bar_button.find_all(\"a\")\n",
    "\n",
    "    location = [\"Old\", \"Prev\", \"Next\", \"New\"]\n",
    "    button_link = [item.get(\"href\", \"\") for item in action_bar_button]\n",
    "\n",
    "    button_dict = dict(zip(location, button_link))\n",
    "    ##############################################\n",
    "\n",
    "    # get recommend list -> detail dict\n",
    "    recommend_list = soup.find(\n",
    "        \"div\", class_=\"r-list-container action-bar-margin bbs-screen\"\n",
    "    )\n",
    "    recommend = recommend_list.find_all(\"div\", class_=\"r-ent\")\n",
    "    recommend_result = [item_change_to_dict(div_obj=item) for item in recommend]\n",
    "    recommend_after_filter_result = list(filter(filter_function, recommend_result))\n",
    "\n",
    "    return button_dict | {\"Body\": recommend_after_filter_result}"
   ]
  },
  {
   "cell_type": "code",
   "execution_count": 120,
   "metadata": {},
   "outputs": [],
   "source": [
    "def page_to_simple_dict(html_str: str, func_list: list[Callable] = None) -> dict:\n",
    "    \"\"\"\n",
    "    format like\n",
    "    '作者': 'ReiKuromiya (ReiKuromiya)',\n",
    "    '標題': '[正妹] 周子瑜',\n",
    "    '時間': 'Sun Jan  1 00:26:06 2023',\n",
    "    'Year': '2023',\n",
    "    'Month': 'Jan',\n",
    "    'Day': '',\n",
    "    'Week': 'Sun',\n",
    "    'Time': '00:26:06',\n",
    "    # 'Body': [(..., ...),  ...]}\n",
    "    \"\"\"\n",
    "\n",
    "    def to_detail_date(date_str: str) -> dict:\n",
    "        detail_date = date_str.split(\" \")\n",
    "\n",
    "        if \"\" in detail_date:\n",
    "            detail_date.remove(\"\")\n",
    "        return {\n",
    "            \"Year\": detail_date[-1],\n",
    "            \"Month\": detail_date[1],\n",
    "            \"Day\": detail_date[2],\n",
    "            \"Week\": detail_date[0],\n",
    "            \"Time\": detail_date[-2],\n",
    "        }\n",
    "        \n",
    "    def to_pd_time(detail_date:dict)->pd.Timestamp:\n",
    "        date_str = f\"{detail_date.get('Year' , '')}-{detail_date.get('Month', '')}-{detail_date.get('Day', '')} {detail_date.get('Time', '')}\"\n",
    "        return {\"pd_time\" : pd.to_datetime(date_str)}\n",
    "\n",
    "    soup = BeautifulSoup(html_str, \"html.parser\")\n",
    "\n",
    "    # get main data\n",
    "    body_data = soup.find(\"div\", class_=\"bbs-screen bbs-content\", id=\"main-content\")\n",
    "\n",
    "    # get header data\n",
    "    header_data = body_data.find_all(\"div\", class_=\"article-metaline\")\n",
    "\n",
    "    tab_list = [\n",
    "        str(line.find(\"span\", class_=\"article-meta-tag\").string)\n",
    "        for line in header_data\n",
    "    ]\n",
    "\n",
    "    value_list = [\n",
    "        str(line.find(\"span\", class_=\"article-meta-value\").string)\n",
    "        for line in header_data\n",
    "    ]\n",
    "\n",
    "    header_dict = dict(zip(tab_list, value_list))\n",
    "\n",
    "    if \"時間\" not in header_dict:\n",
    "        # get text body #https://www.ptt.cc/bbs/Beauty/M.1690589266.A.166.html\n",
    "        process_text = body_data.contents[2]\n",
    "        process_text = process_text.split(\"\\n\")[:2]\n",
    "        process_text = [item.split(\":\") for item in process_text]\n",
    "        process_result_dict = {item[0]: item[1] for item in process_text}\n",
    "        header_dict |= process_result_dict\n",
    "\n",
    "    detail_date = to_detail_date(header_dict[\"時間\"])\n",
    "    pd_time = to_pd_time(detail_date)\n",
    "    \n",
    "    page_data = header_dict | detail_date | pd_time\n",
    "\n",
    "    if func_list is not None:\n",
    "        addition_dict_list = reduce(\n",
    "            lambda a, b: a | b, [func(soup) for func in func_list]\n",
    "        )\n",
    "        page_data |= addition_dict_list\n",
    "\n",
    "    return page_data"
   ]
  },
  {
   "cell_type": "code",
   "execution_count": 121,
   "metadata": {},
   "outputs": [],
   "source": [
    "def get_header():\n",
    "    return PTT_OVER_18_HEADER | {\"User-Agent\":\"Mozilla/5.0 (Windows NT 6.1; WOW64) AppleWebKit/537.36 (KHTML, like Gecko) Chrome/39.0.2171.95 Safari/537.36 OPR/26.0.1656.60\"}"
   ]
  },
  {
   "cell_type": "code",
   "execution_count": 122,
   "metadata": {},
   "outputs": [
    {
     "data": {
      "text/plain": [
       "{'Old': '/bbs/Beauty/index1.html',\n",
       " 'Prev': '/bbs/Beauty/index3998.html',\n",
       " 'Next': '/bbs/Beauty/index4000.html',\n",
       " 'New': '/bbs/Beauty/index.html',\n",
       " 'Body': [{'Title': '[正妹] 對岸車模小玥玥',\n",
       "   'Author': 'fujiohuang',\n",
       "   'HotNumber': 2,\n",
       "   'Date': ' 3/02',\n",
       "   'URL': '/bbs/Beauty/M.1709377543.A.F27.html'},\n",
       "  {'Title': '[正妹] Cosplay 659 中國 下乳',\n",
       "   'Author': 'Gentlemon',\n",
       "   'HotNumber': 0,\n",
       "   'Date': ' 3/02',\n",
       "   'URL': '/bbs/Beauty/M.1709378641.A.532.html'},\n",
       "  {'Title': '[正妹] 每日一尻',\n",
       "   'Author': 'jerryyuan',\n",
       "   'HotNumber': 1,\n",
       "   'Date': ' 3/02',\n",
       "   'URL': '/bbs/Beauty/M.1709382080.A.897.html'},\n",
       "  {'Title': '[正妹] 泡',\n",
       "   'Author': 'YuiLover',\n",
       "   'HotNumber': 3,\n",
       "   'Date': ' 3/02',\n",
       "   'URL': '/bbs/Beauty/M.1709383585.A.06A.html'},\n",
       "  {'Title': '[正妹] IVE 金秋天',\n",
       "   'Author': 'YuiLover',\n",
       "   'HotNumber': 29,\n",
       "   'Date': ' 3/02',\n",
       "   'URL': '/bbs/Beauty/M.1709386024.A.B9E.html'},\n",
       "  {'Title': '[正妹] 兩寶媽 Irene 圓圓',\n",
       "   'Author': 'asxc530530',\n",
       "   'HotNumber': 13,\n",
       "   'Date': ' 3/02',\n",
       "   'URL': '/bbs/Beauty/M.1709389194.A.F30.html'},\n",
       "  {'Title': '[正妹] 香港妹子',\n",
       "   'Author': 'yokann',\n",
       "   'HotNumber': 1,\n",
       "   'Date': ' 3/03',\n",
       "   'URL': '/bbs/Beauty/M.1709417377.A.724.html'},\n",
       "  {'Title': '[正妹] CK幾張',\n",
       "   'Author': 'yokann',\n",
       "   'HotNumber': 0,\n",
       "   'Date': ' 3/03',\n",
       "   'URL': '/bbs/Beauty/M.1709417818.A.458.html'},\n",
       "  {'Title': '[正妹] 恩齊',\n",
       "   'Author': 'yokann',\n",
       "   'HotNumber': 12,\n",
       "   'Date': ' 3/03',\n",
       "   'URL': '/bbs/Beauty/M.1709418131.A.58F.html'},\n",
       "  {'Title': '[正妹] 我是你的小狗',\n",
       "   'Author': 'jonny60604',\n",
       "   'HotNumber': 22,\n",
       "   'Date': ' 3/03',\n",
       "   'URL': '/bbs/Beauty/M.1709425955.A.D22.html'},\n",
       "  {'Title': '[正妹] Cosplay 670 韓國 村民',\n",
       "   'Author': 'Gentlemon',\n",
       "   'HotNumber': 3,\n",
       "   'Date': ' 3/03',\n",
       "   'URL': '/bbs/Beauty/M.1709429080.A.100.html'},\n",
       "  {'Title': '[帥哥] LBJ',\n",
       "   'Author': 'makilaifan',\n",
       "   'HotNumber': 13,\n",
       "   'Date': ' 3/03',\n",
       "   'URL': '/bbs/Beauty/M.1709432628.A.54C.html'},\n",
       "  {'Title': '[正妹] 水野朝陽',\n",
       "   'Author': 'YuiLover',\n",
       "   'HotNumber': 24,\n",
       "   'Date': ' 3/03',\n",
       "   'URL': '/bbs/Beauty/M.1709437735.A.81F.html'},\n",
       "  {'Title': '[正妹] Cosplay 671 日本 春麗',\n",
       "   'Author': 'Gentlemon',\n",
       "   'HotNumber': 0,\n",
       "   'Date': ' 3/03',\n",
       "   'URL': '/bbs/Beauty/M.1709438019.A.192.html'},\n",
       "  {'Title': '[正妹] 台鋼Wing Stars #22_一粒',\n",
       "   'Author': 'asxc530530',\n",
       "   'HotNumber': 28,\n",
       "   'Date': ' 3/03',\n",
       "   'URL': '/bbs/Beauty/M.1709438504.A.7D8.html'},\n",
       "  {'Title': '[正妹] 私立恵比寿中学 桜木心菜',\n",
       "   'Author': 'sure0219',\n",
       "   'HotNumber': 6,\n",
       "   'Date': ' 3/03',\n",
       "   'URL': '/bbs/Beauty/M.1709441270.A.3E3.html'},\n",
       "  {'Title': '[神人] 2位',\n",
       "   'Author': 'littleboss',\n",
       "   'HotNumber': 0,\n",
       "   'Date': ' 3/03',\n",
       "   'URL': '/bbs/Beauty/M.1709446891.A.EAA.html'},\n",
       "  {'Title': '[正妹] 金高銀',\n",
       "   'Author': 'wafiea708',\n",
       "   'HotNumber': 4,\n",
       "   'Date': ' 3/03',\n",
       "   'URL': '/bbs/Beauty/M.1709448721.A.C72.html'},\n",
       "  {'Title': '[正妹] Wing Stars #10 李樂',\n",
       "   'Author': 'andrew89112',\n",
       "   'HotNumber': 6,\n",
       "   'Date': ' 3/03',\n",
       "   'URL': '/bbs/Beauty/M.1709449838.A.73C.html'}]}"
      ]
     },
     "execution_count": 122,
     "metadata": {},
     "output_type": "execute_result"
    }
   ],
   "source": [
    "result = httpx.get(\"https://www.ptt.cc/bbs/Beauty/index3999.html\" , headers=get_header())\n",
    "result_dict = recommend_page_to_simple_dict(result.text)\n",
    "result_dict"
   ]
  },
  {
   "cell_type": "code",
   "execution_count": 123,
   "metadata": {},
   "outputs": [
    {
     "data": {
      "text/plain": [
       "{'Title': '[正妹] 對岸車模小玥玥',\n",
       " 'Author': 'fujiohuang',\n",
       " 'HotNumber': 2,\n",
       " 'Date': ' 3/02',\n",
       " 'URL': '/bbs/Beauty/M.1709377543.A.F27.html'}"
      ]
     },
     "execution_count": 123,
     "metadata": {},
     "output_type": "execute_result"
    }
   ],
   "source": [
    "test_page_dict = result_dict[\"Body\"][0]\n",
    "test_page_dict"
   ]
  },
  {
   "cell_type": "code",
   "execution_count": 124,
   "metadata": {},
   "outputs": [],
   "source": [
    "full_link = lambda url: f\"https://www.ptt.cc{url}\""
   ]
  },
  {
   "cell_type": "code",
   "execution_count": 125,
   "metadata": {},
   "outputs": [
    {
     "data": {
      "text/plain": [
       "'https://www.ptt.cc/bbs/Beauty/M.1709377543.A.F27.html'"
      ]
     },
     "execution_count": 125,
     "metadata": {},
     "output_type": "execute_result"
    }
   ],
   "source": [
    "url = full_link(test_page_dict[\"URL\"])\n",
    "url"
   ]
  },
  {
   "cell_type": "code",
   "execution_count": 126,
   "metadata": {},
   "outputs": [
    {
     "data": {
      "text/plain": [
       "<Response [200 OK]>"
      ]
     },
     "execution_count": 126,
     "metadata": {},
     "output_type": "execute_result"
    }
   ],
   "source": [
    "test_page = httpx.get(url, headers=get_header())\n",
    "test_page"
   ]
  },
  {
   "cell_type": "code",
   "execution_count": 127,
   "metadata": {},
   "outputs": [
    {
     "data": {
      "text/plain": [
       "b'<!DOCTYPE html>\\n<html>\\n\\t<head>\\n\\t\\t<meta charset=\"utf-8\">\\n\\t\\t\\n\\n<meta name=\"viewport\" content=\"width=device-width, initial-scale=1\">\\n\\n<title>[\\xe6\\xad\\xa3\\xe5\\xa6\\xb9] \\xe5\\xb0\\x8d\\xe5\\xb2\\xb8\\xe8\\xbb\\x8a\\xe6\\xa8\\xa1\\xe5\\xb0\\x8f\\xe7\\x8e\\xa5\\xe7\\x8e\\xa5 - \\xe7\\x9c\\x8b\\xe6\\x9d\\xbf Beauty - \\xe6\\x89\\xb9\\xe8\\xb8\\xa2\\xe8\\xb8\\xa2\\xe5\\xaf\\xa6\\xe6\\xa5\\xad\\xe5\\x9d\\x8a</title>\\n<meta name=\"robots\" content=\"all\">\\n<meta name=\"keywords\" content=\"Ptt BBS \\xe6\\x89\\xb9\\xe8\\xb8\\xa2\\xe8\\xb8\\xa2\">\\n<meta name=\"description\" content=\"https://i.imgur.com/DgEpPJ3.jpg\\nhttps://i.imgur.com/bse2pqp.jpg\\nhttps://i.imgur.com/CqaErqC.jpg\\nhttps://i.imgur.com/C7XH1kQ.jpg\\nhttps://i.imgur.com/QR4Saj6.jpg\\n\">\\n<meta property=\"og:site_name\" content=\"Ptt \\xe6\\x89\\xb9\\xe8\\xb8\\xa2\\xe8\\xb8\\xa2\\xe5\\xaf\\xa6\\xe6\\xa5\\xad\\xe5\\x9d\\x8a\">\\n<meta property=\"og:title\" content=\"[\\xe6\\xad\\xa3\\xe5\\xa6\\xb9] \\xe5\\xb0\\x8d\\xe5\\xb2\\xb8\\xe8\\xbb\\x8a\\xe6\\xa8\\xa1\\xe5\\xb0\\x8f\\xe7\\x8e\\xa5\\xe7\\x8e\\xa5\">\\n<meta property=\"og:description\" content=\"https://i.imgur.com/DgEpPJ3.jpg\\nhttps://i.imgur.com/bse2pqp.jpg\\nhttps://i.imgur.com/CqaErqC.jpg\\nhttps://i.imgur.com/C7XH1kQ.jpg\\nhttps://i.imgur.com/QR4Saj6.jpg\\n\">\\n<link rel=\"canonical\" href=\"https://www.ptt.cc/bbs/Beauty/M.1709377543.A.F27.html\">\\n\\n<link rel=\"stylesheet\" type=\"text/css\" href=\"//images.ptt.cc/bbs/v2.27/bbs-common.css\">\\n<link rel=\"stylesheet\" type=\"text/css\" href=\"//images.ptt.cc/bbs/v2.27/bbs-base.css\" media=\"screen\">\\n<link rel=\"stylesheet\" type=\"text/css\" href=\"//images.ptt.cc/bbs/v2.27/bbs-custom.css\">\\n<link rel=\"stylesheet\" type=\"text/css\" href=\"//images.ptt.cc/bbs/v2.27/pushstream.css\" media=\"screen\">\\n<link rel=\"stylesheet\" type=\"text/css\" href=\"//images.ptt.cc/bbs/v2.27/bbs-print.css\" media=\"print\">\\n\\n\\n\\n\\n\\t</head>\\n    <body>\\n\\t\\t\\n<div id=\"topbar-container\">\\n\\t<div id=\"topbar\" class=\"bbs-content\">\\n\\t\\t<a id=\"logo\" href=\"/bbs/\">\\xe6\\x89\\xb9\\xe8\\xb8\\xa2\\xe8\\xb8\\xa2\\xe5\\xaf\\xa6\\xe6\\xa5\\xad\\xe5\\x9d\\x8a</a>\\n\\t\\t<span>&rsaquo;</span>\\n\\t\\t<a class=\"board\" href=\"/bbs/Beauty/index.html\"><span class=\"board-label\">\\xe7\\x9c\\x8b\\xe6\\x9d\\xbf </span>Beauty</a>\\n\\t\\t<a class=\"right small\" href=\"/about.html\">\\xe9\\x97\\x9c\\xe6\\x96\\xbc\\xe6\\x88\\x91\\xe5\\x80\\x91</a>\\n\\t\\t<a class=\"right small\" href=\"/contact.html\">\\xe8\\x81\\xaf\\xe7\\xb5\\xa1\\xe8\\xb3\\x87\\xe8\\xa8\\x8a</a>\\n\\t</div>\\n</div>\\n<div id=\"navigation-container\">\\n\\t<div id=\"navigation\" class=\"bbs-content\">\\n\\t\\t<a class=\"board\" href=\"/bbs/Beauty/index.html\">\\xe8\\xbf\\x94\\xe5\\x9b\\x9e\\xe7\\x9c\\x8b\\xe6\\x9d\\xbf</a>\\n\\t\\t<div class=\"bar\"></div>\\n\\t</div>\\n</div>\\n<div id=\"main-container\">\\n    <div id=\"main-content\" class=\"bbs-screen bbs-content\"><div class=\"article-metaline\"><span class=\"article-meta-tag\">\\xe4\\xbd\\x9c\\xe8\\x80\\x85</span><span class=\"article-meta-value\">fujiohuang (\\xe5\\x95\\xaa\\xe5\\x99\\xa0\\xe7\\xa2\\xb0\\xe5\\x92\\x9a\\xe9\\x8f\\x98)</span></div><div class=\"article-metaline-right\"><span class=\"article-meta-tag\">\\xe7\\x9c\\x8b\\xe6\\x9d\\xbf</span><span class=\"article-meta-value\">Beauty</span></div><div class=\"article-metaline\"><span class=\"article-meta-tag\">\\xe6\\xa8\\x99\\xe9\\xa1\\x8c</span><span class=\"article-meta-value\">[\\xe6\\xad\\xa3\\xe5\\xa6\\xb9] \\xe5\\xb0\\x8d\\xe5\\xb2\\xb8\\xe8\\xbb\\x8a\\xe6\\xa8\\xa1\\xe5\\xb0\\x8f\\xe7\\x8e\\xa5\\xe7\\x8e\\xa5</span></div><div class=\"article-metaline\"><span class=\"article-meta-tag\">\\xe6\\x99\\x82\\xe9\\x96\\x93</span><span class=\"article-meta-value\">Sat Mar  2 19:05:41 2024</span></div>\\n<a href=\"https://i.imgur.com/DgEpPJ3.jpg\" target=\"_blank\" rel=\"noreferrer noopener nofollow\">https://i.imgur.com/DgEpPJ3.jpg</a>\\n<div class=\"richcontent\"><img src=\"https://cache.ptt.cc/c/https/i.imgur.com/DgEpPJ3l.jpg?e=1709631167&amp;s=fY9gsVOf_6BDoSv89WKxbQ\" alt=\"\" loading=\"lazy\" /></div><a href=\"https://i.imgur.com/bse2pqp.jpg\" target=\"_blank\" rel=\"noreferrer noopener nofollow\">https://i.imgur.com/bse2pqp.jpg</a>\\n<div class=\"richcontent\"><img src=\"https://cache.ptt.cc/c/https/i.imgur.com/bse2pqpl.jpg?e=1709583737&amp;s=qsam5mqWg89UaJ4YpY0l1A\" alt=\"\" loading=\"lazy\" /></div><a href=\"https://i.imgur.com/CqaErqC.jpg\" target=\"_blank\" rel=\"noreferrer noopener nofollow\">https://i.imgur.com/CqaErqC.jpg</a>\\n<div class=\"richcontent\"><img src=\"https://cache.ptt.cc/c/https/i.imgur.com/CqaErqCl.jpg?e=1709579352&amp;s=BtYSoW4vtBu_2pNO6eNECA\" alt=\"\" loading=\"lazy\" /></div><a href=\"https://i.imgur.com/C7XH1kQ.jpg\" target=\"_blank\" rel=\"noreferrer noopener nofollow\">https://i.imgur.com/C7XH1kQ.jpg</a>\\n<div class=\"richcontent\"><img src=\"https://cache.ptt.cc/c/https/i.imgur.com/C7XH1kQl.jpg?e=1709616665&amp;s=UqolfF1OLoDXd2WJ_NXBpA\" alt=\"\" loading=\"lazy\" /></div><a href=\"https://i.imgur.com/QR4Saj6.jpg\" target=\"_blank\" rel=\"noreferrer noopener nofollow\">https://i.imgur.com/QR4Saj6.jpg</a>\\n<div class=\"richcontent\"><img src=\"https://cache.ptt.cc/c/https/i.imgur.com/QR4Saj6l.jpg?e=1709610673&amp;s=aITWlIU1yNLBrpC58xZssQ\" alt=\"\" loading=\"lazy\" /></div><a href=\"https://i.imgur.com/AHLuiKL.jpg\" target=\"_blank\" rel=\"noreferrer noopener nofollow\">https://i.imgur.com/AHLuiKL.jpg</a>\\n<div class=\"richcontent\"><img src=\"https://cache.ptt.cc/c/https/i.imgur.com/AHLuiKLl.jpg?e=1709612206&amp;s=O3NcZpfoZ_lLcbbEYl4qjg\" alt=\"\" loading=\"lazy\" /></div><a href=\"https://i.imgur.com/679VY3i.jpg\" target=\"_blank\" rel=\"noreferrer noopener nofollow\">https://i.imgur.com/679VY3i.jpg</a>\\n<div class=\"richcontent\"><img src=\"https://cache.ptt.cc/c/https/i.imgur.com/679VY3il.jpg?e=1709597291&amp;s=idvllrHrnFUbCG7C5w6nfg\" alt=\"\" loading=\"lazy\" /></div>\\n--\\n<span class=\"f2\">\\xe2\\x80\\xbb \\xe7\\x99\\xbc\\xe4\\xbf\\xa1\\xe7\\xab\\x99: \\xe6\\x89\\xb9\\xe8\\xb8\\xa2\\xe8\\xb8\\xa2\\xe5\\xaf\\xa6\\xe6\\xa5\\xad\\xe5\\x9d\\x8a(ptt.cc), \\xe4\\xbe\\x86\\xe8\\x87\\xaa: 27.242.36.50 (\\xe8\\x87\\xba\\xe7\\x81\\xa3)\\n</span><span class=\"f2\">\\xe2\\x80\\xbb \\xe6\\x96\\x87\\xe7\\xab\\xa0\\xe7\\xb6\\xb2\\xe5\\x9d\\x80: <a href=\"https://www.ptt.cc/bbs/Beauty/M.1709377543.A.F27.html\" target=\"_blank\" rel=\"noreferrer noopener nofollow\">https://www.ptt.cc/bbs/Beauty/M.1709377543.A.F27.html</a>\\n</span><div class=\"push\"><span class=\"hl push-tag\">\\xe6\\x8e\\xa8 </span><span class=\"f3 hl push-userid\">littleaoc</span><span class=\"f3 push-content\">: \\xe8\\xae\\x9a\\xe6\\xac\\xb8</span><span class=\"push-ipdatetime\"> 36.232.122.139 03/02 22:07\\n</span></div><div class=\"push\"><span class=\"f1 hl push-tag\">\\xe2\\x86\\x92 </span><span class=\"f3 hl push-userid\">lovegogi</span><span class=\"f3 push-content\">: \\xe6\\x88\\x91\\xe6\\x94\\xbe\\xe5\\xa4\\xa7\\xe7\\x9c\\x8b\\xe6\\x9c\\x80\\xe5\\xbe\\x8c1\\xe5\\xbc\\xb5\\xe4\\xba\\x86</span><span class=\"push-ipdatetime\">   219.84.6.102 03/03 00:15\\n</span></div><div class=\"push\"><span class=\"f1 hl push-tag\">\\xe2\\x86\\x92 </span><span class=\"f3 hl push-userid\">fujiohuang</span><span class=\"f3 push-content\">: \\xe5\\x8e\\x9f\\xe5\\x9c\\x96\\xe6\\x98\\xaf8000x5000\\xe5\\x83\\x8f\\xe7\\xb4\\xa0</span><span class=\"push-ipdatetime\"> 27.240.200.207 03/03 09:13\\n</span></div><div class=\"push\"><span class=\"hl push-tag\">\\xe6\\x8e\\xa8 </span><span class=\"f3 hl push-userid\">furnaceh</span><span class=\"f3 push-content\">: \\xe4\\xb8\\x8d\\xe9\\x8c\\xaf</span><span class=\"push-ipdatetime\">220.135.246.137 03/03 09:34\\n</span></div></div>\\n    \\n    <div id=\"article-polling\" data-pollurl=\"/poll/Beauty/M.1709377543.A.F27.html?cacheKey=2148-612727150&amp;offset=865&amp;offset-sig=4840fdf7a5ab3120c8f23695eee2b1302ba45a73\" data-longpollurl=\"/v1/longpoll?id=e7d51877e50a8d59cf39eca23f914b96efb2a3db\" data-offset=\"865\"></div>\\n    \\n\\n    \\n<div class=\"bbs-screen bbs-footer-message\">\\xe6\\x9c\\xac\\xe7\\xb6\\xb2\\xe7\\xab\\x99\\xe5\\xb7\\xb2\\xe4\\xbe\\x9d\\xe5\\x8f\\xb0\\xe7\\x81\\xa3\\xe7\\xb6\\xb2\\xe7\\xab\\x99\\xe5\\x85\\xa7\\xe5\\xae\\xb9\\xe5\\x88\\x86\\xe7\\xb4\\x9a\\xe8\\xa6\\x8f\\xe5\\xae\\x9a\\xe8\\x99\\x95\\xe7\\x90\\x86\\xe3\\x80\\x82\\xe6\\xad\\xa4\\xe5\\x8d\\x80\\xe5\\x9f\\x9f\\xe7\\x82\\xba\\xe9\\x99\\x90\\xe5\\x88\\xb6\\xe7\\xb4\\x9a\\xef\\xbc\\x8c\\xe6\\x9c\\xaa\\xe6\\xbb\\xbf\\xe5\\x8d\\x81\\xe5\\x85\\xab\\xe6\\xad\\xb2\\xe8\\x80\\x85\\xe4\\xb8\\x8d\\xe5\\xbe\\x97\\xe7\\x80\\x8f\\xe8\\xa6\\xbd\\xe3\\x80\\x82</div>\\n\\n</div>\\n\\n\\t\\t\\n\\n\\n\\n<script async src=\"https://www.googletagmanager.com/gtag/js?id=G-DZ6Y3BY9GW\"></script>\\n<script>\\n      window.dataLayer = window.dataLayer || [];\\n      function gtag(){dataLayer.push(arguments);}\\n      gtag(\\'js\\', new Date());\\n\\n      gtag(\\'config\\', \\'G-DZ6Y3BY9GW\\');\\n</script>\\n<script>\\n  (function(i,s,o,g,r,a,m){i[\\'GoogleAnalyticsObject\\']=r;i[r]=i[r]||function(){\\n  (i[r].q=i[r].q||[]).push(arguments)},i[r].l=1*new Date();a=s.createElement(o),\\n  m=s.getElementsByTagName(o)[0];a.async=1;a.src=g;m.parentNode.insertBefore(a,m)\\n  })(window,document,\\'script\\',\\'https://www.google-analytics.com/analytics.js\\',\\'ga\\');\\n\\n  ga(\\'create\\', \\'UA-32365737-1\\', {\\n    cookieDomain: \\'ptt.cc\\',\\n    legacyCookieDomain: \\'ptt.cc\\'\\n  });\\n  ga(\\'send\\', \\'pageview\\');\\n</script>\\n\\n\\n\\t\\t\\n<script src=\"//ajax.googleapis.com/ajax/libs/jquery/2.1.1/jquery.min.js\"></script>\\n<script src=\"//images.ptt.cc/bbs/v2.27/bbs.js\"></script>\\n\\n    <script defer src=\"https://static.cloudflareinsights.com/beacon.min.js/v84a3a4012de94ce1a686ba8c167c359c1696973893317\" integrity=\"sha512-euoFGowhlaLqXsPWQ48qSkBSCFs3DPRyiwVu3FjR96cMPx+Fr+gpWRhIafcHwqwCqWS42RZhIudOvEI+Ckf6MA==\" data-cf-beacon=\\'{\"rayId\":\"85e8cd187f0e1f0f\",\"version\":\"2024.2.4\",\"r\":1,\"token\":\"515615eb5fab4c9b91a11e9bf529e6cf\",\"b\":1}\\' crossorigin=\"anonymous\"></script>\\n</body>\\n</html>\\n'"
      ]
     },
     "execution_count": 127,
     "metadata": {},
     "output_type": "execute_result"
    }
   ],
   "source": [
    "test_page.content"
   ]
  },
  {
   "cell_type": "code",
   "execution_count": 128,
   "metadata": {},
   "outputs": [
    {
     "data": {
      "text/plain": [
       "{'作者': 'fujiohuang (啪噠碰咚鏘)',\n",
       " '標題': '[正妹] 對岸車模小玥玥',\n",
       " '時間': 'Sat Mar  2 19:05:41 2024',\n",
       " 'Year': '2024',\n",
       " 'Month': 'Mar',\n",
       " 'Day': '2',\n",
       " 'Week': 'Sat',\n",
       " 'Time': '19:05:41',\n",
       " 'pd_time': Timestamp('2024-03-02 19:05:41')}"
      ]
     },
     "execution_count": 128,
     "metadata": {},
     "output_type": "execute_result"
    }
   ],
   "source": [
    "page_dict = page_to_simple_dict(test_page.content)\n",
    "page_dict"
   ]
  },
  {
   "cell_type": "code",
   "execution_count": 131,
   "metadata": {},
   "outputs": [
    {
     "data": {
      "text/plain": [
       "Timestamp('2023-01-01 00:26:06')"
      ]
     },
     "execution_count": 131,
     "metadata": {},
     "output_type": "execute_result"
    }
   ],
   "source": [
    "check_date = pd.to_datetime(\"2023-01-01-00:26:06\")\n",
    "check_date"
   ]
  },
  {
   "cell_type": "code",
   "execution_count": 133,
   "metadata": {},
   "outputs": [
    {
     "data": {
      "text/plain": [
       "Timestamp('2024-03-02 19:05:41')"
      ]
     },
     "execution_count": 133,
     "metadata": {},
     "output_type": "execute_result"
    }
   ],
   "source": [
    "test_date = page_dict['pd_time']\n",
    "test_date"
   ]
  },
  {
   "cell_type": "code",
   "execution_count": 137,
   "metadata": {},
   "outputs": [
    {
     "data": {
      "text/plain": [
       "Timestamp('2024-03-02 19:05:41')"
      ]
     },
     "execution_count": 137,
     "metadata": {},
     "output_type": "execute_result"
    }
   ],
   "source": [
    "test_date"
   ]
  },
  {
   "cell_type": "code",
   "execution_count": 136,
   "metadata": {},
   "outputs": [],
   "source": [
    "test_date_2 = pd.to_datetime(\"2022-12-31-00:26:06\")"
   ]
  },
  {
   "cell_type": "code",
   "execution_count": 138,
   "metadata": {},
   "outputs": [
    {
     "data": {
      "text/plain": [
       "True"
      ]
     },
     "execution_count": 138,
     "metadata": {},
     "output_type": "execute_result"
    }
   ],
   "source": [
    "test_date_2 < check_date < test_date"
   ]
  },
  {
   "cell_type": "code",
   "execution_count": 149,
   "metadata": {},
   "outputs": [],
   "source": [
    "async def page_time_range(url:str , client:httpx.AsyncClient)->list[pd.Timestamp]:\n",
    "    recommend_page_response = await client.get(url, headers=get_header())\n",
    "    page_dict = recommend_page_to_simple_dict(recommend_page_response.content)\n",
    "    page_body = page_dict[\"Body\"]\n",
    "    full_link = lambda url: f\"https://www.ptt.cc{url}\"\n",
    "    \n",
    "    start_page_url , end_page_utl = full_link(page_body[0][\"URL\"]) , full_link(page_body[-1][\"URL\"])\n",
    "    \n",
    "    start_page_response , end_page_response = await asyncio.gather(\n",
    "        client.get(start_page_url , headers=get_header()) , \n",
    "        client.get(end_page_utl , headers=get_header())\n",
    "    )\n",
    "\n",
    "    \n",
    "    start_page_dict = page_to_simple_dict(start_page_response.content)\n",
    "    end_page_dict = page_to_simple_dict(end_page_response.content)\n",
    "    \n",
    "    return [start_page_dict[\"pd_time\"] , end_page_dict[\"pd_time\"]]\n",
    "\n",
    "async def find_page_by_time(page_time:str , client:httpx.AsyncClient):\n",
    "    target_page_time = pd.to_datetime(page_time)\n",
    "    to_ptt_index_url = lambda num: f\"https://www.ptt.cc/bbs/Beauty/index{num}.html\"\n",
    "    left , right = 1 , 3999 \n",
    "    \n",
    "    while left <= right:\n",
    "        mid_number = (left + right) // 2\n",
    "        ptt_index_url = to_ptt_index_url(mid_number)\n",
    "        \n",
    "        print(f\"Now html: {ptt_index_url}\" , end=\"\\r\")\n",
    "        \n",
    "        time_range = await page_time_range(ptt_index_url , client)\n",
    "        \n",
    "        in_range  = time_range[0] <= target_page_time <= time_range[-1]\n",
    "        \n",
    "        # find range\n",
    "        if in_range:\n",
    "            return ptt_index_url\n",
    "        \n",
    "        if target_page_time < time_range[0]:\n",
    "            right = mid_number - 1\n",
    "            \n",
    "        elif target_page_time > time_range[-1]:\n",
    "            left = mid_number + 1\n",
    "    return \"\""
   ]
  },
  {
   "cell_type": "code",
   "execution_count": 150,
   "metadata": {},
   "outputs": [
    {
     "name": "stdout",
     "output_type": "stream",
     "text": [
      "Now html: https://www.ptt.cc/bbs/Beauty/index3656.html\r"
     ]
    }
   ],
   "source": [
    "async with httpx.AsyncClient() as client:\n",
    "    test_result = await find_page_by_time(\"2023-01-01-00:26:06\" , client)\n"
   ]
  },
  {
   "cell_type": "code",
   "execution_count": 151,
   "metadata": {},
   "outputs": [
    {
     "data": {
      "text/plain": [
       "'https://www.ptt.cc/bbs/Beauty/index3656.html'"
      ]
     },
     "execution_count": 151,
     "metadata": {},
     "output_type": "execute_result"
    }
   ],
   "source": [
    "test_result"
   ]
  }
 ],
 "metadata": {
  "kernelspec": {
   "display_name": ".venv",
   "language": "python",
   "name": "python3"
  },
  "language_info": {
   "codemirror_mode": {
    "name": "ipython",
    "version": 3
   },
   "file_extension": ".py",
   "mimetype": "text/x-python",
   "name": "python",
   "nbconvert_exporter": "python",
   "pygments_lexer": "ipython3",
   "version": "3.10.4"
  }
 },
 "nbformat": 4,
 "nbformat_minor": 2
}
