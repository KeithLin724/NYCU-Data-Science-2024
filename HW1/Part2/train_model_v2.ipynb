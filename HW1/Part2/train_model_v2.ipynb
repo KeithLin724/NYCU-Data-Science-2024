{
 "cells": [
  {
   "cell_type": "markdown",
   "metadata": {},
   "source": [
    "# Train Model\n",
    "## Written By KYLiN"
   ]
  },
  {
   "cell_type": "code",
   "execution_count": 21,
   "metadata": {},
   "outputs": [],
   "source": [
    "import torch\n",
    "import torchvision\n",
    "import torchvision.transforms as transforms\n",
    "import torch.nn as nn\n",
    "import torch.optim as optim\n",
    "from torchvision.datasets import ImageFolder\n",
    "from torch.utils.data import DataLoader , random_split\n",
    "from torch.utils.data.sampler import WeightedRandomSampler\n",
    "from torchvision.models import mobilenet_v3_large , MobileNet_V3_Large_Weights\n",
    "from sklearn.metrics import f1_score\n",
    "import pandas as pd \n",
    "\n",
    "# speed up \n",
    "from torch.cuda.amp import GradScaler , autocast\n",
    "\n",
    "# other sampler\n",
    "from torchsampler import ImbalancedDatasetSampler\n",
    "\n",
    "\n",
    "from rich import print\n",
    "from tqdm import tqdm\n",
    "import os\n",
    "from time import time"
   ]
  },
  {
   "cell_type": "code",
   "execution_count": 22,
   "metadata": {},
   "outputs": [
    {
     "data": {
      "text/html": [
       "<pre style=\"white-space:pre;overflow-x:auto;line-height:normal;font-family:Menlo,'DejaVu Sans Mono',consolas,'Courier New',monospace\">cuda\n",
       "</pre>\n"
      ],
      "text/plain": [
       "cuda\n"
      ]
     },
     "metadata": {},
     "output_type": "display_data"
    }
   ],
   "source": [
    "device = torch.device(\"cuda\" if torch.cuda.is_available() else \"cpu\")\n",
    "print(device)"
   ]
  },
  {
   "cell_type": "code",
   "execution_count": 23,
   "metadata": {},
   "outputs": [],
   "source": [
    "# 训练数据的 transforms\n",
    "transform_train = transforms.Compose([\n",
    "    transforms.RandomResizedCrop(size=224, scale=(0.8, 1.0)),\n",
    "    transforms.RandomAffine(degrees=0,translate=(0.05,0.05)),\n",
    "    transforms.RandomHorizontalFlip(),\n",
    "    transforms.RandomRotation(degrees=15),\n",
    "    transforms.ToTensor(),\n",
    "    transforms.Normalize(mean=[0.485, 0.456, 0.406], std=[0.229, 0.224, 0.225])\n",
    "])\n",
    "\n",
    "# 测试数据的 transforms\n",
    "transform_test = transforms.Compose([\n",
    "    transforms.Resize(256),\n",
    "    transforms.CenterCrop(224),\n",
    "    transforms.ToTensor(),\n",
    "    transforms.Normalize(mean=[0.485, 0.456, 0.406], std=[0.229, 0.224, 0.225])\n",
    "])"
   ]
  },
  {
   "cell_type": "code",
   "execution_count": 24,
   "metadata": {},
   "outputs": [
    {
     "data": {
      "text/html": [
       "<pre style=\"white-space:pre;overflow-x:auto;line-height:normal;font-family:Menlo,'DejaVu Sans Mono',consolas,'Courier New',monospace\">dataset size: <span style=\"color: #008080; text-decoration-color: #008080; font-weight: bold\">55592</span>, train size: <span style=\"color: #008080; text-decoration-color: #008080; font-weight: bold\">55591</span>, val size: <span style=\"color: #008080; text-decoration-color: #008080; font-weight: bold\">1</span>\n",
       "</pre>\n"
      ],
      "text/plain": [
       "dataset size: \u001b[1;36m55592\u001b[0m, train size: \u001b[1;36m55591\u001b[0m, val size: \u001b[1;36m1\u001b[0m\n"
      ]
     },
     "metadata": {},
     "output_type": "display_data"
    }
   ],
   "source": [
    "dataset_path = \"./database\"\n",
    "dataset = ImageFolder(dataset_path)\n",
    "\n",
    "dataset_size = len(dataset)\n",
    "train_size = int(0.99999998 * dataset_size)\n",
    "val_size = dataset_size - train_size\n",
    "\n",
    "print(f\"dataset size: {dataset_size}, train size: {train_size}, val size: {val_size}\")"
   ]
  },
  {
   "cell_type": "code",
   "execution_count": 25,
   "metadata": {},
   "outputs": [
    {
     "data": {
      "text/plain": [
       "['-10_1', '19_35', '2_6', '36_100', '7_18']"
      ]
     },
     "execution_count": 25,
     "metadata": {},
     "output_type": "execute_result"
    }
   ],
   "source": [
    "dataset.classes"
   ]
  },
  {
   "cell_type": "code",
   "execution_count": 26,
   "metadata": {},
   "outputs": [
    {
     "data": {
      "text/plain": [
       "5"
      ]
     },
     "execution_count": 26,
     "metadata": {},
     "output_type": "execute_result"
    }
   ],
   "source": [
    "classes_length = len(dataset.classes)\n",
    "classes_length"
   ]
  },
  {
   "cell_type": "code",
   "execution_count": 27,
   "metadata": {},
   "outputs": [],
   "source": [
    "train_dataset , val_dataset = random_split(dataset , [train_size , val_size])\n",
    "\n",
    "train_dataset.dataset.transform = transform_train\n",
    "val_dataset.dataset.transform = transform_test\n"
   ]
  },
  {
   "cell_type": "code",
   "execution_count": 28,
   "metadata": {},
   "outputs": [],
   "source": [
    "TRAIN_BATCH_SIZE = 32\n",
    "TEST_BATCH_SIZE = 32"
   ]
  },
  {
   "cell_type": "code",
   "execution_count": 29,
   "metadata": {},
   "outputs": [],
   "source": [
    "train_loader = DataLoader(train_dataset,\n",
    "                        #   sampler=WeightedRandomSampler([boo_weight , hot_weight], num_samples=len(dataset) , replacement=True), # include shuffle=True\n",
    "                          batch_size=TRAIN_BATCH_SIZE,\n",
    "                          shuffle=True,\n",
    "                          )\n",
    "\n",
    "test_loader = DataLoader(val_dataset,\n",
    "                         batch_size=TEST_BATCH_SIZE,\n",
    "                         shuffle=True,\n",
    "                         )"
   ]
  },
  {
   "cell_type": "code",
   "execution_count": 30,
   "metadata": {},
   "outputs": [],
   "source": [
    "# MODEL_PATH = os.path.join(\"./model\" , \"mobileNet_v3_test_v6.pth\")\n",
    "to_model_path = lambda epoch_num , type_:os.path.join(\"./model\" , f\"mobileNet_v3_v8_{epoch_num}_{type_}.pth\")\n",
    "\n",
    "model = mobilenet_v3_large(weights=MobileNet_V3_Large_Weights.IMAGENET1K_V2)\n",
    "\n",
    "num_features = model.classifier[-1].in_features\n",
    "# output only two class \n",
    "model.classifier[-1] = nn.Linear(num_features , 5)\n",
    "\n",
    "model = model.to(device=device)\n",
    "# print(model)"
   ]
  },
  {
   "cell_type": "code",
   "execution_count": 31,
   "metadata": {},
   "outputs": [],
   "source": [
    "# loss function and optimizer\n",
    "criterion = nn.CrossEntropyLoss() # weight=sample_weight.to(device)\n",
    "\n",
    "optimizer = optim.Adam(model.parameters() , lr=3e-4 ,  weight_decay=0.0001)"
   ]
  },
  {
   "cell_type": "code",
   "execution_count": 32,
   "metadata": {},
   "outputs": [
    {
     "data": {
      "text/html": [
       "<div>\n",
       "<style scoped>\n",
       "    .dataframe tbody tr th:only-of-type {\n",
       "        vertical-align: middle;\n",
       "    }\n",
       "\n",
       "    .dataframe tbody tr th {\n",
       "        vertical-align: top;\n",
       "    }\n",
       "\n",
       "    .dataframe thead th {\n",
       "        text-align: right;\n",
       "    }\n",
       "</style>\n",
       "<table border=\"1\" class=\"dataframe\">\n",
       "  <thead>\n",
       "    <tr style=\"text-align: right;\">\n",
       "      <th></th>\n",
       "      <th>epoch</th>\n",
       "      <th>time(mins)</th>\n",
       "      <th>loss</th>\n",
       "      <th>train_acc</th>\n",
       "      <th>train_f1</th>\n",
       "      <th>test_acc</th>\n",
       "      <th>test_f1</th>\n",
       "      <th>update</th>\n",
       "      <th>File Name</th>\n",
       "    </tr>\n",
       "  </thead>\n",
       "  <tbody>\n",
       "  </tbody>\n",
       "</table>\n",
       "</div>"
      ],
      "text/plain": [
       "Empty DataFrame\n",
       "Columns: [epoch, time(mins), loss, train_acc, train_f1, test_acc, test_f1, update, File Name]\n",
       "Index: []"
      ]
     },
     "execution_count": 32,
     "metadata": {},
     "output_type": "execute_result"
    }
   ],
   "source": [
    "\n",
    "TRAIN_EPOCH = 30\n",
    "train_data_record_df = pd.DataFrame({\n",
    "    \"epoch\":[] , \n",
    "    \"time(mins)\": [] , \n",
    "    \"loss\" : [] , \n",
    "    \"train_acc\" :[],\n",
    "    \"train_f1\":[] , \n",
    "    \"test_acc\": [] , \n",
    "    \"test_f1\":[] , \n",
    "    \"update\":[],\n",
    "    \"File Name\" : [],\n",
    "})\n",
    "train_data_record_df"
   ]
  },
  {
   "cell_type": "code",
   "execution_count": 33,
   "metadata": {},
   "outputs": [
    {
     "data": {
      "text/html": [
       "<pre style=\"white-space:pre;overflow-x:auto;line-height:normal;font-family:Menlo,'DejaVu Sans Mono',consolas,'Courier New',monospace\">Epoch: <span style=\"font-weight: bold\">[</span><span style=\"color: #008080; text-decoration-color: #008080; font-weight: bold\">0</span><span style=\"font-weight: bold\">]</span>\n",
       "</pre>\n"
      ],
      "text/plain": [
       "Epoch: \u001b[1m[\u001b[0m\u001b[1;36m0\u001b[0m\u001b[1m]\u001b[0m\n"
      ]
     },
     "metadata": {},
     "output_type": "display_data"
    },
    {
     "name": "stderr",
     "output_type": "stream",
     "text": [
      "Training...:   0%|          | 0/1738 [00:00<?, ?batch/s]"
     ]
    },
    {
     "name": "stderr",
     "output_type": "stream",
     "text": [
      "Training...: 100%|██████████| 1738/1738 [24:39<00:00,  1.17batch/s]\n",
      "Testing...: 100%|██████████| 1/1 [00:00<00:00,  5.92batch/s]\n"
     ]
    },
    {
     "data": {
      "text/html": [
       "<pre style=\"white-space:pre;overflow-x:auto;line-height:normal;font-family:Menlo,'DejaVu Sans Mono',consolas,'Courier New',monospace\">Time: <span style=\"color: #008080; text-decoration-color: #008080; font-weight: bold\">24.66835739215215</span>, Loss: <span style=\"color: #008080; text-decoration-color: #008080; font-weight: bold\">1.34</span>\n",
       "Train_acc: <span style=\"color: #008080; text-decoration-color: #008080; font-weight: bold\">32.18</span>, Test_acc: <span style=\"color: #008080; text-decoration-color: #008080; font-weight: bold\">0.00</span>\n",
       "</pre>\n"
      ],
      "text/plain": [
       "Time: \u001b[1;36m24.66835739215215\u001b[0m, Loss: \u001b[1;36m1.34\u001b[0m\n",
       "Train_acc: \u001b[1;36m32.18\u001b[0m, Test_acc: \u001b[1;36m0.00\u001b[0m\n"
      ]
     },
     "metadata": {},
     "output_type": "display_data"
    },
    {
     "data": {
      "text/html": [
       "<pre style=\"white-space:pre;overflow-x:auto;line-height:normal;font-family:Menlo,'DejaVu Sans Mono',consolas,'Courier New',monospace\">Train <span style=\"color: #00ff00; text-decoration-color: #00ff00; font-weight: bold\">f1:0</span>.<span style=\"color: #008080; text-decoration-color: #008080; font-weight: bold\">322</span>, Test f1: <span style=\"color: #008080; text-decoration-color: #008080; font-weight: bold\">0.000</span>\n",
       "</pre>\n"
      ],
      "text/plain": [
       "Train \u001b[1;92mf1:0\u001b[0m.\u001b[1;36m322\u001b[0m, Test f1: \u001b[1;36m0.000\u001b[0m\n"
      ]
     },
     "metadata": {},
     "output_type": "display_data"
    },
    {
     "data": {
      "text/html": [
       "<pre style=\"white-space:pre;overflow-x:auto;line-height:normal;font-family:Menlo,'DejaVu Sans Mono',consolas,'Courier New',monospace\">update new model, new acc: <span style=\"color: #008080; text-decoration-color: #008080; font-weight: bold\">32.18</span>, new f1: <span style=\"color: #008080; text-decoration-color: #008080; font-weight: bold\">0.322</span> , save in .<span style=\"color: #800080; text-decoration-color: #800080\">/</span><span style=\"color: #ff00ff; text-decoration-color: #ff00ff\">model</span>\\mobileNet_v3_v8_0_BOTH.pth\n",
       "</pre>\n"
      ],
      "text/plain": [
       "update new model, new acc: \u001b[1;36m32.18\u001b[0m, new f1: \u001b[1;36m0.322\u001b[0m , save in .\u001b[35m/\u001b[0m\u001b[95mmodel\u001b[0m\\mobileNet_v3_v8_0_BOTH.pth\n"
      ]
     },
     "metadata": {},
     "output_type": "display_data"
    },
    {
     "data": {
      "text/html": [
       "<pre style=\"white-space:pre;overflow-x:auto;line-height:normal;font-family:Menlo,'DejaVu Sans Mono',consolas,'Courier New',monospace\">Epoch: <span style=\"font-weight: bold\">[</span><span style=\"color: #008080; text-decoration-color: #008080; font-weight: bold\">1</span><span style=\"font-weight: bold\">]</span>\n",
       "</pre>\n"
      ],
      "text/plain": [
       "Epoch: \u001b[1m[\u001b[0m\u001b[1;36m1\u001b[0m\u001b[1m]\u001b[0m\n"
      ]
     },
     "metadata": {},
     "output_type": "display_data"
    },
    {
     "name": "stderr",
     "output_type": "stream",
     "text": [
      "Training...: 100%|██████████| 1738/1738 [25:45<00:00,  1.12batch/s]\n",
      "Testing...: 100%|██████████| 1/1 [00:00<00:00, 27.78batch/s]\n"
     ]
    },
    {
     "data": {
      "text/html": [
       "<pre style=\"white-space:pre;overflow-x:auto;line-height:normal;font-family:Menlo,'DejaVu Sans Mono',consolas,'Courier New',monospace\">Time: <span style=\"color: #008080; text-decoration-color: #008080; font-weight: bold\">25.7560444355011</span>, Loss: <span style=\"color: #008080; text-decoration-color: #008080; font-weight: bold\">1.34</span>\n",
       "Train_acc: <span style=\"color: #008080; text-decoration-color: #008080; font-weight: bold\">37.33</span>, Test_acc: <span style=\"color: #008080; text-decoration-color: #008080; font-weight: bold\">100.00</span>\n",
       "</pre>\n"
      ],
      "text/plain": [
       "Time: \u001b[1;36m25.7560444355011\u001b[0m, Loss: \u001b[1;36m1.34\u001b[0m\n",
       "Train_acc: \u001b[1;36m37.33\u001b[0m, Test_acc: \u001b[1;36m100.00\u001b[0m\n"
      ]
     },
     "metadata": {},
     "output_type": "display_data"
    },
    {
     "data": {
      "text/html": [
       "<pre style=\"white-space:pre;overflow-x:auto;line-height:normal;font-family:Menlo,'DejaVu Sans Mono',consolas,'Courier New',monospace\">Train <span style=\"color: #00ff00; text-decoration-color: #00ff00; font-weight: bold\">f1:0</span>.<span style=\"color: #008080; text-decoration-color: #008080; font-weight: bold\">373</span>, Test f1: <span style=\"color: #008080; text-decoration-color: #008080; font-weight: bold\">1.000</span>\n",
       "</pre>\n"
      ],
      "text/plain": [
       "Train \u001b[1;92mf1:0\u001b[0m.\u001b[1;36m373\u001b[0m, Test f1: \u001b[1;36m1.000\u001b[0m\n"
      ]
     },
     "metadata": {},
     "output_type": "display_data"
    },
    {
     "data": {
      "text/html": [
       "<pre style=\"white-space:pre;overflow-x:auto;line-height:normal;font-family:Menlo,'DejaVu Sans Mono',consolas,'Courier New',monospace\">update new model, new acc: <span style=\"color: #008080; text-decoration-color: #008080; font-weight: bold\">37.33</span>, new f1: <span style=\"color: #008080; text-decoration-color: #008080; font-weight: bold\">0.373</span> , save in .<span style=\"color: #800080; text-decoration-color: #800080\">/</span><span style=\"color: #ff00ff; text-decoration-color: #ff00ff\">model</span>\\mobileNet_v3_v8_1_BOTH.pth\n",
       "</pre>\n"
      ],
      "text/plain": [
       "update new model, new acc: \u001b[1;36m37.33\u001b[0m, new f1: \u001b[1;36m0.373\u001b[0m , save in .\u001b[35m/\u001b[0m\u001b[95mmodel\u001b[0m\\mobileNet_v3_v8_1_BOTH.pth\n"
      ]
     },
     "metadata": {},
     "output_type": "display_data"
    },
    {
     "data": {
      "text/html": [
       "<pre style=\"white-space:pre;overflow-x:auto;line-height:normal;font-family:Menlo,'DejaVu Sans Mono',consolas,'Courier New',monospace\">Epoch: <span style=\"font-weight: bold\">[</span><span style=\"color: #008080; text-decoration-color: #008080; font-weight: bold\">2</span><span style=\"font-weight: bold\">]</span>\n",
       "</pre>\n"
      ],
      "text/plain": [
       "Epoch: \u001b[1m[\u001b[0m\u001b[1;36m2\u001b[0m\u001b[1m]\u001b[0m\n"
      ]
     },
     "metadata": {},
     "output_type": "display_data"
    },
    {
     "name": "stderr",
     "output_type": "stream",
     "text": [
      "Training...: 100%|██████████| 1738/1738 [23:52<00:00,  1.21batch/s]\n",
      "Testing...: 100%|██████████| 1/1 [00:00<00:00, 29.68batch/s]\n"
     ]
    },
    {
     "data": {
      "text/html": [
       "<pre style=\"white-space:pre;overflow-x:auto;line-height:normal;font-family:Menlo,'DejaVu Sans Mono',consolas,'Courier New',monospace\">Time: <span style=\"color: #008080; text-decoration-color: #008080; font-weight: bold\">23.875602543354034</span>, Loss: <span style=\"color: #008080; text-decoration-color: #008080; font-weight: bold\">1.28</span>\n",
       "Train_acc: <span style=\"color: #008080; text-decoration-color: #008080; font-weight: bold\">41.83</span>, Test_acc: <span style=\"color: #008080; text-decoration-color: #008080; font-weight: bold\">0.00</span>\n",
       "</pre>\n"
      ],
      "text/plain": [
       "Time: \u001b[1;36m23.875602543354034\u001b[0m, Loss: \u001b[1;36m1.28\u001b[0m\n",
       "Train_acc: \u001b[1;36m41.83\u001b[0m, Test_acc: \u001b[1;36m0.00\u001b[0m\n"
      ]
     },
     "metadata": {},
     "output_type": "display_data"
    },
    {
     "data": {
      "text/html": [
       "<pre style=\"white-space:pre;overflow-x:auto;line-height:normal;font-family:Menlo,'DejaVu Sans Mono',consolas,'Courier New',monospace\">Train <span style=\"color: #00ff00; text-decoration-color: #00ff00; font-weight: bold\">f1:0</span>.<span style=\"color: #008080; text-decoration-color: #008080; font-weight: bold\">418</span>, Test f1: <span style=\"color: #008080; text-decoration-color: #008080; font-weight: bold\">0.000</span>\n",
       "</pre>\n"
      ],
      "text/plain": [
       "Train \u001b[1;92mf1:0\u001b[0m.\u001b[1;36m418\u001b[0m, Test f1: \u001b[1;36m0.000\u001b[0m\n"
      ]
     },
     "metadata": {},
     "output_type": "display_data"
    },
    {
     "data": {
      "text/html": [
       "<pre style=\"white-space:pre;overflow-x:auto;line-height:normal;font-family:Menlo,'DejaVu Sans Mono',consolas,'Courier New',monospace\">update new model, new acc: <span style=\"color: #008080; text-decoration-color: #008080; font-weight: bold\">41.83</span>, new f1: <span style=\"color: #008080; text-decoration-color: #008080; font-weight: bold\">0.418</span> , save in .<span style=\"color: #800080; text-decoration-color: #800080\">/</span><span style=\"color: #ff00ff; text-decoration-color: #ff00ff\">model</span>\\mobileNet_v3_v8_2_BOTH.pth\n",
       "</pre>\n"
      ],
      "text/plain": [
       "update new model, new acc: \u001b[1;36m41.83\u001b[0m, new f1: \u001b[1;36m0.418\u001b[0m , save in .\u001b[35m/\u001b[0m\u001b[95mmodel\u001b[0m\\mobileNet_v3_v8_2_BOTH.pth\n"
      ]
     },
     "metadata": {},
     "output_type": "display_data"
    },
    {
     "data": {
      "text/html": [
       "<pre style=\"white-space:pre;overflow-x:auto;line-height:normal;font-family:Menlo,'DejaVu Sans Mono',consolas,'Courier New',monospace\">Epoch: <span style=\"font-weight: bold\">[</span><span style=\"color: #008080; text-decoration-color: #008080; font-weight: bold\">3</span><span style=\"font-weight: bold\">]</span>\n",
       "</pre>\n"
      ],
      "text/plain": [
       "Epoch: \u001b[1m[\u001b[0m\u001b[1;36m3\u001b[0m\u001b[1m]\u001b[0m\n"
      ]
     },
     "metadata": {},
     "output_type": "display_data"
    },
    {
     "name": "stderr",
     "output_type": "stream",
     "text": [
      "Training...: 100%|██████████| 1738/1738 [24:30<00:00,  1.18batch/s]\n",
      "Testing...: 100%|██████████| 1/1 [00:00<00:00, 24.28batch/s]\n"
     ]
    },
    {
     "data": {
      "text/html": [
       "<pre style=\"white-space:pre;overflow-x:auto;line-height:normal;font-family:Menlo,'DejaVu Sans Mono',consolas,'Courier New',monospace\">Time: <span style=\"color: #008080; text-decoration-color: #008080; font-weight: bold\">24.510021928946177</span>, Loss: <span style=\"color: #008080; text-decoration-color: #008080; font-weight: bold\">1.10</span>\n",
       "Train_acc: <span style=\"color: #008080; text-decoration-color: #008080; font-weight: bold\">47.22</span>, Test_acc: <span style=\"color: #008080; text-decoration-color: #008080; font-weight: bold\">0.00</span>\n",
       "</pre>\n"
      ],
      "text/plain": [
       "Time: \u001b[1;36m24.510021928946177\u001b[0m, Loss: \u001b[1;36m1.10\u001b[0m\n",
       "Train_acc: \u001b[1;36m47.22\u001b[0m, Test_acc: \u001b[1;36m0.00\u001b[0m\n"
      ]
     },
     "metadata": {},
     "output_type": "display_data"
    },
    {
     "data": {
      "text/html": [
       "<pre style=\"white-space:pre;overflow-x:auto;line-height:normal;font-family:Menlo,'DejaVu Sans Mono',consolas,'Courier New',monospace\">Train <span style=\"color: #00ff00; text-decoration-color: #00ff00; font-weight: bold\">f1:0</span>.<span style=\"color: #008080; text-decoration-color: #008080; font-weight: bold\">472</span>, Test f1: <span style=\"color: #008080; text-decoration-color: #008080; font-weight: bold\">0.000</span>\n",
       "</pre>\n"
      ],
      "text/plain": [
       "Train \u001b[1;92mf1:0\u001b[0m.\u001b[1;36m472\u001b[0m, Test f1: \u001b[1;36m0.000\u001b[0m\n"
      ]
     },
     "metadata": {},
     "output_type": "display_data"
    },
    {
     "data": {
      "text/html": [
       "<pre style=\"white-space:pre;overflow-x:auto;line-height:normal;font-family:Menlo,'DejaVu Sans Mono',consolas,'Courier New',monospace\">update new model, new acc: <span style=\"color: #008080; text-decoration-color: #008080; font-weight: bold\">47.22</span>, new f1: <span style=\"color: #008080; text-decoration-color: #008080; font-weight: bold\">0.472</span> , save in .<span style=\"color: #800080; text-decoration-color: #800080\">/</span><span style=\"color: #ff00ff; text-decoration-color: #ff00ff\">model</span>\\mobileNet_v3_v8_3_BOTH.pth\n",
       "</pre>\n"
      ],
      "text/plain": [
       "update new model, new acc: \u001b[1;36m47.22\u001b[0m, new f1: \u001b[1;36m0.472\u001b[0m , save in .\u001b[35m/\u001b[0m\u001b[95mmodel\u001b[0m\\mobileNet_v3_v8_3_BOTH.pth\n"
      ]
     },
     "metadata": {},
     "output_type": "display_data"
    },
    {
     "data": {
      "text/html": [
       "<pre style=\"white-space:pre;overflow-x:auto;line-height:normal;font-family:Menlo,'DejaVu Sans Mono',consolas,'Courier New',monospace\">Epoch: <span style=\"font-weight: bold\">[</span><span style=\"color: #008080; text-decoration-color: #008080; font-weight: bold\">4</span><span style=\"font-weight: bold\">]</span>\n",
       "</pre>\n"
      ],
      "text/plain": [
       "Epoch: \u001b[1m[\u001b[0m\u001b[1;36m4\u001b[0m\u001b[1m]\u001b[0m\n"
      ]
     },
     "metadata": {},
     "output_type": "display_data"
    },
    {
     "name": "stderr",
     "output_type": "stream",
     "text": [
      "Training...: 100%|██████████| 1738/1738 [23:56<00:00,  1.21batch/s]\n",
      "Testing...: 100%|██████████| 1/1 [00:00<00:00, 31.25batch/s]\n"
     ]
    },
    {
     "data": {
      "text/html": [
       "<pre style=\"white-space:pre;overflow-x:auto;line-height:normal;font-family:Menlo,'DejaVu Sans Mono',consolas,'Courier New',monospace\">Time: <span style=\"color: #008080; text-decoration-color: #008080; font-weight: bold\">23.938383583227793</span>, Loss: <span style=\"color: #008080; text-decoration-color: #008080; font-weight: bold\">1.51</span>\n",
       "Train_acc: <span style=\"color: #008080; text-decoration-color: #008080; font-weight: bold\">54.77</span>, Test_acc: <span style=\"color: #008080; text-decoration-color: #008080; font-weight: bold\">0.00</span>\n",
       "</pre>\n"
      ],
      "text/plain": [
       "Time: \u001b[1;36m23.938383583227793\u001b[0m, Loss: \u001b[1;36m1.51\u001b[0m\n",
       "Train_acc: \u001b[1;36m54.77\u001b[0m, Test_acc: \u001b[1;36m0.00\u001b[0m\n"
      ]
     },
     "metadata": {},
     "output_type": "display_data"
    },
    {
     "data": {
      "text/html": [
       "<pre style=\"white-space:pre;overflow-x:auto;line-height:normal;font-family:Menlo,'DejaVu Sans Mono',consolas,'Courier New',monospace\">Train <span style=\"color: #00ff00; text-decoration-color: #00ff00; font-weight: bold\">f1:0</span>.<span style=\"color: #008080; text-decoration-color: #008080; font-weight: bold\">548</span>, Test f1: <span style=\"color: #008080; text-decoration-color: #008080; font-weight: bold\">0.000</span>\n",
       "</pre>\n"
      ],
      "text/plain": [
       "Train \u001b[1;92mf1:0\u001b[0m.\u001b[1;36m548\u001b[0m, Test f1: \u001b[1;36m0.000\u001b[0m\n"
      ]
     },
     "metadata": {},
     "output_type": "display_data"
    },
    {
     "data": {
      "text/html": [
       "<pre style=\"white-space:pre;overflow-x:auto;line-height:normal;font-family:Menlo,'DejaVu Sans Mono',consolas,'Courier New',monospace\">update new model, new acc: <span style=\"color: #008080; text-decoration-color: #008080; font-weight: bold\">54.77</span>, new f1: <span style=\"color: #008080; text-decoration-color: #008080; font-weight: bold\">0.548</span> , save in .<span style=\"color: #800080; text-decoration-color: #800080\">/</span><span style=\"color: #ff00ff; text-decoration-color: #ff00ff\">model</span>\\mobileNet_v3_v8_4_BOTH.pth\n",
       "</pre>\n"
      ],
      "text/plain": [
       "update new model, new acc: \u001b[1;36m54.77\u001b[0m, new f1: \u001b[1;36m0.548\u001b[0m , save in .\u001b[35m/\u001b[0m\u001b[95mmodel\u001b[0m\\mobileNet_v3_v8_4_BOTH.pth\n"
      ]
     },
     "metadata": {},
     "output_type": "display_data"
    },
    {
     "data": {
      "text/html": [
       "<pre style=\"white-space:pre;overflow-x:auto;line-height:normal;font-family:Menlo,'DejaVu Sans Mono',consolas,'Courier New',monospace\">Epoch: <span style=\"font-weight: bold\">[</span><span style=\"color: #008080; text-decoration-color: #008080; font-weight: bold\">5</span><span style=\"font-weight: bold\">]</span>\n",
       "</pre>\n"
      ],
      "text/plain": [
       "Epoch: \u001b[1m[\u001b[0m\u001b[1;36m5\u001b[0m\u001b[1m]\u001b[0m\n"
      ]
     },
     "metadata": {},
     "output_type": "display_data"
    },
    {
     "name": "stderr",
     "output_type": "stream",
     "text": [
      "Training...: 100%|██████████| 1738/1738 [23:18<00:00,  1.24batch/s]\n",
      "Testing...: 100%|██████████| 1/1 [00:00<00:00, 24.39batch/s]\n"
     ]
    },
    {
     "data": {
      "text/html": [
       "<pre style=\"white-space:pre;overflow-x:auto;line-height:normal;font-family:Menlo,'DejaVu Sans Mono',consolas,'Courier New',monospace\">Time: <span style=\"color: #008080; text-decoration-color: #008080; font-weight: bold\">23.316174070040386</span>, Loss: <span style=\"color: #008080; text-decoration-color: #008080; font-weight: bold\">0.98</span>\n",
       "Train_acc: <span style=\"color: #008080; text-decoration-color: #008080; font-weight: bold\">62.72</span>, Test_acc: <span style=\"color: #008080; text-decoration-color: #008080; font-weight: bold\">100.00</span>\n",
       "</pre>\n"
      ],
      "text/plain": [
       "Time: \u001b[1;36m23.316174070040386\u001b[0m, Loss: \u001b[1;36m0.98\u001b[0m\n",
       "Train_acc: \u001b[1;36m62.72\u001b[0m, Test_acc: \u001b[1;36m100.00\u001b[0m\n"
      ]
     },
     "metadata": {},
     "output_type": "display_data"
    },
    {
     "data": {
      "text/html": [
       "<pre style=\"white-space:pre;overflow-x:auto;line-height:normal;font-family:Menlo,'DejaVu Sans Mono',consolas,'Courier New',monospace\">Train <span style=\"color: #00ff00; text-decoration-color: #00ff00; font-weight: bold\">f1:0</span>.<span style=\"color: #008080; text-decoration-color: #008080; font-weight: bold\">627</span>, Test f1: <span style=\"color: #008080; text-decoration-color: #008080; font-weight: bold\">1.000</span>\n",
       "</pre>\n"
      ],
      "text/plain": [
       "Train \u001b[1;92mf1:0\u001b[0m.\u001b[1;36m627\u001b[0m, Test f1: \u001b[1;36m1.000\u001b[0m\n"
      ]
     },
     "metadata": {},
     "output_type": "display_data"
    },
    {
     "data": {
      "text/html": [
       "<pre style=\"white-space:pre;overflow-x:auto;line-height:normal;font-family:Menlo,'DejaVu Sans Mono',consolas,'Courier New',monospace\">update new model, new acc: <span style=\"color: #008080; text-decoration-color: #008080; font-weight: bold\">62.72</span>, new f1: <span style=\"color: #008080; text-decoration-color: #008080; font-weight: bold\">0.627</span> , save in .<span style=\"color: #800080; text-decoration-color: #800080\">/</span><span style=\"color: #ff00ff; text-decoration-color: #ff00ff\">model</span>\\mobileNet_v3_v8_5_BOTH.pth\n",
       "</pre>\n"
      ],
      "text/plain": [
       "update new model, new acc: \u001b[1;36m62.72\u001b[0m, new f1: \u001b[1;36m0.627\u001b[0m , save in .\u001b[35m/\u001b[0m\u001b[95mmodel\u001b[0m\\mobileNet_v3_v8_5_BOTH.pth\n"
      ]
     },
     "metadata": {},
     "output_type": "display_data"
    },
    {
     "data": {
      "text/html": [
       "<pre style=\"white-space:pre;overflow-x:auto;line-height:normal;font-family:Menlo,'DejaVu Sans Mono',consolas,'Courier New',monospace\">Epoch: <span style=\"font-weight: bold\">[</span><span style=\"color: #008080; text-decoration-color: #008080; font-weight: bold\">6</span><span style=\"font-weight: bold\">]</span>\n",
       "</pre>\n"
      ],
      "text/plain": [
       "Epoch: \u001b[1m[\u001b[0m\u001b[1;36m6\u001b[0m\u001b[1m]\u001b[0m\n"
      ]
     },
     "metadata": {},
     "output_type": "display_data"
    },
    {
     "name": "stderr",
     "output_type": "stream",
     "text": [
      "Training...: 100%|██████████| 1738/1738 [22:38<00:00,  1.28batch/s]\n",
      "Testing...: 100%|██████████| 1/1 [00:00<00:00, 27.18batch/s]\n"
     ]
    },
    {
     "data": {
      "text/html": [
       "<pre style=\"white-space:pre;overflow-x:auto;line-height:normal;font-family:Menlo,'DejaVu Sans Mono',consolas,'Courier New',monospace\">Time: <span style=\"color: #008080; text-decoration-color: #008080; font-weight: bold\">22.643145163853962</span>, Loss: <span style=\"color: #008080; text-decoration-color: #008080; font-weight: bold\">0.79</span>\n",
       "Train_acc: <span style=\"color: #008080; text-decoration-color: #008080; font-weight: bold\">70.73</span>, Test_acc: <span style=\"color: #008080; text-decoration-color: #008080; font-weight: bold\">0.00</span>\n",
       "</pre>\n"
      ],
      "text/plain": [
       "Time: \u001b[1;36m22.643145163853962\u001b[0m, Loss: \u001b[1;36m0.79\u001b[0m\n",
       "Train_acc: \u001b[1;36m70.73\u001b[0m, Test_acc: \u001b[1;36m0.00\u001b[0m\n"
      ]
     },
     "metadata": {},
     "output_type": "display_data"
    },
    {
     "data": {
      "text/html": [
       "<pre style=\"white-space:pre;overflow-x:auto;line-height:normal;font-family:Menlo,'DejaVu Sans Mono',consolas,'Courier New',monospace\">Train <span style=\"color: #00ff00; text-decoration-color: #00ff00; font-weight: bold\">f1:0</span>.<span style=\"color: #008080; text-decoration-color: #008080; font-weight: bold\">707</span>, Test f1: <span style=\"color: #008080; text-decoration-color: #008080; font-weight: bold\">0.000</span>\n",
       "</pre>\n"
      ],
      "text/plain": [
       "Train \u001b[1;92mf1:0\u001b[0m.\u001b[1;36m707\u001b[0m, Test f1: \u001b[1;36m0.000\u001b[0m\n"
      ]
     },
     "metadata": {},
     "output_type": "display_data"
    },
    {
     "data": {
      "text/html": [
       "<pre style=\"white-space:pre;overflow-x:auto;line-height:normal;font-family:Menlo,'DejaVu Sans Mono',consolas,'Courier New',monospace\">update new model, new acc: <span style=\"color: #008080; text-decoration-color: #008080; font-weight: bold\">70.73</span>, new f1: <span style=\"color: #008080; text-decoration-color: #008080; font-weight: bold\">0.707</span> , save in .<span style=\"color: #800080; text-decoration-color: #800080\">/</span><span style=\"color: #ff00ff; text-decoration-color: #ff00ff\">model</span>\\mobileNet_v3_v8_6_BOTH.pth\n",
       "</pre>\n"
      ],
      "text/plain": [
       "update new model, new acc: \u001b[1;36m70.73\u001b[0m, new f1: \u001b[1;36m0.707\u001b[0m , save in .\u001b[35m/\u001b[0m\u001b[95mmodel\u001b[0m\\mobileNet_v3_v8_6_BOTH.pth\n"
      ]
     },
     "metadata": {},
     "output_type": "display_data"
    },
    {
     "data": {
      "text/html": [
       "<pre style=\"white-space:pre;overflow-x:auto;line-height:normal;font-family:Menlo,'DejaVu Sans Mono',consolas,'Courier New',monospace\">Epoch: <span style=\"font-weight: bold\">[</span><span style=\"color: #008080; text-decoration-color: #008080; font-weight: bold\">7</span><span style=\"font-weight: bold\">]</span>\n",
       "</pre>\n"
      ],
      "text/plain": [
       "Epoch: \u001b[1m[\u001b[0m\u001b[1;36m7\u001b[0m\u001b[1m]\u001b[0m\n"
      ]
     },
     "metadata": {},
     "output_type": "display_data"
    },
    {
     "name": "stderr",
     "output_type": "stream",
     "text": [
      "Training...: 100%|██████████| 1738/1738 [22:39<00:00,  1.28batch/s]\n",
      "Testing...: 100%|██████████| 1/1 [00:00<00:00, 27.59batch/s]\n"
     ]
    },
    {
     "data": {
      "text/html": [
       "<pre style=\"white-space:pre;overflow-x:auto;line-height:normal;font-family:Menlo,'DejaVu Sans Mono',consolas,'Courier New',monospace\">Time: <span style=\"color: #008080; text-decoration-color: #008080; font-weight: bold\">22.663776616255443</span>, Loss: <span style=\"color: #008080; text-decoration-color: #008080; font-weight: bold\">0.87</span>\n",
       "Train_acc: <span style=\"color: #008080; text-decoration-color: #008080; font-weight: bold\">77.72</span>, Test_acc: <span style=\"color: #008080; text-decoration-color: #008080; font-weight: bold\">100.00</span>\n",
       "</pre>\n"
      ],
      "text/plain": [
       "Time: \u001b[1;36m22.663776616255443\u001b[0m, Loss: \u001b[1;36m0.87\u001b[0m\n",
       "Train_acc: \u001b[1;36m77.72\u001b[0m, Test_acc: \u001b[1;36m100.00\u001b[0m\n"
      ]
     },
     "metadata": {},
     "output_type": "display_data"
    },
    {
     "data": {
      "text/html": [
       "<pre style=\"white-space:pre;overflow-x:auto;line-height:normal;font-family:Menlo,'DejaVu Sans Mono',consolas,'Courier New',monospace\">Train <span style=\"color: #00ff00; text-decoration-color: #00ff00; font-weight: bold\">f1:0</span>.<span style=\"color: #008080; text-decoration-color: #008080; font-weight: bold\">777</span>, Test f1: <span style=\"color: #008080; text-decoration-color: #008080; font-weight: bold\">1.000</span>\n",
       "</pre>\n"
      ],
      "text/plain": [
       "Train \u001b[1;92mf1:0\u001b[0m.\u001b[1;36m777\u001b[0m, Test f1: \u001b[1;36m1.000\u001b[0m\n"
      ]
     },
     "metadata": {},
     "output_type": "display_data"
    },
    {
     "data": {
      "text/html": [
       "<pre style=\"white-space:pre;overflow-x:auto;line-height:normal;font-family:Menlo,'DejaVu Sans Mono',consolas,'Courier New',monospace\">update new model, new acc: <span style=\"color: #008080; text-decoration-color: #008080; font-weight: bold\">77.72</span>, new f1: <span style=\"color: #008080; text-decoration-color: #008080; font-weight: bold\">0.777</span> , save in .<span style=\"color: #800080; text-decoration-color: #800080\">/</span><span style=\"color: #ff00ff; text-decoration-color: #ff00ff\">model</span>\\mobileNet_v3_v8_7_BOTH.pth\n",
       "</pre>\n"
      ],
      "text/plain": [
       "update new model, new acc: \u001b[1;36m77.72\u001b[0m, new f1: \u001b[1;36m0.777\u001b[0m , save in .\u001b[35m/\u001b[0m\u001b[95mmodel\u001b[0m\\mobileNet_v3_v8_7_BOTH.pth\n"
      ]
     },
     "metadata": {},
     "output_type": "display_data"
    },
    {
     "data": {
      "text/html": [
       "<pre style=\"white-space:pre;overflow-x:auto;line-height:normal;font-family:Menlo,'DejaVu Sans Mono',consolas,'Courier New',monospace\">Epoch: <span style=\"font-weight: bold\">[</span><span style=\"color: #008080; text-decoration-color: #008080; font-weight: bold\">8</span><span style=\"font-weight: bold\">]</span>\n",
       "</pre>\n"
      ],
      "text/plain": [
       "Epoch: \u001b[1m[\u001b[0m\u001b[1;36m8\u001b[0m\u001b[1m]\u001b[0m\n"
      ]
     },
     "metadata": {},
     "output_type": "display_data"
    },
    {
     "name": "stderr",
     "output_type": "stream",
     "text": [
      "Training...: 100%|██████████| 1738/1738 [22:32<00:00,  1.29batch/s]\n",
      "Testing...: 100%|██████████| 1/1 [00:00<00:00, 32.26batch/s]\n"
     ]
    },
    {
     "data": {
      "text/html": [
       "<pre style=\"white-space:pre;overflow-x:auto;line-height:normal;font-family:Menlo,'DejaVu Sans Mono',consolas,'Courier New',monospace\">Time: <span style=\"color: #008080; text-decoration-color: #008080; font-weight: bold\">22.538652686278024</span>, Loss: <span style=\"color: #008080; text-decoration-color: #008080; font-weight: bold\">1.00</span>\n",
       "Train_acc: <span style=\"color: #008080; text-decoration-color: #008080; font-weight: bold\">82.46</span>, Test_acc: <span style=\"color: #008080; text-decoration-color: #008080; font-weight: bold\">100.00</span>\n",
       "</pre>\n"
      ],
      "text/plain": [
       "Time: \u001b[1;36m22.538652686278024\u001b[0m, Loss: \u001b[1;36m1.00\u001b[0m\n",
       "Train_acc: \u001b[1;36m82.46\u001b[0m, Test_acc: \u001b[1;36m100.00\u001b[0m\n"
      ]
     },
     "metadata": {},
     "output_type": "display_data"
    },
    {
     "data": {
      "text/html": [
       "<pre style=\"white-space:pre;overflow-x:auto;line-height:normal;font-family:Menlo,'DejaVu Sans Mono',consolas,'Courier New',monospace\">Train <span style=\"color: #00ff00; text-decoration-color: #00ff00; font-weight: bold\">f1:0</span>.<span style=\"color: #008080; text-decoration-color: #008080; font-weight: bold\">825</span>, Test f1: <span style=\"color: #008080; text-decoration-color: #008080; font-weight: bold\">1.000</span>\n",
       "</pre>\n"
      ],
      "text/plain": [
       "Train \u001b[1;92mf1:0\u001b[0m.\u001b[1;36m825\u001b[0m, Test f1: \u001b[1;36m1.000\u001b[0m\n"
      ]
     },
     "metadata": {},
     "output_type": "display_data"
    },
    {
     "data": {
      "text/html": [
       "<pre style=\"white-space:pre;overflow-x:auto;line-height:normal;font-family:Menlo,'DejaVu Sans Mono',consolas,'Courier New',monospace\">update new model, new acc: <span style=\"color: #008080; text-decoration-color: #008080; font-weight: bold\">82.46</span>, new f1: <span style=\"color: #008080; text-decoration-color: #008080; font-weight: bold\">0.825</span> , save in .<span style=\"color: #800080; text-decoration-color: #800080\">/</span><span style=\"color: #ff00ff; text-decoration-color: #ff00ff\">model</span>\\mobileNet_v3_v8_8_BOTH.pth\n",
       "</pre>\n"
      ],
      "text/plain": [
       "update new model, new acc: \u001b[1;36m82.46\u001b[0m, new f1: \u001b[1;36m0.825\u001b[0m , save in .\u001b[35m/\u001b[0m\u001b[95mmodel\u001b[0m\\mobileNet_v3_v8_8_BOTH.pth\n"
      ]
     },
     "metadata": {},
     "output_type": "display_data"
    },
    {
     "data": {
      "text/html": [
       "<pre style=\"white-space:pre;overflow-x:auto;line-height:normal;font-family:Menlo,'DejaVu Sans Mono',consolas,'Courier New',monospace\">Epoch: <span style=\"font-weight: bold\">[</span><span style=\"color: #008080; text-decoration-color: #008080; font-weight: bold\">9</span><span style=\"font-weight: bold\">]</span>\n",
       "</pre>\n"
      ],
      "text/plain": [
       "Epoch: \u001b[1m[\u001b[0m\u001b[1;36m9\u001b[0m\u001b[1m]\u001b[0m\n"
      ]
     },
     "metadata": {},
     "output_type": "display_data"
    },
    {
     "name": "stderr",
     "output_type": "stream",
     "text": [
      "Training...: 100%|██████████| 1738/1738 [22:35<00:00,  1.28batch/s]\n",
      "Testing...: 100%|██████████| 1/1 [00:00<00:00, 33.34batch/s]\n"
     ]
    },
    {
     "data": {
      "text/html": [
       "<pre style=\"white-space:pre;overflow-x:auto;line-height:normal;font-family:Menlo,'DejaVu Sans Mono',consolas,'Courier New',monospace\">Time: <span style=\"color: #008080; text-decoration-color: #008080; font-weight: bold\">22.599420007069906</span>, Loss: <span style=\"color: #008080; text-decoration-color: #008080; font-weight: bold\">0.48</span>\n",
       "Train_acc: <span style=\"color: #008080; text-decoration-color: #008080; font-weight: bold\">85.45</span>, Test_acc: <span style=\"color: #008080; text-decoration-color: #008080; font-weight: bold\">0.00</span>\n",
       "</pre>\n"
      ],
      "text/plain": [
       "Time: \u001b[1;36m22.599420007069906\u001b[0m, Loss: \u001b[1;36m0.48\u001b[0m\n",
       "Train_acc: \u001b[1;36m85.45\u001b[0m, Test_acc: \u001b[1;36m0.00\u001b[0m\n"
      ]
     },
     "metadata": {},
     "output_type": "display_data"
    },
    {
     "data": {
      "text/html": [
       "<pre style=\"white-space:pre;overflow-x:auto;line-height:normal;font-family:Menlo,'DejaVu Sans Mono',consolas,'Courier New',monospace\">Train <span style=\"color: #00ff00; text-decoration-color: #00ff00; font-weight: bold\">f1:0</span>.<span style=\"color: #008080; text-decoration-color: #008080; font-weight: bold\">855</span>, Test f1: <span style=\"color: #008080; text-decoration-color: #008080; font-weight: bold\">0.000</span>\n",
       "</pre>\n"
      ],
      "text/plain": [
       "Train \u001b[1;92mf1:0\u001b[0m.\u001b[1;36m855\u001b[0m, Test f1: \u001b[1;36m0.000\u001b[0m\n"
      ]
     },
     "metadata": {},
     "output_type": "display_data"
    },
    {
     "data": {
      "text/html": [
       "<pre style=\"white-space:pre;overflow-x:auto;line-height:normal;font-family:Menlo,'DejaVu Sans Mono',consolas,'Courier New',monospace\">update new model, new acc: <span style=\"color: #008080; text-decoration-color: #008080; font-weight: bold\">85.45</span>, new f1: <span style=\"color: #008080; text-decoration-color: #008080; font-weight: bold\">0.855</span> , save in .<span style=\"color: #800080; text-decoration-color: #800080\">/</span><span style=\"color: #ff00ff; text-decoration-color: #ff00ff\">model</span>\\mobileNet_v3_v8_9_BOTH.pth\n",
       "</pre>\n"
      ],
      "text/plain": [
       "update new model, new acc: \u001b[1;36m85.45\u001b[0m, new f1: \u001b[1;36m0.855\u001b[0m , save in .\u001b[35m/\u001b[0m\u001b[95mmodel\u001b[0m\\mobileNet_v3_v8_9_BOTH.pth\n"
      ]
     },
     "metadata": {},
     "output_type": "display_data"
    },
    {
     "data": {
      "text/html": [
       "<pre style=\"white-space:pre;overflow-x:auto;line-height:normal;font-family:Menlo,'DejaVu Sans Mono',consolas,'Courier New',monospace\">Epoch: <span style=\"font-weight: bold\">[</span><span style=\"color: #008080; text-decoration-color: #008080; font-weight: bold\">10</span><span style=\"font-weight: bold\">]</span>\n",
       "</pre>\n"
      ],
      "text/plain": [
       "Epoch: \u001b[1m[\u001b[0m\u001b[1;36m10\u001b[0m\u001b[1m]\u001b[0m\n"
      ]
     },
     "metadata": {},
     "output_type": "display_data"
    },
    {
     "name": "stderr",
     "output_type": "stream",
     "text": [
      "Training...: 100%|██████████| 1738/1738 [22:34<00:00,  1.28batch/s]\n",
      "Testing...: 100%|██████████| 1/1 [00:00<00:00, 26.32batch/s]\n"
     ]
    },
    {
     "data": {
      "text/html": [
       "<pre style=\"white-space:pre;overflow-x:auto;line-height:normal;font-family:Menlo,'DejaVu Sans Mono',consolas,'Courier New',monospace\">Time: <span style=\"color: #008080; text-decoration-color: #008080; font-weight: bold\">22.57929635445277</span>, Loss: <span style=\"color: #008080; text-decoration-color: #008080; font-weight: bold\">0.11</span>\n",
       "Train_acc: <span style=\"color: #008080; text-decoration-color: #008080; font-weight: bold\">87.30</span>, Test_acc: <span style=\"color: #008080; text-decoration-color: #008080; font-weight: bold\">0.00</span>\n",
       "</pre>\n"
      ],
      "text/plain": [
       "Time: \u001b[1;36m22.57929635445277\u001b[0m, Loss: \u001b[1;36m0.11\u001b[0m\n",
       "Train_acc: \u001b[1;36m87.30\u001b[0m, Test_acc: \u001b[1;36m0.00\u001b[0m\n"
      ]
     },
     "metadata": {},
     "output_type": "display_data"
    },
    {
     "data": {
      "text/html": [
       "<pre style=\"white-space:pre;overflow-x:auto;line-height:normal;font-family:Menlo,'DejaVu Sans Mono',consolas,'Courier New',monospace\">Train <span style=\"color: #00ff00; text-decoration-color: #00ff00; font-weight: bold\">f1:0</span>.<span style=\"color: #008080; text-decoration-color: #008080; font-weight: bold\">873</span>, Test f1: <span style=\"color: #008080; text-decoration-color: #008080; font-weight: bold\">0.000</span>\n",
       "</pre>\n"
      ],
      "text/plain": [
       "Train \u001b[1;92mf1:0\u001b[0m.\u001b[1;36m873\u001b[0m, Test f1: \u001b[1;36m0.000\u001b[0m\n"
      ]
     },
     "metadata": {},
     "output_type": "display_data"
    },
    {
     "data": {
      "text/html": [
       "<pre style=\"white-space:pre;overflow-x:auto;line-height:normal;font-family:Menlo,'DejaVu Sans Mono',consolas,'Courier New',monospace\">update new model, new acc: <span style=\"color: #008080; text-decoration-color: #008080; font-weight: bold\">87.30</span>, new f1: <span style=\"color: #008080; text-decoration-color: #008080; font-weight: bold\">0.873</span> , save in .<span style=\"color: #800080; text-decoration-color: #800080\">/</span><span style=\"color: #ff00ff; text-decoration-color: #ff00ff\">model</span>\\mobileNet_v3_v8_10_BOTH.pth\n",
       "</pre>\n"
      ],
      "text/plain": [
       "update new model, new acc: \u001b[1;36m87.30\u001b[0m, new f1: \u001b[1;36m0.873\u001b[0m , save in .\u001b[35m/\u001b[0m\u001b[95mmodel\u001b[0m\\mobileNet_v3_v8_10_BOTH.pth\n"
      ]
     },
     "metadata": {},
     "output_type": "display_data"
    },
    {
     "data": {
      "text/html": [
       "<pre style=\"white-space:pre;overflow-x:auto;line-height:normal;font-family:Menlo,'DejaVu Sans Mono',consolas,'Courier New',monospace\">Epoch: <span style=\"font-weight: bold\">[</span><span style=\"color: #008080; text-decoration-color: #008080; font-weight: bold\">11</span><span style=\"font-weight: bold\">]</span>\n",
       "</pre>\n"
      ],
      "text/plain": [
       "Epoch: \u001b[1m[\u001b[0m\u001b[1;36m11\u001b[0m\u001b[1m]\u001b[0m\n"
      ]
     },
     "metadata": {},
     "output_type": "display_data"
    },
    {
     "name": "stderr",
     "output_type": "stream",
     "text": [
      "Training...: 100%|██████████| 1738/1738 [22:30<00:00,  1.29batch/s]\n",
      "Testing...: 100%|██████████| 1/1 [00:00<00:00, 32.26batch/s]\n"
     ]
    },
    {
     "data": {
      "text/html": [
       "<pre style=\"white-space:pre;overflow-x:auto;line-height:normal;font-family:Menlo,'DejaVu Sans Mono',consolas,'Courier New',monospace\">Time: <span style=\"color: #008080; text-decoration-color: #008080; font-weight: bold\">22.504812200864155</span>, Loss: <span style=\"color: #008080; text-decoration-color: #008080; font-weight: bold\">0.76</span>\n",
       "Train_acc: <span style=\"color: #008080; text-decoration-color: #008080; font-weight: bold\">88.69</span>, Test_acc: <span style=\"color: #008080; text-decoration-color: #008080; font-weight: bold\">100.00</span>\n",
       "</pre>\n"
      ],
      "text/plain": [
       "Time: \u001b[1;36m22.504812200864155\u001b[0m, Loss: \u001b[1;36m0.76\u001b[0m\n",
       "Train_acc: \u001b[1;36m88.69\u001b[0m, Test_acc: \u001b[1;36m100.00\u001b[0m\n"
      ]
     },
     "metadata": {},
     "output_type": "display_data"
    },
    {
     "data": {
      "text/html": [
       "<pre style=\"white-space:pre;overflow-x:auto;line-height:normal;font-family:Menlo,'DejaVu Sans Mono',consolas,'Courier New',monospace\">Train <span style=\"color: #00ff00; text-decoration-color: #00ff00; font-weight: bold\">f1:0</span>.<span style=\"color: #008080; text-decoration-color: #008080; font-weight: bold\">887</span>, Test f1: <span style=\"color: #008080; text-decoration-color: #008080; font-weight: bold\">1.000</span>\n",
       "</pre>\n"
      ],
      "text/plain": [
       "Train \u001b[1;92mf1:0\u001b[0m.\u001b[1;36m887\u001b[0m, Test f1: \u001b[1;36m1.000\u001b[0m\n"
      ]
     },
     "metadata": {},
     "output_type": "display_data"
    },
    {
     "data": {
      "text/html": [
       "<pre style=\"white-space:pre;overflow-x:auto;line-height:normal;font-family:Menlo,'DejaVu Sans Mono',consolas,'Courier New',monospace\">update new model, new acc: <span style=\"color: #008080; text-decoration-color: #008080; font-weight: bold\">88.69</span>, new f1: <span style=\"color: #008080; text-decoration-color: #008080; font-weight: bold\">0.887</span> , save in .<span style=\"color: #800080; text-decoration-color: #800080\">/</span><span style=\"color: #ff00ff; text-decoration-color: #ff00ff\">model</span>\\mobileNet_v3_v8_11_BOTH.pth\n",
       "</pre>\n"
      ],
      "text/plain": [
       "update new model, new acc: \u001b[1;36m88.69\u001b[0m, new f1: \u001b[1;36m0.887\u001b[0m , save in .\u001b[35m/\u001b[0m\u001b[95mmodel\u001b[0m\\mobileNet_v3_v8_11_BOTH.pth\n"
      ]
     },
     "metadata": {},
     "output_type": "display_data"
    },
    {
     "data": {
      "text/html": [
       "<pre style=\"white-space:pre;overflow-x:auto;line-height:normal;font-family:Menlo,'DejaVu Sans Mono',consolas,'Courier New',monospace\">Epoch: <span style=\"font-weight: bold\">[</span><span style=\"color: #008080; text-decoration-color: #008080; font-weight: bold\">12</span><span style=\"font-weight: bold\">]</span>\n",
       "</pre>\n"
      ],
      "text/plain": [
       "Epoch: \u001b[1m[\u001b[0m\u001b[1;36m12\u001b[0m\u001b[1m]\u001b[0m\n"
      ]
     },
     "metadata": {},
     "output_type": "display_data"
    },
    {
     "name": "stderr",
     "output_type": "stream",
     "text": [
      "Training...: 100%|██████████| 1738/1738 [22:48<00:00,  1.27batch/s]\n",
      "Testing...: 100%|██████████| 1/1 [00:00<00:00, 29.41batch/s]\n"
     ]
    },
    {
     "data": {
      "text/html": [
       "<pre style=\"white-space:pre;overflow-x:auto;line-height:normal;font-family:Menlo,'DejaVu Sans Mono',consolas,'Courier New',monospace\">Time: <span style=\"color: #008080; text-decoration-color: #008080; font-weight: bold\">22.8047837972641</span>, Loss: <span style=\"color: #008080; text-decoration-color: #008080; font-weight: bold\">0.13</span>\n",
       "Train_acc: <span style=\"color: #008080; text-decoration-color: #008080; font-weight: bold\">89.27</span>, Test_acc: <span style=\"color: #008080; text-decoration-color: #008080; font-weight: bold\">100.00</span>\n",
       "</pre>\n"
      ],
      "text/plain": [
       "Time: \u001b[1;36m22.8047837972641\u001b[0m, Loss: \u001b[1;36m0.13\u001b[0m\n",
       "Train_acc: \u001b[1;36m89.27\u001b[0m, Test_acc: \u001b[1;36m100.00\u001b[0m\n"
      ]
     },
     "metadata": {},
     "output_type": "display_data"
    },
    {
     "data": {
      "text/html": [
       "<pre style=\"white-space:pre;overflow-x:auto;line-height:normal;font-family:Menlo,'DejaVu Sans Mono',consolas,'Courier New',monospace\">Train <span style=\"color: #00ff00; text-decoration-color: #00ff00; font-weight: bold\">f1:0</span>.<span style=\"color: #008080; text-decoration-color: #008080; font-weight: bold\">893</span>, Test f1: <span style=\"color: #008080; text-decoration-color: #008080; font-weight: bold\">1.000</span>\n",
       "</pre>\n"
      ],
      "text/plain": [
       "Train \u001b[1;92mf1:0\u001b[0m.\u001b[1;36m893\u001b[0m, Test f1: \u001b[1;36m1.000\u001b[0m\n"
      ]
     },
     "metadata": {},
     "output_type": "display_data"
    },
    {
     "data": {
      "text/html": [
       "<pre style=\"white-space:pre;overflow-x:auto;line-height:normal;font-family:Menlo,'DejaVu Sans Mono',consolas,'Courier New',monospace\">update new model, new acc: <span style=\"color: #008080; text-decoration-color: #008080; font-weight: bold\">89.27</span>, new f1: <span style=\"color: #008080; text-decoration-color: #008080; font-weight: bold\">0.893</span> , save in .<span style=\"color: #800080; text-decoration-color: #800080\">/</span><span style=\"color: #ff00ff; text-decoration-color: #ff00ff\">model</span>\\mobileNet_v3_v8_12_BOTH.pth\n",
       "</pre>\n"
      ],
      "text/plain": [
       "update new model, new acc: \u001b[1;36m89.27\u001b[0m, new f1: \u001b[1;36m0.893\u001b[0m , save in .\u001b[35m/\u001b[0m\u001b[95mmodel\u001b[0m\\mobileNet_v3_v8_12_BOTH.pth\n"
      ]
     },
     "metadata": {},
     "output_type": "display_data"
    },
    {
     "data": {
      "text/html": [
       "<pre style=\"white-space:pre;overflow-x:auto;line-height:normal;font-family:Menlo,'DejaVu Sans Mono',consolas,'Courier New',monospace\">Epoch: <span style=\"font-weight: bold\">[</span><span style=\"color: #008080; text-decoration-color: #008080; font-weight: bold\">13</span><span style=\"font-weight: bold\">]</span>\n",
       "</pre>\n"
      ],
      "text/plain": [
       "Epoch: \u001b[1m[\u001b[0m\u001b[1;36m13\u001b[0m\u001b[1m]\u001b[0m\n"
      ]
     },
     "metadata": {},
     "output_type": "display_data"
    },
    {
     "name": "stderr",
     "output_type": "stream",
     "text": [
      "Training...: 100%|██████████| 1738/1738 [22:35<00:00,  1.28batch/s]\n",
      "Testing...: 100%|██████████| 1/1 [00:00<00:00, 29.41batch/s]\n"
     ]
    },
    {
     "data": {
      "text/html": [
       "<pre style=\"white-space:pre;overflow-x:auto;line-height:normal;font-family:Menlo,'DejaVu Sans Mono',consolas,'Courier New',monospace\">Time: <span style=\"color: #008080; text-decoration-color: #008080; font-weight: bold\">22.600463966528576</span>, Loss: <span style=\"color: #008080; text-decoration-color: #008080; font-weight: bold\">0.72</span>\n",
       "Train_acc: <span style=\"color: #008080; text-decoration-color: #008080; font-weight: bold\">90.36</span>, Test_acc: <span style=\"color: #008080; text-decoration-color: #008080; font-weight: bold\">100.00</span>\n",
       "</pre>\n"
      ],
      "text/plain": [
       "Time: \u001b[1;36m22.600463966528576\u001b[0m, Loss: \u001b[1;36m0.72\u001b[0m\n",
       "Train_acc: \u001b[1;36m90.36\u001b[0m, Test_acc: \u001b[1;36m100.00\u001b[0m\n"
      ]
     },
     "metadata": {},
     "output_type": "display_data"
    },
    {
     "data": {
      "text/html": [
       "<pre style=\"white-space:pre;overflow-x:auto;line-height:normal;font-family:Menlo,'DejaVu Sans Mono',consolas,'Courier New',monospace\">Train <span style=\"color: #00ff00; text-decoration-color: #00ff00; font-weight: bold\">f1:0</span>.<span style=\"color: #008080; text-decoration-color: #008080; font-weight: bold\">904</span>, Test f1: <span style=\"color: #008080; text-decoration-color: #008080; font-weight: bold\">1.000</span>\n",
       "</pre>\n"
      ],
      "text/plain": [
       "Train \u001b[1;92mf1:0\u001b[0m.\u001b[1;36m904\u001b[0m, Test f1: \u001b[1;36m1.000\u001b[0m\n"
      ]
     },
     "metadata": {},
     "output_type": "display_data"
    },
    {
     "data": {
      "text/html": [
       "<pre style=\"white-space:pre;overflow-x:auto;line-height:normal;font-family:Menlo,'DejaVu Sans Mono',consolas,'Courier New',monospace\">update new model, new acc: <span style=\"color: #008080; text-decoration-color: #008080; font-weight: bold\">90.36</span>, new f1: <span style=\"color: #008080; text-decoration-color: #008080; font-weight: bold\">0.904</span> , save in .<span style=\"color: #800080; text-decoration-color: #800080\">/</span><span style=\"color: #ff00ff; text-decoration-color: #ff00ff\">model</span>\\mobileNet_v3_v8_13_BOTH.pth\n",
       "</pre>\n"
      ],
      "text/plain": [
       "update new model, new acc: \u001b[1;36m90.36\u001b[0m, new f1: \u001b[1;36m0.904\u001b[0m , save in .\u001b[35m/\u001b[0m\u001b[95mmodel\u001b[0m\\mobileNet_v3_v8_13_BOTH.pth\n"
      ]
     },
     "metadata": {},
     "output_type": "display_data"
    },
    {
     "data": {
      "text/html": [
       "<pre style=\"white-space:pre;overflow-x:auto;line-height:normal;font-family:Menlo,'DejaVu Sans Mono',consolas,'Courier New',monospace\">Epoch: <span style=\"font-weight: bold\">[</span><span style=\"color: #008080; text-decoration-color: #008080; font-weight: bold\">14</span><span style=\"font-weight: bold\">]</span>\n",
       "</pre>\n"
      ],
      "text/plain": [
       "Epoch: \u001b[1m[\u001b[0m\u001b[1;36m14\u001b[0m\u001b[1m]\u001b[0m\n"
      ]
     },
     "metadata": {},
     "output_type": "display_data"
    },
    {
     "name": "stderr",
     "output_type": "stream",
     "text": [
      "Training...: 100%|██████████| 1738/1738 [22:39<00:00,  1.28batch/s]\n",
      "Testing...: 100%|██████████| 1/1 [00:00<00:00, 27.78batch/s]\n"
     ]
    },
    {
     "data": {
      "text/html": [
       "<pre style=\"white-space:pre;overflow-x:auto;line-height:normal;font-family:Menlo,'DejaVu Sans Mono',consolas,'Courier New',monospace\">Time: <span style=\"color: #008080; text-decoration-color: #008080; font-weight: bold\">22.658722853660585</span>, Loss: <span style=\"color: #008080; text-decoration-color: #008080; font-weight: bold\">0.22</span>\n",
       "Train_acc: <span style=\"color: #008080; text-decoration-color: #008080; font-weight: bold\">90.87</span>, Test_acc: <span style=\"color: #008080; text-decoration-color: #008080; font-weight: bold\">100.00</span>\n",
       "</pre>\n"
      ],
      "text/plain": [
       "Time: \u001b[1;36m22.658722853660585\u001b[0m, Loss: \u001b[1;36m0.22\u001b[0m\n",
       "Train_acc: \u001b[1;36m90.87\u001b[0m, Test_acc: \u001b[1;36m100.00\u001b[0m\n"
      ]
     },
     "metadata": {},
     "output_type": "display_data"
    },
    {
     "data": {
      "text/html": [
       "<pre style=\"white-space:pre;overflow-x:auto;line-height:normal;font-family:Menlo,'DejaVu Sans Mono',consolas,'Courier New',monospace\">Train <span style=\"color: #00ff00; text-decoration-color: #00ff00; font-weight: bold\">f1:0</span>.<span style=\"color: #008080; text-decoration-color: #008080; font-weight: bold\">909</span>, Test f1: <span style=\"color: #008080; text-decoration-color: #008080; font-weight: bold\">1.000</span>\n",
       "</pre>\n"
      ],
      "text/plain": [
       "Train \u001b[1;92mf1:0\u001b[0m.\u001b[1;36m909\u001b[0m, Test f1: \u001b[1;36m1.000\u001b[0m\n"
      ]
     },
     "metadata": {},
     "output_type": "display_data"
    },
    {
     "data": {
      "text/html": [
       "<pre style=\"white-space:pre;overflow-x:auto;line-height:normal;font-family:Menlo,'DejaVu Sans Mono',consolas,'Courier New',monospace\">update new model, new acc: <span style=\"color: #008080; text-decoration-color: #008080; font-weight: bold\">90.87</span>, new f1: <span style=\"color: #008080; text-decoration-color: #008080; font-weight: bold\">0.909</span> , save in .<span style=\"color: #800080; text-decoration-color: #800080\">/</span><span style=\"color: #ff00ff; text-decoration-color: #ff00ff\">model</span>\\mobileNet_v3_v8_14_BOTH.pth\n",
       "</pre>\n"
      ],
      "text/plain": [
       "update new model, new acc: \u001b[1;36m90.87\u001b[0m, new f1: \u001b[1;36m0.909\u001b[0m , save in .\u001b[35m/\u001b[0m\u001b[95mmodel\u001b[0m\\mobileNet_v3_v8_14_BOTH.pth\n"
      ]
     },
     "metadata": {},
     "output_type": "display_data"
    },
    {
     "data": {
      "text/html": [
       "<pre style=\"white-space:pre;overflow-x:auto;line-height:normal;font-family:Menlo,'DejaVu Sans Mono',consolas,'Courier New',monospace\">Epoch: <span style=\"font-weight: bold\">[</span><span style=\"color: #008080; text-decoration-color: #008080; font-weight: bold\">15</span><span style=\"font-weight: bold\">]</span>\n",
       "</pre>\n"
      ],
      "text/plain": [
       "Epoch: \u001b[1m[\u001b[0m\u001b[1;36m15\u001b[0m\u001b[1m]\u001b[0m\n"
      ]
     },
     "metadata": {},
     "output_type": "display_data"
    },
    {
     "name": "stderr",
     "output_type": "stream",
     "text": [
      "Training...: 100%|██████████| 1738/1738 [22:46<00:00,  1.27batch/s]\n",
      "Testing...: 100%|██████████| 1/1 [00:00<00:00, 31.25batch/s]\n"
     ]
    },
    {
     "data": {
      "text/html": [
       "<pre style=\"white-space:pre;overflow-x:auto;line-height:normal;font-family:Menlo,'DejaVu Sans Mono',consolas,'Courier New',monospace\">Time: <span style=\"color: #008080; text-decoration-color: #008080; font-weight: bold\">22.77865066130956</span>, Loss: <span style=\"color: #008080; text-decoration-color: #008080; font-weight: bold\">0.63</span>\n",
       "Train_acc: <span style=\"color: #008080; text-decoration-color: #008080; font-weight: bold\">91.12</span>, Test_acc: <span style=\"color: #008080; text-decoration-color: #008080; font-weight: bold\">0.00</span>\n",
       "</pre>\n"
      ],
      "text/plain": [
       "Time: \u001b[1;36m22.77865066130956\u001b[0m, Loss: \u001b[1;36m0.63\u001b[0m\n",
       "Train_acc: \u001b[1;36m91.12\u001b[0m, Test_acc: \u001b[1;36m0.00\u001b[0m\n"
      ]
     },
     "metadata": {},
     "output_type": "display_data"
    },
    {
     "data": {
      "text/html": [
       "<pre style=\"white-space:pre;overflow-x:auto;line-height:normal;font-family:Menlo,'DejaVu Sans Mono',consolas,'Courier New',monospace\">Train <span style=\"color: #00ff00; text-decoration-color: #00ff00; font-weight: bold\">f1:0</span>.<span style=\"color: #008080; text-decoration-color: #008080; font-weight: bold\">911</span>, Test f1: <span style=\"color: #008080; text-decoration-color: #008080; font-weight: bold\">0.000</span>\n",
       "</pre>\n"
      ],
      "text/plain": [
       "Train \u001b[1;92mf1:0\u001b[0m.\u001b[1;36m911\u001b[0m, Test f1: \u001b[1;36m0.000\u001b[0m\n"
      ]
     },
     "metadata": {},
     "output_type": "display_data"
    },
    {
     "data": {
      "text/html": [
       "<pre style=\"white-space:pre;overflow-x:auto;line-height:normal;font-family:Menlo,'DejaVu Sans Mono',consolas,'Courier New',monospace\">update new model, new acc: <span style=\"color: #008080; text-decoration-color: #008080; font-weight: bold\">91.12</span>, new f1: <span style=\"color: #008080; text-decoration-color: #008080; font-weight: bold\">0.911</span> , save in .<span style=\"color: #800080; text-decoration-color: #800080\">/</span><span style=\"color: #ff00ff; text-decoration-color: #ff00ff\">model</span>\\mobileNet_v3_v8_15_BOTH.pth\n",
       "</pre>\n"
      ],
      "text/plain": [
       "update new model, new acc: \u001b[1;36m91.12\u001b[0m, new f1: \u001b[1;36m0.911\u001b[0m , save in .\u001b[35m/\u001b[0m\u001b[95mmodel\u001b[0m\\mobileNet_v3_v8_15_BOTH.pth\n"
      ]
     },
     "metadata": {},
     "output_type": "display_data"
    },
    {
     "data": {
      "text/html": [
       "<pre style=\"white-space:pre;overflow-x:auto;line-height:normal;font-family:Menlo,'DejaVu Sans Mono',consolas,'Courier New',monospace\">Epoch: <span style=\"font-weight: bold\">[</span><span style=\"color: #008080; text-decoration-color: #008080; font-weight: bold\">16</span><span style=\"font-weight: bold\">]</span>\n",
       "</pre>\n"
      ],
      "text/plain": [
       "Epoch: \u001b[1m[\u001b[0m\u001b[1;36m16\u001b[0m\u001b[1m]\u001b[0m\n"
      ]
     },
     "metadata": {},
     "output_type": "display_data"
    },
    {
     "name": "stderr",
     "output_type": "stream",
     "text": [
      "Training...: 100%|██████████| 1738/1738 [22:37<00:00,  1.28batch/s]\n",
      "Testing...: 100%|██████████| 1/1 [00:00<00:00, 31.25batch/s]\n"
     ]
    },
    {
     "data": {
      "text/html": [
       "<pre style=\"white-space:pre;overflow-x:auto;line-height:normal;font-family:Menlo,'DejaVu Sans Mono',consolas,'Courier New',monospace\">Time: <span style=\"color: #008080; text-decoration-color: #008080; font-weight: bold\">22.61912279923757</span>, Loss: <span style=\"color: #008080; text-decoration-color: #008080; font-weight: bold\">0.29</span>\n",
       "Train_acc: <span style=\"color: #008080; text-decoration-color: #008080; font-weight: bold\">91.44</span>, Test_acc: <span style=\"color: #008080; text-decoration-color: #008080; font-weight: bold\">0.00</span>\n",
       "</pre>\n"
      ],
      "text/plain": [
       "Time: \u001b[1;36m22.61912279923757\u001b[0m, Loss: \u001b[1;36m0.29\u001b[0m\n",
       "Train_acc: \u001b[1;36m91.44\u001b[0m, Test_acc: \u001b[1;36m0.00\u001b[0m\n"
      ]
     },
     "metadata": {},
     "output_type": "display_data"
    },
    {
     "data": {
      "text/html": [
       "<pre style=\"white-space:pre;overflow-x:auto;line-height:normal;font-family:Menlo,'DejaVu Sans Mono',consolas,'Courier New',monospace\">Train <span style=\"color: #00ff00; text-decoration-color: #00ff00; font-weight: bold\">f1:0</span>.<span style=\"color: #008080; text-decoration-color: #008080; font-weight: bold\">914</span>, Test f1: <span style=\"color: #008080; text-decoration-color: #008080; font-weight: bold\">0.000</span>\n",
       "</pre>\n"
      ],
      "text/plain": [
       "Train \u001b[1;92mf1:0\u001b[0m.\u001b[1;36m914\u001b[0m, Test f1: \u001b[1;36m0.000\u001b[0m\n"
      ]
     },
     "metadata": {},
     "output_type": "display_data"
    },
    {
     "data": {
      "text/html": [
       "<pre style=\"white-space:pre;overflow-x:auto;line-height:normal;font-family:Menlo,'DejaVu Sans Mono',consolas,'Courier New',monospace\">update new model, new acc: <span style=\"color: #008080; text-decoration-color: #008080; font-weight: bold\">91.44</span>, new f1: <span style=\"color: #008080; text-decoration-color: #008080; font-weight: bold\">0.914</span> , save in .<span style=\"color: #800080; text-decoration-color: #800080\">/</span><span style=\"color: #ff00ff; text-decoration-color: #ff00ff\">model</span>\\mobileNet_v3_v8_16_BOTH.pth\n",
       "</pre>\n"
      ],
      "text/plain": [
       "update new model, new acc: \u001b[1;36m91.44\u001b[0m, new f1: \u001b[1;36m0.914\u001b[0m , save in .\u001b[35m/\u001b[0m\u001b[95mmodel\u001b[0m\\mobileNet_v3_v8_16_BOTH.pth\n"
      ]
     },
     "metadata": {},
     "output_type": "display_data"
    },
    {
     "data": {
      "text/html": [
       "<pre style=\"white-space:pre;overflow-x:auto;line-height:normal;font-family:Menlo,'DejaVu Sans Mono',consolas,'Courier New',monospace\">Epoch: <span style=\"font-weight: bold\">[</span><span style=\"color: #008080; text-decoration-color: #008080; font-weight: bold\">17</span><span style=\"font-weight: bold\">]</span>\n",
       "</pre>\n"
      ],
      "text/plain": [
       "Epoch: \u001b[1m[\u001b[0m\u001b[1;36m17\u001b[0m\u001b[1m]\u001b[0m\n"
      ]
     },
     "metadata": {},
     "output_type": "display_data"
    },
    {
     "name": "stderr",
     "output_type": "stream",
     "text": [
      "Training...: 100%|██████████| 1738/1738 [22:39<00:00,  1.28batch/s]\n",
      "Testing...: 100%|██████████| 1/1 [00:00<00:00, 32.26batch/s]\n"
     ]
    },
    {
     "data": {
      "text/html": [
       "<pre style=\"white-space:pre;overflow-x:auto;line-height:normal;font-family:Menlo,'DejaVu Sans Mono',consolas,'Courier New',monospace\">Time: <span style=\"color: #008080; text-decoration-color: #008080; font-weight: bold\">22.656411568323772</span>, Loss: <span style=\"color: #008080; text-decoration-color: #008080; font-weight: bold\">0.82</span>\n",
       "Train_acc: <span style=\"color: #008080; text-decoration-color: #008080; font-weight: bold\">91.96</span>, Test_acc: <span style=\"color: #008080; text-decoration-color: #008080; font-weight: bold\">100.00</span>\n",
       "</pre>\n"
      ],
      "text/plain": [
       "Time: \u001b[1;36m22.656411568323772\u001b[0m, Loss: \u001b[1;36m0.82\u001b[0m\n",
       "Train_acc: \u001b[1;36m91.96\u001b[0m, Test_acc: \u001b[1;36m100.00\u001b[0m\n"
      ]
     },
     "metadata": {},
     "output_type": "display_data"
    },
    {
     "data": {
      "text/html": [
       "<pre style=\"white-space:pre;overflow-x:auto;line-height:normal;font-family:Menlo,'DejaVu Sans Mono',consolas,'Courier New',monospace\">Train <span style=\"color: #00ff00; text-decoration-color: #00ff00; font-weight: bold\">f1:0</span>.<span style=\"color: #008080; text-decoration-color: #008080; font-weight: bold\">920</span>, Test f1: <span style=\"color: #008080; text-decoration-color: #008080; font-weight: bold\">1.000</span>\n",
       "</pre>\n"
      ],
      "text/plain": [
       "Train \u001b[1;92mf1:0\u001b[0m.\u001b[1;36m920\u001b[0m, Test f1: \u001b[1;36m1.000\u001b[0m\n"
      ]
     },
     "metadata": {},
     "output_type": "display_data"
    },
    {
     "data": {
      "text/html": [
       "<pre style=\"white-space:pre;overflow-x:auto;line-height:normal;font-family:Menlo,'DejaVu Sans Mono',consolas,'Courier New',monospace\">update new model, new acc: <span style=\"color: #008080; text-decoration-color: #008080; font-weight: bold\">91.96</span>, new f1: <span style=\"color: #008080; text-decoration-color: #008080; font-weight: bold\">0.920</span> , save in .<span style=\"color: #800080; text-decoration-color: #800080\">/</span><span style=\"color: #ff00ff; text-decoration-color: #ff00ff\">model</span>\\mobileNet_v3_v8_17_BOTH.pth\n",
       "</pre>\n"
      ],
      "text/plain": [
       "update new model, new acc: \u001b[1;36m91.96\u001b[0m, new f1: \u001b[1;36m0.920\u001b[0m , save in .\u001b[35m/\u001b[0m\u001b[95mmodel\u001b[0m\\mobileNet_v3_v8_17_BOTH.pth\n"
      ]
     },
     "metadata": {},
     "output_type": "display_data"
    },
    {
     "data": {
      "text/html": [
       "<pre style=\"white-space:pre;overflow-x:auto;line-height:normal;font-family:Menlo,'DejaVu Sans Mono',consolas,'Courier New',monospace\">Epoch: <span style=\"font-weight: bold\">[</span><span style=\"color: #008080; text-decoration-color: #008080; font-weight: bold\">18</span><span style=\"font-weight: bold\">]</span>\n",
       "</pre>\n"
      ],
      "text/plain": [
       "Epoch: \u001b[1m[\u001b[0m\u001b[1;36m18\u001b[0m\u001b[1m]\u001b[0m\n"
      ]
     },
     "metadata": {},
     "output_type": "display_data"
    },
    {
     "name": "stderr",
     "output_type": "stream",
     "text": [
      "Training...: 100%|██████████| 1738/1738 [22:49<00:00,  1.27batch/s]\n",
      "Testing...: 100%|██████████| 1/1 [00:00<00:00, 30.30batch/s]\n"
     ]
    },
    {
     "data": {
      "text/html": [
       "<pre style=\"white-space:pre;overflow-x:auto;line-height:normal;font-family:Menlo,'DejaVu Sans Mono',consolas,'Courier New',monospace\">Time: <span style=\"color: #008080; text-decoration-color: #008080; font-weight: bold\">22.827672000726064</span>, Loss: <span style=\"color: #008080; text-decoration-color: #008080; font-weight: bold\">0.56</span>\n",
       "Train_acc: <span style=\"color: #008080; text-decoration-color: #008080; font-weight: bold\">92.37</span>, Test_acc: <span style=\"color: #008080; text-decoration-color: #008080; font-weight: bold\">0.00</span>\n",
       "</pre>\n"
      ],
      "text/plain": [
       "Time: \u001b[1;36m22.827672000726064\u001b[0m, Loss: \u001b[1;36m0.56\u001b[0m\n",
       "Train_acc: \u001b[1;36m92.37\u001b[0m, Test_acc: \u001b[1;36m0.00\u001b[0m\n"
      ]
     },
     "metadata": {},
     "output_type": "display_data"
    },
    {
     "data": {
      "text/html": [
       "<pre style=\"white-space:pre;overflow-x:auto;line-height:normal;font-family:Menlo,'DejaVu Sans Mono',consolas,'Courier New',monospace\">Train <span style=\"color: #00ff00; text-decoration-color: #00ff00; font-weight: bold\">f1:0</span>.<span style=\"color: #008080; text-decoration-color: #008080; font-weight: bold\">924</span>, Test f1: <span style=\"color: #008080; text-decoration-color: #008080; font-weight: bold\">0.000</span>\n",
       "</pre>\n"
      ],
      "text/plain": [
       "Train \u001b[1;92mf1:0\u001b[0m.\u001b[1;36m924\u001b[0m, Test f1: \u001b[1;36m0.000\u001b[0m\n"
      ]
     },
     "metadata": {},
     "output_type": "display_data"
    },
    {
     "data": {
      "text/html": [
       "<pre style=\"white-space:pre;overflow-x:auto;line-height:normal;font-family:Menlo,'DejaVu Sans Mono',consolas,'Courier New',monospace\">update new model, new acc: <span style=\"color: #008080; text-decoration-color: #008080; font-weight: bold\">92.37</span>, new f1: <span style=\"color: #008080; text-decoration-color: #008080; font-weight: bold\">0.924</span> , save in .<span style=\"color: #800080; text-decoration-color: #800080\">/</span><span style=\"color: #ff00ff; text-decoration-color: #ff00ff\">model</span>\\mobileNet_v3_v8_18_BOTH.pth\n",
       "</pre>\n"
      ],
      "text/plain": [
       "update new model, new acc: \u001b[1;36m92.37\u001b[0m, new f1: \u001b[1;36m0.924\u001b[0m , save in .\u001b[35m/\u001b[0m\u001b[95mmodel\u001b[0m\\mobileNet_v3_v8_18_BOTH.pth\n"
      ]
     },
     "metadata": {},
     "output_type": "display_data"
    },
    {
     "data": {
      "text/html": [
       "<pre style=\"white-space:pre;overflow-x:auto;line-height:normal;font-family:Menlo,'DejaVu Sans Mono',consolas,'Courier New',monospace\">Epoch: <span style=\"font-weight: bold\">[</span><span style=\"color: #008080; text-decoration-color: #008080; font-weight: bold\">19</span><span style=\"font-weight: bold\">]</span>\n",
       "</pre>\n"
      ],
      "text/plain": [
       "Epoch: \u001b[1m[\u001b[0m\u001b[1;36m19\u001b[0m\u001b[1m]\u001b[0m\n"
      ]
     },
     "metadata": {},
     "output_type": "display_data"
    },
    {
     "name": "stderr",
     "output_type": "stream",
     "text": [
      "Training...: 100%|██████████| 1738/1738 [22:40<00:00,  1.28batch/s]\n",
      "Testing...: 100%|██████████| 1/1 [00:00<00:00, 32.26batch/s]\n"
     ]
    },
    {
     "data": {
      "text/html": [
       "<pre style=\"white-space:pre;overflow-x:auto;line-height:normal;font-family:Menlo,'DejaVu Sans Mono',consolas,'Courier New',monospace\">Time: <span style=\"color: #008080; text-decoration-color: #008080; font-weight: bold\">22.6769221107165</span>, Loss: <span style=\"color: #008080; text-decoration-color: #008080; font-weight: bold\">0.48</span>\n",
       "Train_acc: <span style=\"color: #008080; text-decoration-color: #008080; font-weight: bold\">92.38</span>, Test_acc: <span style=\"color: #008080; text-decoration-color: #008080; font-weight: bold\">0.00</span>\n",
       "</pre>\n"
      ],
      "text/plain": [
       "Time: \u001b[1;36m22.6769221107165\u001b[0m, Loss: \u001b[1;36m0.48\u001b[0m\n",
       "Train_acc: \u001b[1;36m92.38\u001b[0m, Test_acc: \u001b[1;36m0.00\u001b[0m\n"
      ]
     },
     "metadata": {},
     "output_type": "display_data"
    },
    {
     "data": {
      "text/html": [
       "<pre style=\"white-space:pre;overflow-x:auto;line-height:normal;font-family:Menlo,'DejaVu Sans Mono',consolas,'Courier New',monospace\">Train <span style=\"color: #00ff00; text-decoration-color: #00ff00; font-weight: bold\">f1:0</span>.<span style=\"color: #008080; text-decoration-color: #008080; font-weight: bold\">924</span>, Test f1: <span style=\"color: #008080; text-decoration-color: #008080; font-weight: bold\">0.000</span>\n",
       "</pre>\n"
      ],
      "text/plain": [
       "Train \u001b[1;92mf1:0\u001b[0m.\u001b[1;36m924\u001b[0m, Test f1: \u001b[1;36m0.000\u001b[0m\n"
      ]
     },
     "metadata": {},
     "output_type": "display_data"
    },
    {
     "data": {
      "text/html": [
       "<pre style=\"white-space:pre;overflow-x:auto;line-height:normal;font-family:Menlo,'DejaVu Sans Mono',consolas,'Courier New',monospace\">update new model, new acc: <span style=\"color: #008080; text-decoration-color: #008080; font-weight: bold\">92.38</span>, new f1: <span style=\"color: #008080; text-decoration-color: #008080; font-weight: bold\">0.924</span> , save in .<span style=\"color: #800080; text-decoration-color: #800080\">/</span><span style=\"color: #ff00ff; text-decoration-color: #ff00ff\">model</span>\\mobileNet_v3_v8_19_BOTH.pth\n",
       "</pre>\n"
      ],
      "text/plain": [
       "update new model, new acc: \u001b[1;36m92.38\u001b[0m, new f1: \u001b[1;36m0.924\u001b[0m , save in .\u001b[35m/\u001b[0m\u001b[95mmodel\u001b[0m\\mobileNet_v3_v8_19_BOTH.pth\n"
      ]
     },
     "metadata": {},
     "output_type": "display_data"
    },
    {
     "data": {
      "text/html": [
       "<pre style=\"white-space:pre;overflow-x:auto;line-height:normal;font-family:Menlo,'DejaVu Sans Mono',consolas,'Courier New',monospace\">Epoch: <span style=\"font-weight: bold\">[</span><span style=\"color: #008080; text-decoration-color: #008080; font-weight: bold\">20</span><span style=\"font-weight: bold\">]</span>\n",
       "</pre>\n"
      ],
      "text/plain": [
       "Epoch: \u001b[1m[\u001b[0m\u001b[1;36m20\u001b[0m\u001b[1m]\u001b[0m\n"
      ]
     },
     "metadata": {},
     "output_type": "display_data"
    },
    {
     "name": "stderr",
     "output_type": "stream",
     "text": [
      "Training...: 100%|██████████| 1738/1738 [22:56<00:00,  1.26batch/s]\n",
      "Testing...: 100%|██████████| 1/1 [00:00<00:00, 27.78batch/s]\n"
     ]
    },
    {
     "data": {
      "text/html": [
       "<pre style=\"white-space:pre;overflow-x:auto;line-height:normal;font-family:Menlo,'DejaVu Sans Mono',consolas,'Courier New',monospace\">Time: <span style=\"color: #008080; text-decoration-color: #008080; font-weight: bold\">22.950703903039297</span>, Loss: <span style=\"color: #008080; text-decoration-color: #008080; font-weight: bold\">0.14</span>\n",
       "Train_acc: <span style=\"color: #008080; text-decoration-color: #008080; font-weight: bold\">92.72</span>, Test_acc: <span style=\"color: #008080; text-decoration-color: #008080; font-weight: bold\">0.00</span>\n",
       "</pre>\n"
      ],
      "text/plain": [
       "Time: \u001b[1;36m22.950703903039297\u001b[0m, Loss: \u001b[1;36m0.14\u001b[0m\n",
       "Train_acc: \u001b[1;36m92.72\u001b[0m, Test_acc: \u001b[1;36m0.00\u001b[0m\n"
      ]
     },
     "metadata": {},
     "output_type": "display_data"
    },
    {
     "data": {
      "text/html": [
       "<pre style=\"white-space:pre;overflow-x:auto;line-height:normal;font-family:Menlo,'DejaVu Sans Mono',consolas,'Courier New',monospace\">Train <span style=\"color: #00ff00; text-decoration-color: #00ff00; font-weight: bold\">f1:0</span>.<span style=\"color: #008080; text-decoration-color: #008080; font-weight: bold\">927</span>, Test f1: <span style=\"color: #008080; text-decoration-color: #008080; font-weight: bold\">0.000</span>\n",
       "</pre>\n"
      ],
      "text/plain": [
       "Train \u001b[1;92mf1:0\u001b[0m.\u001b[1;36m927\u001b[0m, Test f1: \u001b[1;36m0.000\u001b[0m\n"
      ]
     },
     "metadata": {},
     "output_type": "display_data"
    },
    {
     "data": {
      "text/html": [
       "<pre style=\"white-space:pre;overflow-x:auto;line-height:normal;font-family:Menlo,'DejaVu Sans Mono',consolas,'Courier New',monospace\">update new model, new acc: <span style=\"color: #008080; text-decoration-color: #008080; font-weight: bold\">92.72</span>, new f1: <span style=\"color: #008080; text-decoration-color: #008080; font-weight: bold\">0.927</span> , save in .<span style=\"color: #800080; text-decoration-color: #800080\">/</span><span style=\"color: #ff00ff; text-decoration-color: #ff00ff\">model</span>\\mobileNet_v3_v8_20_BOTH.pth\n",
       "</pre>\n"
      ],
      "text/plain": [
       "update new model, new acc: \u001b[1;36m92.72\u001b[0m, new f1: \u001b[1;36m0.927\u001b[0m , save in .\u001b[35m/\u001b[0m\u001b[95mmodel\u001b[0m\\mobileNet_v3_v8_20_BOTH.pth\n"
      ]
     },
     "metadata": {},
     "output_type": "display_data"
    },
    {
     "data": {
      "text/html": [
       "<pre style=\"white-space:pre;overflow-x:auto;line-height:normal;font-family:Menlo,'DejaVu Sans Mono',consolas,'Courier New',monospace\">Epoch: <span style=\"font-weight: bold\">[</span><span style=\"color: #008080; text-decoration-color: #008080; font-weight: bold\">21</span><span style=\"font-weight: bold\">]</span>\n",
       "</pre>\n"
      ],
      "text/plain": [
       "Epoch: \u001b[1m[\u001b[0m\u001b[1;36m21\u001b[0m\u001b[1m]\u001b[0m\n"
      ]
     },
     "metadata": {},
     "output_type": "display_data"
    },
    {
     "name": "stderr",
     "output_type": "stream",
     "text": [
      "Training...: 100%|██████████| 1738/1738 [22:44<00:00,  1.27batch/s]\n",
      "Testing...: 100%|██████████| 1/1 [00:00<00:00, 30.30batch/s]\n"
     ]
    },
    {
     "data": {
      "text/html": [
       "<pre style=\"white-space:pre;overflow-x:auto;line-height:normal;font-family:Menlo,'DejaVu Sans Mono',consolas,'Courier New',monospace\">Time: <span style=\"color: #008080; text-decoration-color: #008080; font-weight: bold\">22.74085060755412</span>, Loss: <span style=\"color: #008080; text-decoration-color: #008080; font-weight: bold\">0.11</span>\n",
       "Train_acc: <span style=\"color: #008080; text-decoration-color: #008080; font-weight: bold\">92.93</span>, Test_acc: <span style=\"color: #008080; text-decoration-color: #008080; font-weight: bold\">0.00</span>\n",
       "</pre>\n"
      ],
      "text/plain": [
       "Time: \u001b[1;36m22.74085060755412\u001b[0m, Loss: \u001b[1;36m0.11\u001b[0m\n",
       "Train_acc: \u001b[1;36m92.93\u001b[0m, Test_acc: \u001b[1;36m0.00\u001b[0m\n"
      ]
     },
     "metadata": {},
     "output_type": "display_data"
    },
    {
     "data": {
      "text/html": [
       "<pre style=\"white-space:pre;overflow-x:auto;line-height:normal;font-family:Menlo,'DejaVu Sans Mono',consolas,'Courier New',monospace\">Train <span style=\"color: #00ff00; text-decoration-color: #00ff00; font-weight: bold\">f1:0</span>.<span style=\"color: #008080; text-decoration-color: #008080; font-weight: bold\">929</span>, Test f1: <span style=\"color: #008080; text-decoration-color: #008080; font-weight: bold\">0.000</span>\n",
       "</pre>\n"
      ],
      "text/plain": [
       "Train \u001b[1;92mf1:0\u001b[0m.\u001b[1;36m929\u001b[0m, Test f1: \u001b[1;36m0.000\u001b[0m\n"
      ]
     },
     "metadata": {},
     "output_type": "display_data"
    },
    {
     "data": {
      "text/html": [
       "<pre style=\"white-space:pre;overflow-x:auto;line-height:normal;font-family:Menlo,'DejaVu Sans Mono',consolas,'Courier New',monospace\">update new model, new acc: <span style=\"color: #008080; text-decoration-color: #008080; font-weight: bold\">92.93</span>, new f1: <span style=\"color: #008080; text-decoration-color: #008080; font-weight: bold\">0.929</span> , save in .<span style=\"color: #800080; text-decoration-color: #800080\">/</span><span style=\"color: #ff00ff; text-decoration-color: #ff00ff\">model</span>\\mobileNet_v3_v8_21_BOTH.pth\n",
       "</pre>\n"
      ],
      "text/plain": [
       "update new model, new acc: \u001b[1;36m92.93\u001b[0m, new f1: \u001b[1;36m0.929\u001b[0m , save in .\u001b[35m/\u001b[0m\u001b[95mmodel\u001b[0m\\mobileNet_v3_v8_21_BOTH.pth\n"
      ]
     },
     "metadata": {},
     "output_type": "display_data"
    },
    {
     "data": {
      "text/html": [
       "<pre style=\"white-space:pre;overflow-x:auto;line-height:normal;font-family:Menlo,'DejaVu Sans Mono',consolas,'Courier New',monospace\">Epoch: <span style=\"font-weight: bold\">[</span><span style=\"color: #008080; text-decoration-color: #008080; font-weight: bold\">22</span><span style=\"font-weight: bold\">]</span>\n",
       "</pre>\n"
      ],
      "text/plain": [
       "Epoch: \u001b[1m[\u001b[0m\u001b[1;36m22\u001b[0m\u001b[1m]\u001b[0m\n"
      ]
     },
     "metadata": {},
     "output_type": "display_data"
    },
    {
     "name": "stderr",
     "output_type": "stream",
     "text": [
      "Training...: 100%|██████████| 1738/1738 [22:47<00:00,  1.27batch/s]\n",
      "Testing...: 100%|██████████| 1/1 [00:00<00:00, 28.57batch/s]\n"
     ]
    },
    {
     "data": {
      "text/html": [
       "<pre style=\"white-space:pre;overflow-x:auto;line-height:normal;font-family:Menlo,'DejaVu Sans Mono',consolas,'Courier New',monospace\">Time: <span style=\"color: #008080; text-decoration-color: #008080; font-weight: bold\">22.788208587964377</span>, Loss: <span style=\"color: #008080; text-decoration-color: #008080; font-weight: bold\">0.12</span>\n",
       "Train_acc: <span style=\"color: #008080; text-decoration-color: #008080; font-weight: bold\">92.87</span>, Test_acc: <span style=\"color: #008080; text-decoration-color: #008080; font-weight: bold\">0.00</span>\n",
       "</pre>\n"
      ],
      "text/plain": [
       "Time: \u001b[1;36m22.788208587964377\u001b[0m, Loss: \u001b[1;36m0.12\u001b[0m\n",
       "Train_acc: \u001b[1;36m92.87\u001b[0m, Test_acc: \u001b[1;36m0.00\u001b[0m\n"
      ]
     },
     "metadata": {},
     "output_type": "display_data"
    },
    {
     "data": {
      "text/html": [
       "<pre style=\"white-space:pre;overflow-x:auto;line-height:normal;font-family:Menlo,'DejaVu Sans Mono',consolas,'Courier New',monospace\">Train <span style=\"color: #00ff00; text-decoration-color: #00ff00; font-weight: bold\">f1:0</span>.<span style=\"color: #008080; text-decoration-color: #008080; font-weight: bold\">929</span>, Test f1: <span style=\"color: #008080; text-decoration-color: #008080; font-weight: bold\">0.000</span>\n",
       "</pre>\n"
      ],
      "text/plain": [
       "Train \u001b[1;92mf1:0\u001b[0m.\u001b[1;36m929\u001b[0m, Test f1: \u001b[1;36m0.000\u001b[0m\n"
      ]
     },
     "metadata": {},
     "output_type": "display_data"
    },
    {
     "data": {
      "text/html": [
       "<pre style=\"white-space:pre;overflow-x:auto;line-height:normal;font-family:Menlo,'DejaVu Sans Mono',consolas,'Courier New',monospace\">Epoch: <span style=\"font-weight: bold\">[</span><span style=\"color: #008080; text-decoration-color: #008080; font-weight: bold\">23</span><span style=\"font-weight: bold\">]</span>\n",
       "</pre>\n"
      ],
      "text/plain": [
       "Epoch: \u001b[1m[\u001b[0m\u001b[1;36m23\u001b[0m\u001b[1m]\u001b[0m\n"
      ]
     },
     "metadata": {},
     "output_type": "display_data"
    },
    {
     "name": "stderr",
     "output_type": "stream",
     "text": [
      "Training...: 100%|██████████| 1738/1738 [22:42<00:00,  1.28batch/s]\n",
      "Testing...: 100%|██████████| 1/1 [00:00<00:00, 32.26batch/s]\n"
     ]
    },
    {
     "data": {
      "text/html": [
       "<pre style=\"white-space:pre;overflow-x:auto;line-height:normal;font-family:Menlo,'DejaVu Sans Mono',consolas,'Courier New',monospace\">Time: <span style=\"color: #008080; text-decoration-color: #008080; font-weight: bold\">22.70236394008001</span>, Loss: <span style=\"color: #008080; text-decoration-color: #008080; font-weight: bold\">0.26</span>\n",
       "Train_acc: <span style=\"color: #008080; text-decoration-color: #008080; font-weight: bold\">93.21</span>, Test_acc: <span style=\"color: #008080; text-decoration-color: #008080; font-weight: bold\">0.00</span>\n",
       "</pre>\n"
      ],
      "text/plain": [
       "Time: \u001b[1;36m22.70236394008001\u001b[0m, Loss: \u001b[1;36m0.26\u001b[0m\n",
       "Train_acc: \u001b[1;36m93.21\u001b[0m, Test_acc: \u001b[1;36m0.00\u001b[0m\n"
      ]
     },
     "metadata": {},
     "output_type": "display_data"
    },
    {
     "data": {
      "text/html": [
       "<pre style=\"white-space:pre;overflow-x:auto;line-height:normal;font-family:Menlo,'DejaVu Sans Mono',consolas,'Courier New',monospace\">Train <span style=\"color: #00ff00; text-decoration-color: #00ff00; font-weight: bold\">f1:0</span>.<span style=\"color: #008080; text-decoration-color: #008080; font-weight: bold\">932</span>, Test f1: <span style=\"color: #008080; text-decoration-color: #008080; font-weight: bold\">0.000</span>\n",
       "</pre>\n"
      ],
      "text/plain": [
       "Train \u001b[1;92mf1:0\u001b[0m.\u001b[1;36m932\u001b[0m, Test f1: \u001b[1;36m0.000\u001b[0m\n"
      ]
     },
     "metadata": {},
     "output_type": "display_data"
    },
    {
     "data": {
      "text/html": [
       "<pre style=\"white-space:pre;overflow-x:auto;line-height:normal;font-family:Menlo,'DejaVu Sans Mono',consolas,'Courier New',monospace\">update new model, new acc: <span style=\"color: #008080; text-decoration-color: #008080; font-weight: bold\">93.21</span>, new f1: <span style=\"color: #008080; text-decoration-color: #008080; font-weight: bold\">0.932</span> , save in .<span style=\"color: #800080; text-decoration-color: #800080\">/</span><span style=\"color: #ff00ff; text-decoration-color: #ff00ff\">model</span>\\mobileNet_v3_v8_23_BOTH.pth\n",
       "</pre>\n"
      ],
      "text/plain": [
       "update new model, new acc: \u001b[1;36m93.21\u001b[0m, new f1: \u001b[1;36m0.932\u001b[0m , save in .\u001b[35m/\u001b[0m\u001b[95mmodel\u001b[0m\\mobileNet_v3_v8_23_BOTH.pth\n"
      ]
     },
     "metadata": {},
     "output_type": "display_data"
    },
    {
     "data": {
      "text/html": [
       "<pre style=\"white-space:pre;overflow-x:auto;line-height:normal;font-family:Menlo,'DejaVu Sans Mono',consolas,'Courier New',monospace\">Epoch: <span style=\"font-weight: bold\">[</span><span style=\"color: #008080; text-decoration-color: #008080; font-weight: bold\">24</span><span style=\"font-weight: bold\">]</span>\n",
       "</pre>\n"
      ],
      "text/plain": [
       "Epoch: \u001b[1m[\u001b[0m\u001b[1;36m24\u001b[0m\u001b[1m]\u001b[0m\n"
      ]
     },
     "metadata": {},
     "output_type": "display_data"
    },
    {
     "name": "stderr",
     "output_type": "stream",
     "text": [
      "Training...: 100%|██████████| 1738/1738 [22:42<00:00,  1.28batch/s]\n",
      "Testing...: 100%|██████████| 1/1 [00:00<00:00, 28.57batch/s]\n"
     ]
    },
    {
     "data": {
      "text/html": [
       "<pre style=\"white-space:pre;overflow-x:auto;line-height:normal;font-family:Menlo,'DejaVu Sans Mono',consolas,'Courier New',monospace\">Time: <span style=\"color: #008080; text-decoration-color: #008080; font-weight: bold\">22.70889297326406</span>, Loss: <span style=\"color: #008080; text-decoration-color: #008080; font-weight: bold\">0.75</span>\n",
       "Train_acc: <span style=\"color: #008080; text-decoration-color: #008080; font-weight: bold\">93.27</span>, Test_acc: <span style=\"color: #008080; text-decoration-color: #008080; font-weight: bold\">0.00</span>\n",
       "</pre>\n"
      ],
      "text/plain": [
       "Time: \u001b[1;36m22.70889297326406\u001b[0m, Loss: \u001b[1;36m0.75\u001b[0m\n",
       "Train_acc: \u001b[1;36m93.27\u001b[0m, Test_acc: \u001b[1;36m0.00\u001b[0m\n"
      ]
     },
     "metadata": {},
     "output_type": "display_data"
    },
    {
     "data": {
      "text/html": [
       "<pre style=\"white-space:pre;overflow-x:auto;line-height:normal;font-family:Menlo,'DejaVu Sans Mono',consolas,'Courier New',monospace\">Train <span style=\"color: #00ff00; text-decoration-color: #00ff00; font-weight: bold\">f1:0</span>.<span style=\"color: #008080; text-decoration-color: #008080; font-weight: bold\">933</span>, Test f1: <span style=\"color: #008080; text-decoration-color: #008080; font-weight: bold\">0.000</span>\n",
       "</pre>\n"
      ],
      "text/plain": [
       "Train \u001b[1;92mf1:0\u001b[0m.\u001b[1;36m933\u001b[0m, Test f1: \u001b[1;36m0.000\u001b[0m\n"
      ]
     },
     "metadata": {},
     "output_type": "display_data"
    },
    {
     "data": {
      "text/html": [
       "<pre style=\"white-space:pre;overflow-x:auto;line-height:normal;font-family:Menlo,'DejaVu Sans Mono',consolas,'Courier New',monospace\">update new model, new acc: <span style=\"color: #008080; text-decoration-color: #008080; font-weight: bold\">93.27</span>, new f1: <span style=\"color: #008080; text-decoration-color: #008080; font-weight: bold\">0.933</span> , save in .<span style=\"color: #800080; text-decoration-color: #800080\">/</span><span style=\"color: #ff00ff; text-decoration-color: #ff00ff\">model</span>\\mobileNet_v3_v8_24_BOTH.pth\n",
       "</pre>\n"
      ],
      "text/plain": [
       "update new model, new acc: \u001b[1;36m93.27\u001b[0m, new f1: \u001b[1;36m0.933\u001b[0m , save in .\u001b[35m/\u001b[0m\u001b[95mmodel\u001b[0m\\mobileNet_v3_v8_24_BOTH.pth\n"
      ]
     },
     "metadata": {},
     "output_type": "display_data"
    },
    {
     "data": {
      "text/html": [
       "<pre style=\"white-space:pre;overflow-x:auto;line-height:normal;font-family:Menlo,'DejaVu Sans Mono',consolas,'Courier New',monospace\">Epoch: <span style=\"font-weight: bold\">[</span><span style=\"color: #008080; text-decoration-color: #008080; font-weight: bold\">25</span><span style=\"font-weight: bold\">]</span>\n",
       "</pre>\n"
      ],
      "text/plain": [
       "Epoch: \u001b[1m[\u001b[0m\u001b[1;36m25\u001b[0m\u001b[1m]\u001b[0m\n"
      ]
     },
     "metadata": {},
     "output_type": "display_data"
    },
    {
     "name": "stderr",
     "output_type": "stream",
     "text": [
      "Training...: 100%|██████████| 1738/1738 [22:48<00:00,  1.27batch/s]\n",
      "Testing...: 100%|██████████| 1/1 [00:00<00:00, 29.41batch/s]\n"
     ]
    },
    {
     "data": {
      "text/html": [
       "<pre style=\"white-space:pre;overflow-x:auto;line-height:normal;font-family:Menlo,'DejaVu Sans Mono',consolas,'Courier New',monospace\">Time: <span style=\"color: #008080; text-decoration-color: #008080; font-weight: bold\">22.80838681856791</span>, Loss: <span style=\"color: #008080; text-decoration-color: #008080; font-weight: bold\">0.59</span>\n",
       "Train_acc: <span style=\"color: #008080; text-decoration-color: #008080; font-weight: bold\">93.34</span>, Test_acc: <span style=\"color: #008080; text-decoration-color: #008080; font-weight: bold\">0.00</span>\n",
       "</pre>\n"
      ],
      "text/plain": [
       "Time: \u001b[1;36m22.80838681856791\u001b[0m, Loss: \u001b[1;36m0.59\u001b[0m\n",
       "Train_acc: \u001b[1;36m93.34\u001b[0m, Test_acc: \u001b[1;36m0.00\u001b[0m\n"
      ]
     },
     "metadata": {},
     "output_type": "display_data"
    },
    {
     "data": {
      "text/html": [
       "<pre style=\"white-space:pre;overflow-x:auto;line-height:normal;font-family:Menlo,'DejaVu Sans Mono',consolas,'Courier New',monospace\">Train <span style=\"color: #00ff00; text-decoration-color: #00ff00; font-weight: bold\">f1:0</span>.<span style=\"color: #008080; text-decoration-color: #008080; font-weight: bold\">933</span>, Test f1: <span style=\"color: #008080; text-decoration-color: #008080; font-weight: bold\">0.000</span>\n",
       "</pre>\n"
      ],
      "text/plain": [
       "Train \u001b[1;92mf1:0\u001b[0m.\u001b[1;36m933\u001b[0m, Test f1: \u001b[1;36m0.000\u001b[0m\n"
      ]
     },
     "metadata": {},
     "output_type": "display_data"
    },
    {
     "data": {
      "text/html": [
       "<pre style=\"white-space:pre;overflow-x:auto;line-height:normal;font-family:Menlo,'DejaVu Sans Mono',consolas,'Courier New',monospace\">update new model, new acc: <span style=\"color: #008080; text-decoration-color: #008080; font-weight: bold\">93.34</span>, new f1: <span style=\"color: #008080; text-decoration-color: #008080; font-weight: bold\">0.933</span> , save in .<span style=\"color: #800080; text-decoration-color: #800080\">/</span><span style=\"color: #ff00ff; text-decoration-color: #ff00ff\">model</span>\\mobileNet_v3_v8_25_BOTH.pth\n",
       "</pre>\n"
      ],
      "text/plain": [
       "update new model, new acc: \u001b[1;36m93.34\u001b[0m, new f1: \u001b[1;36m0.933\u001b[0m , save in .\u001b[35m/\u001b[0m\u001b[95mmodel\u001b[0m\\mobileNet_v3_v8_25_BOTH.pth\n"
      ]
     },
     "metadata": {},
     "output_type": "display_data"
    },
    {
     "data": {
      "text/html": [
       "<pre style=\"white-space:pre;overflow-x:auto;line-height:normal;font-family:Menlo,'DejaVu Sans Mono',consolas,'Courier New',monospace\">Epoch: <span style=\"font-weight: bold\">[</span><span style=\"color: #008080; text-decoration-color: #008080; font-weight: bold\">26</span><span style=\"font-weight: bold\">]</span>\n",
       "</pre>\n"
      ],
      "text/plain": [
       "Epoch: \u001b[1m[\u001b[0m\u001b[1;36m26\u001b[0m\u001b[1m]\u001b[0m\n"
      ]
     },
     "metadata": {},
     "output_type": "display_data"
    },
    {
     "name": "stderr",
     "output_type": "stream",
     "text": [
      "Training...: 100%|██████████| 1738/1738 [22:45<00:00,  1.27batch/s]\n",
      "Testing...: 100%|██████████| 1/1 [00:00<00:00, 33.33batch/s]\n"
     ]
    },
    {
     "data": {
      "text/html": [
       "<pre style=\"white-space:pre;overflow-x:auto;line-height:normal;font-family:Menlo,'DejaVu Sans Mono',consolas,'Courier New',monospace\">Time: <span style=\"color: #008080; text-decoration-color: #008080; font-weight: bold\">22.759052991867065</span>, Loss: <span style=\"color: #008080; text-decoration-color: #008080; font-weight: bold\">0.07</span>\n",
       "Train_acc: <span style=\"color: #008080; text-decoration-color: #008080; font-weight: bold\">93.64</span>, Test_acc: <span style=\"color: #008080; text-decoration-color: #008080; font-weight: bold\">0.00</span>\n",
       "</pre>\n"
      ],
      "text/plain": [
       "Time: \u001b[1;36m22.759052991867065\u001b[0m, Loss: \u001b[1;36m0.07\u001b[0m\n",
       "Train_acc: \u001b[1;36m93.64\u001b[0m, Test_acc: \u001b[1;36m0.00\u001b[0m\n"
      ]
     },
     "metadata": {},
     "output_type": "display_data"
    },
    {
     "data": {
      "text/html": [
       "<pre style=\"white-space:pre;overflow-x:auto;line-height:normal;font-family:Menlo,'DejaVu Sans Mono',consolas,'Courier New',monospace\">Train <span style=\"color: #00ff00; text-decoration-color: #00ff00; font-weight: bold\">f1:0</span>.<span style=\"color: #008080; text-decoration-color: #008080; font-weight: bold\">936</span>, Test f1: <span style=\"color: #008080; text-decoration-color: #008080; font-weight: bold\">0.000</span>\n",
       "</pre>\n"
      ],
      "text/plain": [
       "Train \u001b[1;92mf1:0\u001b[0m.\u001b[1;36m936\u001b[0m, Test f1: \u001b[1;36m0.000\u001b[0m\n"
      ]
     },
     "metadata": {},
     "output_type": "display_data"
    },
    {
     "data": {
      "text/html": [
       "<pre style=\"white-space:pre;overflow-x:auto;line-height:normal;font-family:Menlo,'DejaVu Sans Mono',consolas,'Courier New',monospace\">update new model, new acc: <span style=\"color: #008080; text-decoration-color: #008080; font-weight: bold\">93.64</span>, new f1: <span style=\"color: #008080; text-decoration-color: #008080; font-weight: bold\">0.936</span> , save in .<span style=\"color: #800080; text-decoration-color: #800080\">/</span><span style=\"color: #ff00ff; text-decoration-color: #ff00ff\">model</span>\\mobileNet_v3_v8_26_BOTH.pth\n",
       "</pre>\n"
      ],
      "text/plain": [
       "update new model, new acc: \u001b[1;36m93.64\u001b[0m, new f1: \u001b[1;36m0.936\u001b[0m , save in .\u001b[35m/\u001b[0m\u001b[95mmodel\u001b[0m\\mobileNet_v3_v8_26_BOTH.pth\n"
      ]
     },
     "metadata": {},
     "output_type": "display_data"
    },
    {
     "data": {
      "text/html": [
       "<pre style=\"white-space:pre;overflow-x:auto;line-height:normal;font-family:Menlo,'DejaVu Sans Mono',consolas,'Courier New',monospace\">Epoch: <span style=\"font-weight: bold\">[</span><span style=\"color: #008080; text-decoration-color: #008080; font-weight: bold\">27</span><span style=\"font-weight: bold\">]</span>\n",
       "</pre>\n"
      ],
      "text/plain": [
       "Epoch: \u001b[1m[\u001b[0m\u001b[1;36m27\u001b[0m\u001b[1m]\u001b[0m\n"
      ]
     },
     "metadata": {},
     "output_type": "display_data"
    },
    {
     "name": "stderr",
     "output_type": "stream",
     "text": [
      "Training...: 100%|██████████| 1738/1738 [22:42<00:00,  1.28batch/s]\n",
      "Testing...: 100%|██████████| 1/1 [00:00<00:00, 33.33batch/s]\n"
     ]
    },
    {
     "data": {
      "text/html": [
       "<pre style=\"white-space:pre;overflow-x:auto;line-height:normal;font-family:Menlo,'DejaVu Sans Mono',consolas,'Courier New',monospace\">Time: <span style=\"color: #008080; text-decoration-color: #008080; font-weight: bold\">22.701959200700124</span>, Loss: <span style=\"color: #008080; text-decoration-color: #008080; font-weight: bold\">0.00</span>\n",
       "Train_acc: <span style=\"color: #008080; text-decoration-color: #008080; font-weight: bold\">93.61</span>, Test_acc: <span style=\"color: #008080; text-decoration-color: #008080; font-weight: bold\">100.00</span>\n",
       "</pre>\n"
      ],
      "text/plain": [
       "Time: \u001b[1;36m22.701959200700124\u001b[0m, Loss: \u001b[1;36m0.00\u001b[0m\n",
       "Train_acc: \u001b[1;36m93.61\u001b[0m, Test_acc: \u001b[1;36m100.00\u001b[0m\n"
      ]
     },
     "metadata": {},
     "output_type": "display_data"
    },
    {
     "data": {
      "text/html": [
       "<pre style=\"white-space:pre;overflow-x:auto;line-height:normal;font-family:Menlo,'DejaVu Sans Mono',consolas,'Courier New',monospace\">Train <span style=\"color: #00ff00; text-decoration-color: #00ff00; font-weight: bold\">f1:0</span>.<span style=\"color: #008080; text-decoration-color: #008080; font-weight: bold\">936</span>, Test f1: <span style=\"color: #008080; text-decoration-color: #008080; font-weight: bold\">1.000</span>\n",
       "</pre>\n"
      ],
      "text/plain": [
       "Train \u001b[1;92mf1:0\u001b[0m.\u001b[1;36m936\u001b[0m, Test f1: \u001b[1;36m1.000\u001b[0m\n"
      ]
     },
     "metadata": {},
     "output_type": "display_data"
    },
    {
     "data": {
      "text/html": [
       "<pre style=\"white-space:pre;overflow-x:auto;line-height:normal;font-family:Menlo,'DejaVu Sans Mono',consolas,'Courier New',monospace\">Epoch: <span style=\"font-weight: bold\">[</span><span style=\"color: #008080; text-decoration-color: #008080; font-weight: bold\">28</span><span style=\"font-weight: bold\">]</span>\n",
       "</pre>\n"
      ],
      "text/plain": [
       "Epoch: \u001b[1m[\u001b[0m\u001b[1;36m28\u001b[0m\u001b[1m]\u001b[0m\n"
      ]
     },
     "metadata": {},
     "output_type": "display_data"
    },
    {
     "name": "stderr",
     "output_type": "stream",
     "text": [
      "Training...: 100%|██████████| 1738/1738 [22:58<00:00,  1.26batch/s]\n",
      "Testing...: 100%|██████████| 1/1 [00:00<00:00, 29.41batch/s]\n"
     ]
    },
    {
     "data": {
      "text/html": [
       "<pre style=\"white-space:pre;overflow-x:auto;line-height:normal;font-family:Menlo,'DejaVu Sans Mono',consolas,'Courier New',monospace\">Time: <span style=\"color: #008080; text-decoration-color: #008080; font-weight: bold\">22.96960527896881</span>, Loss: <span style=\"color: #008080; text-decoration-color: #008080; font-weight: bold\">0.65</span>\n",
       "Train_acc: <span style=\"color: #008080; text-decoration-color: #008080; font-weight: bold\">93.66</span>, Test_acc: <span style=\"color: #008080; text-decoration-color: #008080; font-weight: bold\">100.00</span>\n",
       "</pre>\n"
      ],
      "text/plain": [
       "Time: \u001b[1;36m22.96960527896881\u001b[0m, Loss: \u001b[1;36m0.65\u001b[0m\n",
       "Train_acc: \u001b[1;36m93.66\u001b[0m, Test_acc: \u001b[1;36m100.00\u001b[0m\n"
      ]
     },
     "metadata": {},
     "output_type": "display_data"
    },
    {
     "data": {
      "text/html": [
       "<pre style=\"white-space:pre;overflow-x:auto;line-height:normal;font-family:Menlo,'DejaVu Sans Mono',consolas,'Courier New',monospace\">Train <span style=\"color: #00ff00; text-decoration-color: #00ff00; font-weight: bold\">f1:0</span>.<span style=\"color: #008080; text-decoration-color: #008080; font-weight: bold\">937</span>, Test f1: <span style=\"color: #008080; text-decoration-color: #008080; font-weight: bold\">1.000</span>\n",
       "</pre>\n"
      ],
      "text/plain": [
       "Train \u001b[1;92mf1:0\u001b[0m.\u001b[1;36m937\u001b[0m, Test f1: \u001b[1;36m1.000\u001b[0m\n"
      ]
     },
     "metadata": {},
     "output_type": "display_data"
    },
    {
     "data": {
      "text/html": [
       "<pre style=\"white-space:pre;overflow-x:auto;line-height:normal;font-family:Menlo,'DejaVu Sans Mono',consolas,'Courier New',monospace\">update new model, new acc: <span style=\"color: #008080; text-decoration-color: #008080; font-weight: bold\">93.66</span>, new f1: <span style=\"color: #008080; text-decoration-color: #008080; font-weight: bold\">0.937</span> , save in .<span style=\"color: #800080; text-decoration-color: #800080\">/</span><span style=\"color: #ff00ff; text-decoration-color: #ff00ff\">model</span>\\mobileNet_v3_v8_28_BOTH.pth\n",
       "</pre>\n"
      ],
      "text/plain": [
       "update new model, new acc: \u001b[1;36m93.66\u001b[0m, new f1: \u001b[1;36m0.937\u001b[0m , save in .\u001b[35m/\u001b[0m\u001b[95mmodel\u001b[0m\\mobileNet_v3_v8_28_BOTH.pth\n"
      ]
     },
     "metadata": {},
     "output_type": "display_data"
    },
    {
     "data": {
      "text/html": [
       "<pre style=\"white-space:pre;overflow-x:auto;line-height:normal;font-family:Menlo,'DejaVu Sans Mono',consolas,'Courier New',monospace\">Epoch: <span style=\"font-weight: bold\">[</span><span style=\"color: #008080; text-decoration-color: #008080; font-weight: bold\">29</span><span style=\"font-weight: bold\">]</span>\n",
       "</pre>\n"
      ],
      "text/plain": [
       "Epoch: \u001b[1m[\u001b[0m\u001b[1;36m29\u001b[0m\u001b[1m]\u001b[0m\n"
      ]
     },
     "metadata": {},
     "output_type": "display_data"
    },
    {
     "name": "stderr",
     "output_type": "stream",
     "text": [
      "Training...: 100%|██████████| 1738/1738 [23:17<00:00,  1.24batch/s]\n",
      "Testing...: 100%|██████████| 1/1 [00:00<00:00, 27.78batch/s]\n"
     ]
    },
    {
     "data": {
      "text/html": [
       "<pre style=\"white-space:pre;overflow-x:auto;line-height:normal;font-family:Menlo,'DejaVu Sans Mono',consolas,'Courier New',monospace\">Time: <span style=\"color: #008080; text-decoration-color: #008080; font-weight: bold\">23.300279208024342</span>, Loss: <span style=\"color: #008080; text-decoration-color: #008080; font-weight: bold\">0.61</span>\n",
       "Train_acc: <span style=\"color: #008080; text-decoration-color: #008080; font-weight: bold\">93.64</span>, Test_acc: <span style=\"color: #008080; text-decoration-color: #008080; font-weight: bold\">0.00</span>\n",
       "</pre>\n"
      ],
      "text/plain": [
       "Time: \u001b[1;36m23.300279208024342\u001b[0m, Loss: \u001b[1;36m0.61\u001b[0m\n",
       "Train_acc: \u001b[1;36m93.64\u001b[0m, Test_acc: \u001b[1;36m0.00\u001b[0m\n"
      ]
     },
     "metadata": {},
     "output_type": "display_data"
    },
    {
     "data": {
      "text/html": [
       "<pre style=\"white-space:pre;overflow-x:auto;line-height:normal;font-family:Menlo,'DejaVu Sans Mono',consolas,'Courier New',monospace\">Train <span style=\"color: #00ff00; text-decoration-color: #00ff00; font-weight: bold\">f1:0</span>.<span style=\"color: #008080; text-decoration-color: #008080; font-weight: bold\">936</span>, Test f1: <span style=\"color: #008080; text-decoration-color: #008080; font-weight: bold\">0.000</span>\n",
       "</pre>\n"
      ],
      "text/plain": [
       "Train \u001b[1;92mf1:0\u001b[0m.\u001b[1;36m936\u001b[0m, Test f1: \u001b[1;36m0.000\u001b[0m\n"
      ]
     },
     "metadata": {},
     "output_type": "display_data"
    }
   ],
   "source": [
    "scaler = GradScaler()\n",
    "# old_test_acc = -1…\n",
    "old_test_acc , old_f1_mark = -1 , -1\n",
    "for epoch in range(TRAIN_EPOCH):\n",
    "    print(f\"Epoch: [{epoch}]\")\n",
    "    start_time = time()\n",
    "    \n",
    "    \n",
    "    train_acc , test_acc = 0 , 0 \n",
    "    # training\n",
    "    model.train()\n",
    "    \n",
    "    train_pred_list , train_labels_list = [] , []\n",
    "    test_pred_list , test_labels_list = [] , []\n",
    "    \n",
    "    \n",
    "    with tqdm(train_loader , unit=\"batch\" , desc=\"Training...\") as t_epoch:\n",
    "        for inputs , labels in t_epoch:\n",
    "            \n",
    "            # in cuda\n",
    "            torch.cuda.empty_cache()\n",
    "            inputs , labels_gpu = inputs.to(device) , labels.to(device)\n",
    "            # zero the parameter gradients\n",
    "            optimizer.zero_grad()\n",
    "            \n",
    "            # forward + backward + optimize\n",
    "            with autocast():\n",
    "                model_outputs = model(inputs)\n",
    "                \n",
    "                loss = criterion(model_outputs.float() , labels_gpu)\n",
    "                \n",
    "            # use scaler update  \n",
    "            scaler.scale(loss).backward()\n",
    "            scaler.step(optimizer)\n",
    "            scaler.update()\n",
    "                \n",
    "            \n",
    "            # in cpu\n",
    "            model_outputs = model_outputs.cpu()\n",
    "            # dim is one , get array \n",
    "            train_pred = torch.max(model_outputs , 1).indices\n",
    "            # how many is same \n",
    "            train_acc += int(torch.sum(train_pred == labels))\n",
    "            # for f1\n",
    "            train_labels_list.extend(labels.tolist())\n",
    "            train_pred_list.extend(train_pred.tolist())\n",
    "        \n",
    "        # get epoch train acc \n",
    "        ep_train_acc = train_acc / train_size\n",
    "        \n",
    "    train_f1 = f1_score(train_labels_list , train_pred_list ,average=\"micro\")\n",
    "    \n",
    "    # lock model \n",
    "    model.eval()\n",
    "    with torch.no_grad():\n",
    "        \n",
    "        # validation\n",
    "        with tqdm(test_loader , unit=\"batch\" , desc=\"Testing...\") as test_epoch:\n",
    "            for inputs , labels in test_epoch:\n",
    "                # in cuda\n",
    "                torch.cuda.empty_cache()\n",
    "                inputs , labels_gpu = inputs.to(device) , labels.to(device)\n",
    "                test_prob = model(inputs)\n",
    "                \n",
    "                # in cpu\n",
    "                test_prob = test_prob.cpu()\n",
    "                test_pred = torch.max(test_prob , 1).indices\n",
    "                test_acc += int(torch.sum(test_pred == labels))\n",
    "                \n",
    "                test_labels_list.extend(labels.tolist())\n",
    "                test_pred_list.extend(test_pred.tolist())  \n",
    "                \n",
    "        ep_test_acc = test_acc / val_size\n",
    "        # ep_test_acc = test_acc / len(dataset)\n",
    "    test_f1 = f1_score(test_labels_list , test_pred_list,average=\"micro\")         \n",
    "    \n",
    "    end_time = time()\n",
    "    duration = (end_time - start_time) / 60\n",
    "    print(f\"Time: {duration}, Loss: {loss:.2f}\\nTrain_acc: {ep_train_acc*100 :.2f}, Test_acc: {ep_test_acc*100 :.2f}\")\n",
    "    print(f\"Train f1:{train_f1:.3f}, Test f1: {test_f1:.3f}\")\n",
    "    \n",
    "    to_df_data = {\n",
    "        \"epoch\":epoch , \n",
    "        \"time(mins)\": duration , \n",
    "        \"loss\" : loss.cpu().detach().numpy() , \n",
    "        \"train_acc\" : ep_train_acc*100.0,\n",
    "        \"train_f1\":train_f1 , \n",
    "        \"test_acc\": ep_test_acc*100 , \n",
    "        \"test_f1\":test_f1 , \n",
    "        \"update\":False,\n",
    "        \"File Name\" : \"\",\n",
    "    }\n",
    "    \n",
    "    check_condition = (ep_train_acc > old_test_acc, train_f1 > old_f1_mark)\n",
    "    \n",
    "    if check_condition[0] or check_condition[1]:\n",
    "        \n",
    "        if check_condition[0]:\n",
    "            type_str = \"ACC\"\n",
    "            old_test_acc = ep_train_acc\n",
    "            \n",
    "        if check_condition[1]:\n",
    "            type_str = \"F1\"\n",
    "            old_f1_mark = train_f1\n",
    "        \n",
    "        if check_condition[0] and check_condition[1]:\n",
    "            type_str = \"BOTH\"\n",
    "        \n",
    "        model_path = to_model_path(epoch , type_str)\n",
    "        torch.save(model.state_dict() , model_path)\n",
    "        old_f1_mark = train_f1\n",
    "        print(f\"update new model, new acc: {ep_train_acc*100 :.2f}, new f1: {train_f1:.3f} , save in {model_path}\")\n",
    "        to_df_data[\"update\"] = True\n",
    "        to_df_data[\"File Name\"] = model_path\n",
    "        \n",
    "    \n",
    "    train_data_record_df.loc[len(train_data_record_df)] = to_df_data \n",
    "    train_data_record_df.to_csv(\"./table/mobileNet_v3_v8_records.csv\")\n",
    "    \n",
    "    \n",
    "\n",
    "    \n",
    "    "
   ]
  },
  {
   "cell_type": "code",
   "execution_count": 3,
   "metadata": {},
   "outputs": [],
   "source": [
    "import pandas as pd "
   ]
  },
  {
   "cell_type": "code",
   "execution_count": 4,
   "metadata": {},
   "outputs": [
    {
     "data": {
      "text/html": [
       "<div>\n",
       "<style scoped>\n",
       "    .dataframe tbody tr th:only-of-type {\n",
       "        vertical-align: middle;\n",
       "    }\n",
       "\n",
       "    .dataframe tbody tr th {\n",
       "        vertical-align: top;\n",
       "    }\n",
       "\n",
       "    .dataframe thead th {\n",
       "        text-align: right;\n",
       "    }\n",
       "</style>\n",
       "<table border=\"1\" class=\"dataframe\">\n",
       "  <thead>\n",
       "    <tr style=\"text-align: right;\">\n",
       "      <th></th>\n",
       "      <th>Unnamed: 0</th>\n",
       "      <th>epoch</th>\n",
       "      <th>time(mins)</th>\n",
       "      <th>loss</th>\n",
       "      <th>train_acc</th>\n",
       "      <th>train_f1</th>\n",
       "      <th>test_acc</th>\n",
       "      <th>test_f1</th>\n",
       "      <th>update</th>\n",
       "      <th>File Name</th>\n",
       "    </tr>\n",
       "  </thead>\n",
       "  <tbody>\n",
       "    <tr>\n",
       "      <th>0</th>\n",
       "      <td>0</td>\n",
       "      <td>0</td>\n",
       "      <td>24.668357</td>\n",
       "      <td>1.342858</td>\n",
       "      <td>32.183267</td>\n",
       "      <td>0.321833</td>\n",
       "      <td>0.0</td>\n",
       "      <td>0.0</td>\n",
       "      <td>True</td>\n",
       "      <td>./model\\mobileNet_v3_v8_0_BOTH.pth</td>\n",
       "    </tr>\n",
       "    <tr>\n",
       "      <th>1</th>\n",
       "      <td>1</td>\n",
       "      <td>1</td>\n",
       "      <td>25.756044</td>\n",
       "      <td>1.336178</td>\n",
       "      <td>37.331582</td>\n",
       "      <td>0.373316</td>\n",
       "      <td>100.0</td>\n",
       "      <td>1.0</td>\n",
       "      <td>True</td>\n",
       "      <td>./model\\mobileNet_v3_v8_1_BOTH.pth</td>\n",
       "    </tr>\n",
       "    <tr>\n",
       "      <th>2</th>\n",
       "      <td>2</td>\n",
       "      <td>2</td>\n",
       "      <td>23.875603</td>\n",
       "      <td>1.281872</td>\n",
       "      <td>41.828713</td>\n",
       "      <td>0.418287</td>\n",
       "      <td>0.0</td>\n",
       "      <td>0.0</td>\n",
       "      <td>True</td>\n",
       "      <td>./model\\mobileNet_v3_v8_2_BOTH.pth</td>\n",
       "    </tr>\n",
       "    <tr>\n",
       "      <th>3</th>\n",
       "      <td>3</td>\n",
       "      <td>3</td>\n",
       "      <td>24.510022</td>\n",
       "      <td>1.101552</td>\n",
       "      <td>47.218075</td>\n",
       "      <td>0.472181</td>\n",
       "      <td>0.0</td>\n",
       "      <td>0.0</td>\n",
       "      <td>True</td>\n",
       "      <td>./model\\mobileNet_v3_v8_3_BOTH.pth</td>\n",
       "    </tr>\n",
       "    <tr>\n",
       "      <th>4</th>\n",
       "      <td>4</td>\n",
       "      <td>4</td>\n",
       "      <td>23.938384</td>\n",
       "      <td>1.505842</td>\n",
       "      <td>54.773255</td>\n",
       "      <td>0.547733</td>\n",
       "      <td>0.0</td>\n",
       "      <td>0.0</td>\n",
       "      <td>True</td>\n",
       "      <td>./model\\mobileNet_v3_v8_4_BOTH.pth</td>\n",
       "    </tr>\n",
       "    <tr>\n",
       "      <th>5</th>\n",
       "      <td>5</td>\n",
       "      <td>5</td>\n",
       "      <td>23.316174</td>\n",
       "      <td>0.978088</td>\n",
       "      <td>62.715188</td>\n",
       "      <td>0.627152</td>\n",
       "      <td>100.0</td>\n",
       "      <td>1.0</td>\n",
       "      <td>True</td>\n",
       "      <td>./model\\mobileNet_v3_v8_5_BOTH.pth</td>\n",
       "    </tr>\n",
       "    <tr>\n",
       "      <th>6</th>\n",
       "      <td>6</td>\n",
       "      <td>6</td>\n",
       "      <td>22.643145</td>\n",
       "      <td>0.787612</td>\n",
       "      <td>70.725477</td>\n",
       "      <td>0.707255</td>\n",
       "      <td>0.0</td>\n",
       "      <td>0.0</td>\n",
       "      <td>True</td>\n",
       "      <td>./model\\mobileNet_v3_v8_6_BOTH.pth</td>\n",
       "    </tr>\n",
       "    <tr>\n",
       "      <th>7</th>\n",
       "      <td>7</td>\n",
       "      <td>7</td>\n",
       "      <td>22.663777</td>\n",
       "      <td>0.867645</td>\n",
       "      <td>77.723013</td>\n",
       "      <td>0.777230</td>\n",
       "      <td>100.0</td>\n",
       "      <td>1.0</td>\n",
       "      <td>True</td>\n",
       "      <td>./model\\mobileNet_v3_v8_7_BOTH.pth</td>\n",
       "    </tr>\n",
       "    <tr>\n",
       "      <th>8</th>\n",
       "      <td>8</td>\n",
       "      <td>8</td>\n",
       "      <td>22.538653</td>\n",
       "      <td>0.995355</td>\n",
       "      <td>82.455793</td>\n",
       "      <td>0.824558</td>\n",
       "      <td>100.0</td>\n",
       "      <td>1.0</td>\n",
       "      <td>True</td>\n",
       "      <td>./model\\mobileNet_v3_v8_8_BOTH.pth</td>\n",
       "    </tr>\n",
       "    <tr>\n",
       "      <th>9</th>\n",
       "      <td>9</td>\n",
       "      <td>9</td>\n",
       "      <td>22.599420</td>\n",
       "      <td>0.476034</td>\n",
       "      <td>85.454480</td>\n",
       "      <td>0.854545</td>\n",
       "      <td>0.0</td>\n",
       "      <td>0.0</td>\n",
       "      <td>True</td>\n",
       "      <td>./model\\mobileNet_v3_v8_9_BOTH.pth</td>\n",
       "    </tr>\n",
       "    <tr>\n",
       "      <th>10</th>\n",
       "      <td>10</td>\n",
       "      <td>10</td>\n",
       "      <td>22.579296</td>\n",
       "      <td>0.105960</td>\n",
       "      <td>87.303700</td>\n",
       "      <td>0.873037</td>\n",
       "      <td>0.0</td>\n",
       "      <td>0.0</td>\n",
       "      <td>True</td>\n",
       "      <td>./model\\mobileNet_v3_v8_10_BOTH.pth</td>\n",
       "    </tr>\n",
       "    <tr>\n",
       "      <th>11</th>\n",
       "      <td>11</td>\n",
       "      <td>11</td>\n",
       "      <td>22.504812</td>\n",
       "      <td>0.755988</td>\n",
       "      <td>88.690615</td>\n",
       "      <td>0.886906</td>\n",
       "      <td>100.0</td>\n",
       "      <td>1.0</td>\n",
       "      <td>True</td>\n",
       "      <td>./model\\mobileNet_v3_v8_11_BOTH.pth</td>\n",
       "    </tr>\n",
       "    <tr>\n",
       "      <th>12</th>\n",
       "      <td>12</td>\n",
       "      <td>12</td>\n",
       "      <td>22.804784</td>\n",
       "      <td>0.131218</td>\n",
       "      <td>89.271645</td>\n",
       "      <td>0.892716</td>\n",
       "      <td>100.0</td>\n",
       "      <td>1.0</td>\n",
       "      <td>True</td>\n",
       "      <td>./model\\mobileNet_v3_v8_12_BOTH.pth</td>\n",
       "    </tr>\n",
       "    <tr>\n",
       "      <th>13</th>\n",
       "      <td>13</td>\n",
       "      <td>13</td>\n",
       "      <td>22.600464</td>\n",
       "      <td>0.724888</td>\n",
       "      <td>90.361749</td>\n",
       "      <td>0.903617</td>\n",
       "      <td>100.0</td>\n",
       "      <td>1.0</td>\n",
       "      <td>True</td>\n",
       "      <td>./model\\mobileNet_v3_v8_13_BOTH.pth</td>\n",
       "    </tr>\n",
       "    <tr>\n",
       "      <th>14</th>\n",
       "      <td>14</td>\n",
       "      <td>14</td>\n",
       "      <td>22.658723</td>\n",
       "      <td>0.224885</td>\n",
       "      <td>90.865428</td>\n",
       "      <td>0.908654</td>\n",
       "      <td>100.0</td>\n",
       "      <td>1.0</td>\n",
       "      <td>True</td>\n",
       "      <td>./model\\mobileNet_v3_v8_14_BOTH.pth</td>\n",
       "    </tr>\n",
       "    <tr>\n",
       "      <th>15</th>\n",
       "      <td>15</td>\n",
       "      <td>15</td>\n",
       "      <td>22.778651</td>\n",
       "      <td>0.630587</td>\n",
       "      <td>91.117267</td>\n",
       "      <td>0.911173</td>\n",
       "      <td>0.0</td>\n",
       "      <td>0.0</td>\n",
       "      <td>True</td>\n",
       "      <td>./model\\mobileNet_v3_v8_15_BOTH.pth</td>\n",
       "    </tr>\n",
       "    <tr>\n",
       "      <th>16</th>\n",
       "      <td>16</td>\n",
       "      <td>16</td>\n",
       "      <td>22.619123</td>\n",
       "      <td>0.286609</td>\n",
       "      <td>91.437463</td>\n",
       "      <td>0.914375</td>\n",
       "      <td>0.0</td>\n",
       "      <td>0.0</td>\n",
       "      <td>True</td>\n",
       "      <td>./model\\mobileNet_v3_v8_16_BOTH.pth</td>\n",
       "    </tr>\n",
       "    <tr>\n",
       "      <th>17</th>\n",
       "      <td>17</td>\n",
       "      <td>17</td>\n",
       "      <td>22.656412</td>\n",
       "      <td>0.816944</td>\n",
       "      <td>91.960929</td>\n",
       "      <td>0.919609</td>\n",
       "      <td>100.0</td>\n",
       "      <td>1.0</td>\n",
       "      <td>True</td>\n",
       "      <td>./model\\mobileNet_v3_v8_17_BOTH.pth</td>\n",
       "    </tr>\n",
       "    <tr>\n",
       "      <th>18</th>\n",
       "      <td>18</td>\n",
       "      <td>18</td>\n",
       "      <td>22.827672</td>\n",
       "      <td>0.560356</td>\n",
       "      <td>92.371067</td>\n",
       "      <td>0.923711</td>\n",
       "      <td>0.0</td>\n",
       "      <td>0.0</td>\n",
       "      <td>True</td>\n",
       "      <td>./model\\mobileNet_v3_v8_18_BOTH.pth</td>\n",
       "    </tr>\n",
       "    <tr>\n",
       "      <th>19</th>\n",
       "      <td>19</td>\n",
       "      <td>19</td>\n",
       "      <td>22.676922</td>\n",
       "      <td>0.476876</td>\n",
       "      <td>92.378263</td>\n",
       "      <td>0.923783</td>\n",
       "      <td>0.0</td>\n",
       "      <td>0.0</td>\n",
       "      <td>True</td>\n",
       "      <td>./model\\mobileNet_v3_v8_19_BOTH.pth</td>\n",
       "    </tr>\n",
       "    <tr>\n",
       "      <th>20</th>\n",
       "      <td>20</td>\n",
       "      <td>20</td>\n",
       "      <td>22.950704</td>\n",
       "      <td>0.135925</td>\n",
       "      <td>92.716447</td>\n",
       "      <td>0.927164</td>\n",
       "      <td>0.0</td>\n",
       "      <td>0.0</td>\n",
       "      <td>True</td>\n",
       "      <td>./model\\mobileNet_v3_v8_20_BOTH.pth</td>\n",
       "    </tr>\n",
       "    <tr>\n",
       "      <th>21</th>\n",
       "      <td>21</td>\n",
       "      <td>21</td>\n",
       "      <td>22.740851</td>\n",
       "      <td>0.106529</td>\n",
       "      <td>92.928711</td>\n",
       "      <td>0.929287</td>\n",
       "      <td>0.0</td>\n",
       "      <td>0.0</td>\n",
       "      <td>True</td>\n",
       "      <td>./model\\mobileNet_v3_v8_21_BOTH.pth</td>\n",
       "    </tr>\n",
       "    <tr>\n",
       "      <th>22</th>\n",
       "      <td>22</td>\n",
       "      <td>22</td>\n",
       "      <td>22.788209</td>\n",
       "      <td>0.116291</td>\n",
       "      <td>92.867551</td>\n",
       "      <td>0.928676</td>\n",
       "      <td>0.0</td>\n",
       "      <td>0.0</td>\n",
       "      <td>False</td>\n",
       "      <td>NaN</td>\n",
       "    </tr>\n",
       "    <tr>\n",
       "      <th>23</th>\n",
       "      <td>23</td>\n",
       "      <td>23</td>\n",
       "      <td>22.702364</td>\n",
       "      <td>0.261354</td>\n",
       "      <td>93.205735</td>\n",
       "      <td>0.932057</td>\n",
       "      <td>0.0</td>\n",
       "      <td>0.0</td>\n",
       "      <td>True</td>\n",
       "      <td>./model\\mobileNet_v3_v8_23_BOTH.pth</td>\n",
       "    </tr>\n",
       "    <tr>\n",
       "      <th>24</th>\n",
       "      <td>24</td>\n",
       "      <td>24</td>\n",
       "      <td>22.708893</td>\n",
       "      <td>0.749304</td>\n",
       "      <td>93.272292</td>\n",
       "      <td>0.932723</td>\n",
       "      <td>0.0</td>\n",
       "      <td>0.0</td>\n",
       "      <td>True</td>\n",
       "      <td>./model\\mobileNet_v3_v8_24_BOTH.pth</td>\n",
       "    </tr>\n",
       "    <tr>\n",
       "      <th>25</th>\n",
       "      <td>25</td>\n",
       "      <td>25</td>\n",
       "      <td>22.808387</td>\n",
       "      <td>0.593260</td>\n",
       "      <td>93.342448</td>\n",
       "      <td>0.933424</td>\n",
       "      <td>0.0</td>\n",
       "      <td>0.0</td>\n",
       "      <td>True</td>\n",
       "      <td>./model\\mobileNet_v3_v8_25_BOTH.pth</td>\n",
       "    </tr>\n",
       "    <tr>\n",
       "      <th>26</th>\n",
       "      <td>26</td>\n",
       "      <td>26</td>\n",
       "      <td>22.759053</td>\n",
       "      <td>0.065170</td>\n",
       "      <td>93.641057</td>\n",
       "      <td>0.936411</td>\n",
       "      <td>0.0</td>\n",
       "      <td>0.0</td>\n",
       "      <td>True</td>\n",
       "      <td>./model\\mobileNet_v3_v8_26_BOTH.pth</td>\n",
       "    </tr>\n",
       "    <tr>\n",
       "      <th>27</th>\n",
       "      <td>27</td>\n",
       "      <td>27</td>\n",
       "      <td>22.701959</td>\n",
       "      <td>0.003945</td>\n",
       "      <td>93.606879</td>\n",
       "      <td>0.936069</td>\n",
       "      <td>100.0</td>\n",
       "      <td>1.0</td>\n",
       "      <td>False</td>\n",
       "      <td>NaN</td>\n",
       "    </tr>\n",
       "    <tr>\n",
       "      <th>28</th>\n",
       "      <td>28</td>\n",
       "      <td>28</td>\n",
       "      <td>22.969605</td>\n",
       "      <td>0.650889</td>\n",
       "      <td>93.657247</td>\n",
       "      <td>0.936572</td>\n",
       "      <td>100.0</td>\n",
       "      <td>1.0</td>\n",
       "      <td>True</td>\n",
       "      <td>./model\\mobileNet_v3_v8_28_BOTH.pth</td>\n",
       "    </tr>\n",
       "    <tr>\n",
       "      <th>29</th>\n",
       "      <td>29</td>\n",
       "      <td>29</td>\n",
       "      <td>23.300279</td>\n",
       "      <td>0.605848</td>\n",
       "      <td>93.641057</td>\n",
       "      <td>0.936411</td>\n",
       "      <td>0.0</td>\n",
       "      <td>0.0</td>\n",
       "      <td>False</td>\n",
       "      <td>NaN</td>\n",
       "    </tr>\n",
       "  </tbody>\n",
       "</table>\n",
       "</div>"
      ],
      "text/plain": [
       "    Unnamed: 0  epoch  time(mins)      loss  train_acc  train_f1  test_acc  \\\n",
       "0            0      0   24.668357  1.342858  32.183267  0.321833       0.0   \n",
       "1            1      1   25.756044  1.336178  37.331582  0.373316     100.0   \n",
       "2            2      2   23.875603  1.281872  41.828713  0.418287       0.0   \n",
       "3            3      3   24.510022  1.101552  47.218075  0.472181       0.0   \n",
       "4            4      4   23.938384  1.505842  54.773255  0.547733       0.0   \n",
       "5            5      5   23.316174  0.978088  62.715188  0.627152     100.0   \n",
       "6            6      6   22.643145  0.787612  70.725477  0.707255       0.0   \n",
       "7            7      7   22.663777  0.867645  77.723013  0.777230     100.0   \n",
       "8            8      8   22.538653  0.995355  82.455793  0.824558     100.0   \n",
       "9            9      9   22.599420  0.476034  85.454480  0.854545       0.0   \n",
       "10          10     10   22.579296  0.105960  87.303700  0.873037       0.0   \n",
       "11          11     11   22.504812  0.755988  88.690615  0.886906     100.0   \n",
       "12          12     12   22.804784  0.131218  89.271645  0.892716     100.0   \n",
       "13          13     13   22.600464  0.724888  90.361749  0.903617     100.0   \n",
       "14          14     14   22.658723  0.224885  90.865428  0.908654     100.0   \n",
       "15          15     15   22.778651  0.630587  91.117267  0.911173       0.0   \n",
       "16          16     16   22.619123  0.286609  91.437463  0.914375       0.0   \n",
       "17          17     17   22.656412  0.816944  91.960929  0.919609     100.0   \n",
       "18          18     18   22.827672  0.560356  92.371067  0.923711       0.0   \n",
       "19          19     19   22.676922  0.476876  92.378263  0.923783       0.0   \n",
       "20          20     20   22.950704  0.135925  92.716447  0.927164       0.0   \n",
       "21          21     21   22.740851  0.106529  92.928711  0.929287       0.0   \n",
       "22          22     22   22.788209  0.116291  92.867551  0.928676       0.0   \n",
       "23          23     23   22.702364  0.261354  93.205735  0.932057       0.0   \n",
       "24          24     24   22.708893  0.749304  93.272292  0.932723       0.0   \n",
       "25          25     25   22.808387  0.593260  93.342448  0.933424       0.0   \n",
       "26          26     26   22.759053  0.065170  93.641057  0.936411       0.0   \n",
       "27          27     27   22.701959  0.003945  93.606879  0.936069     100.0   \n",
       "28          28     28   22.969605  0.650889  93.657247  0.936572     100.0   \n",
       "29          29     29   23.300279  0.605848  93.641057  0.936411       0.0   \n",
       "\n",
       "    test_f1  update                            File Name  \n",
       "0       0.0    True   ./model\\mobileNet_v3_v8_0_BOTH.pth  \n",
       "1       1.0    True   ./model\\mobileNet_v3_v8_1_BOTH.pth  \n",
       "2       0.0    True   ./model\\mobileNet_v3_v8_2_BOTH.pth  \n",
       "3       0.0    True   ./model\\mobileNet_v3_v8_3_BOTH.pth  \n",
       "4       0.0    True   ./model\\mobileNet_v3_v8_4_BOTH.pth  \n",
       "5       1.0    True   ./model\\mobileNet_v3_v8_5_BOTH.pth  \n",
       "6       0.0    True   ./model\\mobileNet_v3_v8_6_BOTH.pth  \n",
       "7       1.0    True   ./model\\mobileNet_v3_v8_7_BOTH.pth  \n",
       "8       1.0    True   ./model\\mobileNet_v3_v8_8_BOTH.pth  \n",
       "9       0.0    True   ./model\\mobileNet_v3_v8_9_BOTH.pth  \n",
       "10      0.0    True  ./model\\mobileNet_v3_v8_10_BOTH.pth  \n",
       "11      1.0    True  ./model\\mobileNet_v3_v8_11_BOTH.pth  \n",
       "12      1.0    True  ./model\\mobileNet_v3_v8_12_BOTH.pth  \n",
       "13      1.0    True  ./model\\mobileNet_v3_v8_13_BOTH.pth  \n",
       "14      1.0    True  ./model\\mobileNet_v3_v8_14_BOTH.pth  \n",
       "15      0.0    True  ./model\\mobileNet_v3_v8_15_BOTH.pth  \n",
       "16      0.0    True  ./model\\mobileNet_v3_v8_16_BOTH.pth  \n",
       "17      1.0    True  ./model\\mobileNet_v3_v8_17_BOTH.pth  \n",
       "18      0.0    True  ./model\\mobileNet_v3_v8_18_BOTH.pth  \n",
       "19      0.0    True  ./model\\mobileNet_v3_v8_19_BOTH.pth  \n",
       "20      0.0    True  ./model\\mobileNet_v3_v8_20_BOTH.pth  \n",
       "21      0.0    True  ./model\\mobileNet_v3_v8_21_BOTH.pth  \n",
       "22      0.0   False                                  NaN  \n",
       "23      0.0    True  ./model\\mobileNet_v3_v8_23_BOTH.pth  \n",
       "24      0.0    True  ./model\\mobileNet_v3_v8_24_BOTH.pth  \n",
       "25      0.0    True  ./model\\mobileNet_v3_v8_25_BOTH.pth  \n",
       "26      0.0    True  ./model\\mobileNet_v3_v8_26_BOTH.pth  \n",
       "27      1.0   False                                  NaN  \n",
       "28      1.0    True  ./model\\mobileNet_v3_v8_28_BOTH.pth  \n",
       "29      0.0   False                                  NaN  "
      ]
     },
     "execution_count": 4,
     "metadata": {},
     "output_type": "execute_result"
    }
   ],
   "source": [
    "train_table_result = pd.read_csv(\"./table/mobileNet_v3_v8_records.csv\")\n",
    "train_table_result"
   ]
  },
  {
   "cell_type": "code",
   "execution_count": null,
   "metadata": {},
   "outputs": [],
   "source": []
  }
 ],
 "metadata": {
  "kernelspec": {
   "display_name": ".venv",
   "language": "python",
   "name": "python3"
  },
  "language_info": {
   "codemirror_mode": {
    "name": "ipython",
    "version": 3
   },
   "file_extension": ".py",
   "mimetype": "text/x-python",
   "name": "python",
   "nbconvert_exporter": "python",
   "pygments_lexer": "ipython3",
   "version": "3.11.5"
  }
 },
 "nbformat": 4,
 "nbformat_minor": 2
}
