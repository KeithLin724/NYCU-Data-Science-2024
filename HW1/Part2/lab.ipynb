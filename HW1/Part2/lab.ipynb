{
 "cells": [
  {
   "cell_type": "code",
   "execution_count": 19,
   "metadata": {},
   "outputs": [],
   "source": [
    "import asyncio\n",
    "from CrawlerHW import CrawlerHW\n",
    "import pandas as pd "
   ]
  },
  {
   "cell_type": "code",
   "execution_count": 17,
   "metadata": {},
   "outputs": [
    {
     "data": {
      "text/html": [
       "<div>\n",
       "<style scoped>\n",
       "    .dataframe tbody tr th:only-of-type {\n",
       "        vertical-align: middle;\n",
       "    }\n",
       "\n",
       "    .dataframe tbody tr th {\n",
       "        vertical-align: top;\n",
       "    }\n",
       "\n",
       "    .dataframe thead th {\n",
       "        text-align: right;\n",
       "    }\n",
       "</style>\n",
       "<table border=\"1\" class=\"dataframe\">\n",
       "  <thead>\n",
       "    <tr style=\"text-align: right;\">\n",
       "      <th></th>\n",
       "      <th>date</th>\n",
       "      <th>title</th>\n",
       "      <th>url</th>\n",
       "    </tr>\n",
       "  </thead>\n",
       "  <tbody>\n",
       "    <tr>\n",
       "      <th>0</th>\n",
       "      <td>2023-01-01</td>\n",
       "      <td>[正妹] 周子瑜</td>\n",
       "      <td>https://www.ptt.cc/bbs/Beauty/M.1672503968.A.5...</td>\n",
       "    </tr>\n",
       "    <tr>\n",
       "      <th>1</th>\n",
       "      <td>2023-01-01</td>\n",
       "      <td>[帥哥] 星野結衣的老公 星野源</td>\n",
       "      <td>https://www.ptt.cc/bbs/Beauty/M.1672504503.A.A...</td>\n",
       "    </tr>\n",
       "    <tr>\n",
       "      <th>2</th>\n",
       "      <td>2023-01-01</td>\n",
       "      <td>[正妹] 六兔興旺</td>\n",
       "      <td>https://www.ptt.cc/bbs/Beauty/M.1672510614.A.C...</td>\n",
       "    </tr>\n",
       "    <tr>\n",
       "      <th>3</th>\n",
       "      <td>2023-01-01</td>\n",
       "      <td>[神人]  淘寶靴子model</td>\n",
       "      <td>https://www.ptt.cc/bbs/Beauty/M.1672512966.A.3...</td>\n",
       "    </tr>\n",
       "    <tr>\n",
       "      <th>4</th>\n",
       "      <td>2023-01-01</td>\n",
       "      <td>[正妹] 架乃ゆら (架乃由羅)</td>\n",
       "      <td>https://www.ptt.cc/bbs/Beauty/M.1672535311.A.B...</td>\n",
       "    </tr>\n",
       "    <tr>\n",
       "      <th>...</th>\n",
       "      <td>...</td>\n",
       "      <td>...</td>\n",
       "      <td>...</td>\n",
       "    </tr>\n",
       "    <tr>\n",
       "      <th>5678</th>\n",
       "      <td>2023-12-31</td>\n",
       "      <td>[正妹] Ashley Duran 美國模特兒</td>\n",
       "      <td>https://www.ptt.cc/bbs/Beauty/M.1704025329.A.8...</td>\n",
       "    </tr>\n",
       "    <tr>\n",
       "      <th>5679</th>\n",
       "      <td>2023-12-31</td>\n",
       "      <td>[正妹] 罩不住喬衣服的港妹</td>\n",
       "      <td>https://www.ptt.cc/bbs/Beauty/M.1704026910.A.E...</td>\n",
       "    </tr>\n",
       "    <tr>\n",
       "      <th>5680</th>\n",
       "      <td>2023-12-31</td>\n",
       "      <td>[正妹] 邱子芯</td>\n",
       "      <td>https://www.ptt.cc/bbs/Beauty/M.1704027421.A.8...</td>\n",
       "    </tr>\n",
       "    <tr>\n",
       "      <th>5681</th>\n",
       "      <td>2023-12-31</td>\n",
       "      <td>[正妹] 趙露思跨年晚會</td>\n",
       "      <td>https://www.ptt.cc/bbs/Beauty/M.1704029071.A.B...</td>\n",
       "    </tr>\n",
       "    <tr>\n",
       "      <th>5682</th>\n",
       "      <td>2023-12-31</td>\n",
       "      <td>[正妹] 潤娥</td>\n",
       "      <td>https://www.ptt.cc/bbs/Beauty/M.1704031064.A.D...</td>\n",
       "    </tr>\n",
       "  </tbody>\n",
       "</table>\n",
       "<p>5683 rows × 3 columns</p>\n",
       "</div>"
      ],
      "text/plain": [
       "           date  ...                                                url\n",
       "0    2023-01-01  ...  https://www.ptt.cc/bbs/Beauty/M.1672503968.A.5...\n",
       "1    2023-01-01  ...  https://www.ptt.cc/bbs/Beauty/M.1672504503.A.A...\n",
       "2    2023-01-01  ...  https://www.ptt.cc/bbs/Beauty/M.1672510614.A.C...\n",
       "3    2023-01-01  ...  https://www.ptt.cc/bbs/Beauty/M.1672512966.A.3...\n",
       "4    2023-01-01  ...  https://www.ptt.cc/bbs/Beauty/M.1672535311.A.B...\n",
       "...         ...  ...                                                ...\n",
       "5678 2023-12-31  ...  https://www.ptt.cc/bbs/Beauty/M.1704025329.A.8...\n",
       "5679 2023-12-31  ...  https://www.ptt.cc/bbs/Beauty/M.1704026910.A.E...\n",
       "5680 2023-12-31  ...  https://www.ptt.cc/bbs/Beauty/M.1704027421.A.8...\n",
       "5681 2023-12-31  ...  https://www.ptt.cc/bbs/Beauty/M.1704029071.A.B...\n",
       "5682 2023-12-31  ...  https://www.ptt.cc/bbs/Beauty/M.1704031064.A.D...\n",
       "\n",
       "[5683 rows x 3 columns]"
      ]
     },
     "execution_count": 17,
     "metadata": {},
     "output_type": "execute_result"
    }
   ],
   "source": [
    "all_articles_table = CrawlerHW.load_data_frame_from_file(CrawlerHW.ARTICLES_FILE_NAME)\n",
    "all_articles_table"
   ]
  },
  {
   "cell_type": "code",
   "execution_count": 18,
   "metadata": {},
   "outputs": [
    {
     "data": {
      "text/html": [
       "<div>\n",
       "<style scoped>\n",
       "    .dataframe tbody tr th:only-of-type {\n",
       "        vertical-align: middle;\n",
       "    }\n",
       "\n",
       "    .dataframe tbody tr th {\n",
       "        vertical-align: top;\n",
       "    }\n",
       "\n",
       "    .dataframe thead th {\n",
       "        text-align: right;\n",
       "    }\n",
       "</style>\n",
       "<table border=\"1\" class=\"dataframe\">\n",
       "  <thead>\n",
       "    <tr style=\"text-align: right;\">\n",
       "      <th></th>\n",
       "      <th>date</th>\n",
       "      <th>title</th>\n",
       "      <th>url</th>\n",
       "    </tr>\n",
       "  </thead>\n",
       "  <tbody>\n",
       "    <tr>\n",
       "      <th>0</th>\n",
       "      <td>2023-01-01</td>\n",
       "      <td>[正妹] 六兔興旺</td>\n",
       "      <td>https://www.ptt.cc/bbs/Beauty/M.1672510614.A.C...</td>\n",
       "    </tr>\n",
       "    <tr>\n",
       "      <th>1</th>\n",
       "      <td>2023-01-01</td>\n",
       "      <td>[正妹] 河北彩花</td>\n",
       "      <td>https://www.ptt.cc/bbs/Beauty/M.1672575088.A.D...</td>\n",
       "    </tr>\n",
       "    <tr>\n",
       "      <th>2</th>\n",
       "      <td>2023-01-07</td>\n",
       "      <td>[帥哥] 台南藝術大學 吳宗岱</td>\n",
       "      <td>https://www.ptt.cc/bbs/Beauty/M.1673057995.A.3...</td>\n",
       "    </tr>\n",
       "    <tr>\n",
       "      <th>3</th>\n",
       "      <td>2023-01-09</td>\n",
       "      <td>[正妹] 台灣 程式設計師</td>\n",
       "      <td>https://www.ptt.cc/bbs/Beauty/M.1673238260.A.D...</td>\n",
       "    </tr>\n",
       "    <tr>\n",
       "      <th>4</th>\n",
       "      <td>2023-01-10</td>\n",
       "      <td>[正妹] 牡羊座</td>\n",
       "      <td>https://www.ptt.cc/bbs/Beauty/M.1673330993.A.1...</td>\n",
       "    </tr>\n",
       "    <tr>\n",
       "      <th>...</th>\n",
       "      <td>...</td>\n",
       "      <td>...</td>\n",
       "      <td>...</td>\n",
       "    </tr>\n",
       "    <tr>\n",
       "      <th>160</th>\n",
       "      <td>2023-12-26</td>\n",
       "      <td>[神人] 又一個現實的AI美女</td>\n",
       "      <td>https://www.ptt.cc/bbs/Beauty/M.1703578502.A.F...</td>\n",
       "    </tr>\n",
       "    <tr>\n",
       "      <th>161</th>\n",
       "      <td>2023-12-26</td>\n",
       "      <td>[正妹] 川島和津實</td>\n",
       "      <td>https://www.ptt.cc/bbs/Beauty/M.1703592656.A.8...</td>\n",
       "    </tr>\n",
       "    <tr>\n",
       "      <th>162</th>\n",
       "      <td>2023-12-28</td>\n",
       "      <td>[正妹] 台灣大學 肉感(慎入</td>\n",
       "      <td>https://www.ptt.cc/bbs/Beauty/M.1703737007.A.7...</td>\n",
       "    </tr>\n",
       "    <tr>\n",
       "      <th>163</th>\n",
       "      <td>2023-12-28</td>\n",
       "      <td>[正妹] 大橋未久</td>\n",
       "      <td>https://www.ptt.cc/bbs/Beauty/M.1703751129.A.F...</td>\n",
       "    </tr>\n",
       "    <tr>\n",
       "      <th>164</th>\n",
       "      <td>2023-12-31</td>\n",
       "      <td>[正妹]今天過後，這一年出生的將全數邁入40大關</td>\n",
       "      <td>https://www.ptt.cc/bbs/Beauty/M.1704005315.A.2...</td>\n",
       "    </tr>\n",
       "  </tbody>\n",
       "</table>\n",
       "<p>165 rows × 3 columns</p>\n",
       "</div>"
      ],
      "text/plain": [
       "          date  ...                                                url\n",
       "0   2023-01-01  ...  https://www.ptt.cc/bbs/Beauty/M.1672510614.A.C...\n",
       "1   2023-01-01  ...  https://www.ptt.cc/bbs/Beauty/M.1672575088.A.D...\n",
       "2   2023-01-07  ...  https://www.ptt.cc/bbs/Beauty/M.1673057995.A.3...\n",
       "3   2023-01-09  ...  https://www.ptt.cc/bbs/Beauty/M.1673238260.A.D...\n",
       "4   2023-01-10  ...  https://www.ptt.cc/bbs/Beauty/M.1673330993.A.1...\n",
       "..         ...  ...                                                ...\n",
       "160 2023-12-26  ...  https://www.ptt.cc/bbs/Beauty/M.1703578502.A.F...\n",
       "161 2023-12-26  ...  https://www.ptt.cc/bbs/Beauty/M.1703592656.A.8...\n",
       "162 2023-12-28  ...  https://www.ptt.cc/bbs/Beauty/M.1703737007.A.7...\n",
       "163 2023-12-28  ...  https://www.ptt.cc/bbs/Beauty/M.1703751129.A.F...\n",
       "164 2023-12-31  ...  https://www.ptt.cc/bbs/Beauty/M.1704005315.A.2...\n",
       "\n",
       "[165 rows x 3 columns]"
      ]
     },
     "execution_count": 18,
     "metadata": {},
     "output_type": "execute_result"
    }
   ],
   "source": [
    "popular_articles_table = CrawlerHW.load_data_frame_from_file(CrawlerHW.POPULAR_ARTICLES_FILE_NAME)\n",
    "popular_articles_table"
   ]
  },
  {
   "cell_type": "code",
   "execution_count": 79,
   "metadata": {},
   "outputs": [],
   "source": [
    "def get_not_popular_table(table_a , table_b):\n",
    "\n",
    "    merged = pd.merge(table_a,table_b ,on=[\"title\",'date'], how=\"outer\" , indicator=True)\n",
    "    merged = merged[merged[\"_merge\"]==\"left_only\"]\n",
    "    # merged = merged.drop(columns=[\"_merge\" , \"url_y\"])\n",
    "    merged = merged.sort_values([\"date\"])\n",
    "    merged = merged.reset_index()\n",
    "    merged = merged.rename(columns={\"url_x\":\"url\"})\n",
    "    merged = merged.drop(columns=[\"_merge\" , \"url_y\" , \"index\"])\n",
    "    return merged"
   ]
  },
  {
   "cell_type": "code",
   "execution_count": 81,
   "metadata": {},
   "outputs": [
    {
     "data": {
      "text/html": [
       "<div>\n",
       "<style scoped>\n",
       "    .dataframe tbody tr th:only-of-type {\n",
       "        vertical-align: middle;\n",
       "    }\n",
       "\n",
       "    .dataframe tbody tr th {\n",
       "        vertical-align: top;\n",
       "    }\n",
       "\n",
       "    .dataframe thead th {\n",
       "        text-align: right;\n",
       "    }\n",
       "</style>\n",
       "<table border=\"1\" class=\"dataframe\">\n",
       "  <thead>\n",
       "    <tr style=\"text-align: right;\">\n",
       "      <th></th>\n",
       "      <th>date</th>\n",
       "      <th>title</th>\n",
       "      <th>url</th>\n",
       "    </tr>\n",
       "  </thead>\n",
       "  <tbody>\n",
       "    <tr>\n",
       "      <th>0</th>\n",
       "      <td>2023-01-01</td>\n",
       "      <td>[帥哥] 星野結衣的老公 星野源</td>\n",
       "      <td>https://www.ptt.cc/bbs/Beauty/M.1672504503.A.A...</td>\n",
       "    </tr>\n",
       "    <tr>\n",
       "      <th>1</th>\n",
       "      <td>2023-01-01</td>\n",
       "      <td>[正妹] 86少校 coser @ C101</td>\n",
       "      <td>https://www.ptt.cc/bbs/Beauty/M.1672560758.A.A...</td>\n",
       "    </tr>\n",
       "    <tr>\n",
       "      <th>2</th>\n",
       "      <td>2023-01-01</td>\n",
       "      <td>[正妹] aespa Karina</td>\n",
       "      <td>https://www.ptt.cc/bbs/Beauty/M.1672586581.A.A...</td>\n",
       "    </tr>\n",
       "    <tr>\n",
       "      <th>3</th>\n",
       "      <td>2023-01-01</td>\n",
       "      <td>[正妹] 44歲 yuki</td>\n",
       "      <td>https://www.ptt.cc/bbs/Beauty/M.1672571868.A.1...</td>\n",
       "    </tr>\n",
       "    <tr>\n",
       "      <th>4</th>\n",
       "      <td>2023-01-01</td>\n",
       "      <td>[正妹] Hang(阮秋姮)</td>\n",
       "      <td>https://www.ptt.cc/bbs/Beauty/M.1672537109.A.B...</td>\n",
       "    </tr>\n",
       "    <tr>\n",
       "      <th>...</th>\n",
       "      <td>...</td>\n",
       "      <td>...</td>\n",
       "      <td>...</td>\n",
       "    </tr>\n",
       "    <tr>\n",
       "      <th>5510</th>\n",
       "      <td>2023-12-31</td>\n",
       "      <td>[正妹] 林穎樂</td>\n",
       "      <td>https://www.ptt.cc/bbs/Beauty/M.1703952183.A.8...</td>\n",
       "    </tr>\n",
       "    <tr>\n",
       "      <th>5511</th>\n",
       "      <td>2023-12-31</td>\n",
       "      <td>[正妹] 僕青 宮腰友里亜</td>\n",
       "      <td>https://www.ptt.cc/bbs/Beauty/M.1703988045.A.3...</td>\n",
       "    </tr>\n",
       "    <tr>\n",
       "      <th>5512</th>\n",
       "      <td>2023-12-31</td>\n",
       "      <td>[正妹] 橋本環奈 vs 浜辺美波 NHK紅白</td>\n",
       "      <td>https://www.ptt.cc/bbs/Beauty/M.1704024551.A.8...</td>\n",
       "    </tr>\n",
       "    <tr>\n",
       "      <th>5513</th>\n",
       "      <td>2023-12-31</td>\n",
       "      <td>[正妹] 這是霹靂小組？</td>\n",
       "      <td>https://www.ptt.cc/bbs/Beauty/M.1704010372.A.E...</td>\n",
       "    </tr>\n",
       "    <tr>\n",
       "      <th>5514</th>\n",
       "      <td>2023-12-31</td>\n",
       "      <td>[正妹] 潤娥</td>\n",
       "      <td>https://www.ptt.cc/bbs/Beauty/M.1704031064.A.D...</td>\n",
       "    </tr>\n",
       "  </tbody>\n",
       "</table>\n",
       "<p>5515 rows × 3 columns</p>\n",
       "</div>"
      ],
      "text/plain": [
       "           date  ...                                                url\n",
       "0    2023-01-01  ...  https://www.ptt.cc/bbs/Beauty/M.1672504503.A.A...\n",
       "1    2023-01-01  ...  https://www.ptt.cc/bbs/Beauty/M.1672560758.A.A...\n",
       "2    2023-01-01  ...  https://www.ptt.cc/bbs/Beauty/M.1672586581.A.A...\n",
       "3    2023-01-01  ...  https://www.ptt.cc/bbs/Beauty/M.1672571868.A.1...\n",
       "4    2023-01-01  ...  https://www.ptt.cc/bbs/Beauty/M.1672537109.A.B...\n",
       "...         ...  ...                                                ...\n",
       "5510 2023-12-31  ...  https://www.ptt.cc/bbs/Beauty/M.1703952183.A.8...\n",
       "5511 2023-12-31  ...  https://www.ptt.cc/bbs/Beauty/M.1703988045.A.3...\n",
       "5512 2023-12-31  ...  https://www.ptt.cc/bbs/Beauty/M.1704024551.A.8...\n",
       "5513 2023-12-31  ...  https://www.ptt.cc/bbs/Beauty/M.1704010372.A.E...\n",
       "5514 2023-12-31  ...  https://www.ptt.cc/bbs/Beauty/M.1704031064.A.D...\n",
       "\n",
       "[5515 rows x 3 columns]"
      ]
     },
     "execution_count": 81,
     "metadata": {},
     "output_type": "execute_result"
    }
   ],
   "source": [
    "not_popular_table = get_not_popular_table(all_articles_table,popular_articles_table)\n",
    "# not_popular_table.to_csv(\"sample.csv\")\n",
    "not_popular_table\n",
    "# print(not_popular_table)"
   ]
  },
  {
   "cell_type": "markdown",
   "metadata": {},
   "source": [
    "# Test the image is exists or not "
   ]
  },
  {
   "cell_type": "code",
   "execution_count": 82,
   "metadata": {},
   "outputs": [],
   "source": [
    "import httpx "
   ]
  },
  {
   "cell_type": "code",
   "execution_count": 85,
   "metadata": {},
   "outputs": [],
   "source": [
    "USER= {\"User-Agent\":\"Mozilla/5.0 (Windows NT 10.0; Win64; x64) AppleWebKit/537.36 (KHTML, like Gecko) Chrome/122.0.0.0 Safari/537.36 Edg/122.0.0.0\"}"
   ]
  },
  {
   "cell_type": "code",
   "execution_count": 89,
   "metadata": {},
   "outputs": [
    {
     "data": {
      "text/plain": [
       "<Response [302 Moved Temporarily]>"
      ]
     },
     "execution_count": 89,
     "metadata": {},
     "output_type": "execute_result"
    }
   ],
   "source": [
    "result = httpx.get(\"https://i.imgur.com/XaKrUlM.jpg\",headers=USER)\n",
    "result"
   ]
  },
  {
   "cell_type": "code",
   "execution_count": 90,
   "metadata": {},
   "outputs": [
    {
     "data": {
      "text/plain": [
       "<Response [200 OK]>"
      ]
     },
     "execution_count": 90,
     "metadata": {},
     "output_type": "execute_result"
    }
   ],
   "source": [
    "result = httpx.get(\"https://i.imgur.com/g4Ix06N.jpg\",headers=USER)\n",
    "result "
   ]
  },
  {
   "cell_type": "code",
   "execution_count": 1,
   "metadata": {},
   "outputs": [],
   "source": [
    "file_test = \"tran_data.jsonl\"\n",
    "\n",
    "import json"
   ]
  },
  {
   "cell_type": "code",
   "execution_count": 4,
   "metadata": {},
   "outputs": [
    {
     "data": {
      "text/plain": [
       "['{\"date\": \"2023-01-01 00:26:06\", \"title\": \"[正妹] 周子瑜\", \"author\": \"ReiKuromiya\", \"url\": \"https://www.ptt.cc/bbs/Beauty/M.1672503968.A.5B5.html\", \"image_link\": \"https://i.imgur.com/BdmZ7Ps.jpg\", \"hotNumber\": 71}{\"date\": \"2023-01-01 00:26:06\", \"title\": \"[正妹] 周子瑜\", \"author\": \"ReiKuromiya\", \"url\": \"https://www.ptt.cc/bbs/Beauty/M.1672503968.A.5B5.html\", \"image_link\": \"https://i.imgur.com/bBiw4IS.jpg\", \"hotNumber\": 71}{\"date\": \"2023-01-01 00:26:06\", \"title\": \"[正妹] 周子瑜\", \"author\": \"ReiKuromiya\", \"url\": \"https://www.ptt.cc/bbs/Beauty/M.1672503968.A.5B5.html\", \"image_link\": \"https://i.imgur.com/KDmRgeg.jpg\", \"hotNumber\": 71}{\"date\": \"2023-01-01 00:26:06\", \"title\": \"[正妹] 周子瑜\", \"author\": \"ReiKuromiya\", \"url\": \"https://www.ptt.cc/bbs/Beauty/M.1672503968.A.5B5.html\", \"image_link\": \"https://i.imgur.com/hRHpy8X.jpg\", \"hotNumber\": 71}{\"date\": \"2023-01-01 00:26:06\", \"title\": \"[正妹] 周子瑜\", \"author\": \"ReiKuromiya\", \"url\": \"https://www.ptt.cc/bbs/Beauty/M.1672503968.A.5B5.html\", \"image_link\": \"https://i.imgur.com/P5rI8UM.jpg\", \"hotNumber\": 71}{\"date\": \"2023-01-01 00:26:06\", \"title\": \"[正妹] 周子瑜\", \"author\": \"ReiKuromiya\", \"url\": \"https://www.ptt.cc/bbs/Beauty/M.1672503968.A.5B5.html\", \"image_link\": \"https://i.imgur.com/Uq0oG4E.jpg\", \"hotNumber\": 71}{\"date\": \"2023-01-01 00:26:06\", \"title\": \"[正妹] 周子瑜\", \"author\": \"ReiKuromiya\", \"url\": \"https://www.ptt.cc/bbs/Beauty/M.1672503968.A.5B5.html\", \"image_link\": \"https://i.imgur.com/pPXBHuZ.jpg\", \"hotNumber\": 71}{\"date\": \"2023-01-01 00:26:06\", \"title\": \"[正妹] 周子瑜\", \"author\": \"ReiKuromiya\", \"url\": \"https://www.ptt.cc/bbs/Beauty/M.1672503968.A.5B5.html\", \"image_link\": \"https://i.imgur.com/dFiDDhh.jpg\", \"hotNumber\": 71}{\"date\": \"2023-01-01 00:26:06\", \"title\": \"[正妹] 周子瑜\", \"author\": \"ReiKuromiya\", \"url\": \"https://www.ptt.cc/bbs/Beauty/M.1672503968.A.5B5.html\", \"image_link\": \"https://i.imgur.com/4N51HkQ.jpg\", \"hotNumber\": 71}{\"date\": \"2023-01-01 00:26:06\", \"title\": \"[正妹] 周子瑜\", \"author\": \"ReiKuromiya\", \"url\": \"https://www.ptt.cc/bbs/Beauty/M.1672503968.A.5B5.html\", \"image_link\": \"https://i.imgur.com/XPOailb.jpg\", \"hotNumber\": 71}{\"date\": \"2023-01-01 00:35:00\", \"title\": \"[帥哥] 星野結衣的老公 星野源\", \"author\": \"HarunaOno\", \"url\": \"https://www.ptt.cc/bbs/Beauty/M.1672504503.A.A38.html\", \"image_link\": \"https://i.imgur.com/bMU0Dr4.jpg\", \"hotNumber\": 2}{\"date\": \"2023-01-01 00:35:00\", \"title\": \"[帥哥] 星野結衣的老公 星野源\", \"author\": \"HarunaOno\", \"url\": \"https://www.ptt.cc/bbs/Beauty/M.1672504503.A.A38.html\", \"image_link\": \"https://i.imgur.com/mlb4Ews.png\", \"hotNumber\": 2}{\"date\": \"2023-01-01 00:35:00\", \"title\": \"[帥哥] 星野結衣的老公 星野源\", \"author\": \"HarunaOno\", \"url\": \"https://www.ptt.cc/bbs/Beauty/M.1672504503.A.A38.html\", \"image_link\": \"https://i.imgur.com/4fnjyJT.jpg\", \"hotNumber\": 2}{\"date\": \"2023-01-01 00:35:00\", \"title\": \"[帥哥] 星野結衣的老公 星野源\", \"author\": \"HarunaOno\", \"url\": \"https://www.ptt.cc/bbs/Beauty/M.1672504503.A.A38.html\", \"image_link\": \"https://i.imgur.com/spmQNon.jpg\", \"hotNumber\": 2}{\"date\": \"2023-01-01 00:35:00\", \"title\": \"[帥哥] 星野結衣的老公 星野源\", \"author\": \"HarunaOno\", \"url\": \"https://www.ptt.cc/bbs/Beauty/M.1672504503.A.A38.html\", \"image_link\": \"https://i.imgur.com/zZWyi8R.jpg\", \"hotNumber\": 2}{\"date\": \"2023-01-01 00:35:00\", \"title\": \"[帥哥] 星野結衣的老公 星野源\", \"author\": \"HarunaOno\", \"url\": \"https://www.ptt.cc/bbs/Beauty/M.1672504503.A.A38.html\", \"image_link\": \"https://i.imgur.com/UWx5fgt.jpg\", \"hotNumber\": 2}{\"date\": \"2023-01-01 00:35:00\", \"title\": \"[帥哥] 星野結衣的老公 星野源\", \"author\": \"HarunaOno\", \"url\": \"https://www.ptt.cc/bbs/Beauty/M.1672504503.A.A38.html\", \"image_link\": \"https://i.imgur.com/1xRUT4l.jpg\", \"hotNumber\": 2}{\"date\": \"2023-01-01 00:35:00\", \"title\": \"[帥哥] 星野結衣的老公 星野源\", \"author\": \"HarunaOno\", \"url\": \"https://www.ptt.cc/bbs/Beauty/M.1672504503.A.A38.html\", \"image_link\": \"https://i.imgur.com/dHITJqH.jpg\", \"hotNumber\": 2}{\"date\": \"2023-01-01 02:16:52\", \"title\": \"[正妹] 六兔興旺\", \"author\": \"jay228\", \"url\": \"https://www.ptt.cc/bbs/Beauty/M.1672510614.A.C61.html\", \"image_link\": \"https://i.imgur.com/XaKrUlM.jpg\", \"hotNumber\": \"爆\"}{\"date\": \"2023-01-01 02:16:52\", \"title\": \"[正妹] 六兔興旺\", \"author\": \"jay228\", \"url\": \"https://www.ptt.cc/bbs/Beauty/M.1672510614.A.C61.html\", \"image_link\": \"https://i.imgur.com/uXh36LW.png\", \"hotNumber\": \"爆\"}{\"date\": \"2023-01-01 02:16:52\", \"title\": \"[正妹] 六兔興旺\", \"author\": \"jay228\", \"url\": \"https://www.ptt.cc/bbs/Beauty/M.1672510614.A.C61.html\", \"image_link\": \"https://i.imgur.com/IdWjvsc.png\", \"hotNumber\": \"爆\"}{\"date\": \"2023-01-01 02:16:52\", \"title\": \"[正妹] 六兔興旺\", \"author\": \"jay228\", \"url\": \"https://www.ptt.cc/bbs/Beauty/M.1672510614.A.C61.html\", \"image_link\": \"https://i.imgur.com/0gAyDJP.png\", \"hotNumber\": \"爆\"}{\"date\": \"2023-01-01 02:16:52\", \"title\": \"[正妹] 六兔興旺\", \"author\": \"jay228\", \"url\": \"https://www.ptt.cc/bbs/Beauty/M.1672510614.A.C61.html\", \"image_link\": \"https://i.imgur.com/YOO1vKw.png\", \"hotNumber\": \"爆\"}{\"date\": \"2023-01-01 02:16:52\", \"title\": \"[正妹] 六兔興旺\", \"author\": \"jay228\", \"url\": \"https://www.ptt.cc/bbs/Beauty/M.1672510614.A.C61.html\", \"image_link\": \"https://i.imgur.com/sIFeFNb.png\", \"hotNumber\": \"爆\"}{\"date\": \"2023-01-01 02:16:52\", \"title\": \"[正妹] 六兔興旺\", \"author\": \"jay228\", \"url\": \"https://www.ptt.cc/bbs/Beauty/M.1672510614.A.C61.html\", \"image_link\": \"https://i.imgur.com/s21w4ut.png\", \"hotNumber\": \"爆\"}{\"date\": \"2023-01-01 02:16:52\", \"title\": \"[正妹] 六兔興旺\", \"author\": \"jay228\", \"url\": \"https://www.ptt.cc/bbs/Beauty/M.1672510614.A.C61.html\", \"image_link\": \"https://i.imgur.com/LR2UOd9.png\", \"hotNumber\": \"爆\"}{\"date\": \"2023-01-01 02:16:52\", \"title\": \"[正妹] 六兔興旺\", \"author\": \"jay228\", \"url\": \"https://www.ptt.cc/bbs/Beauty/M.1672510614.A.C61.html\", \"image_link\": \"https://i.imgur.com/LhlGvVh.png\", \"hotNumber\": \"爆\"}{\"date\": \"2023-01-01 02:16:52\", \"title\": \"[正妹] 六兔興旺\", \"author\": \"jay228\", \"url\": \"https://www.ptt.cc/bbs/Beauty/M.1672510614.A.C61.html\", \"image_link\": \"https://i.imgur.com/s8RHG0a.png\", \"hotNumber\": \"爆\"}{\"date\": \"2023-01-01 02:16:52\", \"title\": \"[正妹] 六兔興旺\", \"author\": \"jay228\", \"url\": \"https://www.ptt.cc/bbs/Beauty/M.1672510614.A.C61.html\", \"image_link\": \"https://i.imgur.com/zGcqYVz.png\", \"hotNumber\": \"爆\"}{\"date\": \"2023-01-01 02:16:52\", \"title\": \"[正妹] 六兔興旺\", \"author\": \"jay228\", \"url\": \"https://www.ptt.cc/bbs/Beauty/M.1672510614.A.C61.html\", \"image_link\": \"https://i.imgur.com/m8bZ5kD.png\", \"hotNumber\": \"爆\"}{\"date\": \"2023-01-01 02:16:52\", \"title\": \"[正妹] 六兔興旺\", \"author\": \"jay228\", \"url\": \"https://www.ptt.cc/bbs/Beauty/M.1672510614.A.C61.html\", \"image_link\": \"https://i.imgur.com/Mtx8H3Q.png\", \"hotNumber\": \"爆\"}{\"date\": \"2023-01-01 02:16:52\", \"title\": \"[正妹] 六兔興旺\", \"author\": \"jay228\", \"url\": \"https://www.ptt.cc/bbs/Beauty/M.1672510614.A.C61.html\", \"image_link\": \"https://i.imgur.com/o5uM54v.png\", \"hotNumber\": \"爆\"}{\"date\": \"2023-01-01 02:16:52\", \"title\": \"[正妹] 六兔興旺\", \"author\": \"jay228\", \"url\": \"https://www.ptt.cc/bbs/Beauty/M.1672510614.A.C61.html\", \"image_link\": \"https://i.imgur.com/zUwGWOn.png\", \"hotNumber\": \"爆\"}{\"date\": \"2023-01-01 02:16:52\", \"title\": \"[正妹] 六兔興旺\", \"author\": \"jay228\", \"url\": \"https://www.ptt.cc/bbs/Beauty/M.1672510614.A.C61.html\", \"image_link\": \"https://i.imgur.com/QusrQ0P.png\", \"hotNumber\": \"爆\"}{\"date\": \"2023-01-01 02:16:52\", \"title\": \"[正妹] 六兔興旺\", \"author\": \"jay228\", \"url\": \"https://www.ptt.cc/bbs/Beauty/M.1672510614.A.C61.html\", \"image_link\": \"https://i.imgur.com/qZjBFAw.png\", \"hotNumber\": \"爆\"}{\"date\": \"2023-01-01 02:16:52\", \"title\": \"[正妹] 六兔興旺\", \"author\": \"jay228\", \"url\": \"https://www.ptt.cc/bbs/Beauty/M.1672510614.A.C61.html\", \"image_link\": \"https://i.imgur.com/nSLPzpU.jpg\", \"hotNumber\": \"爆\"}{\"date\": \"2023-01-01 02:16:52\", \"title\": \"[正妹] 六兔興旺\", \"author\": \"jay228\", \"url\": \"https://www.ptt.cc/bbs/Beauty/M.1672510614.A.C61.html\", \"image_link\": \"http://i.imgur.com/z3TWVzY.jpg\", \"hotNumber\": \"爆\"}{\"date\": \"2023-01-01 02:16:52\", \"title\": \"[正妹] 六兔興旺\", \"author\": \"jay228\", \"url\": \"https://www.ptt.cc/bbs/Beauty/M.1672510614.A.C61.html\", \"image_link\": \"http://i.imgur.com/1eEWrRD.jpg\", \"hotNumber\": \"爆\"}{\"date\": \"2023-01-01 02:16:52\", \"title\": \"[正妹] 六兔興旺\", \"author\": \"jay228\", \"url\": \"https://www.ptt.cc/bbs/Beauty/M.1672510614.A.C61.html\", \"image_link\": \"https://i.imgur.com/2velvFR.jpg\", \"hotNumber\": \"爆\"}{\"date\": \"2023-01-01 02:16:52\", \"title\": \"[正妹] 六兔興旺\", \"author\": \"jay228\", \"url\": \"https://www.ptt.cc/bbs/Beauty/M.1672510614.A.C61.html\", \"image_link\": \"https://i.imgur.com/9x4j50t.jpg\", \"hotNumber\": \"爆\"}{\"date\": \"2023-01-01 02:16:52\", \"title\": \"[正妹] 六兔興旺\", \"author\": \"jay228\", \"url\": \"https://www.ptt.cc/bbs/Beauty/M.1672510614.A.C61.html\", \"image_link\": \"https://i.imgur.com/g4Ix06N.jpg\", \"hotNumber\": \"爆\"}{\"date\": \"2023-01-01 02:16:52\", \"title\": \"[正妹] 六兔興旺\", \"author\": \"jay228\", \"url\": \"https://www.ptt.cc/bbs/Beauty/M.1672510614.A.C61.html\", \"image_link\": \"https://i.imgur.com/C6mnIWA.jpg\", \"hotNumber\": \"爆\"}{\"date\": \"2023-01-01 02:56:04\", \"title\": \"[神人]  淘寶靴子model\", \"author\": \"facenoob\", \"url\": \"https://www.ptt.cc/bbs/Beauty/M.1672512966.A.321.html\", \"image_link\": \"https://i.imgur.com/DHrooNG.jpg\", \"hotNumber\": 1}{\"date\": \"2023-01-01 02:56:04\", \"title\": \"[神人]  淘寶靴子model\", \"author\": \"facenoob\", \"url\": \"https://www.ptt.cc/bbs/Beauty/M.1672512966.A.321.html\", \"image_link\": \"https://i.imgur.com/ZIunzs7.jpg\", \"hotNumber\": 1}{\"date\": \"2023-01-01 09:08:29\", \"title\": \"[正妹] 架乃ゆら (架乃由羅)\", \"author\": \"asd63312337\", \"url\": \"https://www.ptt.cc/bbs/Beauty/M.1672535311.A.B91.html\", \"image_link\": \"https://i.imgur.com/dZYLnUD.jpg\", \"hotNumber\": 16}{\"date\": \"2023-01-01 09:08:29\", \"title\": \"[正妹] 架乃ゆら (架乃由羅)\", \"author\": \"asd63312337\", \"url\": \"https://www.ptt.cc/bbs/Beauty/M.1672535311.A.B91.html\", \"image_link\": \"https://i.imgur.com/AgofFf8.jpg\", \"hotNumber\": 16}{\"date\": \"2023-01-01 09:08:29\", \"title\": \"[正妹] 架乃ゆら (架乃由羅)\", \"author\": \"asd63312337\", \"url\": \"https://www.ptt.cc/bbs/Beauty/M.1672535311.A.B91.html\", \"image_link\": \"https://i.imgur.com/rQ40Qyj.jpg\", \"hotNumber\": 16}{\"date\": \"2023-01-01 09:08:29\", \"title\": \"[正妹] 架乃ゆら (架乃由羅)\", \"author\": \"asd63312337\", \"url\": \"https://www.ptt.cc/bbs/Beauty/M.1672535311.A.B91.html\", \"image_link\": \"https://i.imgur.com/3Ef2r5G.jpg\", \"hotNumber\": 16}{\"date\": \"2023-01-01 09:08:29\", \"title\": \"[正妹] 架乃ゆら (架乃由羅)\", \"author\": \"asd63312337\", \"url\": \"https://www.ptt.cc/bbs/Beauty/M.1672535311.A.B91.html\", \"image_link\": \"https://i.imgur.com/79j5tWd.jpg\", \"hotNumber\": 16}{\"date\": \"2023-01-01 09:08:29\", \"title\": \"[正妹] 架乃ゆら (架乃由羅)\", \"author\": \"asd63312337\", \"url\": \"https://www.ptt.cc/bbs/Beauty/M.1672535311.A.B91.html\", \"image_link\": \"https://i.imgur.com/d0M3jhG.jpg\", \"hotNumber\": 16}{\"date\": \"2023-01-01 09:38:27\", \"title\": \"[正妹] Hang(阮秋姮)\", \"author\": \"asxc530530\", \"url\": \"https://www.ptt.cc/bbs/Beauty/M.1672537109.A.B5F.html\", \"image_link\": \"https://i.imgur.com/a7a2hSl.jpg\", \"hotNumber\": 34}{\"date\": \"2023-01-01 09:38:27\", \"title\": \"[正妹] Hang(阮秋姮)\", \"author\": \"asxc530530\", \"url\": \"https://www.ptt.cc/bbs/Beauty/M.1672537109.A.B5F.html\", \"image_link\": \"https://i.imgur.com/U9o4lNY.jpg\", \"hotNumber\": 34}{\"date\": \"2023-01-01 09:38:27\", \"title\": \"[正妹] Hang(阮秋姮)\", \"author\": \"asxc530530\", \"url\": \"https://www.ptt.cc/bbs/Beauty/M.1672537109.A.B5F.html\", \"image_link\": \"https://i.imgur.com/gA4Pqaw.jpg\", \"hotNumber\": 34}{\"date\": \"2023-01-01 09:38:27\", \"title\": \"[正妹] Hang(阮秋姮)\", \"author\": \"asxc530530\", \"url\": \"https://www.ptt.cc/bbs/Beauty/M.1672537109.A.B5F.html\", \"image_link\": \"https://i.imgur.com/W5N4Ul6.jpg\", \"hotNumber\": 34}{\"date\": \"2023-01-01 09:38:27\", \"title\": \"[正妹] Hang(阮秋姮)\", \"author\": \"asxc530530\", \"url\": \"https://www.ptt.cc/bbs/Beauty/M.1672537109.A.B5F.html\", \"image_link\": \"https://i.imgur.com/ki2sLn1.jpg\", \"hotNumber\": 34}{\"date\": \"2023-01-01 09:38:27\", \"title\": \"[正妹] Hang(阮秋姮)\", \"author\": \"asxc530530\", \"url\": \"https://www.ptt.cc/bbs/Beauty/M.1672537109.A.B5F.html\", \"image_link\": \"https://i.imgur.com/FfmWOMh.jpg\", \"hotNumber\": 34}{\"date\": \"2023-01-01 09:38:27\", \"title\": \"[正妹] Hang(阮秋姮)\", \"author\": \"asxc530530\", \"url\": \"https://www.ptt.cc/bbs/Beauty/M.1672537109.A.B5F.html\", \"image_link\": \"https://i.imgur.com/q7LzC2C.jpg\", \"hotNumber\": 34}{\"date\": \"2023-01-01 09:38:27\", \"title\": \"[正妹] Hang(阮秋姮)\", \"author\": \"asxc530530\", \"url\": \"https://www.ptt.cc/bbs/Beauty/M.1672537109.A.B5F.html\", \"image_link\": \"https://i.imgur.com/KCFBNM4.jpg\", \"hotNumber\": 34}{\"date\": \"2023-01-01 09:38:27\", \"title\": \"[正妹] Hang(阮秋姮)\", \"author\": \"asxc530530\", \"url\": \"https://www.ptt.cc/bbs/Beauty/M.1672537109.A.B5F.html\", \"image_link\": \"https://i.imgur.com/b27vO18.jpg\", \"hotNumber\": 34}{\"date\": \"2023-01-01 09:38:27\", \"title\": \"[正妹] Hang(阮秋姮)\", \"author\": \"asxc530530\", \"url\": \"https://www.ptt.cc/bbs/Beauty/M.1672537109.A.B5F.html\", \"image_link\": \"https://i.imgur.com/qbj4JAn.jpg\", \"hotNumber\": 34}{\"date\": \"2023-01-01 10:13:41\", \"title\": \"[正妹] Joeman女友 Niya妮婭\", \"author\": \"wiki\", \"url\": \"https://www.ptt.cc/bbs/Beauty/M.1672539223.A.6B8.html\", \"image_link\": \"https://i.imgur.com/eg3snPu.jpg\", \"hotNumber\": 92}{\"date\": \"2023-01-01 10:13:41\", \"title\": \"[正妹] Joeman女友 Niya妮婭\", \"author\": \"wiki\", \"url\": \"https://www.ptt.cc/bbs/Beauty/M.1672539223.A.6B8.html\", \"image_link\": \"https://i.imgur.com/3QW6zf6.jpg\", \"hotNumber\": 92}{\"date\": \"2023-01-01 10:13:41\", \"title\": \"[正妹] Joeman女友 Niya妮婭\", \"author\": \"wiki\", \"url\": \"https://www.ptt.cc/bbs/Beauty/M.1672539223.A.6B8.html\", \"image_link\": \"https://i.imgur.com/NLkXeBE.jpg\", \"hotNumber\": 92}{\"date\": \"2023-01-01 10:13:41\", \"title\": \"[正妹] Joeman女友 Niya妮婭\", \"author\": \"wiki\", \"url\": \"https://www.ptt.cc/bbs/Beauty/M.1672539223.A.6B8.html\", \"image_link\": \"https://i.imgur.com/jwKXvHZ.jpg\", \"hotNumber\": 92}{\"date\": \"2023-01-01 10:13:41\", \"title\": \"[正妹] Joeman女友 Niya妮婭\", \"author\": \"wiki\", \"url\": \"https://www.ptt.cc/bbs/Beauty/M.1672539223.A.6B8.html\", \"image_link\": \"https://i.imgur.com/mh4Mttk.jpg\", \"hotNumber\": 92}{\"date\": \"2023-01-01 10:13:41\", \"title\": \"[正妹] Joeman女友 Niya妮婭\", \"author\": \"wiki\", \"url\": \"https://www.ptt.cc/bbs/Beauty/M.1672539223.A.6B8.html\", \"image_link\": \"https://i.imgur.com/dI7bgYP.jpg\", \"hotNumber\": 92}{\"date\": \"2023-01-01 10:13:41\", \"title\": \"[正妹] Joeman女友 Niya妮婭\", \"author\": \"wiki\", \"url\": \"https://www.ptt.cc/bbs/Beauty/M.1672539223.A.6B8.html\", \"image_link\": \"https://i.imgur.com/OFHGCzE.jpg\", \"hotNumber\": 92}{\"date\": \"2023-01-01 10:13:41\", \"title\": \"[正妹] Joeman女友 Niya妮婭\", \"author\": \"wiki\", \"url\": \"https://www.ptt.cc/bbs/Beauty/M.1672539223.A.6B8.html\", \"image_link\": \"https://i.imgur.com/b3OcCSC.jpg\", \"hotNumber\": 92}{\"date\": \"2023-01-01 10:13:41\", \"title\": \"[正妹] Joeman女友 Niya妮婭\", \"author\": \"wiki\", \"url\": \"https://www.ptt.cc/bbs/Beauty/M.1672539223.A.6B8.html\", \"image_link\": \"https://i.imgur.com/SxnyMab.jpg\", \"hotNumber\": 92}{\"date\": \"2023-01-01 10:13:41\", \"title\": \"[正妹] Joeman女友 Niya妮婭\", \"author\": \"wiki\", \"url\": \"https://www.ptt.cc/bbs/Beauty/M.1672539223.A.6B8.html\", \"image_link\": \"https://i.imgur.com/i8NcKyy.jpg\", \"hotNumber\": 92}{\"date\": \"2023-01-01 10:13:41\", \"title\": \"[正妹] Joeman女友 Niya妮婭\", \"author\": \"wiki\", \"url\": \"https://www.ptt.cc/bbs/Beauty/M.1672539223.A.6B8.html\", \"image_link\": \"https://i.imgur.com/R0n8iau.jpg\", \"hotNumber\": 92}{\"date\": \"2023-01-01 10:13:41\", \"title\": \"[正妹] Joeman女友 Niya妮婭\", \"author\": \"wiki\", \"url\": \"https://www.ptt.cc/bbs/Beauty/M.1672539223.A.6B8.html\", \"image_link\": \"https://i.imgur.com/cuoEMmW.jpg\", \"hotNumber\": 92}{\"date\": \"2023-01-01 10:13:41\", \"title\": \"[正妹] Joeman女友 Niya妮婭\", \"author\": \"wiki\", \"url\": \"https://www.ptt.cc/bbs/Beauty/M.1672539223.A.6B8.html\", \"image_link\": \"https://i.imgur.com/NZ9vUVD.jpg\", \"hotNumber\": 92}{\"date\": \"2023-01-01 10:13:41\", \"title\": \"[正妹] Joeman女友 Niya妮婭\", \"author\": \"wiki\", \"url\": \"https://www.ptt.cc/bbs/Beauty/M.1672539223.A.6B8.html\", \"image_link\": \"https://i.imgur.com/2zIRVj9.jpg\", \"hotNumber\": 92}{\"date\": \"2023-01-01 10:13:41\", \"title\": \"[正妹] Joeman女友 Niya妮婭\", \"author\": \"wiki\", \"url\": \"https://www.ptt.cc/bbs/Beauty/M.1672539223.A.6B8.html\", \"image_link\": \"https://i.imgur.com/a5SYWxq.jpg\", \"hotNumber\": 92}{\"date\": \"2023-01-01 11:53:07\", \"title\": \"[正妹] 薇薇\", \"author\": \"asxc530530\", \"url\": \"https://www.ptt.cc/bbs/Beauty/M.1672545190.A.328.html\", \"image_link\": \"https://i.imgur.com/55g4XwC.jpg\", \"hotNumber\": 0}{\"date\": \"2023-01-01 11:53:07\", \"title\": \"[正妹] 薇薇\", \"author\": \"asxc530530\", \"url\": \"https://www.ptt.cc/bbs/Beauty/M.1672545190.A.328.html\", \"image_link\": \"https://i.imgur.com/70UdW1X.jpg\", \"hotNumber\": 0}{\"date\": \"2023-01-01 11:53:07\", \"title\": \"[正妹] 薇薇\", \"author\": \"asxc530530\", \"url\": \"https://www.ptt.cc/bbs/Beauty/M.1672545190.A.328.html\", \"image_link\": \"https://i.imgur.com/BTExkoS.jpg\", \"hotNumber\": 0}{\"date\": \"2023-01-01 11:53:07\", \"title\": \"[正妹] 薇薇\", \"author\": \"asxc530530\", \"url\": \"https://www.ptt.cc/bbs/Beauty/M.1672545190.A.328.html\", \"image_link\": \"https://i.imgur.com/rvG6yRn.jpg\", \"hotNumber\": 0}{\"date\": \"2023-01-01 11:53:07\", \"title\": \"[正妹] 薇薇\", \"author\": \"asxc530530\", \"url\": \"https://www.ptt.cc/bbs/Beauty/M.1672545190.A.328.html\", \"image_link\": \"https://i.imgur.com/tWMEYa1.jpg\", \"hotNumber\": 0}{\"date\": \"2023-01-01 11:53:07\", \"title\": \"[正妹] 薇薇\", \"author\": \"asxc530530\", \"url\": \"https://www.ptt.cc/bbs/Beauty/M.1672545190.A.328.html\", \"image_link\": \"https://i.imgur.com/zrHBgFV.jpg\", \"hotNumber\": 0}{\"date\": \"2023-01-01 11:53:07\", \"title\": \"[正妹] 薇薇\", \"author\": \"asxc530530\", \"url\": \"https://www.ptt.cc/bbs/Beauty/M.1672545190.A.328.html\", \"image_link\": \"https://i.imgur.com/TYmUpBs.jpg\", \"hotNumber\": 0}{\"date\": \"2023-01-01 11:53:07\", \"title\": \"[正妹] 薇薇\", \"author\": \"asxc530530\", \"url\": \"https://www.ptt.cc/bbs/Beauty/M.1672545190.A.328.html\", \"image_link\": \"https://i.imgur.com/mZQT4nI.jpg\", \"hotNumber\": 0}{\"date\": \"2023-01-01 11:53:07\", \"title\": \"[正妹] 薇薇\", \"author\": \"asxc530530\", \"url\": \"https://www.ptt.cc/bbs/Beauty/M.1672545190.A.328.html\", \"image_link\": \"https://i.imgur.com/GbV1wn5.jpg\", \"hotNumber\": 0}{\"date\": \"2023-01-01 11:53:07\", \"title\": \"[正妹] 薇薇\", \"author\": \"asxc530530\", \"url\": \"https://www.ptt.cc/bbs/Beauty/M.1672545190.A.328.html\", \"image_link\": \"https://i.imgur.com/OnRbq7M.jpg\", \"hotNumber\": 0}{\"date\": \"2023-01-01 11:53:07\", \"title\": \"[正妹] 薇薇\", \"author\": \"asxc530530\", \"url\": \"https://www.ptt.cc/bbs/Beauty/M.1672545190.A.328.html\", \"image_link\": \"https://i.imgur.com/QvS3zqO.jpg\", \"hotNumber\": 0}{\"date\": \"2023-01-01 11:53:07\", \"title\": \"[正妹] 薇薇\", \"author\": \"asxc530530\", \"url\": \"https://www.ptt.cc/bbs/Beauty/M.1672545190.A.328.html\", \"image_link\": \"https://i.imgur.com/ad8p8KC.jpg\", \"hotNumber\": 0}{\"date\": \"2023-01-01 11:53:07\", \"title\": \"[正妹] 薇薇\", \"author\": \"asxc530530\", \"url\": \"https://www.ptt.cc/bbs/Beauty/M.1672545190.A.328.html\", \"image_link\": \"https://i.imgur.com/cO9BGCK.jpg\", \"hotNumber\": 0}{\"date\": \"2023-01-01 11:53:07\", \"title\": \"[正妹] 薇薇\", \"author\": \"asxc530530\", \"url\": \"https://www.ptt.cc/bbs/Beauty/M.1672545190.A.328.html\", \"image_link\": \"https://i.imgur.com/6C6qvfQ.jpg\", \"hotNumber\": 0}{\"date\": \"2023-01-01 11:53:07\", \"title\": \"[正妹] 薇薇\", \"author\": \"asxc530530\", \"url\": \"https://www.ptt.cc/bbs/Beauty/M.1672545190.A.328.html\", \"image_link\": \"https://i.imgur.com/Gh9jqCI.jpg\", \"hotNumber\": 0}{\"date\": \"2023-01-01 11:53:07\", \"title\": \"[正妹] 薇薇\", \"author\": \"asxc530530\", \"url\": \"https://www.ptt.cc/bbs/Beauty/M.1672545190.A.328.html\", \"image_link\": \"https://i.imgur.com/PjLmxHj.jpg\", \"hotNumber\": 0}{\"date\": \"2023-01-01 11:53:07\", \"title\": \"[正妹] 薇薇\", \"author\": \"asxc530530\", \"url\": \"https://www.ptt.cc/bbs/Beauty/M.1672545190.A.328.html\", \"image_link\": \"https://i.imgur.com/extd76M.jpg\", \"hotNumber\": 0}{\"date\": \"2023-01-01 11:53:07\", \"title\": \"[正妹] 薇薇\", \"author\": \"asxc530530\", \"url\": \"https://www.ptt.cc/bbs/Beauty/M.1672545190.A.328.html\", \"image_link\": \"https://i.imgur.com/AbmRkpH.jpg\", \"hotNumber\": 0}{\"date\": \"2023-01-01 14:32:53\", \"title\": \"[正妹] 中國 體育記者 巢怡雯\", \"author\": \"saw6904\", \"url\": \"https://www.ptt.cc/bbs/Beauty/M.1672554775.A.108.html\", \"image_link\": \"https://imgur.com/5Pp3KmR.jpg\", \"hotNumber\": 42}{\"date\": \"2023-01-01 14:32:53\", \"title\": \"[正妹] 中國 體育記者 巢怡雯\", \"author\": \"saw6904\", \"url\": \"https://www.ptt.cc/bbs/Beauty/M.1672554775.A.108.html\", \"image_link\": \"https://imgur.com/u3XSwO9.jpg\", \"hotNumber\": 42}{\"date\": \"2023-01-01 14:32:53\", \"title\": \"[正妹] 中國 體育記者 巢怡雯\", \"author\": \"saw6904\", \"url\": \"https://www.ptt.cc/bbs/Beauty/M.1672554775.A.108.html\", \"image_link\": \"https://imgur.com/LbKBaau.jpg\", \"hotNumber\": 42}{\"date\": \"2023-01-01 14:32:53\", \"title\": \"[正妹] 中國 體育記者 巢怡雯\", \"author\": \"saw6904\", \"url\": \"https://www.ptt.cc/bbs/Beauty/M.1672554775.A.108.html\", \"image_link\": \"https://imgur.com/GMCfINQ.jpg\", \"hotNumber\": 42}{\"date\": \"2023-01-01 14:32:53\", \"title\": \"[正妹] 中國 體育記者 巢怡雯\", \"author\": \"saw6904\", \"url\": \"https://www.ptt.cc/bbs/Beauty/M.1672554775.A.108.html\", \"image_link\": \"https://imgur.com/gQRvw43.jpg\", \"hotNumber\": 42}{\"date\": \"2023-01-01 14:32:53\", \"title\": \"[正妹] 中國 體育記者 巢怡雯\", \"author\": \"saw6904\", \"url\": \"https://www.ptt.cc/bbs/Beauty/M.1672554775.A.108.html\", \"image_link\": \"https://imgur.com/gA1CzWr.jpg\", \"hotNumber\": 42}{\"date\": \"2023-01-01 14:32:53\", \"title\": \"[正妹] 中國 體育記者 巢怡雯\", \"author\": \"saw6904\", \"url\": \"https://www.ptt.cc/bbs/Beauty/M.1672554775.A.108.html\", \"image_link\": \"https://imgur.com/ZCxsjPa.jpg\", \"hotNumber\": 42}{\"date\": \"2023-01-01 14:32:53\", \"title\": \"[正妹] 中國 體育記者 巢怡雯\", \"author\": \"saw6904\", \"url\": \"https://www.ptt.cc/bbs/Beauty/M.1672554775.A.108.html\", \"image_link\": \"https://imgur.com/maa3Dpd.jpg\", \"hotNumber\": 42}{\"date\": \"2023-01-01 14:32:53\", \"title\": \"[正妹] 中國 體育記者 巢怡雯\", \"author\": \"saw6904\", \"url\": \"https://www.ptt.cc/bbs/Beauty/M.1672554775.A.108.html\", \"image_link\": \"https://imgur.com/jHQtjdW.jpg\", \"hotNumber\": 42}{\"date\": \"2023-01-01 14:32:53\", \"title\": \"[正妹] 中國 體育記者 巢怡雯\", \"author\": \"saw6904\", \"url\": \"https://www.ptt.cc/bbs/Beauty/M.1672554775.A.108.html\", \"image_link\": \"https://i.imgur.com/QOECp9q.jpg\", \"hotNumber\": 42}{\"date\": \"2023-01-01 16:12:34\", \"title\": \"[正妹] 86少校 coser @ C101\", \"author\": \"chocoball\", \"url\": \"https://www.ptt.cc/bbs/Beauty/M.1672560758.A.A62.html\", \"image_link\": \"https://i.imgur.com/2IrpaJ5.jpg\", \"hotNumber\": 5}{\"date\": \"2023-01-01 16:12:34\", \"title\": \"[正妹] 86少校 coser @ C101\", \"author\": \"chocoball\", \"url\": \"https://www.ptt.cc/bbs/Beauty/M.1672560758.A.A62.html\", \"image_link\": \"https://i.imgur.com/w9fJ3yI.jpg\", \"hotNumber\": 5}{\"date\": \"2023-01-01 16:12:34\", \"title\": \"[正妹] 86少校 coser @ C101\", \"author\": \"chocoball\", \"url\": \"https://www.ptt.cc/bbs/Beauty/M.1672560758.A.A62.html\", \"image_link\": \"https://i.imgur.com/YCF6Y0C.jpg\", \"hotNumber\": 5}{\"date\": \"2023-01-01 16:12:34\", \"title\": \"[正妹] 86少校 coser @ C101\", \"author\": \"chocoball\", \"url\": \"https://www.ptt.cc/bbs/Beauty/M.1672560758.A.A62.html\", \"image_link\": \"https://i.imgur.com/nY6yoOG.jpg\", \"hotNumber\": 5}{\"date\": \"2023-01-01 16:12:34\", \"title\": \"[正妹] 86少校 coser @ C101\", \"author\": \"chocoball\", \"url\": \"https://www.ptt.cc/bbs/Beauty/M.1672560758.A.A62.html\", \"image_link\": \"https://i.imgur.com/ZEWRbas.jpg\", \"hotNumber\": 5}{\"date\": \"2023-01-01 16:12:34\", \"title\": \"[正妹] 86少校 coser @ C101\", \"author\": \"chocoball\", \"url\": \"https://www.ptt.cc/bbs/Beauty/M.1672560758.A.A62.html\", \"image_link\": \"https://i.imgur.com/WNPZMXo.jpg\", \"hotNumber\": 5}{\"date\": \"2023-01-01 16:29:55\", \"title\": \"[正妹] 腸胃科醫師\", \"author\": \"AmedRosario\", \"url\": \"https://www.ptt.cc/bbs/Beauty/M.1672561801.A.10F.html\", \"image_link\": \"https://i.imgur.com/x6ozwQl.jpg\", \"hotNumber\": 10}{\"date\": \"2023-01-01 16:29:55\", \"title\": \"[正妹] 腸胃科醫師\", \"author\": \"AmedRosario\", \"url\": \"https://www.ptt.cc/bbs/Beauty/M.1672561801.A.10F.html\", \"image_link\": \"https://i.imgur.com/UtWw8Hp.jpg\", \"hotNumber\": 10}{\"date\": \"2023-01-01 16:29:55\", \"title\": \"[正妹] 腸胃科醫師\", \"author\": \"AmedRosario\", \"url\": \"https://www.ptt.cc/bbs/Beauty/M.1672561801.A.10F.html\", \"image_link\": \"https://i.imgur.com/15eeFpk.jpg\", \"hotNumber\": 10}{\"date\": \"2023-01-01 16:29:55\", \"title\": \"[正妹] 腸胃科醫師\", \"author\": \"AmedRosario\", \"url\": \"https://www.ptt.cc/bbs/Beauty/M.1672561801.A.10F.html\", \"image_link\": \"https://i.imgur.com/RvQRn8o.jpg\", \"hotNumber\": 10}{\"date\": \"2023-01-01 16:29:55\", \"title\": \"[正妹] 腸胃科醫師\", \"author\": \"AmedRosario\", \"url\": \"https://www.ptt.cc/bbs/Beauty/M.1672561801.A.10F.html\", \"image_link\": \"https://i.imgur.com/UCxRizt.jpg\", \"hotNumber\": 10}{\"date\": \"2023-01-01 16:29:55\", \"title\": \"[正妹] 腸胃科醫師\", \"author\": \"AmedRosario\", \"url\": \"https://www.ptt.cc/bbs/Beauty/M.1672561801.A.10F.html\", \"image_link\": \"https://i.imgur.com/3ofyBUJ.jpg\", \"hotNumber\": 10}{\"date\": \"2023-01-01 18:53:28\", \"title\": \"[正妹] Cosplay 047 日本 拆禮物\", \"author\": \"Gentlemon\", \"url\": \"https://www.ptt.cc/bbs/Beauty/M.1672570416.A.995.html\", \"image_link\": \"https://pbs.twimg.com/media/FkvMwtwUAAEF5Fu.jpg\", \"hotNumber\": 0}{\"date\": \"2023-01-01 18:53:28\", \"title\": \"[正妹] Cosplay 047 日本 拆禮物\", \"author\": \"Gentlemon\", \"url\": \"https://www.ptt.cc/bbs/Beauty/M.1672570416.A.995.html\", \"image_link\": \"https://pbs.twimg.com/media/Fkp85ORUAAIFC04.jpg\", \"hotNumber\": 0}{\"date\": \"2023-01-01 18:53:28\", \"title\": \"[正妹] Cosplay 047 日本 拆禮物\", \"author\": \"Gentlemon\", \"url\": \"https://www.ptt.cc/bbs/Beauty/M.1672570416.A.995.html\", \"image_link\": \"https://pbs.twimg.com/media/FkAshkLVQAQThhq.jpg\", \"hotNumber\": 0}{\"date\": \"2023-01-01 18:53:28\", \"title\": \"[正妹] Cosplay 047 日本 拆禮物\", \"author\": \"Gentlemon\", \"url\": \"https://www.ptt.cc/bbs/Beauty/M.1672570416.A.995.html\", \"image_link\": \"https://pbs.twimg.com/media/FkAshkSUYAEAA53.jpg\", \"hotNumber\": 0}{\"date\": \"2023-01-01 18:53:28\", \"title\": \"[正妹] Cosplay 047 日本 拆禮物\", \"author\": \"Gentlemon\", \"url\": \"https://www.ptt.cc/bbs/Beauty/M.1672570416.A.995.html\", \"image_link\": \"https://pbs.twimg.com/media/FjXjOeqUAAAfMPU.jpg\", \"hotNumber\": 0}{\"date\": \"2023-01-01 18:53:28\", \"title\": \"[正妹] Cosplay 047 日本 拆禮物\", \"author\": \"Gentlemon\", \"url\": \"https://www.ptt.cc/bbs/Beauty/M.1672570416.A.995.html\", \"image_link\": \"https://pbs.twimg.com/media/FkLVZjsUAAA3rFb.jpg\", \"hotNumber\": 0}{\"date\": \"2023-01-01 18:53:28\", \"title\": \"[正妹] Cosplay 047 日本 拆禮物\", \"author\": \"Gentlemon\", \"url\": \"https://www.ptt.cc/bbs/Beauty/M.1672570416.A.995.html\", \"image_link\": \"https://pbs.twimg.com/media/FkQPoofVQAAg47e.jpg\", \"hotNumber\": 0}{\"date\": \"2023-01-01 18:53:28\", \"title\": \"[正妹] Cosplay 047 日本 拆禮物\", \"author\": \"Gentlemon\", \"url\": \"https://www.ptt.cc/bbs/Beauty/M.1672570416.A.995.html\", \"image_link\": \"https://pbs.twimg.com/media/FjSU2WEVsAAlp7p.jpg\", \"hotNumber\": 0}{\"date\": \"2023-01-01 18:53:28\", \"title\": \"[正妹] Cosplay 047 日本 拆禮物\", \"author\": \"Gentlemon\", \"url\": \"https://www.ptt.cc/bbs/Beauty/M.1672570416.A.995.html\", \"image_link\": \"https://pbs.twimg.com/media/FkVja4WVUAAaOx1.jpg\", \"hotNumber\": 0}{\"date\": \"2023-01-01 18:53:28\", \"title\": \"[正妹] Cosplay 047 日本 拆禮物\", \"author\": \"Gentlemon\", \"url\": \"https://www.ptt.cc/bbs/Beauty/M.1672570416.A.995.html\", \"image_link\": \"https://pbs.twimg.com/media/FjcdkxYVsAAxxcS.jpg\", \"hotNumber\": 0}{\"date\": \"2023-01-01 18:53:28\", \"title\": \"[正妹] Cosplay 047 日本 拆禮物\", \"author\": \"Gentlemon\", \"url\": \"https://www.ptt.cc/bbs/Beauty/M.1672570416.A.995.html\", \"image_link\": \"https://pbs.twimg.com/media/FkkqtGVUoAAZbQp.jpg\", \"hotNumber\": 0}{\"date\": \"2023-01-01 18:53:28\", \"title\": \"[正妹] Cosplay 047 日本 拆禮物\", \"author\": \"Gentlemon\", \"url\": \"https://www.ptt.cc/bbs/Beauty/M.1672570416.A.995.html\", \"image_link\": \"https://pbs.twimg.com/media/FipajGgVEAA94yt.jpg\", \"hotNumber\": 0}{\"date\": \"2023-01-01 18:53:28\", \"title\": \"[正妹] Cosplay 047 日本 拆禮物\", \"author\": \"Gentlemon\", \"url\": \"https://www.ptt.cc/bbs/Beauty/M.1672570416.A.995.html\", \"image_link\": \"https://pbs.twimg.com/media/Fj2dYo7UoAAMMwg.jpg\", \"hotNumber\": 0}{\"date\": \"2023-01-01 18:53:28\", \"title\": \"[正妹] Cosplay 047 日本 拆禮物\", \"author\": \"Gentlemon\", \"url\": \"https://www.ptt.cc/bbs/Beauty/M.1672570416.A.995.html\", \"image_link\": \"https://pbs.twimg.com/media/FikkMvlUoAER77D.jpg\", \"hotNumber\": 0}{\"date\": \"2023-01-01 18:53:28\", \"title\": \"[正妹] Cosplay 047 日本 拆禮物\", \"author\": \"Gentlemon\", \"url\": \"https://www.ptt.cc/bbs/Beauty/M.1672570416.A.995.html\", \"image_link\": \"https://pbs.twimg.com/media/FiUxTiyVIAAQECk.jpg\", \"hotNumber\": 0}{\"date\": \"2023-01-01 19:17:44\", \"title\": \"[正妹] 44歲 yuki\", \"author\": \"iwjwlmsc0707\", \"url\": \"https://www.ptt.cc/bbs/Beauty/M.1672571868.A.1EE.html\", \"image_link\": \"https://i.imgur.com/kzit2OU.jpg\", \"hotNumber\": 27}{\"date\": \"2023-01-01 19:17:44\", \"title\": \"[正妹] 44歲 yuki\", \"author\": \"iwjwlmsc0707\", \"url\": \"https://www.ptt.cc/bbs/Beauty/M.1672571868.A.1EE.html\", \"image_link\": \"https://i.imgur.com/VkhMofM.jpg\", \"hotNumber\": 27}{\"date\": \"2023-01-01 19:17:44\", \"title\": \"[正妹] 44歲 yuki\", \"author\": \"iwjwlmsc0707\", \"url\": \"https://www.ptt.cc/bbs/Beauty/M.1672571868.A.1EE.html\", \"image_link\": \"https://i.imgur.com/ge9Qnf9.jpg\", \"hotNumber\": 27}{\"date\": \"2023-01-01 19:17:44\", \"title\": \"[正妹] 44歲 yuki\", \"author\": \"iwjwlmsc0707\", \"url\": \"https://www.ptt.cc/bbs/Beauty/M.1672571868.A.1EE.html\", \"image_link\": \"https://i.imgur.com/inrB7Xs.jpg\", \"hotNumber\": 27}{\"date\": \"2023-01-01 19:55:46\", \"title\": \"[帥哥] 上班不要看的小士\", \"author\": \"chirex\", \"url\": \"https://www.ptt.cc/bbs/Beauty/M.1672574150.A.A5D.html\", \"image_link\": \"https://i.imgur.com/jSgJCZv.jpg\", \"hotNumber\": 0}{\"date\": \"2023-01-01 19:55:46\", \"title\": \"[帥哥] 上班不要看的小士\", \"author\": \"chirex\", \"url\": \"https://www.ptt.cc/bbs/Beauty/M.1672574150.A.A5D.html\", \"image_link\": \"https://i.imgur.com/Q41XVUL.jpg\", \"hotNumber\": 0}{\"date\": \"2023-01-01 19:55:46\", \"title\": \"[帥哥] 上班不要看的小士\", \"author\": \"chirex\", \"url\": \"https://www.ptt.cc/bbs/Beauty/M.1672574150.A.A5D.html\", \"image_link\": \"https://i.imgur.com/X6Tz6wR.jpg\", \"hotNumber\": 0}{\"date\": \"2023-01-01 19:55:46\", \"title\": \"[帥哥] 上班不要看的小士\", \"author\": \"chirex\", \"url\": \"https://www.ptt.cc/bbs/Beauty/M.1672574150.A.A5D.html\", \"image_link\": \"https://i.imgur.com/e6LrUOA.jpg\", \"hotNumber\": 0}{\"date\": \"2023-01-01 19:55:46\", \"title\": \"[帥哥] 上班不要看的小士\", \"author\": \"chirex\", \"url\": \"https://www.ptt.cc/bbs/Beauty/M.1672574150.A.A5D.html\", \"image_link\": \"https://i.imgur.com/W0v6VPe.jpg\", \"hotNumber\": 0}{\"date\": \"2023-01-01 20:04:22\", \"title\": \"[帥哥] 翁立友\", \"author\": \"chirex\", \"url\": \"https://www.ptt.cc/bbs/Beauty/M.1672574665.A.325.html\", \"image_link\": \"https://i.imgur.com/PEX361R.jpg\", \"hotNumber\": 19}{\"date\": \"2023-01-01 20:04:22\", \"title\": \"[帥哥] 翁立友\", \"author\": \"chirex\", \"url\": \"https://www.ptt.cc/bbs/Beauty/M.1672574665.A.325.html\", \"image_link\": \"https://i.imgur.com/OUKS6N9.jpg\", \"hotNumber\": 19}{\"date\": \"2023-01-01 20:04:22\", \"title\": \"[帥哥] 翁立友\", \"author\": \"chirex\", \"url\": \"https://www.ptt.cc/bbs/Beauty/M.1672574665.A.325.html\", \"image_link\": \"https://i.imgur.com/maPMCP3.jpg\", \"hotNumber\": 19}{\"date\": \"2023-01-01 20:04:22\", \"title\": \"[帥哥] 翁立友\", \"author\": \"chirex\", \"url\": \"https://www.ptt.cc/bbs/Beauty/M.1672574665.A.325.html\", \"image_link\": \"https://i.imgur.com/rz2dAQ3.jpg\", \"hotNumber\": 19}{\"date\": \"2023-01-01 20:04:22\", \"title\": \"[帥哥] 翁立友\", \"author\": \"chirex\", \"url\": \"https://www.ptt.cc/bbs/Beauty/M.1672574665.A.325.html\", \"image_link\": \"https://i.imgur.com/5F6Y3mx.jpg\", \"hotNumber\": 19}{\"date\": \"2023-01-01 20:04:22\", \"title\": \"[帥哥] 翁立友\", \"author\": \"chirex\", \"url\": \"https://www.ptt.cc/bbs/Beauty/M.1672574665.A.325.html\", \"image_link\": \"http://i.imgur.com/4q2zpyl.jpg\", \"hotNumber\": 19}{\"date\": \"2023-01-01 20:11:26\", \"title\": \"[正妹] 河北彩花\", \"author\": \"jay228\", \"url\": \"https://www.ptt.cc/bbs/Beauty/M.1672575088.A.D89.html\", \"image_link\": \"https://i.imgur.com/UNrFBgN.jpg\", \"hotNumber\": \"爆\"}{\"date\": \"2023-01-01 20:11:26\", \"title\": \"[正妹] 河北彩花\", \"author\": \"jay228\", \"url\": \"https://www.ptt.cc/bbs/Beauty/M.1672575088.A.D89.html\", \"image_link\": \"https://i.imgur.com/B85HGWX.jpg\", \"hotNumber\": \"爆\"}{\"date\": \"2023-01-01 20:11:26\", \"title\": \"[正妹] 河北彩花\", \"author\": \"jay228\", \"url\": \"https://www.ptt.cc/bbs/Beauty/M.1672575088.A.D89.html\", \"image_link\": \"https://i.imgur.com/0QuFBBp.jpg\", \"hotNumber\": \"爆\"}{\"date\": \"2023-01-01 20:11:26\", \"title\": \"[正妹] 河北彩花\", \"author\": \"jay228\", \"url\": \"https://www.ptt.cc/bbs/Beauty/M.1672575088.A.D89.html\", \"image_link\": \"https://i.imgur.com/gEkz38X.jpg\", \"hotNumber\": \"爆\"}{\"date\": \"2023-01-01 20:11:26\", \"title\": \"[正妹] 河北彩花\", \"author\": \"jay228\", \"url\": \"https://www.ptt.cc/bbs/Beauty/M.1672575088.A.D89.html\", \"image_link\": \"https://i.imgur.com/DS52iTr.jpg\", \"hotNumber\": \"爆\"}{\"date\": \"2023-01-01 20:11:26\", \"title\": \"[正妹] 河北彩花\", \"author\": \"jay228\", \"url\": \"https://www.ptt.cc/bbs/Beauty/M.1672575088.A.D89.html\", \"image_link\": \"https://i.imgur.com/FvUxK2j.jpg\", \"hotNumber\": \"爆\"}{\"date\": \"2023-01-01 20:11:26\", \"title\": \"[正妹] 河北彩花\", \"author\": \"jay228\", \"url\": \"https://www.ptt.cc/bbs/Beauty/M.1672575088.A.D89.html\", \"image_link\": \"https://i.imgur.com/MuIohue.jpg\", \"hotNumber\": \"爆\"}{\"date\": \"2023-01-01 20:11:26\", \"title\": \"[正妹] 河北彩花\", \"author\": \"jay228\", \"url\": \"https://www.ptt.cc/bbs/Beauty/M.1672575088.A.D89.html\", \"image_link\": \"https://i.imgur.com/JtPCyFX.jpg\", \"hotNumber\": \"爆\"}{\"date\": \"2023-01-01 20:11:26\", \"title\": \"[正妹] 河北彩花\", \"author\": \"jay228\", \"url\": \"https://www.ptt.cc/bbs/Beauty/M.1672575088.A.D89.html\", \"image_link\": \"https://i.imgur.com/DTNL04q.jpg\", \"hotNumber\": \"爆\"}{\"date\": \"2023-01-01 20:11:26\", \"title\": \"[正妹] 河北彩花\", \"author\": \"jay228\", \"url\": \"https://www.ptt.cc/bbs/Beauty/M.1672575088.A.D89.html\", \"image_link\": \"https://i.imgur.com/DgiUlNl.jpg\", \"hotNumber\": \"爆\"}{\"date\": \"2023-01-01 20:11:26\", \"title\": \"[正妹] 河北彩花\", \"author\": \"jay228\", \"url\": \"https://www.ptt.cc/bbs/Beauty/M.1672575088.A.D89.html\", \"image_link\": \"https://i.imgur.com/ebXwu0X.jpg\", \"hotNumber\": \"爆\"}{\"date\": \"2023-01-01 20:11:26\", \"title\": \"[正妹] 河北彩花\", \"author\": \"jay228\", \"url\": \"https://www.ptt.cc/bbs/Beauty/M.1672575088.A.D89.html\", \"image_link\": \"https://i.imgur.com/iJrANBc.jpg\", \"hotNumber\": \"爆\"}{\"date\": \"2023-01-01 20:11:26\", \"title\": \"[正妹] 河北彩花\", \"author\": \"jay228\", \"url\": \"https://www.ptt.cc/bbs/Beauty/M.1672575088.A.D89.html\", \"image_link\": \"https://i.imgur.com/5ifhYEi.jpg\", \"hotNumber\": \"爆\"}{\"date\": \"2023-01-01 20:11:26\", \"title\": \"[正妹] 河北彩花\", \"author\": \"jay228\", \"url\": \"https://www.ptt.cc/bbs/Beauty/M.1672575088.A.D89.html\", \"image_link\": \"https://i.imgur.com/l8TKgQF.jpg\", \"hotNumber\": \"爆\"}{\"date\": \"2023-01-01 20:11:26\", \"title\": \"[正妹] 河北彩花\", \"author\": \"jay228\", \"url\": \"https://www.ptt.cc/bbs/Beauty/M.1672575088.A.D89.html\", \"image_link\": \"https://i.imgur.com/jSNctfR.jpg\", \"hotNumber\": \"爆\"}{\"date\": \"2023-01-01 20:11:26\", \"title\": \"[正妹] 河北彩花\", \"author\": \"jay228\", \"url\": \"https://www.ptt.cc/bbs/Beauty/M.1672575088.A.D89.html\", \"image_link\": \"https://i.imgur.com/SV1O9UP.jpg\", \"hotNumber\": \"爆\"}{\"date\": \"2023-01-01 20:11:26\", \"title\": \"[正妹] 河北彩花\", \"author\": \"jay228\", \"url\": \"https://www.ptt.cc/bbs/Beauty/M.1672575088.A.D89.html\", \"image_link\": \"https://i.imgur.com/pi9wuYp.jpg\", \"hotNumber\": \"爆\"}{\"date\": \"2023-01-01 20:11:26\", \"title\": \"[正妹] 河北彩花\", \"author\": \"jay228\", \"url\": \"https://www.ptt.cc/bbs/Beauty/M.1672575088.A.D89.html\", \"image_link\": \"https://i.imgur.com/PuaWryT.jpg\", \"hotNumber\": \"爆\"}{\"date\": \"2023-01-01 20:11:26\", \"title\": \"[正妹] 河北彩花\", \"author\": \"jay228\", \"url\": \"https://www.ptt.cc/bbs/Beauty/M.1672575088.A.D89.html\", \"image_link\": \"https://i.imgur.com/23HbTrO.jpg\", \"hotNumber\": \"爆\"}{\"date\": \"2023-01-01 20:11:26\", \"title\": \"[正妹] 河北彩花\", \"author\": \"jay228\", \"url\": \"https://www.ptt.cc/bbs/Beauty/M.1672575088.A.D89.html\", \"image_link\": \"https://i.imgur.com/jm5Kic0.jpg\", \"hotNumber\": \"爆\"}{\"date\": \"2023-01-01 20:11:26\", \"title\": \"[正妹] 河北彩花\", \"author\": \"jay228\", \"url\": \"https://www.ptt.cc/bbs/Beauty/M.1672575088.A.D89.html\", \"image_link\": \"https://i.imgur.com/LQls49l.jpg\", \"hotNumber\": \"爆\"}{\"date\": \"2023-01-01 20:11:26\", \"title\": \"[正妹] 河北彩花\", \"author\": \"jay228\", \"url\": \"https://www.ptt.cc/bbs/Beauty/M.1672575088.A.D89.html\", \"image_link\": \"https://i.imgur.com/tf83GOW.jpg\", \"hotNumber\": \"爆\"}{\"date\": \"2023-01-01 20:11:26\", \"title\": \"[正妹] 河北彩花\", \"author\": \"jay228\", \"url\": \"https://www.ptt.cc/bbs/Beauty/M.1672575088.A.D89.html\", \"image_link\": \"https://i.imgur.com/mAfwbA1.jpg\", \"hotNumber\": \"爆\"}{\"date\": \"2023-01-01 21:54:08\", \"title\": \"[正妹] 日本小馮\", \"author\": \"asxc530530\", \"url\": \"https://www.ptt.cc/bbs/Beauty/M.1672581250.A.C91.html\", \"image_link\": \"https://i.imgur.com/Y51CnjF.jpg\", \"hotNumber\": 21}{\"date\": \"2023-01-01 21:54:08\", \"title\": \"[正妹] 日本小馮\", \"author\": \"asxc530530\", \"url\": \"https://www.ptt.cc/bbs/Beauty/M.1672581250.A.C91.html\", \"image_link\": \"https://i.imgur.com/yFHNmL1.jpg\", \"hotNumber\": 21}{\"date\": \"2023-01-01 21:54:08\", \"title\": \"[正妹] 日本小馮\", \"author\": \"asxc530530\", \"url\": \"https://www.ptt.cc/bbs/Beauty/M.1672581250.A.C91.html\", \"image_link\": \"https://i.imgur.com/JftoRXh.jpg\", \"hotNumber\": 21}{\"date\": \"2023-01-01 21:54:08\", \"title\": \"[正妹] 日本小馮\", \"author\": \"asxc530530\", \"url\": \"https://www.ptt.cc/bbs/Beauty/M.1672581250.A.C91.html\", \"image_link\": \"https://i.imgur.com/xK9T2ye.jpg\", \"hotNumber\": 21}{\"date\": \"2023-01-01 21:54:08\", \"title\": \"[正妹] 日本小馮\", \"author\": \"asxc530530\", \"url\": \"https://www.ptt.cc/bbs/Beauty/M.1672581250.A.C91.html\", \"image_link\": \"https://i.imgur.com/B6D7ADP.jpg\", \"hotNumber\": 21}{\"date\": \"2023-01-01 21:54:08\", \"title\": \"[正妹] 日本小馮\", \"author\": \"asxc530530\", \"url\": \"https://www.ptt.cc/bbs/Beauty/M.1672581250.A.C91.html\", \"image_link\": \"https://i.imgur.com/Cm5kNSy.jpg\", \"hotNumber\": 21}{\"date\": \"2023-01-01 21:54:08\", \"title\": \"[正妹] 日本小馮\", \"author\": \"asxc530530\", \"url\": \"https://www.ptt.cc/bbs/Beauty/M.1672581250.A.C91.html\", \"image_link\": \"https://i.imgur.com/YNM147n.jpg\", \"hotNumber\": 21}{\"date\": \"2023-01-01 21:54:08\", \"title\": \"[正妹] 日本小馮\", \"author\": \"asxc530530\", \"url\": \"https://www.ptt.cc/bbs/Beauty/M.1672581250.A.C91.html\", \"image_link\": \"https://i.imgur.com/T40Jqlu.gif\", \"hotNumber\": 21}{\"date\": \"2023-01-01 21:54:08\", \"title\": \"[正妹] 日本小馮\", \"author\": \"asxc530530\", \"url\": \"https://www.ptt.cc/bbs/Beauty/M.1672581250.A.C91.html\", \"image_link\": \"https://i.imgur.com/KLdYciI.jpg\", \"hotNumber\": 21}{\"date\": \"2023-01-01 21:54:08\", \"title\": \"[正妹] 日本小馮\", \"author\": \"asxc530530\", \"url\": \"https://www.ptt.cc/bbs/Beauty/M.1672581250.A.C91.html\", \"image_link\": \"https://i.imgur.com/BhjJixK.jpg\", \"hotNumber\": 21}{\"date\": \"2023-01-01 21:54:08\", \"title\": \"[正妹] 日本小馮\", \"author\": \"asxc530530\", \"url\": \"https://www.ptt.cc/bbs/Beauty/M.1672581250.A.C91.html\", \"image_link\": \"https://i.imgur.com/KUpkbUV.jpg\", \"hotNumber\": 21}{\"date\": \"2023-01-01 21:54:08\", \"title\": \"[正妹] 日本小馮\", \"author\": \"asxc530530\", \"url\": \"https://www.ptt.cc/bbs/Beauty/M.1672581250.A.C91.html\", \"image_link\": \"https://i.imgur.com/NEEZkQl.jpg\", \"hotNumber\": 21}{\"date\": \"2023-01-01 21:54:08\", \"title\": \"[正妹] 日本小馮\", \"author\": \"asxc530530\", \"url\": \"https://www.ptt.cc/bbs/Beauty/M.1672581250.A.C91.html\", \"image_link\": \"https://i.imgur.com/B41ahAb.jpg\", \"hotNumber\": 21}{\"date\": \"2023-01-01 21:54:08\", \"title\": \"[正妹] 日本小馮\", \"author\": \"asxc530530\", \"url\": \"https://www.ptt.cc/bbs/Beauty/M.1672581250.A.C91.html\", \"image_link\": \"https://i.imgur.com/Rcsr9HY.jpg\", \"hotNumber\": 21}{\"date\": \"2023-01-01 21:54:08\", \"title\": \"[正妹] 日本小馮\", \"author\": \"asxc530530\", \"url\": \"https://www.ptt.cc/bbs/Beauty/M.1672581250.A.C91.html\", \"image_link\": \"https://i.imgur.com/IB8jJCJ.jpg\", \"hotNumber\": 21}{\"date\": \"2023-01-01 21:54:08\", \"title\": \"[正妹] 日本小馮\", \"author\": \"asxc530530\", \"url\": \"https://www.ptt.cc/bbs/Beauty/M.1672581250.A.C91.html\", \"image_link\": \"https://i.imgur.com/dv1epBa.jpg\", \"hotNumber\": 21}{\"date\": \"2023-01-01 21:54:08\", \"title\": \"[正妹] 日本小馮\", \"author\": \"asxc530530\", \"url\": \"https://www.ptt.cc/bbs/Beauty/M.1672581250.A.C91.html\", \"image_link\": \"https://i.imgur.com/7eLEflR.jpg\", \"hotNumber\": 21}{\"date\": \"2023-01-01 21:57:03\", \"title\": \"[正妹] 川村那月\", \"author\": \"ReiKuromiya\", \"url\": \"https://www.ptt.cc/bbs/Beauty/M.1672581425.A.2DC.html\", \"image_link\": \"https://i.imgur.com/YpQiqaB.gif\", \"hotNumber\": 1}{\"date\": \"2023-01-01 21:57:03\", \"title\": \"[正妹] 川村那月\", \"author\": \"ReiKuromiya\", \"url\": \"https://www.ptt.cc/bbs/Beauty/M.1672581425.A.2DC.html\", \"image_link\": \"https://i.imgur.com/piZoVqN.gif\", \"hotNumber\": 1}{\"date\": \"2023-01-01 21:57:03\", \"title\": \"[正妹] 川村那月\", \"author\": \"ReiKuromiya\", \"url\": \"https://www.ptt.cc/bbs/Beauty/M.1672581425.A.2DC.html\", \"image_link\": \"https://i.imgur.com/eoIQ41m.gif\", \"hotNumber\": 1}{\"date\": \"2023-01-01 21:57:03\", \"title\": \"[正妹] 川村那月\", \"author\": \"ReiKuromiya\", \"url\": \"https://www.ptt.cc/bbs/Beauty/M.1672581425.A.2DC.html\", \"image_link\": \"https://i.imgur.com/3Yjwnbm.gif\", \"hotNumber\": 1}{\"date\": \"2023-01-01 21:57:03\", \"title\": \"[正妹] 川村那月\", \"author\": \"ReiKuromiya\", \"url\": \"https://www.ptt.cc/bbs/Beauty/M.1672581425.A.2DC.html\", \"image_link\": \"https://i.imgur.com/r2xHmlj.gif\", \"hotNumber\": 1}{\"date\": \"2023-01-01 21:57:03\", \"title\": \"[正妹] 川村那月\", \"author\": \"ReiKuromiya\", \"url\": \"https://www.ptt.cc/bbs/Beauty/M.1672581425.A.2DC.html\", \"image_link\": \"https://i.imgur.com/Ue9Ew6l.gif\", \"hotNumber\": 1}']"
      ]
     },
     "execution_count": 4,
     "metadata": {},
     "output_type": "execute_result"
    }
   ],
   "source": [
    "with open(file=file_test , mode=\"r\", encoding=\"utf-8\") as f:\n",
    "    data = f.readlines()\n",
    "data"
   ]
  },
  {
   "cell_type": "code",
   "execution_count": null,
   "metadata": {},
   "outputs": [],
   "source": [
    "\n",
    "\n",
    "\n",
    "\n",
    "data = [json.loads(item) for item in data]\n",
    "data"
   ]
  }
 ],
 "metadata": {
  "kernelspec": {
   "display_name": ".venv",
   "language": "python",
   "name": "python3"
  },
  "language_info": {
   "codemirror_mode": {
    "name": "ipython",
    "version": 3
   },
   "file_extension": ".py",
   "mimetype": "text/x-python",
   "name": "python",
   "nbconvert_exporter": "python",
   "pygments_lexer": "ipython3",
   "version": "3.10.4"
  }
 },
 "nbformat": 4,
 "nbformat_minor": 2
}
