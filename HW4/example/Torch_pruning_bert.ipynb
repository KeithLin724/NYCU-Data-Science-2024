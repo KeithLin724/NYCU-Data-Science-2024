{
 "cells": [
  {
   "cell_type": "markdown",
   "metadata": {},
   "source": [
    "# Torch Pruning\n",
    "## GitHub : https://github.com/VainF/Torch-Pruning/blob/master/examples/transformers/prune_hf_bert.py"
   ]
  },
  {
   "cell_type": "code",
   "execution_count": 6,
   "metadata": {},
   "outputs": [],
   "source": [
    "from transformers import AutoTokenizer, BertModel\n",
    "import torch\n",
    "from transformers.models.bert.modeling_bert import BertSelfAttention\n",
    "import torch_pruning as tp\n",
    "\n",
    "tokenizer = AutoTokenizer.from_pretrained(\"bert-base-uncased\")\n",
    "model = BertModel.from_pretrained(\"bert-base-uncased\")\n",
    "#print(model)\n",
    "hf_inputs = tokenizer(\"Hello, my dog is cute\", return_tensors=\"pt\")\n",
    "example_inputs = {'input_ids': hf_inputs['input_ids'], 'token_type_ids': hf_inputs['token_type_ids'], 'attention_mask': hf_inputs['attention_mask']}\n"
   ]
  },
  {
   "cell_type": "code",
   "execution_count": 7,
   "metadata": {},
   "outputs": [
    {
     "data": {
      "text/plain": [
       "BertModel(\n",
       "  (embeddings): BertEmbeddings(\n",
       "    (word_embeddings): Embedding(30522, 768, padding_idx=0)\n",
       "    (position_embeddings): Embedding(512, 768)\n",
       "    (token_type_embeddings): Embedding(2, 768)\n",
       "    (LayerNorm): LayerNorm((768,), eps=1e-12, elementwise_affine=True)\n",
       "    (dropout): Dropout(p=0.1, inplace=False)\n",
       "  )\n",
       "  (encoder): BertEncoder(\n",
       "    (layer): ModuleList(\n",
       "      (0-11): 12 x BertLayer(\n",
       "        (attention): BertAttention(\n",
       "          (self): BertSelfAttention(\n",
       "            (query): Linear(in_features=768, out_features=768, bias=True)\n",
       "            (key): Linear(in_features=768, out_features=768, bias=True)\n",
       "            (value): Linear(in_features=768, out_features=768, bias=True)\n",
       "            (dropout): Dropout(p=0.1, inplace=False)\n",
       "          )\n",
       "          (output): BertSelfOutput(\n",
       "            (dense): Linear(in_features=768, out_features=768, bias=True)\n",
       "            (LayerNorm): LayerNorm((768,), eps=1e-12, elementwise_affine=True)\n",
       "            (dropout): Dropout(p=0.1, inplace=False)\n",
       "          )\n",
       "        )\n",
       "        (intermediate): BertIntermediate(\n",
       "          (dense): Linear(in_features=768, out_features=3072, bias=True)\n",
       "          (intermediate_act_fn): GELUActivation()\n",
       "        )\n",
       "        (output): BertOutput(\n",
       "          (dense): Linear(in_features=3072, out_features=768, bias=True)\n",
       "          (LayerNorm): LayerNorm((768,), eps=1e-12, elementwise_affine=True)\n",
       "          (dropout): Dropout(p=0.1, inplace=False)\n",
       "        )\n",
       "      )\n",
       "    )\n",
       "  )\n",
       "  (pooler): BertPooler(\n",
       "    (dense): Linear(in_features=768, out_features=768, bias=True)\n",
       "    (activation): Tanh()\n",
       "  )\n",
       ")"
      ]
     },
     "execution_count": 7,
     "metadata": {},
     "output_type": "execute_result"
    }
   ],
   "source": [
    "model"
   ]
  },
  {
   "cell_type": "code",
   "execution_count": 2,
   "metadata": {},
   "outputs": [
    {
     "name": "stdout",
     "output_type": "stream",
     "text": [
      "Warning! No positional inputs found for a module, assuming batch size is 1.\n"
     ]
    }
   ],
   "source": [
    "\n",
    "#outputs = model(**example_inputs)\n",
    "#last_hidden_states = outputs.last_hidden_state\n",
    "\n",
    "imp = tp.importance.MagnitudeImportance(p=2, group_reduction=\"mean\")\n",
    "base_macs, base_params = tp.utils.count_ops_and_params(model, example_inputs)\n",
    "num_heads = {}\n",
    "\n",
    "# All heads should be pruned simultaneously, so we group channels by head.\n",
    "for m in model.modules():\n",
    "    if isinstance(m, BertSelfAttention):\n",
    "        num_heads[m.query] = m.num_attention_heads\n",
    "        num_heads[m.key] = m.num_attention_heads\n",
    "        num_heads[m.value] = m.num_attention_heads\n",
    "\n"
   ]
  },
  {
   "cell_type": "code",
   "execution_count": 4,
   "metadata": {},
   "outputs": [
    {
     "name": "stdout",
     "output_type": "stream",
     "text": [
      "Num heads: 12, head size: 64 =>\n",
      "Num heads: 6, head size: 64\n",
      "\n",
      "Num heads: 12, head size: 64 =>\n",
      "Num heads: 6, head size: 64\n",
      "\n",
      "Num heads: 12, head size: 64 =>\n",
      "Num heads: 6, head size: 64\n",
      "\n",
      "Num heads: 12, head size: 64 =>\n",
      "Num heads: 6, head size: 64\n",
      "\n",
      "Num heads: 12, head size: 64 =>\n",
      "Num heads: 6, head size: 64\n",
      "\n",
      "Num heads: 12, head size: 64 =>\n",
      "Num heads: 6, head size: 64\n",
      "\n",
      "Num heads: 12, head size: 64 =>\n",
      "Num heads: 6, head size: 64\n",
      "\n",
      "Num heads: 12, head size: 64 =>\n",
      "Num heads: 6, head size: 64\n",
      "\n",
      "Num heads: 12, head size: 64 =>\n",
      "Num heads: 6, head size: 64\n",
      "\n",
      "Num heads: 12, head size: 64 =>\n",
      "Num heads: 6, head size: 64\n",
      "\n",
      "Num heads: 12, head size: 64 =>\n",
      "Num heads: 6, head size: 64\n",
      "\n",
      "Num heads: 12, head size: 64 =>\n",
      "Num heads: 6, head size: 64\n",
      "\n"
     ]
    }
   ],
   "source": [
    "pruner = tp.pruner.MetaPruner(\n",
    "    model, \n",
    "    example_inputs, \n",
    "    global_pruning=False, # If False, a uniform pruning ratio will be assigned to different layers.\n",
    "    importance=imp, # importance criterion for parameter selection\n",
    "    iterative_steps=1, # the number of iterations to achieve target pruning ratio\n",
    "    pruning_ratio=0.5,\n",
    "    num_heads=num_heads,\n",
    "    prune_head_dims=False,\n",
    "    prune_num_heads=True,\n",
    "    head_pruning_ratio=0.5,\n",
    "    output_transform=lambda out: out.pooler_output.sum(),\n",
    "    ignored_layers=[model.pooler],\n",
    ")\n",
    "\n",
    "for g in pruner.step(interactive=True):\n",
    "    #print(g)\n",
    "    g.prune()\n",
    "\n",
    "# Modify the attention head size and all head size after pruning\n",
    "for m in model.modules():\n",
    "    if isinstance(m, BertSelfAttention):\n",
    "        print(\"Num heads: %d, head size: %d =>\"%(m.num_attention_heads, m.attention_head_size))\n",
    "        m.num_attention_heads = pruner.num_heads[m.query]\n",
    "        m.attention_head_size = m.query.out_features // m.num_attention_heads\n",
    "        m.all_head_size = m.query.out_features\n",
    "        print(\"Num heads: %d, head size: %d\"%(m.num_attention_heads, m.attention_head_size))\n",
    "        print()\n",
    "\n"
   ]
  },
  {
   "cell_type": "code",
   "execution_count": 5,
   "metadata": {},
   "outputs": [
    {
     "name": "stdout",
     "output_type": "stream",
     "text": [
      "BertModel(\n",
      "  (embeddings): BertEmbeddings(\n",
      "    (word_embeddings): Embedding(30522, 384, padding_idx=0)\n",
      "    (position_embeddings): Embedding(512, 384)\n",
      "    (token_type_embeddings): Embedding(2, 384)\n",
      "    (LayerNorm): LayerNorm((384,), eps=1e-12, elementwise_affine=True)\n",
      "    (dropout): Dropout(p=0.1, inplace=False)\n",
      "  )\n",
      "  (encoder): BertEncoder(\n",
      "    (layer): ModuleList(\n",
      "      (0-11): 12 x BertLayer(\n",
      "        (attention): BertAttention(\n",
      "          (self): BertSelfAttention(\n",
      "            (query): Linear(in_features=384, out_features=384, bias=True)\n",
      "            (key): Linear(in_features=384, out_features=384, bias=True)\n",
      "            (value): Linear(in_features=384, out_features=384, bias=True)\n",
      "            (dropout): Dropout(p=0.1, inplace=False)\n",
      "          )\n",
      "          (output): BertSelfOutput(\n",
      "            (dense): Linear(in_features=384, out_features=384, bias=True)\n",
      "            (LayerNorm): LayerNorm((384,), eps=1e-12, elementwise_affine=True)\n",
      "            (dropout): Dropout(p=0.1, inplace=False)\n",
      "          )\n",
      "        )\n",
      "        (intermediate): BertIntermediate(\n",
      "          (dense): Linear(in_features=384, out_features=1536, bias=True)\n",
      "          (intermediate_act_fn): GELUActivation()\n",
      "        )\n",
      "        (output): BertOutput(\n",
      "          (dense): Linear(in_features=1536, out_features=384, bias=True)\n",
      "          (LayerNorm): LayerNorm((384,), eps=1e-12, elementwise_affine=True)\n",
      "          (dropout): Dropout(p=0.1, inplace=False)\n",
      "        )\n",
      "      )\n",
      "    )\n",
      "  )\n",
      "  (pooler): BertPooler(\n",
      "    (dense): Linear(in_features=384, out_features=768, bias=True)\n",
      "    (activation): Tanh()\n",
      "  )\n",
      ")\n",
      "Warning! No positional inputs found for a module, assuming batch size is 1.\n",
      "Base MACs: 680.457984 M, Pruned MACs: 170.360064 M\n",
      "Base Params: 109.482240 M, Pruned Params: 33.507840 M\n"
     ]
    }
   ],
   "source": [
    "print(model)\n",
    "test_output = model(**example_inputs)\n",
    "pruned_macs, pruned_params = tp.utils.count_ops_and_params(model, example_inputs)\n",
    "print(\"Base MACs: %f M, Pruned MACs: %f M\"%(base_macs/1e6, pruned_macs/1e6))\n",
    "print(\"Base Params: %f M, Pruned Params: %f M\"%(base_params/1e6, pruned_params/1e6))"
   ]
  }
 ],
 "metadata": {
  "kernelspec": {
   "display_name": ".venv",
   "language": "python",
   "name": "python3"
  },
  "language_info": {
   "codemirror_mode": {
    "name": "ipython",
    "version": 3
   },
   "file_extension": ".py",
   "mimetype": "text/x-python",
   "name": "python",
   "nbconvert_exporter": "python",
   "pygments_lexer": "ipython3",
   "version": "3.11.5"
  }
 },
 "nbformat": 4,
 "nbformat_minor": 2
}
