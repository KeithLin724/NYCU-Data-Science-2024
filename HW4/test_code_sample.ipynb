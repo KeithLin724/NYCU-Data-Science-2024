{
 "cells": [
  {
   "cell_type": "code",
   "execution_count": 1,
   "metadata": {},
   "outputs": [],
   "source": [
    "from TALib import TALib"
   ]
  },
  {
   "cell_type": "code",
   "execution_count": 2,
   "metadata": {},
   "outputs": [
    {
     "data": {
      "application/vnd.jupyter.widget-view+json": {
       "model_id": "89634cf9b93748a6a6c47bc867df0052",
       "version_major": 2,
       "version_minor": 0
      },
      "text/plain": [
       "Map:   0%|          | 0/15159 [00:00<?, ? examples/s]"
      ]
     },
     "metadata": {},
     "output_type": "display_data"
    },
    {
     "data": {
      "application/vnd.jupyter.widget-view+json": {
       "model_id": "2a009e8589a94032922c994208b3bb98",
       "version_major": 2,
       "version_minor": 0
      },
      "text/plain": [
       "Map:   0%|          | 0/3790 [00:00<?, ? examples/s]"
      ]
     },
     "metadata": {},
     "output_type": "display_data"
    }
   ],
   "source": [
    "ta_lib = TALib()"
   ]
  },
  {
   "cell_type": "markdown",
   "metadata": {},
   "source": [
    "## Load model"
   ]
  },
  {
   "cell_type": "code",
   "execution_count": 3,
   "metadata": {},
   "outputs": [
    {
     "name": "stderr",
     "output_type": "stream",
     "text": [
      "Some weights of the model checkpoint at ./output/pruning_success_v2_max_128 were not used when initializing T5ForConditionalGeneration: ['decoder.block.0.layer.0.SelfAttention.k.weight_mask', 'decoder.block.0.layer.0.SelfAttention.k.weight_orig', 'decoder.block.0.layer.0.SelfAttention.o.weight_mask', 'decoder.block.0.layer.0.SelfAttention.o.weight_orig', 'decoder.block.0.layer.0.SelfAttention.q.weight_mask', 'decoder.block.0.layer.0.SelfAttention.q.weight_orig', 'decoder.block.0.layer.0.SelfAttention.v.weight_mask', 'decoder.block.0.layer.0.SelfAttention.v.weight_orig', 'decoder.block.0.layer.1.EncDecAttention.k.weight_mask', 'decoder.block.0.layer.1.EncDecAttention.k.weight_orig', 'decoder.block.0.layer.1.EncDecAttention.o.weight_mask', 'decoder.block.0.layer.1.EncDecAttention.o.weight_orig', 'decoder.block.0.layer.1.EncDecAttention.q.weight_mask', 'decoder.block.0.layer.1.EncDecAttention.q.weight_orig', 'decoder.block.0.layer.1.EncDecAttention.v.weight_mask', 'decoder.block.0.layer.1.EncDecAttention.v.weight_orig', 'decoder.block.0.layer.2.DenseReluDense.wi.weight_mask', 'decoder.block.0.layer.2.DenseReluDense.wi.weight_orig', 'decoder.block.0.layer.2.DenseReluDense.wo.weight_mask', 'decoder.block.0.layer.2.DenseReluDense.wo.weight_orig', 'decoder.block.1.layer.0.SelfAttention.k.weight_mask', 'decoder.block.1.layer.0.SelfAttention.k.weight_orig', 'decoder.block.1.layer.0.SelfAttention.o.weight_mask', 'decoder.block.1.layer.0.SelfAttention.o.weight_orig', 'decoder.block.1.layer.0.SelfAttention.q.weight_mask', 'decoder.block.1.layer.0.SelfAttention.q.weight_orig', 'decoder.block.1.layer.0.SelfAttention.v.weight_mask', 'decoder.block.1.layer.0.SelfAttention.v.weight_orig', 'decoder.block.1.layer.1.EncDecAttention.k.weight_mask', 'decoder.block.1.layer.1.EncDecAttention.k.weight_orig', 'decoder.block.1.layer.1.EncDecAttention.o.weight_mask', 'decoder.block.1.layer.1.EncDecAttention.o.weight_orig', 'decoder.block.1.layer.1.EncDecAttention.q.weight_mask', 'decoder.block.1.layer.1.EncDecAttention.q.weight_orig', 'decoder.block.1.layer.1.EncDecAttention.v.weight_mask', 'decoder.block.1.layer.1.EncDecAttention.v.weight_orig', 'decoder.block.1.layer.2.DenseReluDense.wi.weight_mask', 'decoder.block.1.layer.2.DenseReluDense.wi.weight_orig', 'decoder.block.1.layer.2.DenseReluDense.wo.weight_mask', 'decoder.block.1.layer.2.DenseReluDense.wo.weight_orig', 'decoder.block.2.layer.0.SelfAttention.k.weight_mask', 'decoder.block.2.layer.0.SelfAttention.k.weight_orig', 'decoder.block.2.layer.0.SelfAttention.o.weight_mask', 'decoder.block.2.layer.0.SelfAttention.o.weight_orig', 'decoder.block.2.layer.0.SelfAttention.q.weight_mask', 'decoder.block.2.layer.0.SelfAttention.q.weight_orig', 'decoder.block.2.layer.0.SelfAttention.v.weight_mask', 'decoder.block.2.layer.0.SelfAttention.v.weight_orig', 'decoder.block.2.layer.1.EncDecAttention.k.weight_mask', 'decoder.block.2.layer.1.EncDecAttention.k.weight_orig', 'decoder.block.2.layer.1.EncDecAttention.o.weight_mask', 'decoder.block.2.layer.1.EncDecAttention.o.weight_orig', 'decoder.block.2.layer.1.EncDecAttention.q.weight_mask', 'decoder.block.2.layer.1.EncDecAttention.q.weight_orig', 'decoder.block.2.layer.1.EncDecAttention.v.weight_mask', 'decoder.block.2.layer.1.EncDecAttention.v.weight_orig', 'decoder.block.2.layer.2.DenseReluDense.wi.weight_mask', 'decoder.block.2.layer.2.DenseReluDense.wi.weight_orig', 'decoder.block.2.layer.2.DenseReluDense.wo.weight_mask', 'decoder.block.2.layer.2.DenseReluDense.wo.weight_orig', 'decoder.block.3.layer.0.SelfAttention.k.weight_mask', 'decoder.block.3.layer.0.SelfAttention.k.weight_orig', 'decoder.block.3.layer.0.SelfAttention.o.weight_mask', 'decoder.block.3.layer.0.SelfAttention.o.weight_orig', 'decoder.block.3.layer.0.SelfAttention.q.weight_mask', 'decoder.block.3.layer.0.SelfAttention.q.weight_orig', 'decoder.block.3.layer.0.SelfAttention.v.weight_mask', 'decoder.block.3.layer.0.SelfAttention.v.weight_orig', 'decoder.block.3.layer.1.EncDecAttention.k.weight_mask', 'decoder.block.3.layer.1.EncDecAttention.k.weight_orig', 'decoder.block.3.layer.1.EncDecAttention.o.weight_mask', 'decoder.block.3.layer.1.EncDecAttention.o.weight_orig', 'decoder.block.3.layer.1.EncDecAttention.q.weight_mask', 'decoder.block.3.layer.1.EncDecAttention.q.weight_orig', 'decoder.block.3.layer.1.EncDecAttention.v.weight_mask', 'decoder.block.3.layer.1.EncDecAttention.v.weight_orig', 'decoder.block.3.layer.2.DenseReluDense.wi.weight_mask', 'decoder.block.3.layer.2.DenseReluDense.wi.weight_orig', 'decoder.block.3.layer.2.DenseReluDense.wo.weight_mask', 'decoder.block.3.layer.2.DenseReluDense.wo.weight_orig', 'decoder.block.4.layer.0.SelfAttention.k.weight_mask', 'decoder.block.4.layer.0.SelfAttention.k.weight_orig', 'decoder.block.4.layer.0.SelfAttention.o.weight_mask', 'decoder.block.4.layer.0.SelfAttention.o.weight_orig', 'decoder.block.4.layer.0.SelfAttention.q.weight_mask', 'decoder.block.4.layer.0.SelfAttention.q.weight_orig', 'decoder.block.4.layer.0.SelfAttention.v.weight_mask', 'decoder.block.4.layer.0.SelfAttention.v.weight_orig', 'decoder.block.4.layer.1.EncDecAttention.k.weight_mask', 'decoder.block.4.layer.1.EncDecAttention.k.weight_orig', 'decoder.block.4.layer.1.EncDecAttention.o.weight_mask', 'decoder.block.4.layer.1.EncDecAttention.o.weight_orig', 'decoder.block.4.layer.1.EncDecAttention.q.weight_mask', 'decoder.block.4.layer.1.EncDecAttention.q.weight_orig', 'decoder.block.4.layer.1.EncDecAttention.v.weight_mask', 'decoder.block.4.layer.1.EncDecAttention.v.weight_orig', 'decoder.block.4.layer.2.DenseReluDense.wi.weight_mask', 'decoder.block.4.layer.2.DenseReluDense.wi.weight_orig', 'decoder.block.4.layer.2.DenseReluDense.wo.weight_mask', 'decoder.block.4.layer.2.DenseReluDense.wo.weight_orig', 'decoder.block.5.layer.0.SelfAttention.k.weight_mask', 'decoder.block.5.layer.0.SelfAttention.k.weight_orig', 'decoder.block.5.layer.0.SelfAttention.o.weight_mask', 'decoder.block.5.layer.0.SelfAttention.o.weight_orig', 'decoder.block.5.layer.0.SelfAttention.q.weight_mask', 'decoder.block.5.layer.0.SelfAttention.q.weight_orig', 'decoder.block.5.layer.0.SelfAttention.v.weight_mask', 'decoder.block.5.layer.0.SelfAttention.v.weight_orig', 'decoder.block.5.layer.1.EncDecAttention.k.weight_mask', 'decoder.block.5.layer.1.EncDecAttention.k.weight_orig', 'decoder.block.5.layer.1.EncDecAttention.o.weight_mask', 'decoder.block.5.layer.1.EncDecAttention.o.weight_orig', 'decoder.block.5.layer.1.EncDecAttention.q.weight_mask', 'decoder.block.5.layer.1.EncDecAttention.q.weight_orig', 'decoder.block.5.layer.1.EncDecAttention.v.weight_mask', 'decoder.block.5.layer.1.EncDecAttention.v.weight_orig', 'decoder.block.5.layer.2.DenseReluDense.wi.weight_mask', 'decoder.block.5.layer.2.DenseReluDense.wi.weight_orig', 'decoder.block.5.layer.2.DenseReluDense.wo.weight_mask', 'decoder.block.5.layer.2.DenseReluDense.wo.weight_orig', 'encoder.block.0.layer.0.SelfAttention.k.weight_mask', 'encoder.block.0.layer.0.SelfAttention.k.weight_orig', 'encoder.block.0.layer.0.SelfAttention.o.weight_mask', 'encoder.block.0.layer.0.SelfAttention.o.weight_orig', 'encoder.block.0.layer.0.SelfAttention.q.weight_mask', 'encoder.block.0.layer.0.SelfAttention.q.weight_orig', 'encoder.block.0.layer.0.SelfAttention.v.weight_mask', 'encoder.block.0.layer.0.SelfAttention.v.weight_orig', 'encoder.block.0.layer.1.DenseReluDense.wi.weight_mask', 'encoder.block.0.layer.1.DenseReluDense.wi.weight_orig', 'encoder.block.0.layer.1.DenseReluDense.wo.weight_mask', 'encoder.block.0.layer.1.DenseReluDense.wo.weight_orig', 'encoder.block.1.layer.0.SelfAttention.k.weight_mask', 'encoder.block.1.layer.0.SelfAttention.k.weight_orig', 'encoder.block.1.layer.0.SelfAttention.o.weight_mask', 'encoder.block.1.layer.0.SelfAttention.o.weight_orig', 'encoder.block.1.layer.0.SelfAttention.q.weight_mask', 'encoder.block.1.layer.0.SelfAttention.q.weight_orig', 'encoder.block.1.layer.0.SelfAttention.v.weight_mask', 'encoder.block.1.layer.0.SelfAttention.v.weight_orig', 'encoder.block.1.layer.1.DenseReluDense.wi.weight_mask', 'encoder.block.1.layer.1.DenseReluDense.wi.weight_orig', 'encoder.block.1.layer.1.DenseReluDense.wo.weight_mask', 'encoder.block.1.layer.1.DenseReluDense.wo.weight_orig', 'encoder.block.2.layer.0.SelfAttention.k.weight_mask', 'encoder.block.2.layer.0.SelfAttention.k.weight_orig', 'encoder.block.2.layer.0.SelfAttention.o.weight_mask', 'encoder.block.2.layer.0.SelfAttention.o.weight_orig', 'encoder.block.2.layer.0.SelfAttention.q.weight_mask', 'encoder.block.2.layer.0.SelfAttention.q.weight_orig', 'encoder.block.2.layer.0.SelfAttention.v.weight_mask', 'encoder.block.2.layer.0.SelfAttention.v.weight_orig', 'encoder.block.2.layer.1.DenseReluDense.wi.weight_mask', 'encoder.block.2.layer.1.DenseReluDense.wi.weight_orig', 'encoder.block.2.layer.1.DenseReluDense.wo.weight_mask', 'encoder.block.2.layer.1.DenseReluDense.wo.weight_orig', 'encoder.block.3.layer.0.SelfAttention.k.weight_mask', 'encoder.block.3.layer.0.SelfAttention.k.weight_orig', 'encoder.block.3.layer.0.SelfAttention.o.weight_mask', 'encoder.block.3.layer.0.SelfAttention.o.weight_orig', 'encoder.block.3.layer.0.SelfAttention.q.weight_mask', 'encoder.block.3.layer.0.SelfAttention.q.weight_orig', 'encoder.block.3.layer.0.SelfAttention.v.weight_mask', 'encoder.block.3.layer.0.SelfAttention.v.weight_orig', 'encoder.block.3.layer.1.DenseReluDense.wi.weight_mask', 'encoder.block.3.layer.1.DenseReluDense.wi.weight_orig', 'encoder.block.3.layer.1.DenseReluDense.wo.weight_mask', 'encoder.block.3.layer.1.DenseReluDense.wo.weight_orig', 'encoder.block.4.layer.0.SelfAttention.k.weight_mask', 'encoder.block.4.layer.0.SelfAttention.k.weight_orig', 'encoder.block.4.layer.0.SelfAttention.o.weight_mask', 'encoder.block.4.layer.0.SelfAttention.o.weight_orig', 'encoder.block.4.layer.0.SelfAttention.q.weight_mask', 'encoder.block.4.layer.0.SelfAttention.q.weight_orig', 'encoder.block.4.layer.0.SelfAttention.v.weight_mask', 'encoder.block.4.layer.0.SelfAttention.v.weight_orig', 'encoder.block.4.layer.1.DenseReluDense.wi.weight_mask', 'encoder.block.4.layer.1.DenseReluDense.wi.weight_orig', 'encoder.block.4.layer.1.DenseReluDense.wo.weight_mask', 'encoder.block.4.layer.1.DenseReluDense.wo.weight_orig', 'encoder.block.5.layer.0.SelfAttention.k.weight_mask', 'encoder.block.5.layer.0.SelfAttention.k.weight_orig', 'encoder.block.5.layer.0.SelfAttention.o.weight_mask', 'encoder.block.5.layer.0.SelfAttention.o.weight_orig', 'encoder.block.5.layer.0.SelfAttention.q.weight_mask', 'encoder.block.5.layer.0.SelfAttention.q.weight_orig', 'encoder.block.5.layer.0.SelfAttention.v.weight_mask', 'encoder.block.5.layer.0.SelfAttention.v.weight_orig', 'encoder.block.5.layer.1.DenseReluDense.wi.weight_mask', 'encoder.block.5.layer.1.DenseReluDense.wi.weight_orig', 'encoder.block.5.layer.1.DenseReluDense.wo.weight_mask', 'encoder.block.5.layer.1.DenseReluDense.wo.weight_orig', 'lm_head.weight_mask']\n",
      "- This IS expected if you are initializing T5ForConditionalGeneration from the checkpoint of a model trained on another task or with another architecture (e.g. initializing a BertForSequenceClassification model from a BertForPreTraining model).\n",
      "- This IS NOT expected if you are initializing T5ForConditionalGeneration from the checkpoint of a model that you expect to be exactly identical (initializing a BertForSequenceClassification model from a BertForSequenceClassification model).\n",
      "Some weights of T5ForConditionalGeneration were not initialized from the model checkpoint at ./output/pruning_success_v2_max_128 and are newly initialized: ['decoder.block.0.layer.0.SelfAttention.k.weight', 'decoder.block.0.layer.0.SelfAttention.o.weight', 'decoder.block.0.layer.0.SelfAttention.q.weight', 'decoder.block.0.layer.0.SelfAttention.v.weight', 'decoder.block.0.layer.1.EncDecAttention.k.weight', 'decoder.block.0.layer.1.EncDecAttention.o.weight', 'decoder.block.0.layer.1.EncDecAttention.q.weight', 'decoder.block.0.layer.1.EncDecAttention.v.weight', 'decoder.block.0.layer.2.DenseReluDense.wi.weight', 'decoder.block.0.layer.2.DenseReluDense.wo.weight', 'decoder.block.1.layer.0.SelfAttention.k.weight', 'decoder.block.1.layer.0.SelfAttention.o.weight', 'decoder.block.1.layer.0.SelfAttention.q.weight', 'decoder.block.1.layer.0.SelfAttention.v.weight', 'decoder.block.1.layer.1.EncDecAttention.k.weight', 'decoder.block.1.layer.1.EncDecAttention.o.weight', 'decoder.block.1.layer.1.EncDecAttention.q.weight', 'decoder.block.1.layer.1.EncDecAttention.v.weight', 'decoder.block.1.layer.2.DenseReluDense.wi.weight', 'decoder.block.1.layer.2.DenseReluDense.wo.weight', 'decoder.block.2.layer.0.SelfAttention.k.weight', 'decoder.block.2.layer.0.SelfAttention.o.weight', 'decoder.block.2.layer.0.SelfAttention.q.weight', 'decoder.block.2.layer.0.SelfAttention.v.weight', 'decoder.block.2.layer.1.EncDecAttention.k.weight', 'decoder.block.2.layer.1.EncDecAttention.o.weight', 'decoder.block.2.layer.1.EncDecAttention.q.weight', 'decoder.block.2.layer.1.EncDecAttention.v.weight', 'decoder.block.2.layer.2.DenseReluDense.wi.weight', 'decoder.block.2.layer.2.DenseReluDense.wo.weight', 'decoder.block.3.layer.0.SelfAttention.k.weight', 'decoder.block.3.layer.0.SelfAttention.o.weight', 'decoder.block.3.layer.0.SelfAttention.q.weight', 'decoder.block.3.layer.0.SelfAttention.v.weight', 'decoder.block.3.layer.1.EncDecAttention.k.weight', 'decoder.block.3.layer.1.EncDecAttention.o.weight', 'decoder.block.3.layer.1.EncDecAttention.q.weight', 'decoder.block.3.layer.1.EncDecAttention.v.weight', 'decoder.block.3.layer.2.DenseReluDense.wi.weight', 'decoder.block.3.layer.2.DenseReluDense.wo.weight', 'decoder.block.4.layer.0.SelfAttention.k.weight', 'decoder.block.4.layer.0.SelfAttention.o.weight', 'decoder.block.4.layer.0.SelfAttention.q.weight', 'decoder.block.4.layer.0.SelfAttention.v.weight', 'decoder.block.4.layer.1.EncDecAttention.k.weight', 'decoder.block.4.layer.1.EncDecAttention.o.weight', 'decoder.block.4.layer.1.EncDecAttention.q.weight', 'decoder.block.4.layer.1.EncDecAttention.v.weight', 'decoder.block.4.layer.2.DenseReluDense.wi.weight', 'decoder.block.4.layer.2.DenseReluDense.wo.weight', 'decoder.block.5.layer.0.SelfAttention.k.weight', 'decoder.block.5.layer.0.SelfAttention.o.weight', 'decoder.block.5.layer.0.SelfAttention.q.weight', 'decoder.block.5.layer.0.SelfAttention.v.weight', 'decoder.block.5.layer.1.EncDecAttention.k.weight', 'decoder.block.5.layer.1.EncDecAttention.o.weight', 'decoder.block.5.layer.1.EncDecAttention.q.weight', 'decoder.block.5.layer.1.EncDecAttention.v.weight', 'decoder.block.5.layer.2.DenseReluDense.wi.weight', 'decoder.block.5.layer.2.DenseReluDense.wo.weight', 'encoder.block.0.layer.0.SelfAttention.k.weight', 'encoder.block.0.layer.0.SelfAttention.o.weight', 'encoder.block.0.layer.0.SelfAttention.q.weight', 'encoder.block.0.layer.0.SelfAttention.v.weight', 'encoder.block.0.layer.1.DenseReluDense.wi.weight', 'encoder.block.0.layer.1.DenseReluDense.wo.weight', 'encoder.block.1.layer.0.SelfAttention.k.weight', 'encoder.block.1.layer.0.SelfAttention.o.weight', 'encoder.block.1.layer.0.SelfAttention.q.weight', 'encoder.block.1.layer.0.SelfAttention.v.weight', 'encoder.block.1.layer.1.DenseReluDense.wi.weight', 'encoder.block.1.layer.1.DenseReluDense.wo.weight', 'encoder.block.2.layer.0.SelfAttention.k.weight', 'encoder.block.2.layer.0.SelfAttention.o.weight', 'encoder.block.2.layer.0.SelfAttention.q.weight', 'encoder.block.2.layer.0.SelfAttention.v.weight', 'encoder.block.2.layer.1.DenseReluDense.wi.weight', 'encoder.block.2.layer.1.DenseReluDense.wo.weight', 'encoder.block.3.layer.0.SelfAttention.k.weight', 'encoder.block.3.layer.0.SelfAttention.o.weight', 'encoder.block.3.layer.0.SelfAttention.q.weight', 'encoder.block.3.layer.0.SelfAttention.v.weight', 'encoder.block.3.layer.1.DenseReluDense.wi.weight', 'encoder.block.3.layer.1.DenseReluDense.wo.weight', 'encoder.block.4.layer.0.SelfAttention.k.weight', 'encoder.block.4.layer.0.SelfAttention.o.weight', 'encoder.block.4.layer.0.SelfAttention.q.weight', 'encoder.block.4.layer.0.SelfAttention.v.weight', 'encoder.block.4.layer.1.DenseReluDense.wi.weight', 'encoder.block.4.layer.1.DenseReluDense.wo.weight', 'encoder.block.5.layer.0.SelfAttention.k.weight', 'encoder.block.5.layer.0.SelfAttention.o.weight', 'encoder.block.5.layer.0.SelfAttention.q.weight', 'encoder.block.5.layer.0.SelfAttention.v.weight', 'encoder.block.5.layer.1.DenseReluDense.wi.weight', 'encoder.block.5.layer.1.DenseReluDense.wo.weight']\n",
      "You should probably TRAIN this model on a down-stream task to be able to use it for predictions and inference.\n"
     ]
    }
   ],
   "source": [
    "model = ta_lib.load_model(\"./output/pruning_success_v2_max_128\")"
   ]
  },
  {
   "cell_type": "code",
   "execution_count": 4,
   "metadata": {},
   "outputs": [
    {
     "data": {
      "text/plain": [
       "T5ForConditionalGeneration(\n",
       "  (shared): Embedding(32128, 512)\n",
       "  (encoder): T5Stack(\n",
       "    (embed_tokens): Embedding(32128, 512)\n",
       "    (block): ModuleList(\n",
       "      (0): T5Block(\n",
       "        (layer): ModuleList(\n",
       "          (0): T5LayerSelfAttention(\n",
       "            (SelfAttention): T5Attention(\n",
       "              (q): Linear(in_features=512, out_features=512, bias=False)\n",
       "              (k): Linear(in_features=512, out_features=512, bias=False)\n",
       "              (v): Linear(in_features=512, out_features=512, bias=False)\n",
       "              (o): Linear(in_features=512, out_features=512, bias=False)\n",
       "              (relative_attention_bias): Embedding(32, 8)\n",
       "            )\n",
       "            (layer_norm): T5LayerNorm()\n",
       "            (dropout): Dropout(p=0.1, inplace=False)\n",
       "          )\n",
       "          (1): T5LayerFF(\n",
       "            (DenseReluDense): T5DenseActDense(\n",
       "              (wi): Linear(in_features=512, out_features=2048, bias=False)\n",
       "              (wo): Linear(in_features=2048, out_features=512, bias=False)\n",
       "              (dropout): Dropout(p=0.1, inplace=False)\n",
       "              (act): ReLU()\n",
       "            )\n",
       "            (layer_norm): T5LayerNorm()\n",
       "            (dropout): Dropout(p=0.1, inplace=False)\n",
       "          )\n",
       "        )\n",
       "      )\n",
       "      (1-5): 5 x T5Block(\n",
       "        (layer): ModuleList(\n",
       "          (0): T5LayerSelfAttention(\n",
       "            (SelfAttention): T5Attention(\n",
       "              (q): Linear(in_features=512, out_features=512, bias=False)\n",
       "              (k): Linear(in_features=512, out_features=512, bias=False)\n",
       "              (v): Linear(in_features=512, out_features=512, bias=False)\n",
       "              (o): Linear(in_features=512, out_features=512, bias=False)\n",
       "            )\n",
       "            (layer_norm): T5LayerNorm()\n",
       "            (dropout): Dropout(p=0.1, inplace=False)\n",
       "          )\n",
       "          (1): T5LayerFF(\n",
       "            (DenseReluDense): T5DenseActDense(\n",
       "              (wi): Linear(in_features=512, out_features=2048, bias=False)\n",
       "              (wo): Linear(in_features=2048, out_features=512, bias=False)\n",
       "              (dropout): Dropout(p=0.1, inplace=False)\n",
       "              (act): ReLU()\n",
       "            )\n",
       "            (layer_norm): T5LayerNorm()\n",
       "            (dropout): Dropout(p=0.1, inplace=False)\n",
       "          )\n",
       "        )\n",
       "      )\n",
       "    )\n",
       "    (final_layer_norm): T5LayerNorm()\n",
       "    (dropout): Dropout(p=0.1, inplace=False)\n",
       "  )\n",
       "  (decoder): T5Stack(\n",
       "    (embed_tokens): Embedding(32128, 512)\n",
       "    (block): ModuleList(\n",
       "      (0): T5Block(\n",
       "        (layer): ModuleList(\n",
       "          (0): T5LayerSelfAttention(\n",
       "            (SelfAttention): T5Attention(\n",
       "              (q): Linear(in_features=512, out_features=512, bias=False)\n",
       "              (k): Linear(in_features=512, out_features=512, bias=False)\n",
       "              (v): Linear(in_features=512, out_features=512, bias=False)\n",
       "              (o): Linear(in_features=512, out_features=512, bias=False)\n",
       "              (relative_attention_bias): Embedding(32, 8)\n",
       "            )\n",
       "            (layer_norm): T5LayerNorm()\n",
       "            (dropout): Dropout(p=0.1, inplace=False)\n",
       "          )\n",
       "          (1): T5LayerCrossAttention(\n",
       "            (EncDecAttention): T5Attention(\n",
       "              (q): Linear(in_features=512, out_features=512, bias=False)\n",
       "              (k): Linear(in_features=512, out_features=512, bias=False)\n",
       "              (v): Linear(in_features=512, out_features=512, bias=False)\n",
       "              (o): Linear(in_features=512, out_features=512, bias=False)\n",
       "            )\n",
       "            (layer_norm): T5LayerNorm()\n",
       "            (dropout): Dropout(p=0.1, inplace=False)\n",
       "          )\n",
       "          (2): T5LayerFF(\n",
       "            (DenseReluDense): T5DenseActDense(\n",
       "              (wi): Linear(in_features=512, out_features=2048, bias=False)\n",
       "              (wo): Linear(in_features=2048, out_features=512, bias=False)\n",
       "              (dropout): Dropout(p=0.1, inplace=False)\n",
       "              (act): ReLU()\n",
       "            )\n",
       "            (layer_norm): T5LayerNorm()\n",
       "            (dropout): Dropout(p=0.1, inplace=False)\n",
       "          )\n",
       "        )\n",
       "      )\n",
       "      (1-5): 5 x T5Block(\n",
       "        (layer): ModuleList(\n",
       "          (0): T5LayerSelfAttention(\n",
       "            (SelfAttention): T5Attention(\n",
       "              (q): Linear(in_features=512, out_features=512, bias=False)\n",
       "              (k): Linear(in_features=512, out_features=512, bias=False)\n",
       "              (v): Linear(in_features=512, out_features=512, bias=False)\n",
       "              (o): Linear(in_features=512, out_features=512, bias=False)\n",
       "            )\n",
       "            (layer_norm): T5LayerNorm()\n",
       "            (dropout): Dropout(p=0.1, inplace=False)\n",
       "          )\n",
       "          (1): T5LayerCrossAttention(\n",
       "            (EncDecAttention): T5Attention(\n",
       "              (q): Linear(in_features=512, out_features=512, bias=False)\n",
       "              (k): Linear(in_features=512, out_features=512, bias=False)\n",
       "              (v): Linear(in_features=512, out_features=512, bias=False)\n",
       "              (o): Linear(in_features=512, out_features=512, bias=False)\n",
       "            )\n",
       "            (layer_norm): T5LayerNorm()\n",
       "            (dropout): Dropout(p=0.1, inplace=False)\n",
       "          )\n",
       "          (2): T5LayerFF(\n",
       "            (DenseReluDense): T5DenseActDense(\n",
       "              (wi): Linear(in_features=512, out_features=2048, bias=False)\n",
       "              (wo): Linear(in_features=2048, out_features=512, bias=False)\n",
       "              (dropout): Dropout(p=0.1, inplace=False)\n",
       "              (act): ReLU()\n",
       "            )\n",
       "            (layer_norm): T5LayerNorm()\n",
       "            (dropout): Dropout(p=0.1, inplace=False)\n",
       "          )\n",
       "        )\n",
       "      )\n",
       "    )\n",
       "    (final_layer_norm): T5LayerNorm()\n",
       "    (dropout): Dropout(p=0.1, inplace=False)\n",
       "  )\n",
       "  (lm_head): Linear(in_features=512, out_features=32128, bias=False)\n",
       ")"
      ]
     },
     "execution_count": 4,
     "metadata": {},
     "output_type": "execute_result"
    }
   ],
   "source": [
    "model"
   ]
  },
  {
   "cell_type": "markdown",
   "metadata": {},
   "source": [
    "## Display model compress ratio"
   ]
  },
  {
   "cell_type": "code",
   "execution_count": 5,
   "metadata": {},
   "outputs": [
    {
     "data": {
      "text/plain": [
       "0.26261115074157715"
      ]
     },
     "execution_count": 5,
     "metadata": {},
     "output_type": "execute_result"
    }
   ],
   "source": [
    "TALib.show_param_ratio(model)"
   ]
  },
  {
   "cell_type": "markdown",
   "metadata": {},
   "source": [
    "## Get Trainer"
   ]
  },
  {
   "cell_type": "code",
   "execution_count": null,
   "metadata": {},
   "outputs": [],
   "source": [
    "trainer = ta_lib.get_trainer(\n",
    "    model=model , \n",
    "    num_train_epochs=10 , \n",
    "    batch_size=5 , \n",
    "    output_dir=\"output/pruning_success_v2_finetune\" , \n",
    "    generation_max_length=128\n",
    ")"
   ]
  },
  {
   "cell_type": "markdown",
   "metadata": {},
   "source": [
    "## Evaluate"
   ]
  },
  {
   "cell_type": "code",
   "execution_count": null,
   "metadata": {},
   "outputs": [],
   "source": [
    "trainer.evaluate(ta_lib.tokenized_billsum_test , max_length=128)"
   ]
  },
  {
   "cell_type": "markdown",
   "metadata": {},
   "source": [
    "## Predict"
   ]
  },
  {
   "cell_type": "code",
   "execution_count": null,
   "metadata": {},
   "outputs": [],
   "source": [
    "results = trainer.predict(ta_lib.tokenized_billsum_test , max_length=128 , num_beams=5)"
   ]
  },
  {
   "cell_type": "code",
   "execution_count": null,
   "metadata": {},
   "outputs": [],
   "source": [
    "import numpy as np \n",
    "results = np.where(results[0] != -100, results[0], ta_lib.tokenizer.pad_token_id)"
   ]
  },
  {
   "cell_type": "code",
   "execution_count": null,
   "metadata": {},
   "outputs": [],
   "source": [
    "decoded_prediction = ta_lib.tokenizer.batch_decode(results, skip_special_tokens=True)"
   ]
  },
  {
   "cell_type": "markdown",
   "metadata": {},
   "source": [
    "## To Ta Kaggle Summit format"
   ]
  },
  {
   "cell_type": "code",
   "execution_count": null,
   "metadata": {},
   "outputs": [],
   "source": [
    "TALib.dump_to_kaggle_format(decoded_prediction , 'pruned_model_0.26_max_128_beam_5.csv')"
   ]
  },
  {
   "cell_type": "markdown",
   "metadata": {},
   "source": [
    "## Run TA Score"
   ]
  },
  {
   "cell_type": "code",
   "execution_count": null,
   "metadata": {},
   "outputs": [],
   "source": [
    "TALib.run_score(decoded_prediction,ta_lib.tokenized_billsum_test)"
   ]
  }
 ],
 "metadata": {
  "kernelspec": {
   "display_name": ".venv",
   "language": "python",
   "name": "python3"
  },
  "language_info": {
   "codemirror_mode": {
    "name": "ipython",
    "version": 3
   },
   "file_extension": ".py",
   "mimetype": "text/x-python",
   "name": "python",
   "nbconvert_exporter": "python",
   "pygments_lexer": "ipython3",
   "version": "3.11.5"
  }
 },
 "nbformat": 4,
 "nbformat_minor": 2
}
