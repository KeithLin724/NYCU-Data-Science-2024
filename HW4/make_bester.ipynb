{
 "cells": [
  {
   "cell_type": "code",
   "execution_count": 1,
   "metadata": {},
   "outputs": [],
   "source": [
    "from TALib import TALib"
   ]
  },
  {
   "cell_type": "code",
   "execution_count": 2,
   "metadata": {},
   "outputs": [
    {
     "data": {
      "application/vnd.jupyter.widget-view+json": {
       "model_id": "54a75913bbdb4d27bf6481c28fc964b0",
       "version_major": 2,
       "version_minor": 0
      },
      "text/plain": [
       "Map:   0%|          | 0/15159 [00:00<?, ? examples/s]"
      ]
     },
     "metadata": {},
     "output_type": "display_data"
    },
    {
     "data": {
      "application/vnd.jupyter.widget-view+json": {
       "model_id": "72daa971def840f69eb9b3b61c6a7fe4",
       "version_major": 2,
       "version_minor": 0
      },
      "text/plain": [
       "Map:   0%|          | 0/3790 [00:00<?, ? examples/s]"
      ]
     },
     "metadata": {},
     "output_type": "display_data"
    }
   ],
   "source": [
    "ta_lib = TALib()"
   ]
  },
  {
   "cell_type": "code",
   "execution_count": 3,
   "metadata": {},
   "outputs": [
    {
     "name": "stderr",
     "output_type": "stream",
     "text": [
      "Some weights of the model checkpoint at output/pruning_success_v2 were not used when initializing T5ForConditionalGeneration: ['decoder.block.0.layer.0.SelfAttention.k.weight_mask', 'decoder.block.0.layer.0.SelfAttention.k.weight_orig', 'decoder.block.0.layer.0.SelfAttention.o.weight_mask', 'decoder.block.0.layer.0.SelfAttention.o.weight_orig', 'decoder.block.0.layer.0.SelfAttention.q.weight_mask', 'decoder.block.0.layer.0.SelfAttention.q.weight_orig', 'decoder.block.0.layer.0.SelfAttention.v.weight_mask', 'decoder.block.0.layer.0.SelfAttention.v.weight_orig', 'decoder.block.0.layer.1.EncDecAttention.k.weight_mask', 'decoder.block.0.layer.1.EncDecAttention.k.weight_orig', 'decoder.block.0.layer.1.EncDecAttention.o.weight_mask', 'decoder.block.0.layer.1.EncDecAttention.o.weight_orig', 'decoder.block.0.layer.1.EncDecAttention.q.weight_mask', 'decoder.block.0.layer.1.EncDecAttention.q.weight_orig', 'decoder.block.0.layer.1.EncDecAttention.v.weight_mask', 'decoder.block.0.layer.1.EncDecAttention.v.weight_orig', 'decoder.block.0.layer.2.DenseReluDense.wi.weight_mask', 'decoder.block.0.layer.2.DenseReluDense.wi.weight_orig', 'decoder.block.0.layer.2.DenseReluDense.wo.weight_mask', 'decoder.block.0.layer.2.DenseReluDense.wo.weight_orig', 'decoder.block.1.layer.0.SelfAttention.k.weight_mask', 'decoder.block.1.layer.0.SelfAttention.k.weight_orig', 'decoder.block.1.layer.0.SelfAttention.o.weight_mask', 'decoder.block.1.layer.0.SelfAttention.o.weight_orig', 'decoder.block.1.layer.0.SelfAttention.q.weight_mask', 'decoder.block.1.layer.0.SelfAttention.q.weight_orig', 'decoder.block.1.layer.0.SelfAttention.v.weight_mask', 'decoder.block.1.layer.0.SelfAttention.v.weight_orig', 'decoder.block.1.layer.1.EncDecAttention.k.weight_mask', 'decoder.block.1.layer.1.EncDecAttention.k.weight_orig', 'decoder.block.1.layer.1.EncDecAttention.o.weight_mask', 'decoder.block.1.layer.1.EncDecAttention.o.weight_orig', 'decoder.block.1.layer.1.EncDecAttention.q.weight_mask', 'decoder.block.1.layer.1.EncDecAttention.q.weight_orig', 'decoder.block.1.layer.1.EncDecAttention.v.weight_mask', 'decoder.block.1.layer.1.EncDecAttention.v.weight_orig', 'decoder.block.1.layer.2.DenseReluDense.wi.weight_mask', 'decoder.block.1.layer.2.DenseReluDense.wi.weight_orig', 'decoder.block.1.layer.2.DenseReluDense.wo.weight_mask', 'decoder.block.1.layer.2.DenseReluDense.wo.weight_orig', 'decoder.block.2.layer.0.SelfAttention.k.weight_mask', 'decoder.block.2.layer.0.SelfAttention.k.weight_orig', 'decoder.block.2.layer.0.SelfAttention.o.weight_mask', 'decoder.block.2.layer.0.SelfAttention.o.weight_orig', 'decoder.block.2.layer.0.SelfAttention.q.weight_mask', 'decoder.block.2.layer.0.SelfAttention.q.weight_orig', 'decoder.block.2.layer.0.SelfAttention.v.weight_mask', 'decoder.block.2.layer.0.SelfAttention.v.weight_orig', 'decoder.block.2.layer.1.EncDecAttention.k.weight_mask', 'decoder.block.2.layer.1.EncDecAttention.k.weight_orig', 'decoder.block.2.layer.1.EncDecAttention.o.weight_mask', 'decoder.block.2.layer.1.EncDecAttention.o.weight_orig', 'decoder.block.2.layer.1.EncDecAttention.q.weight_mask', 'decoder.block.2.layer.1.EncDecAttention.q.weight_orig', 'decoder.block.2.layer.1.EncDecAttention.v.weight_mask', 'decoder.block.2.layer.1.EncDecAttention.v.weight_orig', 'decoder.block.2.layer.2.DenseReluDense.wi.weight_mask', 'decoder.block.2.layer.2.DenseReluDense.wi.weight_orig', 'decoder.block.2.layer.2.DenseReluDense.wo.weight_mask', 'decoder.block.2.layer.2.DenseReluDense.wo.weight_orig', 'decoder.block.3.layer.0.SelfAttention.k.weight_mask', 'decoder.block.3.layer.0.SelfAttention.k.weight_orig', 'decoder.block.3.layer.0.SelfAttention.o.weight_mask', 'decoder.block.3.layer.0.SelfAttention.o.weight_orig', 'decoder.block.3.layer.0.SelfAttention.q.weight_mask', 'decoder.block.3.layer.0.SelfAttention.q.weight_orig', 'decoder.block.3.layer.0.SelfAttention.v.weight_mask', 'decoder.block.3.layer.0.SelfAttention.v.weight_orig', 'decoder.block.3.layer.1.EncDecAttention.k.weight_mask', 'decoder.block.3.layer.1.EncDecAttention.k.weight_orig', 'decoder.block.3.layer.1.EncDecAttention.o.weight_mask', 'decoder.block.3.layer.1.EncDecAttention.o.weight_orig', 'decoder.block.3.layer.1.EncDecAttention.q.weight_mask', 'decoder.block.3.layer.1.EncDecAttention.q.weight_orig', 'decoder.block.3.layer.1.EncDecAttention.v.weight_mask', 'decoder.block.3.layer.1.EncDecAttention.v.weight_orig', 'decoder.block.3.layer.2.DenseReluDense.wi.weight_mask', 'decoder.block.3.layer.2.DenseReluDense.wi.weight_orig', 'decoder.block.3.layer.2.DenseReluDense.wo.weight_mask', 'decoder.block.3.layer.2.DenseReluDense.wo.weight_orig', 'decoder.block.4.layer.0.SelfAttention.k.weight_mask', 'decoder.block.4.layer.0.SelfAttention.k.weight_orig', 'decoder.block.4.layer.0.SelfAttention.o.weight_mask', 'decoder.block.4.layer.0.SelfAttention.o.weight_orig', 'decoder.block.4.layer.0.SelfAttention.q.weight_mask', 'decoder.block.4.layer.0.SelfAttention.q.weight_orig', 'decoder.block.4.layer.0.SelfAttention.v.weight_mask', 'decoder.block.4.layer.0.SelfAttention.v.weight_orig', 'decoder.block.4.layer.1.EncDecAttention.k.weight_mask', 'decoder.block.4.layer.1.EncDecAttention.k.weight_orig', 'decoder.block.4.layer.1.EncDecAttention.o.weight_mask', 'decoder.block.4.layer.1.EncDecAttention.o.weight_orig', 'decoder.block.4.layer.1.EncDecAttention.q.weight_mask', 'decoder.block.4.layer.1.EncDecAttention.q.weight_orig', 'decoder.block.4.layer.1.EncDecAttention.v.weight_mask', 'decoder.block.4.layer.1.EncDecAttention.v.weight_orig', 'decoder.block.4.layer.2.DenseReluDense.wi.weight_mask', 'decoder.block.4.layer.2.DenseReluDense.wi.weight_orig', 'decoder.block.4.layer.2.DenseReluDense.wo.weight_mask', 'decoder.block.4.layer.2.DenseReluDense.wo.weight_orig', 'decoder.block.5.layer.0.SelfAttention.k.weight_mask', 'decoder.block.5.layer.0.SelfAttention.k.weight_orig', 'decoder.block.5.layer.0.SelfAttention.o.weight_mask', 'decoder.block.5.layer.0.SelfAttention.o.weight_orig', 'decoder.block.5.layer.0.SelfAttention.q.weight_mask', 'decoder.block.5.layer.0.SelfAttention.q.weight_orig', 'decoder.block.5.layer.0.SelfAttention.v.weight_mask', 'decoder.block.5.layer.0.SelfAttention.v.weight_orig', 'decoder.block.5.layer.1.EncDecAttention.k.weight_mask', 'decoder.block.5.layer.1.EncDecAttention.k.weight_orig', 'decoder.block.5.layer.1.EncDecAttention.o.weight_mask', 'decoder.block.5.layer.1.EncDecAttention.o.weight_orig', 'decoder.block.5.layer.1.EncDecAttention.q.weight_mask', 'decoder.block.5.layer.1.EncDecAttention.q.weight_orig', 'decoder.block.5.layer.1.EncDecAttention.v.weight_mask', 'decoder.block.5.layer.1.EncDecAttention.v.weight_orig', 'decoder.block.5.layer.2.DenseReluDense.wi.weight_mask', 'decoder.block.5.layer.2.DenseReluDense.wi.weight_orig', 'decoder.block.5.layer.2.DenseReluDense.wo.weight_mask', 'decoder.block.5.layer.2.DenseReluDense.wo.weight_orig', 'encoder.block.0.layer.0.SelfAttention.k.weight_mask', 'encoder.block.0.layer.0.SelfAttention.k.weight_orig', 'encoder.block.0.layer.0.SelfAttention.o.weight_mask', 'encoder.block.0.layer.0.SelfAttention.o.weight_orig', 'encoder.block.0.layer.0.SelfAttention.q.weight_mask', 'encoder.block.0.layer.0.SelfAttention.q.weight_orig', 'encoder.block.0.layer.0.SelfAttention.v.weight_mask', 'encoder.block.0.layer.0.SelfAttention.v.weight_orig', 'encoder.block.0.layer.1.DenseReluDense.wi.weight_mask', 'encoder.block.0.layer.1.DenseReluDense.wi.weight_orig', 'encoder.block.0.layer.1.DenseReluDense.wo.weight_mask', 'encoder.block.0.layer.1.DenseReluDense.wo.weight_orig', 'encoder.block.1.layer.0.SelfAttention.k.weight_mask', 'encoder.block.1.layer.0.SelfAttention.k.weight_orig', 'encoder.block.1.layer.0.SelfAttention.o.weight_mask', 'encoder.block.1.layer.0.SelfAttention.o.weight_orig', 'encoder.block.1.layer.0.SelfAttention.q.weight_mask', 'encoder.block.1.layer.0.SelfAttention.q.weight_orig', 'encoder.block.1.layer.0.SelfAttention.v.weight_mask', 'encoder.block.1.layer.0.SelfAttention.v.weight_orig', 'encoder.block.1.layer.1.DenseReluDense.wi.weight_mask', 'encoder.block.1.layer.1.DenseReluDense.wi.weight_orig', 'encoder.block.1.layer.1.DenseReluDense.wo.weight_mask', 'encoder.block.1.layer.1.DenseReluDense.wo.weight_orig', 'encoder.block.2.layer.0.SelfAttention.k.weight_mask', 'encoder.block.2.layer.0.SelfAttention.k.weight_orig', 'encoder.block.2.layer.0.SelfAttention.o.weight_mask', 'encoder.block.2.layer.0.SelfAttention.o.weight_orig', 'encoder.block.2.layer.0.SelfAttention.q.weight_mask', 'encoder.block.2.layer.0.SelfAttention.q.weight_orig', 'encoder.block.2.layer.0.SelfAttention.v.weight_mask', 'encoder.block.2.layer.0.SelfAttention.v.weight_orig', 'encoder.block.2.layer.1.DenseReluDense.wi.weight_mask', 'encoder.block.2.layer.1.DenseReluDense.wi.weight_orig', 'encoder.block.2.layer.1.DenseReluDense.wo.weight_mask', 'encoder.block.2.layer.1.DenseReluDense.wo.weight_orig', 'encoder.block.3.layer.0.SelfAttention.k.weight_mask', 'encoder.block.3.layer.0.SelfAttention.k.weight_orig', 'encoder.block.3.layer.0.SelfAttention.o.weight_mask', 'encoder.block.3.layer.0.SelfAttention.o.weight_orig', 'encoder.block.3.layer.0.SelfAttention.q.weight_mask', 'encoder.block.3.layer.0.SelfAttention.q.weight_orig', 'encoder.block.3.layer.0.SelfAttention.v.weight_mask', 'encoder.block.3.layer.0.SelfAttention.v.weight_orig', 'encoder.block.3.layer.1.DenseReluDense.wi.weight_mask', 'encoder.block.3.layer.1.DenseReluDense.wi.weight_orig', 'encoder.block.3.layer.1.DenseReluDense.wo.weight_mask', 'encoder.block.3.layer.1.DenseReluDense.wo.weight_orig', 'encoder.block.4.layer.0.SelfAttention.k.weight_mask', 'encoder.block.4.layer.0.SelfAttention.k.weight_orig', 'encoder.block.4.layer.0.SelfAttention.o.weight_mask', 'encoder.block.4.layer.0.SelfAttention.o.weight_orig', 'encoder.block.4.layer.0.SelfAttention.q.weight_mask', 'encoder.block.4.layer.0.SelfAttention.q.weight_orig', 'encoder.block.4.layer.0.SelfAttention.v.weight_mask', 'encoder.block.4.layer.0.SelfAttention.v.weight_orig', 'encoder.block.4.layer.1.DenseReluDense.wi.weight_mask', 'encoder.block.4.layer.1.DenseReluDense.wi.weight_orig', 'encoder.block.4.layer.1.DenseReluDense.wo.weight_mask', 'encoder.block.4.layer.1.DenseReluDense.wo.weight_orig', 'encoder.block.5.layer.0.SelfAttention.k.weight_mask', 'encoder.block.5.layer.0.SelfAttention.k.weight_orig', 'encoder.block.5.layer.0.SelfAttention.o.weight_mask', 'encoder.block.5.layer.0.SelfAttention.o.weight_orig', 'encoder.block.5.layer.0.SelfAttention.q.weight_mask', 'encoder.block.5.layer.0.SelfAttention.q.weight_orig', 'encoder.block.5.layer.0.SelfAttention.v.weight_mask', 'encoder.block.5.layer.0.SelfAttention.v.weight_orig', 'encoder.block.5.layer.1.DenseReluDense.wi.weight_mask', 'encoder.block.5.layer.1.DenseReluDense.wi.weight_orig', 'encoder.block.5.layer.1.DenseReluDense.wo.weight_mask', 'encoder.block.5.layer.1.DenseReluDense.wo.weight_orig', 'lm_head.weight_mask']\n",
      "- This IS expected if you are initializing T5ForConditionalGeneration from the checkpoint of a model trained on another task or with another architecture (e.g. initializing a BertForSequenceClassification model from a BertForPreTraining model).\n",
      "- This IS NOT expected if you are initializing T5ForConditionalGeneration from the checkpoint of a model that you expect to be exactly identical (initializing a BertForSequenceClassification model from a BertForSequenceClassification model).\n",
      "Some weights of T5ForConditionalGeneration were not initialized from the model checkpoint at output/pruning_success_v2 and are newly initialized: ['decoder.block.0.layer.0.SelfAttention.k.weight', 'decoder.block.0.layer.0.SelfAttention.o.weight', 'decoder.block.0.layer.0.SelfAttention.q.weight', 'decoder.block.0.layer.0.SelfAttention.v.weight', 'decoder.block.0.layer.1.EncDecAttention.k.weight', 'decoder.block.0.layer.1.EncDecAttention.o.weight', 'decoder.block.0.layer.1.EncDecAttention.q.weight', 'decoder.block.0.layer.1.EncDecAttention.v.weight', 'decoder.block.0.layer.2.DenseReluDense.wi.weight', 'decoder.block.0.layer.2.DenseReluDense.wo.weight', 'decoder.block.1.layer.0.SelfAttention.k.weight', 'decoder.block.1.layer.0.SelfAttention.o.weight', 'decoder.block.1.layer.0.SelfAttention.q.weight', 'decoder.block.1.layer.0.SelfAttention.v.weight', 'decoder.block.1.layer.1.EncDecAttention.k.weight', 'decoder.block.1.layer.1.EncDecAttention.o.weight', 'decoder.block.1.layer.1.EncDecAttention.q.weight', 'decoder.block.1.layer.1.EncDecAttention.v.weight', 'decoder.block.1.layer.2.DenseReluDense.wi.weight', 'decoder.block.1.layer.2.DenseReluDense.wo.weight', 'decoder.block.2.layer.0.SelfAttention.k.weight', 'decoder.block.2.layer.0.SelfAttention.o.weight', 'decoder.block.2.layer.0.SelfAttention.q.weight', 'decoder.block.2.layer.0.SelfAttention.v.weight', 'decoder.block.2.layer.1.EncDecAttention.k.weight', 'decoder.block.2.layer.1.EncDecAttention.o.weight', 'decoder.block.2.layer.1.EncDecAttention.q.weight', 'decoder.block.2.layer.1.EncDecAttention.v.weight', 'decoder.block.2.layer.2.DenseReluDense.wi.weight', 'decoder.block.2.layer.2.DenseReluDense.wo.weight', 'decoder.block.3.layer.0.SelfAttention.k.weight', 'decoder.block.3.layer.0.SelfAttention.o.weight', 'decoder.block.3.layer.0.SelfAttention.q.weight', 'decoder.block.3.layer.0.SelfAttention.v.weight', 'decoder.block.3.layer.1.EncDecAttention.k.weight', 'decoder.block.3.layer.1.EncDecAttention.o.weight', 'decoder.block.3.layer.1.EncDecAttention.q.weight', 'decoder.block.3.layer.1.EncDecAttention.v.weight', 'decoder.block.3.layer.2.DenseReluDense.wi.weight', 'decoder.block.3.layer.2.DenseReluDense.wo.weight', 'decoder.block.4.layer.0.SelfAttention.k.weight', 'decoder.block.4.layer.0.SelfAttention.o.weight', 'decoder.block.4.layer.0.SelfAttention.q.weight', 'decoder.block.4.layer.0.SelfAttention.v.weight', 'decoder.block.4.layer.1.EncDecAttention.k.weight', 'decoder.block.4.layer.1.EncDecAttention.o.weight', 'decoder.block.4.layer.1.EncDecAttention.q.weight', 'decoder.block.4.layer.1.EncDecAttention.v.weight', 'decoder.block.4.layer.2.DenseReluDense.wi.weight', 'decoder.block.4.layer.2.DenseReluDense.wo.weight', 'decoder.block.5.layer.0.SelfAttention.k.weight', 'decoder.block.5.layer.0.SelfAttention.o.weight', 'decoder.block.5.layer.0.SelfAttention.q.weight', 'decoder.block.5.layer.0.SelfAttention.v.weight', 'decoder.block.5.layer.1.EncDecAttention.k.weight', 'decoder.block.5.layer.1.EncDecAttention.o.weight', 'decoder.block.5.layer.1.EncDecAttention.q.weight', 'decoder.block.5.layer.1.EncDecAttention.v.weight', 'decoder.block.5.layer.2.DenseReluDense.wi.weight', 'decoder.block.5.layer.2.DenseReluDense.wo.weight', 'encoder.block.0.layer.0.SelfAttention.k.weight', 'encoder.block.0.layer.0.SelfAttention.o.weight', 'encoder.block.0.layer.0.SelfAttention.q.weight', 'encoder.block.0.layer.0.SelfAttention.v.weight', 'encoder.block.0.layer.1.DenseReluDense.wi.weight', 'encoder.block.0.layer.1.DenseReluDense.wo.weight', 'encoder.block.1.layer.0.SelfAttention.k.weight', 'encoder.block.1.layer.0.SelfAttention.o.weight', 'encoder.block.1.layer.0.SelfAttention.q.weight', 'encoder.block.1.layer.0.SelfAttention.v.weight', 'encoder.block.1.layer.1.DenseReluDense.wi.weight', 'encoder.block.1.layer.1.DenseReluDense.wo.weight', 'encoder.block.2.layer.0.SelfAttention.k.weight', 'encoder.block.2.layer.0.SelfAttention.o.weight', 'encoder.block.2.layer.0.SelfAttention.q.weight', 'encoder.block.2.layer.0.SelfAttention.v.weight', 'encoder.block.2.layer.1.DenseReluDense.wi.weight', 'encoder.block.2.layer.1.DenseReluDense.wo.weight', 'encoder.block.3.layer.0.SelfAttention.k.weight', 'encoder.block.3.layer.0.SelfAttention.o.weight', 'encoder.block.3.layer.0.SelfAttention.q.weight', 'encoder.block.3.layer.0.SelfAttention.v.weight', 'encoder.block.3.layer.1.DenseReluDense.wi.weight', 'encoder.block.3.layer.1.DenseReluDense.wo.weight', 'encoder.block.4.layer.0.SelfAttention.k.weight', 'encoder.block.4.layer.0.SelfAttention.o.weight', 'encoder.block.4.layer.0.SelfAttention.q.weight', 'encoder.block.4.layer.0.SelfAttention.v.weight', 'encoder.block.4.layer.1.DenseReluDense.wi.weight', 'encoder.block.4.layer.1.DenseReluDense.wo.weight', 'encoder.block.5.layer.0.SelfAttention.k.weight', 'encoder.block.5.layer.0.SelfAttention.o.weight', 'encoder.block.5.layer.0.SelfAttention.q.weight', 'encoder.block.5.layer.0.SelfAttention.v.weight', 'encoder.block.5.layer.1.DenseReluDense.wi.weight', 'encoder.block.5.layer.1.DenseReluDense.wo.weight']\n",
      "You should probably TRAIN this model on a down-stream task to be able to use it for predictions and inference.\n"
     ]
    }
   ],
   "source": [
    "model = ta_lib.load_model(\"output/pruning_success_v2\")"
   ]
  },
  {
   "cell_type": "code",
   "execution_count": 4,
   "metadata": {},
   "outputs": [
    {
     "data": {
      "text/plain": [
       "T5ForConditionalGeneration(\n",
       "  (shared): Embedding(32128, 512)\n",
       "  (encoder): T5Stack(\n",
       "    (embed_tokens): Embedding(32128, 512)\n",
       "    (block): ModuleList(\n",
       "      (0): T5Block(\n",
       "        (layer): ModuleList(\n",
       "          (0): T5LayerSelfAttention(\n",
       "            (SelfAttention): T5Attention(\n",
       "              (q): Linear(in_features=512, out_features=512, bias=False)\n",
       "              (k): Linear(in_features=512, out_features=512, bias=False)\n",
       "              (v): Linear(in_features=512, out_features=512, bias=False)\n",
       "              (o): Linear(in_features=512, out_features=512, bias=False)\n",
       "              (relative_attention_bias): Embedding(32, 8)\n",
       "            )\n",
       "            (layer_norm): T5LayerNorm()\n",
       "            (dropout): Dropout(p=0.1, inplace=False)\n",
       "          )\n",
       "          (1): T5LayerFF(\n",
       "            (DenseReluDense): T5DenseActDense(\n",
       "              (wi): Linear(in_features=512, out_features=2048, bias=False)\n",
       "              (wo): Linear(in_features=2048, out_features=512, bias=False)\n",
       "              (dropout): Dropout(p=0.1, inplace=False)\n",
       "              (act): ReLU()\n",
       "            )\n",
       "            (layer_norm): T5LayerNorm()\n",
       "            (dropout): Dropout(p=0.1, inplace=False)\n",
       "          )\n",
       "        )\n",
       "      )\n",
       "      (1-5): 5 x T5Block(\n",
       "        (layer): ModuleList(\n",
       "          (0): T5LayerSelfAttention(\n",
       "            (SelfAttention): T5Attention(\n",
       "              (q): Linear(in_features=512, out_features=512, bias=False)\n",
       "              (k): Linear(in_features=512, out_features=512, bias=False)\n",
       "              (v): Linear(in_features=512, out_features=512, bias=False)\n",
       "              (o): Linear(in_features=512, out_features=512, bias=False)\n",
       "            )\n",
       "            (layer_norm): T5LayerNorm()\n",
       "            (dropout): Dropout(p=0.1, inplace=False)\n",
       "          )\n",
       "          (1): T5LayerFF(\n",
       "            (DenseReluDense): T5DenseActDense(\n",
       "              (wi): Linear(in_features=512, out_features=2048, bias=False)\n",
       "              (wo): Linear(in_features=2048, out_features=512, bias=False)\n",
       "              (dropout): Dropout(p=0.1, inplace=False)\n",
       "              (act): ReLU()\n",
       "            )\n",
       "            (layer_norm): T5LayerNorm()\n",
       "            (dropout): Dropout(p=0.1, inplace=False)\n",
       "          )\n",
       "        )\n",
       "      )\n",
       "    )\n",
       "    (final_layer_norm): T5LayerNorm()\n",
       "    (dropout): Dropout(p=0.1, inplace=False)\n",
       "  )\n",
       "  (decoder): T5Stack(\n",
       "    (embed_tokens): Embedding(32128, 512)\n",
       "    (block): ModuleList(\n",
       "      (0): T5Block(\n",
       "        (layer): ModuleList(\n",
       "          (0): T5LayerSelfAttention(\n",
       "            (SelfAttention): T5Attention(\n",
       "              (q): Linear(in_features=512, out_features=512, bias=False)\n",
       "              (k): Linear(in_features=512, out_features=512, bias=False)\n",
       "              (v): Linear(in_features=512, out_features=512, bias=False)\n",
       "              (o): Linear(in_features=512, out_features=512, bias=False)\n",
       "              (relative_attention_bias): Embedding(32, 8)\n",
       "            )\n",
       "            (layer_norm): T5LayerNorm()\n",
       "            (dropout): Dropout(p=0.1, inplace=False)\n",
       "          )\n",
       "          (1): T5LayerCrossAttention(\n",
       "            (EncDecAttention): T5Attention(\n",
       "              (q): Linear(in_features=512, out_features=512, bias=False)\n",
       "              (k): Linear(in_features=512, out_features=512, bias=False)\n",
       "              (v): Linear(in_features=512, out_features=512, bias=False)\n",
       "              (o): Linear(in_features=512, out_features=512, bias=False)\n",
       "            )\n",
       "            (layer_norm): T5LayerNorm()\n",
       "            (dropout): Dropout(p=0.1, inplace=False)\n",
       "          )\n",
       "          (2): T5LayerFF(\n",
       "            (DenseReluDense): T5DenseActDense(\n",
       "              (wi): Linear(in_features=512, out_features=2048, bias=False)\n",
       "              (wo): Linear(in_features=2048, out_features=512, bias=False)\n",
       "              (dropout): Dropout(p=0.1, inplace=False)\n",
       "              (act): ReLU()\n",
       "            )\n",
       "            (layer_norm): T5LayerNorm()\n",
       "            (dropout): Dropout(p=0.1, inplace=False)\n",
       "          )\n",
       "        )\n",
       "      )\n",
       "      (1-5): 5 x T5Block(\n",
       "        (layer): ModuleList(\n",
       "          (0): T5LayerSelfAttention(\n",
       "            (SelfAttention): T5Attention(\n",
       "              (q): Linear(in_features=512, out_features=512, bias=False)\n",
       "              (k): Linear(in_features=512, out_features=512, bias=False)\n",
       "              (v): Linear(in_features=512, out_features=512, bias=False)\n",
       "              (o): Linear(in_features=512, out_features=512, bias=False)\n",
       "            )\n",
       "            (layer_norm): T5LayerNorm()\n",
       "            (dropout): Dropout(p=0.1, inplace=False)\n",
       "          )\n",
       "          (1): T5LayerCrossAttention(\n",
       "            (EncDecAttention): T5Attention(\n",
       "              (q): Linear(in_features=512, out_features=512, bias=False)\n",
       "              (k): Linear(in_features=512, out_features=512, bias=False)\n",
       "              (v): Linear(in_features=512, out_features=512, bias=False)\n",
       "              (o): Linear(in_features=512, out_features=512, bias=False)\n",
       "            )\n",
       "            (layer_norm): T5LayerNorm()\n",
       "            (dropout): Dropout(p=0.1, inplace=False)\n",
       "          )\n",
       "          (2): T5LayerFF(\n",
       "            (DenseReluDense): T5DenseActDense(\n",
       "              (wi): Linear(in_features=512, out_features=2048, bias=False)\n",
       "              (wo): Linear(in_features=2048, out_features=512, bias=False)\n",
       "              (dropout): Dropout(p=0.1, inplace=False)\n",
       "              (act): ReLU()\n",
       "            )\n",
       "            (layer_norm): T5LayerNorm()\n",
       "            (dropout): Dropout(p=0.1, inplace=False)\n",
       "          )\n",
       "        )\n",
       "      )\n",
       "    )\n",
       "    (final_layer_norm): T5LayerNorm()\n",
       "    (dropout): Dropout(p=0.1, inplace=False)\n",
       "  )\n",
       "  (lm_head): Linear(in_features=512, out_features=32128, bias=False)\n",
       ")"
      ]
     },
     "execution_count": 4,
     "metadata": {},
     "output_type": "execute_result"
    }
   ],
   "source": [
    "model"
   ]
  },
  {
   "cell_type": "code",
   "execution_count": 5,
   "metadata": {},
   "outputs": [
    {
     "name": "stderr",
     "output_type": "stream",
     "text": [
      "/root/code/python/NYCU-Data-Science-2024/.venv/lib/python3.11/site-packages/accelerate/accelerator.py:432: FutureWarning: Passing the following arguments to `Accelerator` is deprecated and will be removed in version 1.0 of Accelerate: dict_keys(['dispatch_batches', 'split_batches', 'even_batches', 'use_seedable_sampler']). Please pass an `accelerate.DataLoaderConfiguration` instead: \n",
      "dataloader_config = DataLoaderConfiguration(dispatch_batches=None, split_batches=False, even_batches=True, use_seedable_sampler=True)\n",
      "  warnings.warn(\n"
     ]
    }
   ],
   "source": [
    "trainer = ta_lib.get_trainer(\n",
    "    model=model , \n",
    "    num_train_epochs=10 , \n",
    "    batch_size=5 , \n",
    "    output_dir=\"output/pruning_success_v2_finetune\" , \n",
    "    generation_max_length=64\n",
    ")"
   ]
  },
  {
   "cell_type": "code",
   "execution_count": 6,
   "metadata": {},
   "outputs": [
    {
     "data": {
      "text/html": [
       "\n",
       "    <div>\n",
       "      \n",
       "      <progress value='1412' max='654' style='width:300px; height:20px; vertical-align: middle;'></progress>\n",
       "      [654/654 47:40]\n",
       "    </div>\n",
       "    "
      ],
      "text/plain": [
       "<IPython.core.display.HTML object>"
      ]
     },
     "metadata": {},
     "output_type": "display_data"
    },
    {
     "data": {
      "text/plain": [
       "{'eval_loss': 4.767055034637451,\n",
       " 'eval_rouge1': 0.4572,\n",
       " 'eval_rouge2': 0.2858,\n",
       " 'eval_rougeL': 0.3822,\n",
       " 'eval_rougeLsum': 0.3821,\n",
       " 'eval_gen_len': 61.5745,\n",
       " 'eval_runtime': 1088.8156,\n",
       " 'eval_samples_per_second': 3.002,\n",
       " 'eval_steps_per_second': 0.601}"
      ]
     },
     "execution_count": 6,
     "metadata": {},
     "output_type": "execute_result"
    }
   ],
   "source": [
    "trainer.evaluate(ta_lib.tokenized_billsum_test , max_length=64)"
   ]
  },
  {
   "cell_type": "code",
   "execution_count": 7,
   "metadata": {},
   "outputs": [
    {
     "data": {
      "text/html": [
       "\n",
       "    <div>\n",
       "      \n",
       "      <progress value='30320' max='30320' style='width:300px; height:20px; vertical-align: middle;'></progress>\n",
       "      [30320/30320 5:05:22, Epoch 10/10]\n",
       "    </div>\n",
       "    <table border=\"1\" class=\"dataframe\">\n",
       "  <thead>\n",
       " <tr style=\"text-align: left;\">\n",
       "      <th>Epoch</th>\n",
       "      <th>Training Loss</th>\n",
       "      <th>Validation Loss</th>\n",
       "      <th>Rouge1</th>\n",
       "      <th>Rouge2</th>\n",
       "      <th>Rougel</th>\n",
       "      <th>Rougelsum</th>\n",
       "      <th>Gen Len</th>\n",
       "    </tr>\n",
       "  </thead>\n",
       "  <tbody>\n",
       "    <tr>\n",
       "      <td>1</td>\n",
       "      <td>2.878700</td>\n",
       "      <td>2.487955</td>\n",
       "      <td>0.369500</td>\n",
       "      <td>0.233200</td>\n",
       "      <td>0.310600</td>\n",
       "      <td>0.310600</td>\n",
       "      <td>49.145100</td>\n",
       "    </tr>\n",
       "    <tr>\n",
       "      <td>2</td>\n",
       "      <td>2.832700</td>\n",
       "      <td>2.461390</td>\n",
       "      <td>0.430200</td>\n",
       "      <td>0.270700</td>\n",
       "      <td>0.361600</td>\n",
       "      <td>0.361600</td>\n",
       "      <td>57.420800</td>\n",
       "    </tr>\n",
       "    <tr>\n",
       "      <td>3</td>\n",
       "      <td>2.905500</td>\n",
       "      <td>2.440242</td>\n",
       "      <td>0.445700</td>\n",
       "      <td>0.280000</td>\n",
       "      <td>0.374400</td>\n",
       "      <td>0.374500</td>\n",
       "      <td>59.412900</td>\n",
       "    </tr>\n",
       "    <tr>\n",
       "      <td>4</td>\n",
       "      <td>2.896500</td>\n",
       "      <td>2.424788</td>\n",
       "      <td>0.450900</td>\n",
       "      <td>0.284200</td>\n",
       "      <td>0.378400</td>\n",
       "      <td>0.378500</td>\n",
       "      <td>59.933500</td>\n",
       "    </tr>\n",
       "    <tr>\n",
       "      <td>5</td>\n",
       "      <td>2.799300</td>\n",
       "      <td>2.409643</td>\n",
       "      <td>0.450500</td>\n",
       "      <td>0.283900</td>\n",
       "      <td>0.378000</td>\n",
       "      <td>0.378200</td>\n",
       "      <td>59.815800</td>\n",
       "    </tr>\n",
       "    <tr>\n",
       "      <td>6</td>\n",
       "      <td>2.400100</td>\n",
       "      <td>2.403008</td>\n",
       "      <td>0.454900</td>\n",
       "      <td>0.286800</td>\n",
       "      <td>0.382000</td>\n",
       "      <td>0.382100</td>\n",
       "      <td>60.443500</td>\n",
       "    </tr>\n",
       "    <tr>\n",
       "      <td>7</td>\n",
       "      <td>2.747700</td>\n",
       "      <td>2.396132</td>\n",
       "      <td>0.454400</td>\n",
       "      <td>0.286800</td>\n",
       "      <td>0.381500</td>\n",
       "      <td>0.381600</td>\n",
       "      <td>60.288700</td>\n",
       "    </tr>\n",
       "    <tr>\n",
       "      <td>8</td>\n",
       "      <td>2.901100</td>\n",
       "      <td>2.396222</td>\n",
       "      <td>0.457400</td>\n",
       "      <td>0.288500</td>\n",
       "      <td>0.383800</td>\n",
       "      <td>0.383900</td>\n",
       "      <td>60.687100</td>\n",
       "    </tr>\n",
       "    <tr>\n",
       "      <td>9</td>\n",
       "      <td>2.808200</td>\n",
       "      <td>2.392355</td>\n",
       "      <td>0.457600</td>\n",
       "      <td>0.288700</td>\n",
       "      <td>0.384200</td>\n",
       "      <td>0.384300</td>\n",
       "      <td>60.648300</td>\n",
       "    </tr>\n",
       "    <tr>\n",
       "      <td>10</td>\n",
       "      <td>2.947500</td>\n",
       "      <td>2.390624</td>\n",
       "      <td>0.457000</td>\n",
       "      <td>0.288500</td>\n",
       "      <td>0.383600</td>\n",
       "      <td>0.383700</td>\n",
       "      <td>60.572600</td>\n",
       "    </tr>\n",
       "  </tbody>\n",
       "</table><p>"
      ],
      "text/plain": [
       "<IPython.core.display.HTML object>"
      ]
     },
     "metadata": {},
     "output_type": "display_data"
    },
    {
     "data": {
      "text/plain": [
       "TrainOutput(global_step=30320, training_loss=2.907478783061448, metrics={'train_runtime': 18322.7264, 'train_samples_per_second': 8.273, 'train_steps_per_second': 1.655, 'total_flos': 4.103292737028096e+16, 'train_loss': 2.907478783061448, 'epoch': 10.0})"
      ]
     },
     "execution_count": 7,
     "metadata": {},
     "output_type": "execute_result"
    }
   ],
   "source": [
    "trainer.train()"
   ]
  },
  {
   "cell_type": "code",
   "execution_count": 10,
   "metadata": {},
   "outputs": [
    {
     "data": {
      "text/plain": [
       "0.26261115074157715"
      ]
     },
     "execution_count": 10,
     "metadata": {},
     "output_type": "execute_result"
    }
   ],
   "source": [
    "TALib.show_param_ratio(model)"
   ]
  },
  {
   "cell_type": "code",
   "execution_count": 14,
   "metadata": {},
   "outputs": [],
   "source": [
    "TALib.save_model(model,\"./output/pruning_success_v2_max_64\")"
   ]
  },
  {
   "cell_type": "code",
   "execution_count": 15,
   "metadata": {},
   "outputs": [
    {
     "name": "stderr",
     "output_type": "stream",
     "text": [
      "Some weights of the model checkpoint at ./output/pruning_success_v2_max_64 were not used when initializing T5ForConditionalGeneration: ['decoder.block.0.layer.0.SelfAttention.k.weight_mask', 'decoder.block.0.layer.0.SelfAttention.k.weight_orig', 'decoder.block.0.layer.0.SelfAttention.o.weight_mask', 'decoder.block.0.layer.0.SelfAttention.o.weight_orig', 'decoder.block.0.layer.0.SelfAttention.q.weight_mask', 'decoder.block.0.layer.0.SelfAttention.q.weight_orig', 'decoder.block.0.layer.0.SelfAttention.v.weight_mask', 'decoder.block.0.layer.0.SelfAttention.v.weight_orig', 'decoder.block.0.layer.1.EncDecAttention.k.weight_mask', 'decoder.block.0.layer.1.EncDecAttention.k.weight_orig', 'decoder.block.0.layer.1.EncDecAttention.o.weight_mask', 'decoder.block.0.layer.1.EncDecAttention.o.weight_orig', 'decoder.block.0.layer.1.EncDecAttention.q.weight_mask', 'decoder.block.0.layer.1.EncDecAttention.q.weight_orig', 'decoder.block.0.layer.1.EncDecAttention.v.weight_mask', 'decoder.block.0.layer.1.EncDecAttention.v.weight_orig', 'decoder.block.0.layer.2.DenseReluDense.wi.weight_mask', 'decoder.block.0.layer.2.DenseReluDense.wi.weight_orig', 'decoder.block.0.layer.2.DenseReluDense.wo.weight_mask', 'decoder.block.0.layer.2.DenseReluDense.wo.weight_orig', 'decoder.block.1.layer.0.SelfAttention.k.weight_mask', 'decoder.block.1.layer.0.SelfAttention.k.weight_orig', 'decoder.block.1.layer.0.SelfAttention.o.weight_mask', 'decoder.block.1.layer.0.SelfAttention.o.weight_orig', 'decoder.block.1.layer.0.SelfAttention.q.weight_mask', 'decoder.block.1.layer.0.SelfAttention.q.weight_orig', 'decoder.block.1.layer.0.SelfAttention.v.weight_mask', 'decoder.block.1.layer.0.SelfAttention.v.weight_orig', 'decoder.block.1.layer.1.EncDecAttention.k.weight_mask', 'decoder.block.1.layer.1.EncDecAttention.k.weight_orig', 'decoder.block.1.layer.1.EncDecAttention.o.weight_mask', 'decoder.block.1.layer.1.EncDecAttention.o.weight_orig', 'decoder.block.1.layer.1.EncDecAttention.q.weight_mask', 'decoder.block.1.layer.1.EncDecAttention.q.weight_orig', 'decoder.block.1.layer.1.EncDecAttention.v.weight_mask', 'decoder.block.1.layer.1.EncDecAttention.v.weight_orig', 'decoder.block.1.layer.2.DenseReluDense.wi.weight_mask', 'decoder.block.1.layer.2.DenseReluDense.wi.weight_orig', 'decoder.block.1.layer.2.DenseReluDense.wo.weight_mask', 'decoder.block.1.layer.2.DenseReluDense.wo.weight_orig', 'decoder.block.2.layer.0.SelfAttention.k.weight_mask', 'decoder.block.2.layer.0.SelfAttention.k.weight_orig', 'decoder.block.2.layer.0.SelfAttention.o.weight_mask', 'decoder.block.2.layer.0.SelfAttention.o.weight_orig', 'decoder.block.2.layer.0.SelfAttention.q.weight_mask', 'decoder.block.2.layer.0.SelfAttention.q.weight_orig', 'decoder.block.2.layer.0.SelfAttention.v.weight_mask', 'decoder.block.2.layer.0.SelfAttention.v.weight_orig', 'decoder.block.2.layer.1.EncDecAttention.k.weight_mask', 'decoder.block.2.layer.1.EncDecAttention.k.weight_orig', 'decoder.block.2.layer.1.EncDecAttention.o.weight_mask', 'decoder.block.2.layer.1.EncDecAttention.o.weight_orig', 'decoder.block.2.layer.1.EncDecAttention.q.weight_mask', 'decoder.block.2.layer.1.EncDecAttention.q.weight_orig', 'decoder.block.2.layer.1.EncDecAttention.v.weight_mask', 'decoder.block.2.layer.1.EncDecAttention.v.weight_orig', 'decoder.block.2.layer.2.DenseReluDense.wi.weight_mask', 'decoder.block.2.layer.2.DenseReluDense.wi.weight_orig', 'decoder.block.2.layer.2.DenseReluDense.wo.weight_mask', 'decoder.block.2.layer.2.DenseReluDense.wo.weight_orig', 'decoder.block.3.layer.0.SelfAttention.k.weight_mask', 'decoder.block.3.layer.0.SelfAttention.k.weight_orig', 'decoder.block.3.layer.0.SelfAttention.o.weight_mask', 'decoder.block.3.layer.0.SelfAttention.o.weight_orig', 'decoder.block.3.layer.0.SelfAttention.q.weight_mask', 'decoder.block.3.layer.0.SelfAttention.q.weight_orig', 'decoder.block.3.layer.0.SelfAttention.v.weight_mask', 'decoder.block.3.layer.0.SelfAttention.v.weight_orig', 'decoder.block.3.layer.1.EncDecAttention.k.weight_mask', 'decoder.block.3.layer.1.EncDecAttention.k.weight_orig', 'decoder.block.3.layer.1.EncDecAttention.o.weight_mask', 'decoder.block.3.layer.1.EncDecAttention.o.weight_orig', 'decoder.block.3.layer.1.EncDecAttention.q.weight_mask', 'decoder.block.3.layer.1.EncDecAttention.q.weight_orig', 'decoder.block.3.layer.1.EncDecAttention.v.weight_mask', 'decoder.block.3.layer.1.EncDecAttention.v.weight_orig', 'decoder.block.3.layer.2.DenseReluDense.wi.weight_mask', 'decoder.block.3.layer.2.DenseReluDense.wi.weight_orig', 'decoder.block.3.layer.2.DenseReluDense.wo.weight_mask', 'decoder.block.3.layer.2.DenseReluDense.wo.weight_orig', 'decoder.block.4.layer.0.SelfAttention.k.weight_mask', 'decoder.block.4.layer.0.SelfAttention.k.weight_orig', 'decoder.block.4.layer.0.SelfAttention.o.weight_mask', 'decoder.block.4.layer.0.SelfAttention.o.weight_orig', 'decoder.block.4.layer.0.SelfAttention.q.weight_mask', 'decoder.block.4.layer.0.SelfAttention.q.weight_orig', 'decoder.block.4.layer.0.SelfAttention.v.weight_mask', 'decoder.block.4.layer.0.SelfAttention.v.weight_orig', 'decoder.block.4.layer.1.EncDecAttention.k.weight_mask', 'decoder.block.4.layer.1.EncDecAttention.k.weight_orig', 'decoder.block.4.layer.1.EncDecAttention.o.weight_mask', 'decoder.block.4.layer.1.EncDecAttention.o.weight_orig', 'decoder.block.4.layer.1.EncDecAttention.q.weight_mask', 'decoder.block.4.layer.1.EncDecAttention.q.weight_orig', 'decoder.block.4.layer.1.EncDecAttention.v.weight_mask', 'decoder.block.4.layer.1.EncDecAttention.v.weight_orig', 'decoder.block.4.layer.2.DenseReluDense.wi.weight_mask', 'decoder.block.4.layer.2.DenseReluDense.wi.weight_orig', 'decoder.block.4.layer.2.DenseReluDense.wo.weight_mask', 'decoder.block.4.layer.2.DenseReluDense.wo.weight_orig', 'decoder.block.5.layer.0.SelfAttention.k.weight_mask', 'decoder.block.5.layer.0.SelfAttention.k.weight_orig', 'decoder.block.5.layer.0.SelfAttention.o.weight_mask', 'decoder.block.5.layer.0.SelfAttention.o.weight_orig', 'decoder.block.5.layer.0.SelfAttention.q.weight_mask', 'decoder.block.5.layer.0.SelfAttention.q.weight_orig', 'decoder.block.5.layer.0.SelfAttention.v.weight_mask', 'decoder.block.5.layer.0.SelfAttention.v.weight_orig', 'decoder.block.5.layer.1.EncDecAttention.k.weight_mask', 'decoder.block.5.layer.1.EncDecAttention.k.weight_orig', 'decoder.block.5.layer.1.EncDecAttention.o.weight_mask', 'decoder.block.5.layer.1.EncDecAttention.o.weight_orig', 'decoder.block.5.layer.1.EncDecAttention.q.weight_mask', 'decoder.block.5.layer.1.EncDecAttention.q.weight_orig', 'decoder.block.5.layer.1.EncDecAttention.v.weight_mask', 'decoder.block.5.layer.1.EncDecAttention.v.weight_orig', 'decoder.block.5.layer.2.DenseReluDense.wi.weight_mask', 'decoder.block.5.layer.2.DenseReluDense.wi.weight_orig', 'decoder.block.5.layer.2.DenseReluDense.wo.weight_mask', 'decoder.block.5.layer.2.DenseReluDense.wo.weight_orig', 'encoder.block.0.layer.0.SelfAttention.k.weight_mask', 'encoder.block.0.layer.0.SelfAttention.k.weight_orig', 'encoder.block.0.layer.0.SelfAttention.o.weight_mask', 'encoder.block.0.layer.0.SelfAttention.o.weight_orig', 'encoder.block.0.layer.0.SelfAttention.q.weight_mask', 'encoder.block.0.layer.0.SelfAttention.q.weight_orig', 'encoder.block.0.layer.0.SelfAttention.v.weight_mask', 'encoder.block.0.layer.0.SelfAttention.v.weight_orig', 'encoder.block.0.layer.1.DenseReluDense.wi.weight_mask', 'encoder.block.0.layer.1.DenseReluDense.wi.weight_orig', 'encoder.block.0.layer.1.DenseReluDense.wo.weight_mask', 'encoder.block.0.layer.1.DenseReluDense.wo.weight_orig', 'encoder.block.1.layer.0.SelfAttention.k.weight_mask', 'encoder.block.1.layer.0.SelfAttention.k.weight_orig', 'encoder.block.1.layer.0.SelfAttention.o.weight_mask', 'encoder.block.1.layer.0.SelfAttention.o.weight_orig', 'encoder.block.1.layer.0.SelfAttention.q.weight_mask', 'encoder.block.1.layer.0.SelfAttention.q.weight_orig', 'encoder.block.1.layer.0.SelfAttention.v.weight_mask', 'encoder.block.1.layer.0.SelfAttention.v.weight_orig', 'encoder.block.1.layer.1.DenseReluDense.wi.weight_mask', 'encoder.block.1.layer.1.DenseReluDense.wi.weight_orig', 'encoder.block.1.layer.1.DenseReluDense.wo.weight_mask', 'encoder.block.1.layer.1.DenseReluDense.wo.weight_orig', 'encoder.block.2.layer.0.SelfAttention.k.weight_mask', 'encoder.block.2.layer.0.SelfAttention.k.weight_orig', 'encoder.block.2.layer.0.SelfAttention.o.weight_mask', 'encoder.block.2.layer.0.SelfAttention.o.weight_orig', 'encoder.block.2.layer.0.SelfAttention.q.weight_mask', 'encoder.block.2.layer.0.SelfAttention.q.weight_orig', 'encoder.block.2.layer.0.SelfAttention.v.weight_mask', 'encoder.block.2.layer.0.SelfAttention.v.weight_orig', 'encoder.block.2.layer.1.DenseReluDense.wi.weight_mask', 'encoder.block.2.layer.1.DenseReluDense.wi.weight_orig', 'encoder.block.2.layer.1.DenseReluDense.wo.weight_mask', 'encoder.block.2.layer.1.DenseReluDense.wo.weight_orig', 'encoder.block.3.layer.0.SelfAttention.k.weight_mask', 'encoder.block.3.layer.0.SelfAttention.k.weight_orig', 'encoder.block.3.layer.0.SelfAttention.o.weight_mask', 'encoder.block.3.layer.0.SelfAttention.o.weight_orig', 'encoder.block.3.layer.0.SelfAttention.q.weight_mask', 'encoder.block.3.layer.0.SelfAttention.q.weight_orig', 'encoder.block.3.layer.0.SelfAttention.v.weight_mask', 'encoder.block.3.layer.0.SelfAttention.v.weight_orig', 'encoder.block.3.layer.1.DenseReluDense.wi.weight_mask', 'encoder.block.3.layer.1.DenseReluDense.wi.weight_orig', 'encoder.block.3.layer.1.DenseReluDense.wo.weight_mask', 'encoder.block.3.layer.1.DenseReluDense.wo.weight_orig', 'encoder.block.4.layer.0.SelfAttention.k.weight_mask', 'encoder.block.4.layer.0.SelfAttention.k.weight_orig', 'encoder.block.4.layer.0.SelfAttention.o.weight_mask', 'encoder.block.4.layer.0.SelfAttention.o.weight_orig', 'encoder.block.4.layer.0.SelfAttention.q.weight_mask', 'encoder.block.4.layer.0.SelfAttention.q.weight_orig', 'encoder.block.4.layer.0.SelfAttention.v.weight_mask', 'encoder.block.4.layer.0.SelfAttention.v.weight_orig', 'encoder.block.4.layer.1.DenseReluDense.wi.weight_mask', 'encoder.block.4.layer.1.DenseReluDense.wi.weight_orig', 'encoder.block.4.layer.1.DenseReluDense.wo.weight_mask', 'encoder.block.4.layer.1.DenseReluDense.wo.weight_orig', 'encoder.block.5.layer.0.SelfAttention.k.weight_mask', 'encoder.block.5.layer.0.SelfAttention.k.weight_orig', 'encoder.block.5.layer.0.SelfAttention.o.weight_mask', 'encoder.block.5.layer.0.SelfAttention.o.weight_orig', 'encoder.block.5.layer.0.SelfAttention.q.weight_mask', 'encoder.block.5.layer.0.SelfAttention.q.weight_orig', 'encoder.block.5.layer.0.SelfAttention.v.weight_mask', 'encoder.block.5.layer.0.SelfAttention.v.weight_orig', 'encoder.block.5.layer.1.DenseReluDense.wi.weight_mask', 'encoder.block.5.layer.1.DenseReluDense.wi.weight_orig', 'encoder.block.5.layer.1.DenseReluDense.wo.weight_mask', 'encoder.block.5.layer.1.DenseReluDense.wo.weight_orig', 'lm_head.weight_mask']\n",
      "- This IS expected if you are initializing T5ForConditionalGeneration from the checkpoint of a model trained on another task or with another architecture (e.g. initializing a BertForSequenceClassification model from a BertForPreTraining model).\n",
      "- This IS NOT expected if you are initializing T5ForConditionalGeneration from the checkpoint of a model that you expect to be exactly identical (initializing a BertForSequenceClassification model from a BertForSequenceClassification model).\n",
      "Some weights of T5ForConditionalGeneration were not initialized from the model checkpoint at ./output/pruning_success_v2_max_64 and are newly initialized: ['decoder.block.0.layer.0.SelfAttention.k.weight', 'decoder.block.0.layer.0.SelfAttention.o.weight', 'decoder.block.0.layer.0.SelfAttention.q.weight', 'decoder.block.0.layer.0.SelfAttention.v.weight', 'decoder.block.0.layer.1.EncDecAttention.k.weight', 'decoder.block.0.layer.1.EncDecAttention.o.weight', 'decoder.block.0.layer.1.EncDecAttention.q.weight', 'decoder.block.0.layer.1.EncDecAttention.v.weight', 'decoder.block.0.layer.2.DenseReluDense.wi.weight', 'decoder.block.0.layer.2.DenseReluDense.wo.weight', 'decoder.block.1.layer.0.SelfAttention.k.weight', 'decoder.block.1.layer.0.SelfAttention.o.weight', 'decoder.block.1.layer.0.SelfAttention.q.weight', 'decoder.block.1.layer.0.SelfAttention.v.weight', 'decoder.block.1.layer.1.EncDecAttention.k.weight', 'decoder.block.1.layer.1.EncDecAttention.o.weight', 'decoder.block.1.layer.1.EncDecAttention.q.weight', 'decoder.block.1.layer.1.EncDecAttention.v.weight', 'decoder.block.1.layer.2.DenseReluDense.wi.weight', 'decoder.block.1.layer.2.DenseReluDense.wo.weight', 'decoder.block.2.layer.0.SelfAttention.k.weight', 'decoder.block.2.layer.0.SelfAttention.o.weight', 'decoder.block.2.layer.0.SelfAttention.q.weight', 'decoder.block.2.layer.0.SelfAttention.v.weight', 'decoder.block.2.layer.1.EncDecAttention.k.weight', 'decoder.block.2.layer.1.EncDecAttention.o.weight', 'decoder.block.2.layer.1.EncDecAttention.q.weight', 'decoder.block.2.layer.1.EncDecAttention.v.weight', 'decoder.block.2.layer.2.DenseReluDense.wi.weight', 'decoder.block.2.layer.2.DenseReluDense.wo.weight', 'decoder.block.3.layer.0.SelfAttention.k.weight', 'decoder.block.3.layer.0.SelfAttention.o.weight', 'decoder.block.3.layer.0.SelfAttention.q.weight', 'decoder.block.3.layer.0.SelfAttention.v.weight', 'decoder.block.3.layer.1.EncDecAttention.k.weight', 'decoder.block.3.layer.1.EncDecAttention.o.weight', 'decoder.block.3.layer.1.EncDecAttention.q.weight', 'decoder.block.3.layer.1.EncDecAttention.v.weight', 'decoder.block.3.layer.2.DenseReluDense.wi.weight', 'decoder.block.3.layer.2.DenseReluDense.wo.weight', 'decoder.block.4.layer.0.SelfAttention.k.weight', 'decoder.block.4.layer.0.SelfAttention.o.weight', 'decoder.block.4.layer.0.SelfAttention.q.weight', 'decoder.block.4.layer.0.SelfAttention.v.weight', 'decoder.block.4.layer.1.EncDecAttention.k.weight', 'decoder.block.4.layer.1.EncDecAttention.o.weight', 'decoder.block.4.layer.1.EncDecAttention.q.weight', 'decoder.block.4.layer.1.EncDecAttention.v.weight', 'decoder.block.4.layer.2.DenseReluDense.wi.weight', 'decoder.block.4.layer.2.DenseReluDense.wo.weight', 'decoder.block.5.layer.0.SelfAttention.k.weight', 'decoder.block.5.layer.0.SelfAttention.o.weight', 'decoder.block.5.layer.0.SelfAttention.q.weight', 'decoder.block.5.layer.0.SelfAttention.v.weight', 'decoder.block.5.layer.1.EncDecAttention.k.weight', 'decoder.block.5.layer.1.EncDecAttention.o.weight', 'decoder.block.5.layer.1.EncDecAttention.q.weight', 'decoder.block.5.layer.1.EncDecAttention.v.weight', 'decoder.block.5.layer.2.DenseReluDense.wi.weight', 'decoder.block.5.layer.2.DenseReluDense.wo.weight', 'encoder.block.0.layer.0.SelfAttention.k.weight', 'encoder.block.0.layer.0.SelfAttention.o.weight', 'encoder.block.0.layer.0.SelfAttention.q.weight', 'encoder.block.0.layer.0.SelfAttention.v.weight', 'encoder.block.0.layer.1.DenseReluDense.wi.weight', 'encoder.block.0.layer.1.DenseReluDense.wo.weight', 'encoder.block.1.layer.0.SelfAttention.k.weight', 'encoder.block.1.layer.0.SelfAttention.o.weight', 'encoder.block.1.layer.0.SelfAttention.q.weight', 'encoder.block.1.layer.0.SelfAttention.v.weight', 'encoder.block.1.layer.1.DenseReluDense.wi.weight', 'encoder.block.1.layer.1.DenseReluDense.wo.weight', 'encoder.block.2.layer.0.SelfAttention.k.weight', 'encoder.block.2.layer.0.SelfAttention.o.weight', 'encoder.block.2.layer.0.SelfAttention.q.weight', 'encoder.block.2.layer.0.SelfAttention.v.weight', 'encoder.block.2.layer.1.DenseReluDense.wi.weight', 'encoder.block.2.layer.1.DenseReluDense.wo.weight', 'encoder.block.3.layer.0.SelfAttention.k.weight', 'encoder.block.3.layer.0.SelfAttention.o.weight', 'encoder.block.3.layer.0.SelfAttention.q.weight', 'encoder.block.3.layer.0.SelfAttention.v.weight', 'encoder.block.3.layer.1.DenseReluDense.wi.weight', 'encoder.block.3.layer.1.DenseReluDense.wo.weight', 'encoder.block.4.layer.0.SelfAttention.k.weight', 'encoder.block.4.layer.0.SelfAttention.o.weight', 'encoder.block.4.layer.0.SelfAttention.q.weight', 'encoder.block.4.layer.0.SelfAttention.v.weight', 'encoder.block.4.layer.1.DenseReluDense.wi.weight', 'encoder.block.4.layer.1.DenseReluDense.wo.weight', 'encoder.block.5.layer.0.SelfAttention.k.weight', 'encoder.block.5.layer.0.SelfAttention.o.weight', 'encoder.block.5.layer.0.SelfAttention.q.weight', 'encoder.block.5.layer.0.SelfAttention.v.weight', 'encoder.block.5.layer.1.DenseReluDense.wi.weight', 'encoder.block.5.layer.1.DenseReluDense.wo.weight']\n",
      "You should probably TRAIN this model on a down-stream task to be able to use it for predictions and inference.\n"
     ]
    }
   ],
   "source": [
    "reload_model_64 = TALib.load_model(\"./output/pruning_success_v2_max_64\")"
   ]
  },
  {
   "cell_type": "code",
   "execution_count": 16,
   "metadata": {},
   "outputs": [
    {
     "data": {
      "text/plain": [
       "T5ForConditionalGeneration(\n",
       "  (shared): Embedding(32128, 512)\n",
       "  (encoder): T5Stack(\n",
       "    (embed_tokens): Embedding(32128, 512)\n",
       "    (block): ModuleList(\n",
       "      (0): T5Block(\n",
       "        (layer): ModuleList(\n",
       "          (0): T5LayerSelfAttention(\n",
       "            (SelfAttention): T5Attention(\n",
       "              (q): Linear(in_features=512, out_features=512, bias=False)\n",
       "              (k): Linear(in_features=512, out_features=512, bias=False)\n",
       "              (v): Linear(in_features=512, out_features=512, bias=False)\n",
       "              (o): Linear(in_features=512, out_features=512, bias=False)\n",
       "              (relative_attention_bias): Embedding(32, 8)\n",
       "            )\n",
       "            (layer_norm): T5LayerNorm()\n",
       "            (dropout): Dropout(p=0.1, inplace=False)\n",
       "          )\n",
       "          (1): T5LayerFF(\n",
       "            (DenseReluDense): T5DenseActDense(\n",
       "              (wi): Linear(in_features=512, out_features=2048, bias=False)\n",
       "              (wo): Linear(in_features=2048, out_features=512, bias=False)\n",
       "              (dropout): Dropout(p=0.1, inplace=False)\n",
       "              (act): ReLU()\n",
       "            )\n",
       "            (layer_norm): T5LayerNorm()\n",
       "            (dropout): Dropout(p=0.1, inplace=False)\n",
       "          )\n",
       "        )\n",
       "      )\n",
       "      (1-5): 5 x T5Block(\n",
       "        (layer): ModuleList(\n",
       "          (0): T5LayerSelfAttention(\n",
       "            (SelfAttention): T5Attention(\n",
       "              (q): Linear(in_features=512, out_features=512, bias=False)\n",
       "              (k): Linear(in_features=512, out_features=512, bias=False)\n",
       "              (v): Linear(in_features=512, out_features=512, bias=False)\n",
       "              (o): Linear(in_features=512, out_features=512, bias=False)\n",
       "            )\n",
       "            (layer_norm): T5LayerNorm()\n",
       "            (dropout): Dropout(p=0.1, inplace=False)\n",
       "          )\n",
       "          (1): T5LayerFF(\n",
       "            (DenseReluDense): T5DenseActDense(\n",
       "              (wi): Linear(in_features=512, out_features=2048, bias=False)\n",
       "              (wo): Linear(in_features=2048, out_features=512, bias=False)\n",
       "              (dropout): Dropout(p=0.1, inplace=False)\n",
       "              (act): ReLU()\n",
       "            )\n",
       "            (layer_norm): T5LayerNorm()\n",
       "            (dropout): Dropout(p=0.1, inplace=False)\n",
       "          )\n",
       "        )\n",
       "      )\n",
       "    )\n",
       "    (final_layer_norm): T5LayerNorm()\n",
       "    (dropout): Dropout(p=0.1, inplace=False)\n",
       "  )\n",
       "  (decoder): T5Stack(\n",
       "    (embed_tokens): Embedding(32128, 512)\n",
       "    (block): ModuleList(\n",
       "      (0): T5Block(\n",
       "        (layer): ModuleList(\n",
       "          (0): T5LayerSelfAttention(\n",
       "            (SelfAttention): T5Attention(\n",
       "              (q): Linear(in_features=512, out_features=512, bias=False)\n",
       "              (k): Linear(in_features=512, out_features=512, bias=False)\n",
       "              (v): Linear(in_features=512, out_features=512, bias=False)\n",
       "              (o): Linear(in_features=512, out_features=512, bias=False)\n",
       "              (relative_attention_bias): Embedding(32, 8)\n",
       "            )\n",
       "            (layer_norm): T5LayerNorm()\n",
       "            (dropout): Dropout(p=0.1, inplace=False)\n",
       "          )\n",
       "          (1): T5LayerCrossAttention(\n",
       "            (EncDecAttention): T5Attention(\n",
       "              (q): Linear(in_features=512, out_features=512, bias=False)\n",
       "              (k): Linear(in_features=512, out_features=512, bias=False)\n",
       "              (v): Linear(in_features=512, out_features=512, bias=False)\n",
       "              (o): Linear(in_features=512, out_features=512, bias=False)\n",
       "            )\n",
       "            (layer_norm): T5LayerNorm()\n",
       "            (dropout): Dropout(p=0.1, inplace=False)\n",
       "          )\n",
       "          (2): T5LayerFF(\n",
       "            (DenseReluDense): T5DenseActDense(\n",
       "              (wi): Linear(in_features=512, out_features=2048, bias=False)\n",
       "              (wo): Linear(in_features=2048, out_features=512, bias=False)\n",
       "              (dropout): Dropout(p=0.1, inplace=False)\n",
       "              (act): ReLU()\n",
       "            )\n",
       "            (layer_norm): T5LayerNorm()\n",
       "            (dropout): Dropout(p=0.1, inplace=False)\n",
       "          )\n",
       "        )\n",
       "      )\n",
       "      (1-5): 5 x T5Block(\n",
       "        (layer): ModuleList(\n",
       "          (0): T5LayerSelfAttention(\n",
       "            (SelfAttention): T5Attention(\n",
       "              (q): Linear(in_features=512, out_features=512, bias=False)\n",
       "              (k): Linear(in_features=512, out_features=512, bias=False)\n",
       "              (v): Linear(in_features=512, out_features=512, bias=False)\n",
       "              (o): Linear(in_features=512, out_features=512, bias=False)\n",
       "            )\n",
       "            (layer_norm): T5LayerNorm()\n",
       "            (dropout): Dropout(p=0.1, inplace=False)\n",
       "          )\n",
       "          (1): T5LayerCrossAttention(\n",
       "            (EncDecAttention): T5Attention(\n",
       "              (q): Linear(in_features=512, out_features=512, bias=False)\n",
       "              (k): Linear(in_features=512, out_features=512, bias=False)\n",
       "              (v): Linear(in_features=512, out_features=512, bias=False)\n",
       "              (o): Linear(in_features=512, out_features=512, bias=False)\n",
       "            )\n",
       "            (layer_norm): T5LayerNorm()\n",
       "            (dropout): Dropout(p=0.1, inplace=False)\n",
       "          )\n",
       "          (2): T5LayerFF(\n",
       "            (DenseReluDense): T5DenseActDense(\n",
       "              (wi): Linear(in_features=512, out_features=2048, bias=False)\n",
       "              (wo): Linear(in_features=2048, out_features=512, bias=False)\n",
       "              (dropout): Dropout(p=0.1, inplace=False)\n",
       "              (act): ReLU()\n",
       "            )\n",
       "            (layer_norm): T5LayerNorm()\n",
       "            (dropout): Dropout(p=0.1, inplace=False)\n",
       "          )\n",
       "        )\n",
       "      )\n",
       "    )\n",
       "    (final_layer_norm): T5LayerNorm()\n",
       "    (dropout): Dropout(p=0.1, inplace=False)\n",
       "  )\n",
       "  (lm_head): Linear(in_features=512, out_features=32128, bias=False)\n",
       ")"
      ]
     },
     "execution_count": 16,
     "metadata": {},
     "output_type": "execute_result"
    }
   ],
   "source": [
    "reload_model_64"
   ]
  },
  {
   "cell_type": "code",
   "execution_count": 25,
   "metadata": {},
   "outputs": [
    {
     "name": "stderr",
     "output_type": "stream",
     "text": [
      "/root/code/python/NYCU-Data-Science-2024/.venv/lib/python3.11/site-packages/accelerate/accelerator.py:432: FutureWarning: Passing the following arguments to `Accelerator` is deprecated and will be removed in version 1.0 of Accelerate: dict_keys(['dispatch_batches', 'split_batches', 'even_batches', 'use_seedable_sampler']). Please pass an `accelerate.DataLoaderConfiguration` instead: \n",
      "dataloader_config = DataLoaderConfiguration(dispatch_batches=None, split_batches=False, even_batches=True, use_seedable_sampler=True)\n",
      "  warnings.warn(\n"
     ]
    }
   ],
   "source": [
    "trainer = ta_lib.get_trainer(\n",
    "    model=reload_model_64 , \n",
    "    num_train_epochs=10 , \n",
    "    batch_size=5 , \n",
    "    output_dir=\"output/pruning_success_v2_finetune\" , \n",
    "    generation_max_length=64\n",
    ")"
   ]
  },
  {
   "cell_type": "code",
   "execution_count": 27,
   "metadata": {},
   "outputs": [],
   "source": [
    "results = trainer.predict(ta_lib.tokenized_billsum_test , max_length=64 , num_beams=5)"
   ]
  },
  {
   "cell_type": "code",
   "execution_count": 28,
   "metadata": {},
   "outputs": [],
   "source": [
    "decoded_prediction = ta_lib.tokenizer.batch_decode(results[0], skip_special_tokens=True)"
   ]
  },
  {
   "cell_type": "code",
   "execution_count": 29,
   "metadata": {},
   "outputs": [
    {
     "data": {
      "text/html": [
       "<div>\n",
       "<style scoped>\n",
       "    .dataframe tbody tr th:only-of-type {\n",
       "        vertical-align: middle;\n",
       "    }\n",
       "\n",
       "    .dataframe tbody tr th {\n",
       "        vertical-align: top;\n",
       "    }\n",
       "\n",
       "    .dataframe thead th {\n",
       "        text-align: right;\n",
       "    }\n",
       "</style>\n",
       "<table border=\"1\" class=\"dataframe\">\n",
       "  <thead>\n",
       "    <tr style=\"text-align: right;\">\n",
       "      <th></th>\n",
       "      <th>ID</th>\n",
       "      <th>Predict</th>\n",
       "    </tr>\n",
       "  </thead>\n",
       "  <tbody>\n",
       "    <tr>\n",
       "      <th>0</th>\n",
       "      <td>0</td>\n",
       "      <td>Amends the Water Resources Development Act of ...</td>\n",
       "    </tr>\n",
       "    <tr>\n",
       "      <th>1</th>\n",
       "      <td>1</td>\n",
       "      <td>Federal Forage Fee Act of 1993 - Amends the Fe...</td>\n",
       "    </tr>\n",
       "    <tr>\n",
       "      <th>2</th>\n",
       "      <td>2</td>\n",
       "      <td>Merchant Marine of World War II Congressional ...</td>\n",
       "    </tr>\n",
       "    <tr>\n",
       "      <th>3</th>\n",
       "      <td>3</td>\n",
       "      <td>Small Business Tax Modernization Act of 2004 -...</td>\n",
       "    </tr>\n",
       "    <tr>\n",
       "      <th>4</th>\n",
       "      <td>4</td>\n",
       "      <td>Fair Access to Investment Research Act of 2016...</td>\n",
       "    </tr>\n",
       "    <tr>\n",
       "      <th>...</th>\n",
       "      <td>...</td>\n",
       "      <td>...</td>\n",
       "    </tr>\n",
       "    <tr>\n",
       "      <th>3264</th>\n",
       "      <td>3264</td>\n",
       "      <td>Public Servant Priority Placement Act of 1995 ...</td>\n",
       "    </tr>\n",
       "    <tr>\n",
       "      <th>3265</th>\n",
       "      <td>3265</td>\n",
       "      <td>Sportsmanship in Hunting Act of 2008 - Amends ...</td>\n",
       "    </tr>\n",
       "    <tr>\n",
       "      <th>3266</th>\n",
       "      <td>3266</td>\n",
       "      <td>Helping College Student Cross the Finish Line ...</td>\n",
       "    </tr>\n",
       "    <tr>\n",
       "      <th>3267</th>\n",
       "      <td>3267</td>\n",
       "      <td>Texas National Forests Improvement Act of 2000...</td>\n",
       "    </tr>\n",
       "    <tr>\n",
       "      <th>3268</th>\n",
       "      <td>3268</td>\n",
       "      <td>Federal Power Asset Privatization Act of 1995 ...</td>\n",
       "    </tr>\n",
       "  </tbody>\n",
       "</table>\n",
       "<p>3269 rows × 2 columns</p>\n",
       "</div>"
      ],
      "text/plain": [
       "        ID                                            Predict\n",
       "0        0  Amends the Water Resources Development Act of ...\n",
       "1        1  Federal Forage Fee Act of 1993 - Amends the Fe...\n",
       "2        2  Merchant Marine of World War II Congressional ...\n",
       "3        3  Small Business Tax Modernization Act of 2004 -...\n",
       "4        4  Fair Access to Investment Research Act of 2016...\n",
       "...    ...                                                ...\n",
       "3264  3264  Public Servant Priority Placement Act of 1995 ...\n",
       "3265  3265  Sportsmanship in Hunting Act of 2008 - Amends ...\n",
       "3266  3266  Helping College Student Cross the Finish Line ...\n",
       "3267  3267  Texas National Forests Improvement Act of 2000...\n",
       "3268  3268  Federal Power Asset Privatization Act of 1995 ...\n",
       "\n",
       "[3269 rows x 2 columns]"
      ]
     },
     "execution_count": 29,
     "metadata": {},
     "output_type": "execute_result"
    }
   ],
   "source": [
    "TALib.dump_to_kaggle_format(decoded_prediction , 'pruned_model_0.26_day_5_9_max_64_beam_5.csv')"
   ]
  },
  {
   "cell_type": "code",
   "execution_count": 30,
   "metadata": {},
   "outputs": [
    {
     "data": {
      "text/plain": [
       "0.31322505028904213"
      ]
     },
     "execution_count": 30,
     "metadata": {},
     "output_type": "execute_result"
    }
   ],
   "source": [
    "TALib.run_score(decoded_prediction,ta_lib.tokenized_billsum_test)"
   ]
  },
  {
   "cell_type": "code",
   "execution_count": null,
   "metadata": {},
   "outputs": [],
   "source": []
  }
 ],
 "metadata": {
  "kernelspec": {
   "display_name": ".venv",
   "language": "python",
   "name": "python3"
  },
  "language_info": {
   "codemirror_mode": {
    "name": "ipython",
    "version": 3
   },
   "file_extension": ".py",
   "mimetype": "text/x-python",
   "name": "python",
   "nbconvert_exporter": "python",
   "pygments_lexer": "ipython3",
   "version": "3.11.5"
  }
 },
 "nbformat": 4,
 "nbformat_minor": 2
}
