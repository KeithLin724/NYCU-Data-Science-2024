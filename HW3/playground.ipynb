{
 "cells": [
  {
   "cell_type": "code",
   "execution_count": 5,
   "metadata": {},
   "outputs": [
    {
     "name": "stderr",
     "output_type": "stream",
     "text": [
      "Some weights of RobertaModel were not initialized from the model checkpoint at roberta-base and are newly initialized: ['roberta.pooler.dense.bias', 'roberta.pooler.dense.weight']\n",
      "You should probably TRAIN this model on a down-stream task to be able to use it for predictions and inference.\n"
     ]
    }
   ],
   "source": [
    "# from transformers import RobertaTokenizer, RobertaModel\n",
    "# tokenizer = RobertaTokenizer.from_pretrained('roberta-base')\n",
    "# model = RobertaModel.from_pretrained('roberta-base')\n",
    "# text = \"Replace me by any text you'd like.\"\n",
    "# encoded_input = tokenizer(text, return_tensors='pt')\n",
    "# output = model(**encoded_input)\n"
   ]
  },
  {
   "cell_type": "code",
   "execution_count": 6,
   "metadata": {},
   "outputs": [
    {
     "data": {
      "text/plain": [
       "[{'score': 0.08702462166547775,\n",
       "  'token': 25682,\n",
       "  'token_str': ' mechanic',\n",
       "  'sequence': 'The man worked as a mechanic.'},\n",
       " {'score': 0.08196558058261871,\n",
       "  'token': 38233,\n",
       "  'token_str': ' waiter',\n",
       "  'sequence': 'The man worked as a waiter.'},\n",
       " {'score': 0.07332367449998856,\n",
       "  'token': 32364,\n",
       "  'token_str': ' butcher',\n",
       "  'sequence': 'The man worked as a butcher.'},\n",
       " {'score': 0.046322520822286606,\n",
       "  'token': 18678,\n",
       "  'token_str': ' miner',\n",
       "  'sequence': 'The man worked as a miner.'},\n",
       " {'score': 0.040150441229343414,\n",
       "  'token': 2510,\n",
       "  'token_str': ' guard',\n",
       "  'sequence': 'The man worked as a guard.'}]"
      ]
     },
     "execution_count": 6,
     "metadata": {},
     "output_type": "execute_result"
    }
   ],
   "source": [
    "from transformers import pipeline\n",
    "unmasker = pipeline('fill-mask', model='roberta-base')\n",
    "unmasker(\"The man worked as a <mask>.\")"
   ]
  },
  {
   "cell_type": "code",
   "execution_count": null,
   "metadata": {},
   "outputs": [],
   "source": []
  }
 ],
 "metadata": {
  "kernelspec": {
   "display_name": ".venv",
   "language": "python",
   "name": "python3"
  },
  "language_info": {
   "codemirror_mode": {
    "name": "ipython",
    "version": 3
   },
   "file_extension": ".py",
   "mimetype": "text/x-python",
   "name": "python",
   "nbconvert_exporter": "python",
   "pygments_lexer": "ipython3",
   "version": "3.11.5"
  }
 },
 "nbformat": 4,
 "nbformat_minor": 2
}
