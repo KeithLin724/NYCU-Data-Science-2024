{
 "cells": [
  {
   "cell_type": "code",
   "execution_count": 1,
   "metadata": {},
   "outputs": [],
   "source": [
    "import pandas as pd"
   ]
  },
  {
   "cell_type": "code",
   "execution_count": 3,
   "metadata": {},
   "outputs": [
    {
     "data": {
      "text/html": [
       "<div>\n",
       "<style scoped>\n",
       "    .dataframe tbody tr th:only-of-type {\n",
       "        vertical-align: middle;\n",
       "    }\n",
       "\n",
       "    .dataframe tbody tr th {\n",
       "        vertical-align: top;\n",
       "    }\n",
       "\n",
       "    .dataframe thead th {\n",
       "        text-align: right;\n",
       "    }\n",
       "</style>\n",
       "<table border=\"1\" class=\"dataframe\">\n",
       "  <thead>\n",
       "    <tr style=\"text-align: right;\">\n",
       "      <th></th>\n",
       "      <th>headline</th>\n",
       "      <th>body</th>\n",
       "    </tr>\n",
       "  </thead>\n",
       "  <tbody>\n",
       "    <tr>\n",
       "      <th>0</th>\n",
       "      <td>Predicting Atlanta United's lineup against Col...</td>\n",
       "      <td>Only FIVE internationals allowed, count em, FI...</td>\n",
       "    </tr>\n",
       "    <tr>\n",
       "      <th>1</th>\n",
       "      <td>Mitch McConnell: DC statehood push is 'full bo...</td>\n",
       "      <td>WASHINGTON -- Senate Majority Leader Mitch McC...</td>\n",
       "    </tr>\n",
       "    <tr>\n",
       "      <th>2</th>\n",
       "      <td>Meghan McCain blames 'liberal media' and 'thir...</td>\n",
       "      <td>Meghan McCain is speaking out after a journali...</td>\n",
       "    </tr>\n",
       "    <tr>\n",
       "      <th>3</th>\n",
       "      <td>Odell Beckham Jr New Custom Rolls Royce Cullinan</td>\n",
       "      <td>Odell Beckham Jr New Custom Rolls Royce Cullin...</td>\n",
       "    </tr>\n",
       "    <tr>\n",
       "      <th>4</th>\n",
       "      <td>This Attention-Grabbing Chevrolet Malibu Packs...</td>\n",
       "      <td>This muscle car has the power to justify its d...</td>\n",
       "    </tr>\n",
       "    <tr>\n",
       "      <th>...</th>\n",
       "      <td>...</td>\n",
       "      <td>...</td>\n",
       "    </tr>\n",
       "    <tr>\n",
       "      <th>99995</th>\n",
       "      <td>Report: Warriors, Knicks working on sign-and-t...</td>\n",
       "      <td>With Kevin Durant on his way to Brooklyn, two ...</td>\n",
       "    </tr>\n",
       "    <tr>\n",
       "      <th>99996</th>\n",
       "      <td>For First Time, Astronomers Detect Giant Stell...</td>\n",
       "      <td>In a first, astronomers have detected a corona...</td>\n",
       "    </tr>\n",
       "    <tr>\n",
       "      <th>99997</th>\n",
       "      <td>Hope who? Alyssa Naeher's penalty save sends U...</td>\n",
       "      <td>LYON, France   At the conclusion of the United...</td>\n",
       "    </tr>\n",
       "    <tr>\n",
       "      <th>99998</th>\n",
       "      <td>Raptor fans jam streets to celebrate 1st NBA t...</td>\n",
       "      <td>Canadians are celebrating the country's first ...</td>\n",
       "    </tr>\n",
       "    <tr>\n",
       "      <th>99999</th>\n",
       "      <td>Worley thinks he and Conley will rival greates...</td>\n",
       "      <td>Confidence imparts a wonderful inspiration on ...</td>\n",
       "    </tr>\n",
       "  </tbody>\n",
       "</table>\n",
       "<p>100000 rows × 2 columns</p>\n",
       "</div>"
      ],
      "text/plain": [
       "                                                headline  \\\n",
       "0      Predicting Atlanta United's lineup against Col...   \n",
       "1      Mitch McConnell: DC statehood push is 'full bo...   \n",
       "2      Meghan McCain blames 'liberal media' and 'thir...   \n",
       "3       Odell Beckham Jr New Custom Rolls Royce Cullinan   \n",
       "4      This Attention-Grabbing Chevrolet Malibu Packs...   \n",
       "...                                                  ...   \n",
       "99995  Report: Warriors, Knicks working on sign-and-t...   \n",
       "99996  For First Time, Astronomers Detect Giant Stell...   \n",
       "99997  Hope who? Alyssa Naeher's penalty save sends U...   \n",
       "99998  Raptor fans jam streets to celebrate 1st NBA t...   \n",
       "99999  Worley thinks he and Conley will rival greates...   \n",
       "\n",
       "                                                    body  \n",
       "0      Only FIVE internationals allowed, count em, FI...  \n",
       "1      WASHINGTON -- Senate Majority Leader Mitch McC...  \n",
       "2      Meghan McCain is speaking out after a journali...  \n",
       "3      Odell Beckham Jr New Custom Rolls Royce Cullin...  \n",
       "4      This muscle car has the power to justify its d...  \n",
       "...                                                  ...  \n",
       "99995  With Kevin Durant on his way to Brooklyn, two ...  \n",
       "99996  In a first, astronomers have detected a corona...  \n",
       "99997  LYON, France   At the conclusion of the United...  \n",
       "99998  Canadians are celebrating the country's first ...  \n",
       "99999  Confidence imparts a wonderful inspiration on ...  \n",
       "\n",
       "[100000 rows x 2 columns]"
      ]
     },
     "execution_count": 3,
     "metadata": {},
     "output_type": "execute_result"
    }
   ],
   "source": [
    "train_data = pd.read_json(\"../data/train.json\" , lines=True)\n",
    "train_data"
   ]
  },
  {
   "cell_type": "code",
   "execution_count": 1,
   "metadata": {},
   "outputs": [],
   "source": [
    "from tokenizers import Tokenizer\n",
    "from tokenizers.models import BPE\n",
    "tokenizer = Tokenizer(BPE(unk_token=\"[UNK]\"))"
   ]
  },
  {
   "cell_type": "code",
   "execution_count": 3,
   "metadata": {},
   "outputs": [
    {
     "name": "stdout",
     "output_type": "stream",
     "text": [
      "<tokenizers.Tokenizer object at 0x7f0734270830>\n"
     ]
    }
   ],
   "source": [
    "# print(tokenizer)"
   ]
  },
  {
   "cell_type": "code",
   "execution_count": null,
   "metadata": {},
   "outputs": [],
   "source": []
  }
 ],
 "metadata": {
  "kernelspec": {
   "display_name": "Pytorch311",
   "language": "python",
   "name": "python3"
  },
  "language_info": {
   "codemirror_mode": {
    "name": "ipython",
    "version": 3
   },
   "file_extension": ".py",
   "mimetype": "text/x-python",
   "name": "python",
   "nbconvert_exporter": "python",
   "pygments_lexer": "ipython3",
   "version": "3.11.8"
  }
 },
 "nbformat": 4,
 "nbformat_minor": 2
}
