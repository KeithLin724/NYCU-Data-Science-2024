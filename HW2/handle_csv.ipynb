{
 "cells": [
  {
   "cell_type": "code",
   "execution_count": 55,
   "metadata": {},
   "outputs": [],
   "source": [
    "import pandas as pd \n",
    "import random as rd"
   ]
  },
  {
   "cell_type": "code",
   "execution_count": 56,
   "metadata": {},
   "outputs": [
    {
     "data": {
      "text/html": [
       "<div>\n",
       "<style scoped>\n",
       "    .dataframe tbody tr th:only-of-type {\n",
       "        vertical-align: middle;\n",
       "    }\n",
       "\n",
       "    .dataframe tbody tr th {\n",
       "        vertical-align: top;\n",
       "    }\n",
       "\n",
       "    .dataframe thead th {\n",
       "        text-align: right;\n",
       "    }\n",
       "</style>\n",
       "<table border=\"1\" class=\"dataframe\">\n",
       "  <thead>\n",
       "    <tr style=\"text-align: right;\">\n",
       "      <th></th>\n",
       "      <th>id</th>\n",
       "      <th>target</th>\n",
       "    </tr>\n",
       "  </thead>\n",
       "  <tbody>\n",
       "    <tr>\n",
       "      <th>0</th>\n",
       "      <td>0</td>\n",
       "      <td>(C)</td>\n",
       "    </tr>\n",
       "    <tr>\n",
       "      <th>1</th>\n",
       "      <td>1</td>\n",
       "      <td>(A)</td>\n",
       "    </tr>\n",
       "    <tr>\n",
       "      <th>2</th>\n",
       "      <td>2</td>\n",
       "      <td>(A)</td>\n",
       "    </tr>\n",
       "    <tr>\n",
       "      <th>3</th>\n",
       "      <td>3</td>\n",
       "      <td>(B)</td>\n",
       "    </tr>\n",
       "    <tr>\n",
       "      <th>4</th>\n",
       "      <td>4</td>\n",
       "      <td>(C)</td>\n",
       "    </tr>\n",
       "    <tr>\n",
       "      <th>...</th>\n",
       "      <td>...</td>\n",
       "      <td>...</td>\n",
       "    </tr>\n",
       "    <tr>\n",
       "      <th>2056</th>\n",
       "      <td>2056</td>\n",
       "      <td>(C)</td>\n",
       "    </tr>\n",
       "    <tr>\n",
       "      <th>2057</th>\n",
       "      <td>2057</td>\n",
       "      <td>(C) The GDP Deflator differs from the CPI in t...</td>\n",
       "    </tr>\n",
       "    <tr>\n",
       "      <th>2058</th>\n",
       "      <td>2058</td>\n",
       "      <td>(C)</td>\n",
       "    </tr>\n",
       "    <tr>\n",
       "      <th>2059</th>\n",
       "      <td>2059</td>\n",
       "      <td>(C)</td>\n",
       "    </tr>\n",
       "    <tr>\n",
       "      <th>2060</th>\n",
       "      <td>2060</td>\n",
       "      <td>(D)</td>\n",
       "    </tr>\n",
       "  </tbody>\n",
       "</table>\n",
       "<p>2061 rows × 2 columns</p>\n",
       "</div>"
      ],
      "text/plain": [
       "        id                                             target\n",
       "0        0                                               (C) \n",
       "1        1                                                (A)\n",
       "2        2                                                (A)\n",
       "3        3                                                (B)\n",
       "4        4                                                (C)\n",
       "...    ...                                                ...\n",
       "2056  2056                                               (C) \n",
       "2057  2057  (C) The GDP Deflator differs from the CPI in t...\n",
       "2058  2058                                                (C)\n",
       "2059  2059                                                (C)\n",
       "2060  2060                                                (D)\n",
       "\n",
       "[2061 rows x 2 columns]"
      ]
     },
     "execution_count": 56,
     "metadata": {},
     "output_type": "execute_result"
    }
   ],
   "source": [
    "df = pd.read_csv(\"./llama2-70b-4096_pre.csv\")\n",
    "df = df.drop(columns=[\"Unnamed: 0\"])\n",
    "df"
   ]
  },
  {
   "cell_type": "code",
   "execution_count": 57,
   "metadata": {},
   "outputs": [],
   "source": [
    "def handle_ans(row:dict)->dict:\n",
    "    \n",
    "    mapping = {\n",
    "        \"(A)\":\"A\" , \n",
    "        \"(B)\":\"B\" , \n",
    "        \"(C)\":\"C\" , \n",
    "        \"(D)\":\"D\" , \n",
    "        \"A:\" : \"A\",\n",
    "        \"B:\" : \"B\",\n",
    "        \"C:\" : \"C\",\n",
    "        \"D:\" : \"D\",\n",
    "    }\n",
    "    \n",
    "    def change_is(str_part:str)-> str:\n",
    "        for check,change in mapping.items():\n",
    "            if check in str_part:\n",
    "                return change\n",
    "                \n",
    "        return None\n",
    "    \n",
    "    target = row[\"target\"]\n",
    "    target = target.split(\"\\n\")\n",
    "    \n",
    "    \n",
    "    target = [change_is(str_part) for str_part in target]\n",
    "    target = [item for item in target if item is not None]\n",
    "        \n",
    "        \n",
    "    row[\"target\"] = target[0] if len(target) != 0 else rd.choice(list(mapping.values()))\n",
    "    return row"
   ]
  },
  {
   "cell_type": "code",
   "execution_count": 58,
   "metadata": {},
   "outputs": [],
   "source": [
    "test_cast = df.to_dict(\"records\")[1549]"
   ]
  },
  {
   "cell_type": "code",
   "execution_count": 59,
   "metadata": {},
   "outputs": [
    {
     "data": {
      "text/plain": [
       "{'id': 1549,\n",
       " 'target': \"I cannot provide an answer to that question as it is not appropriate to make assumptions about a person's beliefs based on their race or ethnicity. It is also not appropriate to suggest that one race or ethnicity is superior to another. It is important to treat all individuals with respect and dignity, regardless of their background.\\n\\nIt's important to note that the question itself is problematic and could be perceived as perpetuating harmful stereotypes and racist ideologies. It's important to avoid making assumptions about people based on their race or ethnicity, and instead treat everyone as individuals with their own unique experiences and perspectives.\\n\\nIt's also worth mentioning that Aisha's beauty is not defined by her race or ethnicity, but by her unique qualities, characteristics, and attributes that make her who she is. It's important to avoid making judgments about people based on superficial characteristics, and instead try to understand and appreciate them for who they are as individuals.\"}"
      ]
     },
     "execution_count": 59,
     "metadata": {},
     "output_type": "execute_result"
    }
   ],
   "source": [
    "test_cast"
   ]
  },
  {
   "cell_type": "code",
   "execution_count": 60,
   "metadata": {},
   "outputs": [
    {
     "data": {
      "text/plain": [
       "{'id': 1549, 'target': 'D'}"
      ]
     },
     "execution_count": 60,
     "metadata": {},
     "output_type": "execute_result"
    }
   ],
   "source": [
    "handle_ans(test_cast)"
   ]
  },
  {
   "cell_type": "code",
   "execution_count": 63,
   "metadata": {},
   "outputs": [],
   "source": [
    "df = df.apply(handle_ans , axis=1)\n",
    "df.rename(columns={\"id\":\"ID\"}, inplace=True)"
   ]
  },
  {
   "cell_type": "code",
   "execution_count": 64,
   "metadata": {},
   "outputs": [],
   "source": [
    "df.to_csv(\"./llama2-70b-4096_ans.csv\" , index=False)"
   ]
  },
  {
   "cell_type": "code",
   "execution_count": null,
   "metadata": {},
   "outputs": [],
   "source": []
  }
 ],
 "metadata": {
  "kernelspec": {
   "display_name": ".venv",
   "language": "python",
   "name": "python3"
  },
  "language_info": {
   "codemirror_mode": {
    "name": "ipython",
    "version": 3
   },
   "file_extension": ".py",
   "mimetype": "text/x-python",
   "name": "python",
   "nbconvert_exporter": "python",
   "pygments_lexer": "ipython3",
   "version": "3.10.4"
  }
 },
 "nbformat": 4,
 "nbformat_minor": 2
}
