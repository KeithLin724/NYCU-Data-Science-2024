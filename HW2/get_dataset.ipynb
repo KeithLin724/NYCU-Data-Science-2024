{
 "cells": [
  {
   "cell_type": "code",
   "execution_count": 1,
   "metadata": {},
   "outputs": [],
   "source": [
    "# from datasets import load_dataset\n",
    "import pandas as pd "
   ]
  },
  {
   "cell_type": "code",
   "execution_count": 7,
   "metadata": {},
   "outputs": [],
   "source": [
    "# dataset = load_dataset(\"cais/mmlu\")\n",
    "# dataset"
   ]
  },
  {
   "cell_type": "code",
   "execution_count": 2,
   "metadata": {},
   "outputs": [],
   "source": [
    "path = \"./data-science-hw2-prompt-engineering/summit.csv\"\n",
    "path = \"data-science-hw2-prompt-engineering/submit.csv\""
   ]
  },
  {
   "cell_type": "code",
   "execution_count": 3,
   "metadata": {},
   "outputs": [
    {
     "data": {
      "text/plain": [
       "True"
      ]
     },
     "execution_count": 3,
     "metadata": {},
     "output_type": "execute_result"
    }
   ],
   "source": [
    "import os \n",
    "# os.getcwd()\n",
    "os.path.exists(path)"
   ]
  },
  {
   "cell_type": "code",
   "execution_count": 5,
   "metadata": {},
   "outputs": [
    {
     "data": {
      "text/html": [
       "<div>\n",
       "<style scoped>\n",
       "    .dataframe tbody tr th:only-of-type {\n",
       "        vertical-align: middle;\n",
       "    }\n",
       "\n",
       "    .dataframe tbody tr th {\n",
       "        vertical-align: top;\n",
       "    }\n",
       "\n",
       "    .dataframe thead th {\n",
       "        text-align: right;\n",
       "    }\n",
       "</style>\n",
       "<table border=\"1\" class=\"dataframe\">\n",
       "  <thead>\n",
       "    <tr style=\"text-align: right;\">\n",
       "      <th></th>\n",
       "      <th>ID</th>\n",
       "      <th>input</th>\n",
       "      <th>A</th>\n",
       "      <th>B</th>\n",
       "      <th>C</th>\n",
       "      <th>D</th>\n",
       "      <th>task</th>\n",
       "    </tr>\n",
       "  </thead>\n",
       "  <tbody>\n",
       "    <tr>\n",
       "      <th>0</th>\n",
       "      <td>0</td>\n",
       "      <td>This question refers to the following informat...</td>\n",
       "      <td>a force that works through matter</td>\n",
       "      <td>essentially a philosophical notion</td>\n",
       "      <td>merely a property of a certain kind of matter</td>\n",
       "      <td>a supernatural phenomenon</td>\n",
       "      <td>high_school_european_history</td>\n",
       "    </tr>\n",
       "    <tr>\n",
       "      <th>1</th>\n",
       "      <td>1</td>\n",
       "      <td>This question refers to the following informat...</td>\n",
       "      <td>In ancient Rome, religious worship was decentr...</td>\n",
       "      <td>In ancient Rome, religious worship was the sou...</td>\n",
       "      <td>In ancient Rome, religious worship was homogen...</td>\n",
       "      <td>In ancient Rome, religious worship was revolut...</td>\n",
       "      <td>high_school_european_history</td>\n",
       "    </tr>\n",
       "    <tr>\n",
       "      <th>2</th>\n",
       "      <td>3</td>\n",
       "      <td>This question refers to the following informat...</td>\n",
       "      <td>The duke, as a member of the French nobility, ...</td>\n",
       "      <td>The duke, as a member of the French nobility, ...</td>\n",
       "      <td>The duke, as a member of the French nobility, ...</td>\n",
       "      <td>The duke, as a member of the French nobility, ...</td>\n",
       "      <td>high_school_european_history</td>\n",
       "    </tr>\n",
       "    <tr>\n",
       "      <th>3</th>\n",
       "      <td>4</td>\n",
       "      <td>This question refers to the following informat...</td>\n",
       "      <td>that the lyrics from the popular song Deutschl...</td>\n",
       "      <td>that the lyrics from the popular song Deutschl...</td>\n",
       "      <td>that the reason Germany lost the war was that ...</td>\n",
       "      <td>that Germany provided the ultimate framework f...</td>\n",
       "      <td>high_school_european_history</td>\n",
       "    </tr>\n",
       "    <tr>\n",
       "      <th>4</th>\n",
       "      <td>5</td>\n",
       "      <td>This question refers to the following informat...</td>\n",
       "      <td>the Russian interest in French culture</td>\n",
       "      <td>the spirit of camaraderie amongst the miners</td>\n",
       "      <td>the sense of continual class struggle</td>\n",
       "      <td>the need for noblesse oblige</td>\n",
       "      <td>high_school_european_history</td>\n",
       "    </tr>\n",
       "    <tr>\n",
       "      <th>...</th>\n",
       "      <td>...</td>\n",
       "      <td>...</td>\n",
       "      <td>...</td>\n",
       "      <td>...</td>\n",
       "      <td>...</td>\n",
       "      <td>...</td>\n",
       "      <td>...</td>\n",
       "    </tr>\n",
       "    <tr>\n",
       "      <th>2056</th>\n",
       "      <td>12255</td>\n",
       "      <td>Which of the following is NOT an argument for ...</td>\n",
       "      <td>To protect infant industry</td>\n",
       "      <td>To promote employment</td>\n",
       "      <td>To fight inflation</td>\n",
       "      <td>To promote a diversity of industries</td>\n",
       "      <td>high_school_macroeconomics</td>\n",
       "    </tr>\n",
       "    <tr>\n",
       "      <th>2057</th>\n",
       "      <td>12256</td>\n",
       "      <td>The GDP Deflator differs from the CPI in that ...</td>\n",
       "      <td>is thought to slightly overestimate the inflat...</td>\n",
       "      <td>uses base year quantities in its calculations</td>\n",
       "      <td>incorporates both current year prices and base...</td>\n",
       "      <td>incorporates current year quantities in its ca...</td>\n",
       "      <td>high_school_macroeconomics</td>\n",
       "    </tr>\n",
       "    <tr>\n",
       "      <th>2058</th>\n",
       "      <td>12257</td>\n",
       "      <td>Business cycles</td>\n",
       "      <td>occur infrequently in capitalist economies.</td>\n",
       "      <td>refer to reusing resources in production.</td>\n",
       "      <td>are predictable ups and downs in economic acti...</td>\n",
       "      <td>are each comprised of a recession and an expan...</td>\n",
       "      <td>high_school_macroeconomics</td>\n",
       "    </tr>\n",
       "    <tr>\n",
       "      <th>2059</th>\n",
       "      <td>12258</td>\n",
       "      <td>When disposable income increases by $X</td>\n",
       "      <td>consumption increases by more than $X .</td>\n",
       "      <td>saving increases by less than $X .</td>\n",
       "      <td>saving increases by exactly $X .</td>\n",
       "      <td>saving remains constant.</td>\n",
       "      <td>high_school_macroeconomics</td>\n",
       "    </tr>\n",
       "    <tr>\n",
       "      <th>2060</th>\n",
       "      <td>12259</td>\n",
       "      <td>Tariffs and quotas</td>\n",
       "      <td>result in higher domestic prices.</td>\n",
       "      <td>promote trade between nations.</td>\n",
       "      <td>do not necessarily affect domestic prices.</td>\n",
       "      <td>affect domestic prices: the former raises them...</td>\n",
       "      <td>high_school_macroeconomics</td>\n",
       "    </tr>\n",
       "  </tbody>\n",
       "</table>\n",
       "<p>2061 rows × 7 columns</p>\n",
       "</div>"
      ],
      "text/plain": [
       "         ID                                              input  \\\n",
       "0         0  This question refers to the following informat...   \n",
       "1         1  This question refers to the following informat...   \n",
       "2         3  This question refers to the following informat...   \n",
       "3         4  This question refers to the following informat...   \n",
       "4         5  This question refers to the following informat...   \n",
       "...     ...                                                ...   \n",
       "2056  12255  Which of the following is NOT an argument for ...   \n",
       "2057  12256  The GDP Deflator differs from the CPI in that ...   \n",
       "2058  12257                                    Business cycles   \n",
       "2059  12258            When disposable income increases by $X    \n",
       "2060  12259                                 Tariffs and quotas   \n",
       "\n",
       "                                                      A  \\\n",
       "0                     a force that works through matter   \n",
       "1     In ancient Rome, religious worship was decentr...   \n",
       "2     The duke, as a member of the French nobility, ...   \n",
       "3     that the lyrics from the popular song Deutschl...   \n",
       "4                the Russian interest in French culture   \n",
       "...                                                 ...   \n",
       "2056                         To protect infant industry   \n",
       "2057  is thought to slightly overestimate the inflat...   \n",
       "2058        occur infrequently in capitalist economies.   \n",
       "2059            consumption increases by more than $X .   \n",
       "2060                  result in higher domestic prices.   \n",
       "\n",
       "                                                      B  \\\n",
       "0                    essentially a philosophical notion   \n",
       "1     In ancient Rome, religious worship was the sou...   \n",
       "2     The duke, as a member of the French nobility, ...   \n",
       "3     that the lyrics from the popular song Deutschl...   \n",
       "4          the spirit of camaraderie amongst the miners   \n",
       "...                                                 ...   \n",
       "2056                              To promote employment   \n",
       "2057      uses base year quantities in its calculations   \n",
       "2058          refer to reusing resources in production.   \n",
       "2059                 saving increases by less than $X .   \n",
       "2060                     promote trade between nations.   \n",
       "\n",
       "                                                      C  \\\n",
       "0         merely a property of a certain kind of matter   \n",
       "1     In ancient Rome, religious worship was homogen...   \n",
       "2     The duke, as a member of the French nobility, ...   \n",
       "3     that the reason Germany lost the war was that ...   \n",
       "4                 the sense of continual class struggle   \n",
       "...                                                 ...   \n",
       "2056                                 To fight inflation   \n",
       "2057  incorporates both current year prices and base...   \n",
       "2058  are predictable ups and downs in economic acti...   \n",
       "2059                   saving increases by exactly $X .   \n",
       "2060         do not necessarily affect domestic prices.   \n",
       "\n",
       "                                                      D  \\\n",
       "0                             a supernatural phenomenon   \n",
       "1     In ancient Rome, religious worship was revolut...   \n",
       "2     The duke, as a member of the French nobility, ...   \n",
       "3     that Germany provided the ultimate framework f...   \n",
       "4                          the need for noblesse oblige   \n",
       "...                                                 ...   \n",
       "2056               To promote a diversity of industries   \n",
       "2057  incorporates current year quantities in its ca...   \n",
       "2058  are each comprised of a recession and an expan...   \n",
       "2059                           saving remains constant.   \n",
       "2060  affect domestic prices: the former raises them...   \n",
       "\n",
       "                              task  \n",
       "0     high_school_european_history  \n",
       "1     high_school_european_history  \n",
       "2     high_school_european_history  \n",
       "3     high_school_european_history  \n",
       "4     high_school_european_history  \n",
       "...                            ...  \n",
       "2056    high_school_macroeconomics  \n",
       "2057    high_school_macroeconomics  \n",
       "2058    high_school_macroeconomics  \n",
       "2059    high_school_macroeconomics  \n",
       "2060    high_school_macroeconomics  \n",
       "\n",
       "[2061 rows x 7 columns]"
      ]
     },
     "execution_count": 5,
     "metadata": {},
     "output_type": "execute_result"
    }
   ],
   "source": [
    "df = pd.read_csv(path)\n",
    "df = df.rename(columns={\"Unnamed: 0\":\"ID\"})\n",
    "df"
   ]
  },
  {
   "cell_type": "code",
   "execution_count": 15,
   "metadata": {},
   "outputs": [
    {
     "data": {
      "text/plain": [
       "0       high_school_european_history\n",
       "1       high_school_european_history\n",
       "2       high_school_european_history\n",
       "3       high_school_european_history\n",
       "4       high_school_european_history\n",
       "                    ...             \n",
       "2056      high_school_macroeconomics\n",
       "2057      high_school_macroeconomics\n",
       "2058      high_school_macroeconomics\n",
       "2059      high_school_macroeconomics\n",
       "2060      high_school_macroeconomics\n",
       "Name: task, Length: 2061, dtype: object"
      ]
     },
     "execution_count": 15,
     "metadata": {},
     "output_type": "execute_result"
    }
   ],
   "source": [
    "tasks = df[\"task\"]\n",
    "tasks"
   ]
  },
  {
   "cell_type": "code",
   "execution_count": 16,
   "metadata": {},
   "outputs": [],
   "source": [
    "from collections import Counter"
   ]
  },
  {
   "cell_type": "code",
   "execution_count": 18,
   "metadata": {},
   "outputs": [
    {
     "data": {
      "text/plain": [
       "['high_school_european_history',\n",
       " 'high_school_us_history',\n",
       " 'high_school_world_history',\n",
       " 'high_school_microeconomics',\n",
       " 'high_school_biology',\n",
       " 'high_school_government_and_politics',\n",
       " 'high_school_geography',\n",
       " 'high_school_psychology',\n",
       " 'high_school_computer_science',\n",
       " 'high_school_macroeconomics']"
      ]
     },
     "execution_count": 18,
     "metadata": {},
     "output_type": "execute_result"
    }
   ],
   "source": [
    "tasks = Counter(tasks)\n",
    "tasks_out = list(tasks.keys())\n",
    "tasks_out"
   ]
  },
  {
   "cell_type": "code",
   "execution_count": 26,
   "metadata": {},
   "outputs": [
    {
     "data": {
      "text/plain": [
       "['high_school_european_history_val.csv',\n",
       " 'high_school_european_history_test.csv',\n",
       " 'high_school_us_history_val.csv',\n",
       " 'high_school_us_history_test.csv',\n",
       " 'high_school_world_history_val.csv',\n",
       " 'high_school_world_history_test.csv',\n",
       " 'high_school_microeconomics_val.csv',\n",
       " 'high_school_microeconomics_test.csv',\n",
       " 'high_school_biology_val.csv',\n",
       " 'high_school_biology_test.csv',\n",
       " 'high_school_government_and_politics_val.csv',\n",
       " 'high_school_government_and_politics_test.csv',\n",
       " 'high_school_geography_val.csv',\n",
       " 'high_school_geography_test.csv',\n",
       " 'high_school_psychology_val.csv',\n",
       " 'high_school_psychology_test.csv',\n",
       " 'high_school_computer_science_val.csv',\n",
       " 'high_school_computer_science_test.csv',\n",
       " 'high_school_macroeconomics_val.csv',\n",
       " 'high_school_macroeconomics_test.csv']"
      ]
     },
     "execution_count": 26,
     "metadata": {},
     "output_type": "execute_result"
    }
   ],
   "source": [
    "tasks_file_name = [f\"{tasks}{format_str}.csv\"  for tasks in tasks_out for format_str in (\"_val\" , \"_test\")]\n",
    "tasks_file_name"
   ]
  },
  {
   "cell_type": "code",
   "execution_count": 27,
   "metadata": {},
   "outputs": [
    {
     "data": {
      "text/plain": [
       "['./data/dev', './data/test', './data/val']"
      ]
     },
     "execution_count": 27,
     "metadata": {},
     "output_type": "execute_result"
    }
   ],
   "source": [
    "different_folder =  [\"./data/dev\" , \"./data/test\" , \"./data/val\"]\n",
    "\n",
    "different_folder"
   ]
  },
  {
   "cell_type": "code",
   "execution_count": 28,
   "metadata": {},
   "outputs": [
    {
     "data": {
      "text/plain": [
       "['./data/val/high_school_european_history_val.csv',\n",
       " './data/test/high_school_european_history_test.csv',\n",
       " './data/val/high_school_us_history_val.csv',\n",
       " './data/test/high_school_us_history_test.csv',\n",
       " './data/val/high_school_world_history_val.csv',\n",
       " './data/test/high_school_world_history_test.csv',\n",
       " './data/val/high_school_microeconomics_val.csv',\n",
       " './data/test/high_school_microeconomics_test.csv',\n",
       " './data/val/high_school_biology_val.csv',\n",
       " './data/test/high_school_biology_test.csv',\n",
       " './data/val/high_school_government_and_politics_val.csv',\n",
       " './data/test/high_school_government_and_politics_test.csv',\n",
       " './data/val/high_school_geography_val.csv',\n",
       " './data/test/high_school_geography_test.csv',\n",
       " './data/val/high_school_psychology_val.csv',\n",
       " './data/test/high_school_psychology_test.csv',\n",
       " './data/val/high_school_computer_science_val.csv',\n",
       " './data/test/high_school_computer_science_test.csv',\n",
       " './data/val/high_school_macroeconomics_val.csv',\n",
       " './data/test/high_school_macroeconomics_test.csv']"
      ]
     },
     "execution_count": 28,
     "metadata": {},
     "output_type": "execute_result"
    }
   ],
   "source": [
    "check_file = [os.path.join(folder,file_name)  for file_name in tasks_file_name for folder in different_folder ]\n",
    "check_file = [file for file in check_file if os.path.exists(file)]\n",
    "check_file"
   ]
  },
  {
   "cell_type": "code",
   "execution_count": null,
   "metadata": {},
   "outputs": [],
   "source": []
  }
 ],
 "metadata": {
  "kernelspec": {
   "display_name": ".venv",
   "language": "python",
   "name": "python3"
  },
  "language_info": {
   "codemirror_mode": {
    "name": "ipython",
    "version": 3
   },
   "file_extension": ".py",
   "mimetype": "text/x-python",
   "name": "python",
   "nbconvert_exporter": "python",
   "pygments_lexer": "ipython3",
   "version": "3.11.5"
  }
 },
 "nbformat": 4,
 "nbformat_minor": 2
}
